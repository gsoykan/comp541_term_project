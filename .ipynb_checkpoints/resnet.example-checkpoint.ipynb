{
 "cells": [
  {
   "cell_type": "code",
   "execution_count": 1,
   "metadata": {},
   "outputs": [
    {
     "data": {
      "text/plain": [
       "\"/userfiles/gsoykan20/resnet_pretrained/imagenet-resnet-50-dag.mat\""
      ]
     },
     "execution_count": 1,
     "metadata": {},
     "output_type": "execute_result"
    }
   ],
   "source": [
    "model_file_path = \"/home/gsoykan/Desktop/comp541/comp541_term_project/results/imagenet-resnet-152-dag.mat\"\n",
    "cat_img_url = \"https://nextjournal.com/data/QmXNbi2LE7u6yBdBXaQ9E2zGb48FELg3TxjrLiPKBmdvZc?filename=Qat.jpg&content-type=image/jpeg\"\n",
    "resnet50_model_file_path = \"/userfiles/gsoykan20/resnet_pretrained/imagenet-resnet-50-dag.mat\""
   ]
  },
  {
   "cell_type": "code",
   "execution_count": 2,
   "metadata": {},
   "outputs": [],
   "source": [
    "# https://nextjournal.com/mpd/image-classification-with-knet"
   ]
  },
  {
   "cell_type": "code",
   "execution_count": 3,
   "metadata": {},
   "outputs": [],
   "source": [
    "import CUDA"
   ]
  },
  {
   "cell_type": "code",
   "execution_count": 26,
   "metadata": {},
   "outputs": [
    {
     "data": {
      "text/plain": [
       "generate_resnet50_from_weights (generic function with 1 method)"
      ]
     },
     "execution_count": 26,
     "metadata": {},
     "output_type": "execute_result"
    }
   ],
   "source": [
    "using MAT, OffsetArrays, FFTViews, ArgParse, Images, Knet, ImageMagick, Printf\n",
    "include(\"modular.resnet.jl\")"
   ]
  },
  {
   "cell_type": "code",
   "execution_count": 9,
   "metadata": {},
   "outputs": [],
   "source": [
    "atype = CUDA.functional() ? KnetArray{Float32} : Array{Float32}\n",
    "Knet.atype() = atype"
   ]
  },
  {
   "cell_type": "code",
   "execution_count": 10,
   "metadata": {},
   "outputs": [
    {
     "data": {
      "text/plain": [
       "get_params (generic function with 1 method)"
      ]
     },
     "execution_count": 10,
     "metadata": {},
     "output_type": "execute_result"
    }
   ],
   "source": [
    "function get_params(params, atype)\n",
    "    len = length(params[\"value\"])\n",
    "    ws, ms = [], []\n",
    "    for k = 1:len\n",
    "        name = params[\"name\"][k]\n",
    "        value = convert(Array{Float32}, params[\"value\"][k])\n",
    "\n",
    "        if endswith(name, \"moments\")\n",
    "            push!(ms, reshape(value[:,1], (1,1,size(value,1),1)))\n",
    "            push!(ms, reshape(value[:,2], (1,1,size(value,1),1)))\n",
    "        elseif startswith(name, \"bn\")\n",
    "            push!(ws, reshape(value, (1,1,length(value),1)))\n",
    "        elseif startswith(name, \"fc\") && endswith(name, \"filter\")\n",
    "            push!(ws, transpose(reshape(value,(size(value,3),size(value,4)))))\n",
    "        elseif startswith(name, \"conv\") && endswith(name, \"bias\")\n",
    "            push!(ws, reshape(value, (1,1,length(value),1)))\n",
    "        else\n",
    "            push!(ws, value)\n",
    "        end\n",
    "    end\n",
    "    map(wi->convert(atype, wi), ws),\n",
    "    map(mi->convert(atype, mi), ms)\n",
    "end"
   ]
  },
  {
   "cell_type": "code",
   "execution_count": 11,
   "metadata": {},
   "outputs": [
    {
     "data": {
      "text/plain": [
       "data (generic function with 1 method)"
      ]
     },
     "execution_count": 11,
     "metadata": {},
     "output_type": "execute_result"
    }
   ],
   "source": [
    "# From vgg.jl\n",
    "function data(img, averageImage)\n",
    "    if occursin(\"://\",img)\n",
    "        @info \"Downloading $img\"\n",
    "        img = download(img)\n",
    "    end\n",
    "    a0 = load(img)\n",
    "    new_size = ntuple(i->div(size(a0,i)*224,minimum(size(a0))),2)\n",
    "    a1 = Images.imresize(a0, new_size)\n",
    "    i1 = div(size(a1,1)-224,2)\n",
    "    j1 = div(size(a1,2)-224,2)\n",
    "    b1 = a1[i1+1:i1+224,j1+1:j1+224]\n",
    "    c1 = permutedims(channelview(b1), (3,2,1))\n",
    "    d1 = convert(Array{Float32}, c1)\n",
    "    e1 = reshape(d1[:,:,1:3], (224,224,3,1))\n",
    "    f1 = (255 * e1 .- averageImage)\n",
    "    g1 = permutedims(f1, [2,1,3,4])\n",
    "end"
   ]
  },
  {
   "cell_type": "code",
   "execution_count": null,
   "metadata": {},
   "outputs": [],
   "source": [
    "# OLD IMPLEMENTATION\n",
    "# Batch Normalization Layer\n",
    "# works both for convolutional and fully connected layers\n",
    "# mode, 0=>train, 1=>test\n",
    "function batchnorm(w, x, ms; mode=1, epsilon=1e-5)\n",
    "    mu, sigma = nothing, nothing\n",
    "    if mode == 0\n",
    "        d = ndims(x) == 4 ? (1,2,4) : (2,)\n",
    "        s = prod(size(x,d...))\n",
    "        mu = sum(x,d) / s\n",
    "        x0 = x .- mu\n",
    "        x1 = x0 .* x0\n",
    "        sigma = sqrt(epsilon + (sum(x1, d)) / s)\n",
    "    elseif mode == 1\n",
    "        mu = popfirst!(ms)\n",
    "        sigma = popfirst!(ms)\n",
    "    end\n",
    "\n",
    "    # we need getval in backpropagation\n",
    "    push!(ms, AutoGrad.value(mu), AutoGrad.value(sigma))\n",
    "    xhat = (x.-mu) ./ sigma\n",
    "    return w[1] .* xhat .+ w[2]\n",
    "end\n",
    "\n",
    "function reslayerx0(w,x,ms; padding=0, stride=1, mode=1)\n",
    "    b  = conv4(w[1],x; padding=padding, stride=stride)\n",
    "    bx = batchnorm(w[2:3],b,ms; mode=mode)\n",
    "end\n",
    "\n",
    "function reslayerx1(w,x,ms; padding=0, stride=1, mode=1)\n",
    "    relu.(reslayerx0(w,x,ms; padding=padding, stride=stride, mode=mode))\n",
    "end\n",
    "\n",
    "function reslayerx2(w,x,ms; pads=[0,1,0], strides=[1,1,1], mode=1)\n",
    "    ba = reslayerx1(w[1:3],x,ms; padding=pads[1], stride=strides[1], mode=mode)\n",
    "    bb = reslayerx1(w[4:6],ba,ms; padding=pads[2], stride=strides[2], mode=mode)\n",
    "    bc = reslayerx0(w[7:9],bb,ms; padding=pads[3], stride=strides[3], mode=mode)\n",
    "end\n",
    "\n",
    "function reslayerx3(w,x,ms; pads=[0,0,1,0], strides=[2,2,1,1], mode=1) # 12\n",
    "    a = reslayerx0(w[1:3],x,ms; stride=strides[1], padding=pads[1], mode=mode)\n",
    "    b = reslayerx2(w[4:12],x,ms; strides=strides[2:4], pads=pads[2:4], mode=mode)\n",
    "    relu.(a .+ b)\n",
    "end\n",
    "\n",
    "function reslayerx4(w,x,ms; pads=[0,1,0], strides=[1,1,1], mode=1)\n",
    "    relu.(x .+ reslayerx2(w,x,ms; pads=pads, strides=strides, mode=mode))\n",
    "end\n",
    "\n",
    "function reslayerx5(w,x,ms; strides=[2,2,1,1], mode=1)\n",
    "    x = reslayerx3(w[1:12],x,ms; strides=strides, mode=mode)\n",
    "    for k = 13:9:length(w)\n",
    "        x = reslayerx4(w[k:k+8],x,ms; mode=mode)\n",
    "    end\n",
    "    return x\n",
    "end\n",
    "\n",
    "# mode, 0=>train, 1=>test\n",
    "function resnet152(w,x,ms; mode=1)\n",
    "    # layer 1\n",
    "    conv1 = reslayerx1(w[1:3],x,ms; padding=3, stride=2, mode=mode)\n",
    "    pool1 = pool(conv1; window=3, stride=2)\n",
    "\n",
    "    # layer 2,3,4,5\n",
    "    r2 = reslayerx5(w[4:33], pool1, ms; strides=[1,1,1,1], mode=mode)\n",
    "    r3 = reslayerx5(w[34:108], r2, ms; mode=mode)\n",
    "    r4 = reslayerx5(w[109:435], r3, ms; mode=mode)\n",
    "    r5 = reslayerx5(w[436:465], r4, ms; mode=mode)\n",
    "\n",
    "    # fully connected layer\n",
    "    pool5  = pool(r5; stride=1, window=7, mode=2)\n",
    "    fc1000 = w[466] * mat(pool5) .+ w[467]\n",
    "end"
   ]
  },
  {
   "cell_type": "code",
   "execution_count": 12,
   "metadata": {},
   "outputs": [
    {
     "data": {
      "text/plain": [
       "true"
      ]
     },
     "execution_count": 12,
     "metadata": {},
     "output_type": "execute_result"
    }
   ],
   "source": [
    "should_use_resnet_50 = true"
   ]
  },
  {
   "cell_type": "code",
   "execution_count": 14,
   "metadata": {},
   "outputs": [
    {
     "data": {
      "text/plain": [
       "Dict{Symbol,Any} with 4 entries:\n",
       "  :atype => KnetArray{Float32,N} where N\n",
       "  :top   => 10\n",
       "  :image => \"https://nextjournal.com/data/QmXNbi2LE7u6yBdBXaQ9E2zGb48FELg3TxjrL…\n",
       "  :model => \"/userfiles/gsoykan20/resnet_pretrained/imagenet-resnet-50-dag.mat\""
      ]
     },
     "execution_count": 14,
     "metadata": {},
     "output_type": "execute_result"
    }
   ],
   "source": [
    "o = Dict(\n",
    "  :atype => KnetArray{Float32},\n",
    "  :model => should_use_resnet_50 ? resnet50_model_file_path : model_file_path,\n",
    "  :image => cat_img_url,\n",
    "  :top   => 10\n",
    ")"
   ]
  },
  {
   "cell_type": "code",
   "execution_count": 15,
   "metadata": {},
   "outputs": [
    {
     "name": "stderr",
     "output_type": "stream",
     "text": [
      "┌ Info: Reading /userfiles/gsoykan20/resnet_pretrained/imagenet-resnet-50-dag.mat\n",
      "└ @ Main In[15]:1\n",
      "┌ Info: Reading https://nextjournal.com/data/QmXNbi2LE7u6yBdBXaQ9E2zGb48FELg3TxjrLiPKBmdvZc?filename=Qat.jpg&content-type=image/jpeg\n",
      "└ @ Main In[15]:8\n",
      "┌ Info: Downloading https://nextjournal.com/data/QmXNbi2LE7u6yBdBXaQ9E2zGb48FELg3TxjrLiPKBmdvZc?filename=Qat.jpg&content-type=image/jpeg\n",
      "└ @ Main In[11]:4\n"
     ]
    },
    {
     "data": {
      "text/plain": [
       "224×224×3×1 KnetArray{Float32,4}:\n",
       "[:, :, 1, 1] =\n",
       "  46.8979   56.7673   69.7239   77.6917  …  -114.766  -113.745  -114.683\n",
       "  53.7525   57.6155   63.5605   65.5267     -113.895  -113.854  -113.768\n",
       "  54.6633   60.5154   57.4254   51.3756     -113.994  -113.939  -113.83\n",
       "  60.576    63.423    59.3401   50.2966     -115.023  -114.958  -115.875\n",
       "  56.4996   61.3414   60.247    52.209      -114.042  -114.972  -114.884\n",
       "  61.4451   58.2961   50.204    52.1449  …  -114.049  -114.988  -114.895\n",
       "  65.3563   58.2075   51.1202   52.0617     -114.077  -114.019  -114.933\n",
       "  58.29     49.1568   46.09     59.0241     -115.074  -113.008  -114.936\n",
       "  44.1948   48.0591   55.9738   68.932      -112.106  -112.04   -113.971\n",
       "  43.1893   52.0384   53.9627   67.9176     -110.121  -111.064  -113.995\n",
       "  43.132    54.9807   55.9002   54.8451  …  -110.166  -112.118  -114.044\n",
       "  48.0547   59.9174   63.837    52.7837     -113.181  -113.128  -114.074\n",
       "  48.9915   53.8664   58.7945   49.7318     -113.204  -114.15   -115.09\n",
       "   ⋮                                     ⋱                      \n",
       "  95.0442   93.9003   99.8476  101.773       122.834   113.845   122.944\n",
       " 101.117    92.9856   90.9233  100.854       122.852   120.878   121.969\n",
       " 104.185    88.0643   85.996    96.9255      123.844   119.892   122.992\n",
       "  99.2517   88.1284   94.06     97.9919  …   125.861   121.898   123.997\n",
       "  96.336   102.209   106.13    101.079       121.922   120.955   118.037\n",
       "  90.3913   94.2614   96.1777  102.124       120.952   120.002   118.072\n",
       "  92.4439   89.3112   81.2287  102.174       125.991   126.037   121.107\n",
       "  88.4952   89.3591   91.284    97.2391      125.011   128.071   121.177\n",
       "  97.5718  103.438   105.361   104.309   …   125.054   129.117   124.223\n",
       "  98.6715  103.53    105.449   107.393       127.129   130.188   129.274\n",
       " 102.766   109.635   105.565   108.502       125.184   130.238   126.33\n",
       " 100.909   101.799   105.752    99.6848      126.314   126.354   127.439\n",
       "\n",
       "[:, :, 2, 1] =\n",
       " 36.1138   45.0159   59.9948   66.9913  …  -102.7    -103.698  -105.657\n",
       " 40.9709   47.8621   54.8281   55.8218     -104.819  -104.798  -104.727\n",
       " 41.8918   49.7718   47.705    38.685      -104.881  -104.852  -103.767\n",
       " 47.8087   53.6834   49.6249   36.61       -105.895  -104.86   -104.8\n",
       " 43.7664   51.6315   47.5638   38.5526     -104.879  -104.831  -103.76\n",
       " 49.7208   46.5966   37.5286   38.5022  …  -104.862  -104.83   -103.753\n",
       " 52.6591   43.5376   36.4763   40.4482     -106.85   -104.814  -103.75\n",
       " 42.5942   34.4905   31.4554   46.4202     -105.831  -103.782  -103.735\n",
       " 29.5291   35.4287   42.3698   58.3615     -102.822  -102.776  -102.735\n",
       " 27.5373   38.4239   44.3743   58.3609     -102.823  -101.784  -102.742\n",
       " 27.5242   42.4047   48.3539   45.3332  …  -100.813  -100.784  -102.737\n",
       " 31.4541   47.353    54.2976   40.2783     -101.81   -101.78   -102.75\n",
       " 33.4259   44.3275   48.2897   34.2616     -100.792  -101.76   -102.717\n",
       "  ⋮                                     ⋱                      \n",
       " 90.4572   87.3429   92.3156   94.2725      115.205   108.206   119.284\n",
       " 96.4944   85.3922   82.353    96.3176      117.187   115.193   114.265\n",
       " 99.5384   80.4505   77.4044   91.3679      118.151   113.18    115.26\n",
       " 95.5705   81.4779   87.4389   93.4017  …   120.13    116.145   115.228\n",
       " 95.6481   94.5521  100.498    96.4823      117.164   116.183   112.249\n",
       " 87.6757   86.5776   88.522    97.4993      117.166   115.201   112.253\n",
       " 89.724    79.6182   70.5632   94.542       121.187   123.218   116.273\n",
       " 83.7508   78.6497   78.594    88.5819      121.175   125.221   117.302\n",
       " 92.8257   99.7196  101.667   101.644   …   119.199   125.253   121.335\n",
       " 94.8879  100.782   103.733   103.698       120.239   126.282   126.351\n",
       " 98.9823  106.891   102.841   104.817       117.288   125.324   122.394\n",
       " 97.1096  100.026   103.004    95.9677      116.382   119.411   118.476\n",
       "\n",
       "[:, :, 3, 1] =\n",
       "  32.5789   49.5298   69.5555   81.5924  …  -79.7011  -79.7255  -81.7206\n",
       "  43.4714   51.4132   62.4251   60.4655     -80.7781  -79.7813  -79.7561\n",
       "  46.3998   61.3365   56.3147   40.3382     -80.8284  -79.8274  -78.7738\n",
       "  54.3513   60.2772   51.262    41.2953     -80.8139  -79.8003  -79.7744\n",
       "  50.3174   59.2432   56.2169   43.2533     -80.7781  -79.7544  -78.7257\n",
       "  64.3057   50.2369   39.2187   42.237   …  -80.7287  -79.7181  -78.6794\n",
       "  68.2683   52.2008   36.1864   41.2063     -81.6979  -79.6864  -78.6595\n",
       "  45.2414   37.1859   32.1946   48.2024     -81.6516  -79.6338  -76.6146\n",
       "  26.1831   34.1341   49.1209   70.1581     -78.6329  -77.6192  -76.6076\n",
       "  28.2238   43.1584   53.1477   66.1849     -77.6063  -77.5931  -77.5879\n",
       "  29.2094   49.1372   54.1324   49.1575  …  -75.5985  -76.5961  -77.5842\n",
       "  40.1685   62.1125   67.104    48.1279     -74.5717  -74.5663  -75.5684\n",
       "  30.1422   49.1023   55.1044   35.1173     -71.5435  -72.5425  -73.5398\n",
       "   ⋮                                     ⋱                      \n",
       " 104.134   101.078   104.097   105.094      122.413   115.384   126.432\n",
       " 108.175    96.1267   96.1346  108.14       126.395   123.38    121.417\n",
       " 111.193    93.1525   92.152   106.162      129.341   123.344   123.391\n",
       " 109.221    94.1771  103.184   110.19    …  129.316   126.304   125.355\n",
       " 108.261   109.217   113.208   110.232      126.319   125.312   122.34\n",
       " 100.284   100.236   102.228   107.249      125.317   125.323   123.342\n",
       " 103.287    93.2328   85.2239  109.242      132.28    133.286   127.3\n",
       "  95.3117   90.2544   95.2482  107.275      132.256   136.27    128.321\n",
       " 107.344   113.297   116.286   117.301   …  128.232   135.255   132.303\n",
       " 110.415   115.355   117.345   119.354      127.268   135.286   137.314\n",
       " 114.475   121.426   116.424   120.43       124.277   133.283   132.32\n",
       " 112.579   114.555   116.571   110.58       123.358   126.358   128.392"
      ]
     },
     "execution_count": 15,
     "metadata": {},
     "output_type": "execute_result"
    }
   ],
   "source": [
    "\t@info \"Reading $(o[:model])\"\n",
    "\tmodel = matread(abspath(o[:model]))\n",
    "\tavgimg = model[\"meta\"][\"normalization\"][\"averageImage\"]\n",
    "\tavgimg = convert(Array{Float32}, avgimg)\n",
    "\tdescription = model[\"meta\"][\"classes\"][\"description\"]\n",
    "\tw, ms = get_params(model[\"params\"], o[:atype])\n",
    "\n",
    "\t@info \"Reading $(o[:image])\"\n",
    "\timg = data(o[:image], avgimg)\n",
    "\timg = convert(o[:atype], img)\n"
   ]
  },
  {
   "cell_type": "code",
   "execution_count": null,
   "metadata": {},
   "outputs": [],
   "source": [
    "function predict(o)\n",
    "\t@info \"Reading $(o[:model])\"\n",
    "\tmodel = matread(abspath(o[:model]))\n",
    "\tavgimg = model[\"meta\"][\"normalization\"][\"averageImage\"]\n",
    "\tavgimg = convert(Array{Float32}, avgimg)\n",
    "\tdescription = model[\"meta\"][\"classes\"][\"description\"]\n",
    "\tw, ms = get_params(model[\"params\"], o[:atype])\n",
    "\n",
    "\t@info \"Reading $(o[:image])\"\n",
    "\timg = data(o[:image], avgimg)\n",
    "\timg = convert(o[:atype], img)\n",
    "\n",
    "\t@info \"Classifying.\"\n",
    "\t#@time y1 = resnet152(w,img,ms)\n",
    "    modular_resnet152 = generate_resnet_from_weights(w, ms)\n",
    "    y1 = modular_resnet152(img)\n",
    "  \n",
    "  return y1, description\n",
    "end"
   ]
  },
  {
   "cell_type": "code",
   "execution_count": null,
   "metadata": {},
   "outputs": [],
   "source": [
    "#model = matread(abspath(o[:model]))\n",
    "#w, ms = get_params(model[\"params\"], o[:atype])\n"
   ]
  },
  {
   "cell_type": "code",
   "execution_count": null,
   "metadata": {},
   "outputs": [],
   "source": [
    "Knet.atype()"
   ]
  },
  {
   "cell_type": "code",
   "execution_count": null,
   "metadata": {},
   "outputs": [],
   "source": [
    "# Batch Norm Fixing Codes\n",
    "\n",
    "function init_model(;et=Float32)\n",
    "    # Use bnparams() to initialize gammas and betas\n",
    "    w = Any[\n",
    "        kaiming(et, 3, 3, 3, 16),    bnparams(et, 16),\n",
    "        kaiming(et, 3, 3, 16, 32),   bnparams(et, 32),\n",
    "        kaiming(et, 3, 3, 32, 64),   bnparams(et, 64),\n",
    "        xavier(et, 100, 8 * 8 * 64), bnparams(et, 100),\n",
    "        xavier(et, 10, 100),         zeros(et, 10, 1)\n",
    "    ]\n",
    "    # Initialize a moments object for each batchnorm\n",
    "    m = Any[bnmoments() for i = 1:4]\n",
    "    w = map(Knet.array_type[], w)\n",
    "    return w, m\n",
    "end\n",
    "\n",
    "function conv_layer(w, m, x; maxpool=true)\n",
    "    o = conv4(w[1], x; padding=1)\n",
    "    o = batchnorm(o, m, w[2])\n",
    "    o = relu.(o)\n",
    "    if maxpool; o=pool(o); end\n",
    "    return o\n",
    "end\n",
    "\n",
    "moments = bnmoments()\n",
    "params = bnparams(C)\n",
    "...\n",
    "### size(x) -> (H, W, C, N)\n",
    "y = batchnorm(x, moments, params)\n",
    "\n",
    "model = matread(abspath(o[:model]))\n",
    "\tavgimg = model[\"meta\"][\"normalization\"][\"averageImage\"]\n",
    "\tavgimg = convert(Array{Float32}, avgimg)\n",
    "\tdescription = model[\"meta\"][\"classes\"][\"description\"]\n",
    "\tw, ms = get_params(model[\"params\"], o[:atype])\n",
    "\t@info \"Reading $(o[:image])\"\n",
    "\timg = data(o[:image], avgimg)\n",
    "\timg = convert(o[:atype], img);\n",
    "\n",
    "res_conv_0 = ResLayerX0(w[1:3], ms; padding=3, stride=2)\n",
    "\n",
    " _wsize(y) = ((1 for _=1:ndims(y)-2)..., size(y)[end-1], 1)\n",
    "_bnscale(param) = param[1:div(length(param), 2)]\n",
    "_bnbias(param) = param[div(length(param), 2)+1:end]\n",
    "\n",
    "_bnscale(w[2:3])\n",
    "\n",
    "_bnbias(w[2:3])[begin]\n",
    "\n",
    "o = conv4(w[1], img; padding=3, stride=2)\n",
    "\n",
    "   res_mean = popfirst!(ms)\n",
    "        res_variance = popfirst!(ms)\n",
    "        batch_ms = bnmoments(meaninit=res_mean, varinit=res_variance)\n",
    "\n",
    "bnmoments()\n",
    "\n",
    "f_res_mean = convert(Array{Float32}, res_mean)\n",
    "f_res_variance = convert(Array{Float32}, res_variance)\n",
    "f_batch_ms = bnmoments(mean=res_mean, var=res_variance)\n",
    "\n",
    "function var_function(eltype, dims...)\n",
    "   return convert(eltype, f_res_variance)\n",
    "end\n",
    "\n",
    "function mean_function(eltype, dims...)\n",
    "    f_res_mean = convert(eltype, f_res_mean)\n",
    "end\n",
    "\n",
    "_wsize(o)\n",
    "\n",
    "_bnscale(vcatted_ws)\n",
    "\n",
    "#w2 = convert(Array{Float32}, w[2])\n",
    "#w3 = convert(Array{Float32}, w[3])\n",
    "w2 =  w[2]\n",
    "w3 =  w[3]\n",
    "vec_w2 = vec(w2)\n",
    "vec_w3 = vec(w3)\n",
    "vcatted_ws = vcat(vec_w2, vec_w3)\n",
    "\n",
    "batchnorm(o, f_batch_ms, vcatted_ws)\n",
    "\n",
    "batchnorm(o, bnmoments(), vcatted_ws)\n",
    "\n",
    "res_conv_0(img)"
   ]
  },
  {
   "cell_type": "code",
   "execution_count": 20,
   "metadata": {},
   "outputs": [],
   "source": [
    "w, ms = get_params(model[\"params\"], o[:atype]);"
   ]
  },
  {
   "cell_type": "code",
   "execution_count": 21,
   "metadata": {},
   "outputs": [],
   "source": [
    "modular_resnet50 = generate_resnet50_from_weights(w, ms);"
   ]
  },
  {
   "cell_type": "code",
   "execution_count": 22,
   "metadata": {},
   "outputs": [
    {
     "data": {
      "text/plain": [
       "1000×1 KnetArray{Float32,2}:\n",
       " -0.78224003\n",
       " -0.04582238\n",
       " -2.8930907\n",
       " -1.2293518\n",
       "  1.3901492\n",
       "  4.8339925\n",
       "  0.9740315\n",
       "  0.2575028\n",
       "  1.0925149\n",
       "  0.50552547\n",
       "  4.2576203\n",
       "  0.34664422\n",
       "  3.4461224\n",
       "  ⋮\n",
       "  2.9957259\n",
       "  0.1772494\n",
       "  0.09930984\n",
       " -1.9679513\n",
       " -0.42523646\n",
       " -1.6379434\n",
       " -0.2872133\n",
       "  3.2809334\n",
       "  1.9645854\n",
       "  1.8960687\n",
       "  3.69969\n",
       "  4.2248254"
      ]
     },
     "execution_count": 22,
     "metadata": {},
     "output_type": "execute_result"
    }
   ],
   "source": [
    "y_50 = modular_resnet50(img)"
   ]
  },
  {
   "cell_type": "code",
   "execution_count": null,
   "metadata": {},
   "outputs": [],
   "source": [
    "modular_resnet152 = generate_resnet_from_weights(w, ms)\n",
    "y1 = modular_resnet152(img)"
   ]
  },
  {
   "cell_type": "code",
   "execution_count": 29,
   "metadata": {},
   "outputs": [
    {
     "data": {
      "text/plain": [
       "y_to_readable_output (generic function with 1 method)"
      ]
     },
     "execution_count": 29,
     "metadata": {},
     "output_type": "execute_result"
    }
   ],
   "source": [
    "function y_to_readable_output(raw_y)\n",
    "z = vec(Array(raw_y))\n",
    "s = sortperm(z,rev=true)\n",
    "p = exp.(logp(z))\n",
    "\n",
    "for ind in s[1:o[:top]]\n",
    "  print(\"$(description[ind]): $(@sprintf(\"%.2f\",p[ind]*100))%\\n\")\n",
    "end\n",
    "    \n",
    "end"
   ]
  },
  {
   "cell_type": "code",
   "execution_count": 30,
   "metadata": {},
   "outputs": [
    {
     "name": "stdout",
     "output_type": "stream",
     "text": [
      "Egyptian cat: 22.39%\n",
      "ram, tup: 9.08%\n",
      "wild boar, boar, Sus scrofa: 5.63%\n",
      "hare: 5.34%\n",
      "tabby, tabby cat: 5.23%\n",
      "mousetrap: 3.83%\n",
      "African chameleon, Chamaeleo chamaeleon: 2.76%\n",
      "tiger cat: 2.35%\n",
      "teddy, teddy bear: 2.11%\n",
      "great grey owl, great gray owl, Strix nebulosa: 2.06%\n"
     ]
    }
   ],
   "source": [
    "y_to_readable_output(y_50)"
   ]
  }
 ],
 "metadata": {
  "kernelspec": {
   "display_name": "Julia 1.5.3",
   "language": "julia",
   "name": "julia-1.5"
  },
  "language_info": {
   "file_extension": ".jl",
   "mimetype": "application/julia",
   "name": "julia",
   "version": "1.5.3"
  }
 },
 "nbformat": 4,
 "nbformat_minor": 4
}

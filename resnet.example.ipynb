{
 "cells": [
  {
   "cell_type": "code",
   "execution_count": 38,
   "metadata": {},
   "outputs": [
    {
     "data": {
      "text/plain": [
       "\"https://nextjournal.com/data/QmXNbi2LE7u6yBdBXaQ9E2zGb48FELg3TxjrLiPKBmdvZc?filename=Qat.jpg&content-type=image/jpeg\""
      ]
     },
     "execution_count": 38,
     "metadata": {},
     "output_type": "execute_result"
    }
   ],
   "source": [
    "model_file_path = \"/home/gsoykan/Desktop/comp541/comp541_term_project/results/imagenet-resnet-152-dag.mat\"\n",
    "cat_img_url = \"https://nextjournal.com/data/QmXNbi2LE7u6yBdBXaQ9E2zGb48FELg3TxjrLiPKBmdvZc?filename=Qat.jpg&content-type=image/jpeg\""
   ]
  },
  {
   "cell_type": "code",
   "execution_count": 2,
   "metadata": {},
   "outputs": [],
   "source": [
    "# TODO: implement resnet\n",
    "# https://nextjournal.com/mpd/image-classification-with-knet"
   ]
  },
  {
   "cell_type": "code",
   "execution_count": 14,
   "metadata": {},
   "outputs": [],
   "source": [
    "using MAT, OffsetArrays, FFTViews, ArgParse, Images, Knet, ImageMagick"
   ]
  },
  {
   "cell_type": "code",
   "execution_count": 26,
   "metadata": {},
   "outputs": [
    {
     "data": {
      "text/plain": [
       "get_params (generic function with 1 method)"
      ]
     },
     "execution_count": 26,
     "metadata": {},
     "output_type": "execute_result"
    }
   ],
   "source": [
    "function get_params(params, atype)\n",
    "    len = length(params[\"value\"])\n",
    "    ws, ms = [], []\n",
    "    for k = 1:len\n",
    "        name = params[\"name\"][k]\n",
    "        value = convert(Array{Float32}, params[\"value\"][k])\n",
    "\n",
    "        if endswith(name, \"moments\")\n",
    "            push!(ms, reshape(value[:,1], (1,1,size(value,1),1)))\n",
    "            push!(ms, reshape(value[:,2], (1,1,size(value,1),1)))\n",
    "        elseif startswith(name, \"bn\")\n",
    "            push!(ws, reshape(value, (1,1,length(value),1)))\n",
    "        elseif startswith(name, \"fc\") && endswith(name, \"filter\")\n",
    "            push!(ws, transpose(reshape(value,(size(value,3),size(value,4)))))\n",
    "        elseif startswith(name, \"conv\") && endswith(name, \"bias\")\n",
    "            push!(ws, reshape(value, (1,1,length(value),1)))\n",
    "        else\n",
    "            push!(ws, value)\n",
    "        end\n",
    "    end\n",
    "    map(wi->convert(atype, wi), ws),\n",
    "    map(mi->convert(atype, mi), ms)\n",
    "end"
   ]
  },
  {
   "cell_type": "code",
   "execution_count": 27,
   "metadata": {},
   "outputs": [
    {
     "data": {
      "text/plain": [
       "data (generic function with 1 method)"
      ]
     },
     "execution_count": 27,
     "metadata": {},
     "output_type": "execute_result"
    }
   ],
   "source": [
    "# From vgg.jl\n",
    "function data(img, averageImage)\n",
    "    if occursin(\"://\",img)\n",
    "        @info \"Downloading $img\"\n",
    "        img = download(img)\n",
    "    end\n",
    "    a0 = load(img)\n",
    "    new_size = ntuple(i->div(size(a0,i)*224,minimum(size(a0))),2)\n",
    "    a1 = Images.imresize(a0, new_size)\n",
    "    i1 = div(size(a1,1)-224,2)\n",
    "    j1 = div(size(a1,2)-224,2)\n",
    "    b1 = a1[i1+1:i1+224,j1+1:j1+224]\n",
    "    c1 = permutedims(channelview(b1), (3,2,1))\n",
    "    d1 = convert(Array{Float32}, c1)\n",
    "    e1 = reshape(d1[:,:,1:3], (224,224,3,1))\n",
    "    f1 = (255 * e1 .- averageImage)\n",
    "    g1 = permutedims(f1, [2,1,3,4])\n",
    "end"
   ]
  },
  {
   "cell_type": "code",
   "execution_count": 16,
   "metadata": {},
   "outputs": [
    {
     "data": {
      "text/plain": [
       "batchnorm (generic function with 1 method)"
      ]
     },
     "execution_count": 16,
     "metadata": {},
     "output_type": "execute_result"
    }
   ],
   "source": [
    "# Batch Normalization Layer\n",
    "# works both for convolutional and fully connected layers\n",
    "# mode, 0=>train, 1=>test\n",
    "function batchnorm(w, x, ms; mode=1, epsilon=1e-5)\n",
    "    mu, sigma = nothing, nothing\n",
    "    if mode == 0\n",
    "        d = ndims(x) == 4 ? (1,2,4) : (2,)\n",
    "        s = prod(size(x,d...))\n",
    "        mu = sum(x,d) / s\n",
    "        x0 = x .- mu\n",
    "        x1 = x0 .* x0\n",
    "        sigma = sqrt(epsilon + (sum(x1, d)) / s)\n",
    "    elseif mode == 1\n",
    "        mu = popfirst!(ms)\n",
    "        sigma = popfirst!(ms)\n",
    "    end\n",
    "\n",
    "    # we need getval in backpropagation\n",
    "    push!(ms, AutoGrad.value(mu), AutoGrad.value(sigma))\n",
    "    xhat = (x.-mu) ./ sigma\n",
    "    return w[1] .* xhat .+ w[2]\n",
    "end"
   ]
  },
  {
   "cell_type": "code",
   "execution_count": 17,
   "metadata": {},
   "outputs": [
    {
     "data": {
      "text/plain": [
       "reslayerx0 (generic function with 1 method)"
      ]
     },
     "execution_count": 17,
     "metadata": {},
     "output_type": "execute_result"
    }
   ],
   "source": [
    "function reslayerx0(w,x,ms; padding=0, stride=1, mode=1)\n",
    "    b  = conv4(w[1],x; padding=padding, stride=stride)\n",
    "    bx = batchnorm(w[2:3],b,ms; mode=mode)\n",
    "end"
   ]
  },
  {
   "cell_type": "code",
   "execution_count": 19,
   "metadata": {},
   "outputs": [
    {
     "data": {
      "text/plain": [
       "reslayerx1 (generic function with 1 method)"
      ]
     },
     "execution_count": 19,
     "metadata": {},
     "output_type": "execute_result"
    }
   ],
   "source": [
    "function reslayerx1(w,x,ms; padding=0, stride=1, mode=1)\n",
    "    relu.(reslayerx0(w,x,ms; padding=padding, stride=stride, mode=mode))\n",
    "end"
   ]
  },
  {
   "cell_type": "code",
   "execution_count": 20,
   "metadata": {},
   "outputs": [
    {
     "data": {
      "text/plain": [
       "reslayerx2 (generic function with 1 method)"
      ]
     },
     "execution_count": 20,
     "metadata": {},
     "output_type": "execute_result"
    }
   ],
   "source": [
    "function reslayerx2(w,x,ms; pads=[0,1,0], strides=[1,1,1], mode=1)\n",
    "    ba = reslayerx1(w[1:3],x,ms; padding=pads[1], stride=strides[1], mode=mode)\n",
    "    bb = reslayerx1(w[4:6],ba,ms; padding=pads[2], stride=strides[2], mode=mode)\n",
    "    bc = reslayerx0(w[7:9],bb,ms; padding=pads[3], stride=strides[3], mode=mode)\n",
    "end"
   ]
  },
  {
   "cell_type": "code",
   "execution_count": 21,
   "metadata": {},
   "outputs": [
    {
     "data": {
      "text/plain": [
       "reslayerx3 (generic function with 1 method)"
      ]
     },
     "execution_count": 21,
     "metadata": {},
     "output_type": "execute_result"
    }
   ],
   "source": [
    "function reslayerx3(w,x,ms; pads=[0,0,1,0], strides=[2,2,1,1], mode=1) # 12\n",
    "    a = reslayerx0(w[1:3],x,ms; stride=strides[1], padding=pads[1], mode=mode)\n",
    "    b = reslayerx2(w[4:12],x,ms; strides=strides[2:4], pads=pads[2:4], mode=mode)\n",
    "    relu.(a .+ b)\n",
    "end"
   ]
  },
  {
   "cell_type": "code",
   "execution_count": 22,
   "metadata": {},
   "outputs": [
    {
     "data": {
      "text/plain": [
       "reslayerx4 (generic function with 1 method)"
      ]
     },
     "execution_count": 22,
     "metadata": {},
     "output_type": "execute_result"
    }
   ],
   "source": [
    "function reslayerx4(w,x,ms; pads=[0,1,0], strides=[1,1,1], mode=1)\n",
    "    relu.(x .+ reslayerx2(w,x,ms; pads=pads, strides=strides, mode=mode))\n",
    "end"
   ]
  },
  {
   "cell_type": "code",
   "execution_count": 23,
   "metadata": {},
   "outputs": [
    {
     "data": {
      "text/plain": [
       "reslayerx5 (generic function with 1 method)"
      ]
     },
     "execution_count": 23,
     "metadata": {},
     "output_type": "execute_result"
    }
   ],
   "source": [
    "function reslayerx5(w,x,ms; strides=[2,2,1,1], mode=1)\n",
    "    x = reslayerx3(w[1:12],x,ms; strides=strides, mode=mode)\n",
    "    for k = 13:9:length(w)\n",
    "        x = reslayerx4(w[k:k+8],x,ms; mode=mode)\n",
    "    end\n",
    "    return x\n",
    "end"
   ]
  },
  {
   "cell_type": "code",
   "execution_count": 24,
   "metadata": {},
   "outputs": [
    {
     "data": {
      "text/plain": [
       "resnet152 (generic function with 1 method)"
      ]
     },
     "execution_count": 24,
     "metadata": {},
     "output_type": "execute_result"
    }
   ],
   "source": [
    "# mode, 0=>train, 1=>test\n",
    "function resnet152(w,x,ms; mode=1)\n",
    "    # layer 1\n",
    "    conv1 = reslayerx1(w[1:3],x,ms; padding=3, stride=2, mode=mode)\n",
    "    pool1 = pool(conv1; window=3, stride=2)\n",
    "\n",
    "    # layer 2,3,4,5\n",
    "    r2 = reslayerx5(w[4:33], pool1, ms; strides=[1,1,1,1], mode=mode)\n",
    "    r3 = reslayerx5(w[34:108], r2, ms; mode=mode)\n",
    "    r4 = reslayerx5(w[109:435], r3, ms; mode=mode)\n",
    "    r5 = reslayerx5(w[436:465], r4, ms; mode=mode)\n",
    "\n",
    "    # fully connected layer\n",
    "    pool5  = pool(r5; stride=1, window=7, mode=2)\n",
    "    fc1000 = w[466] * mat(pool5) .+ w[467]\n",
    "end"
   ]
  },
  {
   "cell_type": "code",
   "execution_count": 39,
   "metadata": {},
   "outputs": [
    {
     "data": {
      "text/plain": [
       "Dict{Symbol,Any} with 4 entries:\n",
       "  :atype => KnetArray{Float32,N} where N\n",
       "  :top   => 10\n",
       "  :image => \"https://nextjournal.com/data/QmXNbi2LE7u6yBdBXaQ9E2zGb48FELg3TxjrL…\n",
       "  :model => \"/home/gsoykan/Desktop/comp541/comp541_term_project/results/imagene…"
      ]
     },
     "execution_count": 39,
     "metadata": {},
     "output_type": "execute_result"
    }
   ],
   "source": [
    "o = Dict(\n",
    "  :atype => KnetArray{Float32},\n",
    "  :model => model_file_path,\n",
    "  :image => cat_img_url,\n",
    "  :top   => 10\n",
    ")"
   ]
  },
  {
   "cell_type": "code",
   "execution_count": 40,
   "metadata": {},
   "outputs": [
    {
     "data": {
      "text/plain": [
       "predict (generic function with 1 method)"
      ]
     },
     "execution_count": 40,
     "metadata": {},
     "output_type": "execute_result"
    }
   ],
   "source": [
    "function predict(o)\n",
    "\t@info \"Reading $(o[:model])\"\n",
    "\tmodel = matread(abspath(o[:model]))\n",
    "\tavgimg = model[\"meta\"][\"normalization\"][\"averageImage\"]\n",
    "\tavgimg = convert(Array{Float32}, avgimg)\n",
    "\tdescription = model[\"meta\"][\"classes\"][\"description\"]\n",
    "\tw, ms = get_params(model[\"params\"], o[:atype])\n",
    "\n",
    "\t@info \"Reading $(o[:image])\"\n",
    "\timg = data(o[:image], avgimg)\n",
    "\timg = convert(o[:atype], img)\n",
    "\n",
    "\t@info \"Classifying.\"\n",
    "\t@time y1 = resnet152(w,img,ms)\n",
    "  \n",
    "  return y1, description\n",
    "end"
   ]
  },
  {
   "cell_type": "code",
   "execution_count": 41,
   "metadata": {},
   "outputs": [
    {
     "name": "stderr",
     "output_type": "stream",
     "text": [
      "┌ Info: Reading /home/gsoykan/Desktop/comp541/comp541_term_project/results/imagenet-resnet-152-dag.mat\n",
      "└ @ Main In[40]:2\n",
      "┌ Info: Reading https://nextjournal.com/data/QmXNbi2LE7u6yBdBXaQ9E2zGb48FELg3TxjrLiPKBmdvZc?filename=Qat.jpg&content-type=image/jpeg\n",
      "└ @ Main In[40]:9\n",
      "┌ Info: Downloading https://nextjournal.com/data/QmXNbi2LE7u6yBdBXaQ9E2zGb48FELg3TxjrLiPKBmdvZc?filename=Qat.jpg&content-type=image/jpeg\n",
      "└ @ Main In[27]:4\n",
      "--2020-11-26 01:05:42--  https://nextjournal.com/data/QmXNbi2LE7u6yBdBXaQ9E2zGb48FELg3TxjrLiPKBmdvZc?filename=Qat.jpg&content-type=image/jpeg\n",
      "Resolving nextjournal.com (nextjournal.com)... 104.155.21.143\n",
      "Connecting to nextjournal.com (nextjournal.com)|104.155.21.143|:443... connected.\n",
      "HTTP request sent, awaiting response... 200 OK\n",
      "Length: 107863 (105K) [image/jpeg]\n",
      "Saving to: ‘/tmp/jl_GjsrSM’\n",
      "\n",
      "     0K .......... .......... .......... .......... .......... 47%  435K 0s\n",
      "    50K .......... .......... .......... .......... .......... 94%  920K 0s\n",
      "   100K .....                                                 100% 1,55M=0,2s\n",
      "\n",
      "2020-11-26 01:05:46 (610 KB/s) - ‘/tmp/jl_GjsrSM’ saved [107863/107863]\n",
      "\n",
      "┌ Info: Classifying.\n",
      "└ @ Main In[40]:13\n"
     ]
    },
    {
     "name": "stdout",
     "output_type": "stream",
     "text": [
      "  0.052981 seconds (31.10 k allocations: 1.343 MiB)\n"
     ]
    },
    {
     "data": {
      "text/plain": [
       "(K32(1000,1)[-1.847644⋯], Any[\"tench, Tinca tinca\" \"goldfish, Carassius auratus\" … \"ear, spike, capitulum\" \"toilet tissue, toilet paper, bathroom tissue\"])"
      ]
     },
     "execution_count": 41,
     "metadata": {},
     "output_type": "execute_result"
    }
   ],
   "source": [
    "y1, description = predict(o)"
   ]
  },
  {
   "cell_type": "code",
   "execution_count": 35,
   "metadata": {},
   "outputs": [
    {
     "data": {
      "text/plain": [
       "1000-element Array{Float32,1}:\n",
       " 7.434242f-6\n",
       " 7.9623715f-6\n",
       " 1.4927994f-7\n",
       " 6.341796f-8\n",
       " 6.8408036f-7\n",
       " 9.860025f-5\n",
       " 4.4320145f-6\n",
       " 1.476855f-5\n",
       " 0.0009105815\n",
       " 3.427741f-5\n",
       " 9.599371f-6\n",
       " 1.4747186f-5\n",
       " 1.6379536f-5\n",
       " ⋮\n",
       " 1.1692983f-5\n",
       " 7.740901f-8\n",
       " 1.8692223f-6\n",
       " 5.7157f-7\n",
       " 1.0856252f-6\n",
       " 2.5791576f-6\n",
       " 1.1585938f-6\n",
       " 7.935305f-7\n",
       " 1.1721868f-5\n",
       " 7.2542894f-6\n",
       " 1.1682383f-5\n",
       " 1.5206274f-5"
      ]
     },
     "execution_count": 35,
     "metadata": {},
     "output_type": "execute_result"
    }
   ],
   "source": [
    "z1 = vec(Array(y1))\n",
    "s1 = sortperm(z1,rev=true)\n",
    "p1 = exp.(logp(z1))"
   ]
  },
  {
   "cell_type": "code",
   "execution_count": 36,
   "metadata": {},
   "outputs": [
    {
     "name": "stdout",
     "output_type": "stream",
     "text": [
      "gibbon, Hylobates lar: 51.15%\n",
      "Pomeranian: 9.16%\n",
      "marmoset: 7.37%\n",
      "langur: 7.00%\n",
      "capuchin, ringtail, Cebus capucinus: 4.09%\n",
      "Pembroke, Pembroke Welsh corgi: 3.39%\n",
      "ringlet, ringlet butterfly: 3.38%\n",
      "hamster: 2.25%\n",
      "macaque: 1.89%\n",
      "Siamese cat, Siamese: 1.18%\n"
     ]
    }
   ],
   "source": [
    "using Printf\n",
    "\n",
    "for ind in s1[1:o[:top]]\n",
    "  print(\"$(description[ind]): $(@sprintf(\"%.2f\",p1[ind]*100))%\\n\")\n",
    "end"
   ]
  },
  {
   "cell_type": "code",
   "execution_count": null,
   "metadata": {},
   "outputs": [],
   "source": []
  }
 ],
 "metadata": {
  "kernelspec": {
   "display_name": "Julia 1.5.3",
   "language": "julia",
   "name": "julia-1.5"
  },
  "language_info": {
   "file_extension": ".jl",
   "mimetype": "application/julia",
   "name": "julia",
   "version": "1.5.3"
  }
 },
 "nbformat": 4,
 "nbformat_minor": 4
}

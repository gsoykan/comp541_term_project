{
 "cells": [
  {
   "cell_type": "code",
   "execution_count": null,
   "metadata": {},
   "outputs": [],
   "source": [
    "model_file_path = \"/home/gsoykan/Desktop/comp541/comp541_term_project/results/imagenet-resnet-152-dag.mat\"\n",
    "cat_img_url = \"https://nextjournal.com/data/QmXNbi2LE7u6yBdBXaQ9E2zGb48FELg3TxjrLiPKBmdvZc?filename=Qat.jpg&content-type=image/jpeg\""
   ]
  },
  {
   "cell_type": "code",
   "execution_count": null,
   "metadata": {},
   "outputs": [],
   "source": [
    "# https://nextjournal.com/mpd/image-classification-with-knet"
   ]
  },
  {
   "cell_type": "code",
   "execution_count": null,
   "metadata": {},
   "outputs": [],
   "source": [
    "import CUDA"
   ]
  },
  {
   "cell_type": "code",
   "execution_count": null,
   "metadata": {},
   "outputs": [],
   "source": [
    "using MAT, OffsetArrays, FFTViews, ArgParse, Images, Knet, ImageMagick\n",
    "include(\"modular.resnet.jl\")"
   ]
  },
  {
   "cell_type": "code",
   "execution_count": null,
   "metadata": {},
   "outputs": [],
   "source": [
    "atype = CUDA.functional() ? KnetArray{Float32} : Array{Float32}\n",
    "Knet.atype() = atype"
   ]
  },
  {
   "cell_type": "code",
   "execution_count": null,
   "metadata": {},
   "outputs": [],
   "source": [
    "function get_params(params, atype)\n",
    "    len = length(params[\"value\"])\n",
    "    ws, ms = [], []\n",
    "    for k = 1:len\n",
    "        name = params[\"name\"][k]\n",
    "        value = convert(Array{Float32}, params[\"value\"][k])\n",
    "\n",
    "        if endswith(name, \"moments\")\n",
    "            push!(ms, reshape(value[:,1], (1,1,size(value,1),1)))\n",
    "            push!(ms, reshape(value[:,2], (1,1,size(value,1),1)))\n",
    "        elseif startswith(name, \"bn\")\n",
    "            push!(ws, reshape(value, (1,1,length(value),1)))\n",
    "        elseif startswith(name, \"fc\") && endswith(name, \"filter\")\n",
    "            push!(ws, transpose(reshape(value,(size(value,3),size(value,4)))))\n",
    "        elseif startswith(name, \"conv\") && endswith(name, \"bias\")\n",
    "            push!(ws, reshape(value, (1,1,length(value),1)))\n",
    "        else\n",
    "            push!(ws, value)\n",
    "        end\n",
    "    end\n",
    "    map(wi->convert(atype, wi), ws),\n",
    "    map(mi->convert(atype, mi), ms)\n",
    "end"
   ]
  },
  {
   "cell_type": "code",
   "execution_count": null,
   "metadata": {},
   "outputs": [],
   "source": [
    "# From vgg.jl\n",
    "function data(img, averageImage)\n",
    "    if occursin(\"://\",img)\n",
    "        @info \"Downloading $img\"\n",
    "        img = download(img)\n",
    "    end\n",
    "    a0 = load(img)\n",
    "    new_size = ntuple(i->div(size(a0,i)*224,minimum(size(a0))),2)\n",
    "    a1 = Images.imresize(a0, new_size)\n",
    "    i1 = div(size(a1,1)-224,2)\n",
    "    j1 = div(size(a1,2)-224,2)\n",
    "    b1 = a1[i1+1:i1+224,j1+1:j1+224]\n",
    "    c1 = permutedims(channelview(b1), (3,2,1))\n",
    "    d1 = convert(Array{Float32}, c1)\n",
    "    e1 = reshape(d1[:,:,1:3], (224,224,3,1))\n",
    "    f1 = (255 * e1 .- averageImage)\n",
    "    g1 = permutedims(f1, [2,1,3,4])\n",
    "end"
   ]
  },
  {
   "cell_type": "code",
   "execution_count": null,
   "metadata": {},
   "outputs": [],
   "source": [
    "# OLD IMPLEMENTATION\n",
    "# Batch Normalization Layer\n",
    "# works both for convolutional and fully connected layers\n",
    "# mode, 0=>train, 1=>test\n",
    "function batchnorm(w, x, ms; mode=1, epsilon=1e-5)\n",
    "    mu, sigma = nothing, nothing\n",
    "    if mode == 0\n",
    "        d = ndims(x) == 4 ? (1,2,4) : (2,)\n",
    "        s = prod(size(x,d...))\n",
    "        mu = sum(x,d) / s\n",
    "        x0 = x .- mu\n",
    "        x1 = x0 .* x0\n",
    "        sigma = sqrt(epsilon + (sum(x1, d)) / s)\n",
    "    elseif mode == 1\n",
    "        mu = popfirst!(ms)\n",
    "        sigma = popfirst!(ms)\n",
    "    end\n",
    "\n",
    "    # we need getval in backpropagation\n",
    "    push!(ms, AutoGrad.value(mu), AutoGrad.value(sigma))\n",
    "    xhat = (x.-mu) ./ sigma\n",
    "    return w[1] .* xhat .+ w[2]\n",
    "end\n",
    "\n",
    "function reslayerx0(w,x,ms; padding=0, stride=1, mode=1)\n",
    "    b  = conv4(w[1],x; padding=padding, stride=stride)\n",
    "    bx = batchnorm(w[2:3],b,ms; mode=mode)\n",
    "end\n",
    "\n",
    "function reslayerx1(w,x,ms; padding=0, stride=1, mode=1)\n",
    "    relu.(reslayerx0(w,x,ms; padding=padding, stride=stride, mode=mode))\n",
    "end\n",
    "\n",
    "function reslayerx2(w,x,ms; pads=[0,1,0], strides=[1,1,1], mode=1)\n",
    "    ba = reslayerx1(w[1:3],x,ms; padding=pads[1], stride=strides[1], mode=mode)\n",
    "    bb = reslayerx1(w[4:6],ba,ms; padding=pads[2], stride=strides[2], mode=mode)\n",
    "    bc = reslayerx0(w[7:9],bb,ms; padding=pads[3], stride=strides[3], mode=mode)\n",
    "end\n",
    "\n",
    "function reslayerx3(w,x,ms; pads=[0,0,1,0], strides=[2,2,1,1], mode=1) # 12\n",
    "    a = reslayerx0(w[1:3],x,ms; stride=strides[1], padding=pads[1], mode=mode)\n",
    "    b = reslayerx2(w[4:12],x,ms; strides=strides[2:4], pads=pads[2:4], mode=mode)\n",
    "    relu.(a .+ b)\n",
    "end\n",
    "\n",
    "function reslayerx4(w,x,ms; pads=[0,1,0], strides=[1,1,1], mode=1)\n",
    "    relu.(x .+ reslayerx2(w,x,ms; pads=pads, strides=strides, mode=mode))\n",
    "end\n",
    "\n",
    "function reslayerx5(w,x,ms; strides=[2,2,1,1], mode=1)\n",
    "    x = reslayerx3(w[1:12],x,ms; strides=strides, mode=mode)\n",
    "    for k = 13:9:length(w)\n",
    "        x = reslayerx4(w[k:k+8],x,ms; mode=mode)\n",
    "    end\n",
    "    return x\n",
    "end\n",
    "\n",
    "# mode, 0=>train, 1=>test\n",
    "function resnet152(w,x,ms; mode=1)\n",
    "    # layer 1\n",
    "    conv1 = reslayerx1(w[1:3],x,ms; padding=3, stride=2, mode=mode)\n",
    "    pool1 = pool(conv1; window=3, stride=2)\n",
    "\n",
    "    # layer 2,3,4,5\n",
    "    r2 = reslayerx5(w[4:33], pool1, ms; strides=[1,1,1,1], mode=mode)\n",
    "    r3 = reslayerx5(w[34:108], r2, ms; mode=mode)\n",
    "    r4 = reslayerx5(w[109:435], r3, ms; mode=mode)\n",
    "    r5 = reslayerx5(w[436:465], r4, ms; mode=mode)\n",
    "\n",
    "    # fully connected layer\n",
    "    pool5  = pool(r5; stride=1, window=7, mode=2)\n",
    "    fc1000 = w[466] * mat(pool5) .+ w[467]\n",
    "end"
   ]
  },
  {
   "cell_type": "code",
   "execution_count": null,
   "metadata": {},
   "outputs": [],
   "source": [
    "o = Dict(\n",
    "  :atype => KnetArray{Float32},\n",
    "  :model => model_file_path,\n",
    "  :image => cat_img_url,\n",
    "  :top   => 10\n",
    ")"
   ]
  },
  {
   "cell_type": "code",
   "execution_count": null,
   "metadata": {},
   "outputs": [],
   "source": [
    "\t@info \"Reading $(o[:model])\"\n",
    "\tmodel = matread(abspath(o[:model]))\n",
    "\tavgimg = model[\"meta\"][\"normalization\"][\"averageImage\"]\n",
    "\tavgimg = convert(Array{Float32}, avgimg)\n",
    "\tdescription = model[\"meta\"][\"classes\"][\"description\"]\n",
    "\tw, ms = get_params(model[\"params\"], o[:atype])\n",
    "\n",
    "\t@info \"Reading $(o[:image])\"\n",
    "\timg = data(o[:image], avgimg)\n",
    "\timg = convert(o[:atype], img)\n"
   ]
  },
  {
   "cell_type": "code",
   "execution_count": null,
   "metadata": {},
   "outputs": [],
   "source": [
    "function predict(o)\n",
    "\t@info \"Reading $(o[:model])\"\n",
    "\tmodel = matread(abspath(o[:model]))\n",
    "\tavgimg = model[\"meta\"][\"normalization\"][\"averageImage\"]\n",
    "\tavgimg = convert(Array{Float32}, avgimg)\n",
    "\tdescription = model[\"meta\"][\"classes\"][\"description\"]\n",
    "\tw, ms = get_params(model[\"params\"], o[:atype])\n",
    "\n",
    "\t@info \"Reading $(o[:image])\"\n",
    "\timg = data(o[:image], avgimg)\n",
    "\timg = convert(o[:atype], img)\n",
    "\n",
    "\t@info \"Classifying.\"\n",
    "\t#@time y1 = resnet152(w,img,ms)\n",
    "    modular_resnet152 = generate_resnet_from_weights(w, ms)\n",
    "    y1 = modular_resnet152(img)\n",
    "  \n",
    "  return y1, description\n",
    "end"
   ]
  },
  {
   "cell_type": "code",
   "execution_count": null,
   "metadata": {},
   "outputs": [],
   "source": [
    "#model = matread(abspath(o[:model]))\n",
    "#w, ms = get_params(model[\"params\"], o[:atype])\n"
   ]
  },
  {
   "cell_type": "code",
   "execution_count": null,
   "metadata": {},
   "outputs": [],
   "source": [
    "Knet.atype()"
   ]
  },
  {
   "cell_type": "code",
   "execution_count": null,
   "metadata": {},
   "outputs": [],
   "source": [
    "# Batch Norm Fixing Codes\n",
    "\n",
    "function init_model(;et=Float32)\n",
    "    # Use bnparams() to initialize gammas and betas\n",
    "    w = Any[\n",
    "        kaiming(et, 3, 3, 3, 16),    bnparams(et, 16),\n",
    "        kaiming(et, 3, 3, 16, 32),   bnparams(et, 32),\n",
    "        kaiming(et, 3, 3, 32, 64),   bnparams(et, 64),\n",
    "        xavier(et, 100, 8 * 8 * 64), bnparams(et, 100),\n",
    "        xavier(et, 10, 100),         zeros(et, 10, 1)\n",
    "    ]\n",
    "    # Initialize a moments object for each batchnorm\n",
    "    m = Any[bnmoments() for i = 1:4]\n",
    "    w = map(Knet.array_type[], w)\n",
    "    return w, m\n",
    "end\n",
    "\n",
    "function conv_layer(w, m, x; maxpool=true)\n",
    "    o = conv4(w[1], x; padding=1)\n",
    "    o = batchnorm(o, m, w[2])\n",
    "    o = relu.(o)\n",
    "    if maxpool; o=pool(o); end\n",
    "    return o\n",
    "end\n",
    "\n",
    "moments = bnmoments()\n",
    "params = bnparams(C)\n",
    "...\n",
    "### size(x) -> (H, W, C, N)\n",
    "y = batchnorm(x, moments, params)\n",
    "\n",
    "model = matread(abspath(o[:model]))\n",
    "\tavgimg = model[\"meta\"][\"normalization\"][\"averageImage\"]\n",
    "\tavgimg = convert(Array{Float32}, avgimg)\n",
    "\tdescription = model[\"meta\"][\"classes\"][\"description\"]\n",
    "\tw, ms = get_params(model[\"params\"], o[:atype])\n",
    "\t@info \"Reading $(o[:image])\"\n",
    "\timg = data(o[:image], avgimg)\n",
    "\timg = convert(o[:atype], img);\n",
    "\n",
    "res_conv_0 = ResLayerX0(w[1:3], ms; padding=3, stride=2)\n",
    "\n",
    " _wsize(y) = ((1 for _=1:ndims(y)-2)..., size(y)[end-1], 1)\n",
    "_bnscale(param) = param[1:div(length(param), 2)]\n",
    "_bnbias(param) = param[div(length(param), 2)+1:end]\n",
    "\n",
    "_bnscale(w[2:3])\n",
    "\n",
    "_bnbias(w[2:3])[begin]\n",
    "\n",
    "o = conv4(w[1], img; padding=3, stride=2)\n",
    "\n",
    "   res_mean = popfirst!(ms)\n",
    "        res_variance = popfirst!(ms)\n",
    "        batch_ms = bnmoments(meaninit=res_mean, varinit=res_variance)\n",
    "\n",
    "bnmoments()\n",
    "\n",
    "f_res_mean = convert(Array{Float32}, res_mean)\n",
    "f_res_variance = convert(Array{Float32}, res_variance)\n",
    "f_batch_ms = bnmoments(mean=res_mean, var=res_variance)\n",
    "\n",
    "function var_function(eltype, dims...)\n",
    "   return convert(eltype, f_res_variance)\n",
    "end\n",
    "\n",
    "function mean_function(eltype, dims...)\n",
    "    f_res_mean = convert(eltype, f_res_mean)\n",
    "end\n",
    "\n",
    "_wsize(o)\n",
    "\n",
    "_bnscale(vcatted_ws)\n",
    "\n",
    "#w2 = convert(Array{Float32}, w[2])\n",
    "#w3 = convert(Array{Float32}, w[3])\n",
    "w2 =  w[2]\n",
    "w3 =  w[3]\n",
    "vec_w2 = vec(w2)\n",
    "vec_w3 = vec(w3)\n",
    "vcatted_ws = vcat(vec_w2, vec_w3)\n",
    "\n",
    "batchnorm(o, f_batch_ms, vcatted_ws)\n",
    "\n",
    "batchnorm(o, bnmoments(), vcatted_ws)\n",
    "\n",
    "res_conv_0(img)"
   ]
  },
  {
   "cell_type": "code",
   "execution_count": null,
   "metadata": {},
   "outputs": [],
   "source": [
    "w, ms = get_params(model[\"params\"], o[:atype]);"
   ]
  },
  {
   "cell_type": "code",
   "execution_count": null,
   "metadata": {},
   "outputs": [],
   "source": [
    "modular_resnet152 = generate_resnet_from_weights(w, ms)\n",
    "y1 = modular_resnet152(img)"
   ]
  },
  {
   "cell_type": "code",
   "execution_count": null,
   "metadata": {},
   "outputs": [],
   "source": [
    "z1 = vec(Array(y1))\n",
    "s1 = sortperm(z1,rev=true)\n",
    "p1 = exp.(logp(z1))"
   ]
  },
  {
   "cell_type": "code",
   "execution_count": null,
   "metadata": {},
   "outputs": [],
   "source": [
    "using Printf\n",
    "\n",
    "for ind in s1[1:o[:top]]\n",
    "  print(\"$(description[ind]): $(@sprintf(\"%.2f\",p1[ind]*100))%\\n\")\n",
    "end"
   ]
  },
  {
   "cell_type": "code",
   "execution_count": null,
   "metadata": {},
   "outputs": [],
   "source": []
  }
 ],
 "metadata": {
  "kernelspec": {
   "display_name": "Julia 1.5.3",
   "language": "julia",
   "name": "julia-1.5"
  },
  "language_info": {
   "file_extension": ".jl",
   "mimetype": "application/julia",
   "name": "julia",
   "version": "1.5.3"
  }
 },
 "nbformat": 4,
 "nbformat_minor": 4
}

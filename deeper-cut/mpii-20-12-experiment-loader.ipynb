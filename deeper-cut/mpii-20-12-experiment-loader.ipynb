{
 "cells": [
  {
   "cell_type": "code",
   "execution_count": 1,
   "metadata": {},
   "outputs": [],
   "source": [
    "# 20-12-2020 Most Extensive Experiment Analysis"
   ]
  },
  {
   "cell_type": "code",
   "execution_count": 1,
   "metadata": {},
   "outputs": [],
   "source": [
    "# Models used in saved Neural Network\n",
    "using Knet: Knet, AutoGrad, dir, Data, minibatch, Param, @diff, value, params, grad, progress, progress!, KnetArray\n",
    "using IterTools\n",
    "using Base.Iterators\n",
    "using Knet: Ops20.zeroone\n",
    "using Printf, Random, Test, Statistics\n",
    "using Plots; default(fmt=:png)\n",
    "include(\"../utils.jl\")\n",
    "\n",
    "# Define Linear Model\n",
    "struct Linear; w; b; end\n",
    "Linear(i::Int,o::Int) = Linear(param(o, i), param0(o))\n",
    "(m::Linear)(x) = m.w * x .+ m.b\n",
    "(m::Linear)(x, y) = Knet.nll(m(x), y)\n",
    "(m::Linear)(data::Knet.Data) = mean(m(x, y) for (x, y) in data)\n",
    "\n",
    "# MLP Layer - f: can be identity, relu etc,  - pdrop: dropout rate\n",
    "struct MLPLayer; w; b; f; pdrop; end\n",
    "MLPLayer(i::Int,o::Int,f=relu; pdrop=0) = MLPLayer(param(o, i), param0(o), f, pdrop)\n",
    "(l::MLPLayer)(x) = l.f.(l.w * dropout(x, l.pdrop) .+ l.b)\n",
    "\n",
    "# Define convolutional layer:\n",
    "struct Conv2; w; b; f; is_pool_enabled::Bool; end\n",
    "Conv2(w1,w2,nx,ny, f=relu; is_pool_enabled=true) = Conv2(param(w1, w2, nx, ny), param0(1, 1, ny, 1), f, is_pool_enabled)\n",
    "function (c::Conv2)(x) \n",
    "    if c.is_pool_enabled\n",
    "        pool(c.f.(conv4(c.w, x) .+ c.b))\n",
    "    else\n",
    "        c.f.(conv4(c.w, x) .+ c.b)\n",
    "    end\n",
    "end\n",
    "\n",
    "# Define dense layer:\n",
    "struct Dense; w; b; f; p; end\n",
    "Dense(i::Int,o::Int,f=relu;pdrop=0) = Dense(param(o, i), param0(o), f, pdrop)\n",
    "Dense(w, b; f=identity, pdrop=0) = Dense(param(w; atype=Knet.atype()), param(b; atype=Knet.atype()), f, pdrop)\n",
    "(d::Dense)(x) = d.f.(d.w * mat(dropout(x, d.p)) .+ d.b) \n",
    "\n",
    "# Define a chain of layers and a loss function:\n",
    "struct DeeperCutOption\n",
    "    connect_res3_to_res5::Bool\n",
    "end\n",
    "\n",
    "#=\n",
    "struct Chain\n",
    "    layers; lambda1; lambda2; loss; deeperCutOption\n",
    "    Chain(layers...; lambda1=0, lambda2=0, loss=nll, deeperCutOption=nothing) = new(layers, lambda1, lambda2, loss, deeperCutOption)\n",
    "end\n",
    "\n",
    "# The prediction and average loss do not change\n",
    "function (c::Chain)(x)  \n",
    "    connection_from3_to5 = nothing;\n",
    "    for l in c.layers    \n",
    "         x = l(x)\n",
    "        \n",
    "        if c.deeperCutOption.connect_res3_to_res5 \n",
    "            layer_tag = get_object_tag(l)\n",
    "            if layer_tag == 3 \n",
    "                connection_from3_to5 = l.conv3_for_deepercut_output(x)\n",
    "            end\n",
    "        end\n",
    "        \n",
    "        if c.deeperCutOption.connect_res3_to_res5 \n",
    "            layer_tag = get_object_tag(l)\n",
    "            if layer_tag == \"part_detect_deconv\" \n",
    "                x = x .+ connection_from3_to5 \n",
    "            end\n",
    "        end\n",
    "         \n",
    "    end \n",
    "    \n",
    "    x\n",
    "end\n",
    "\n",
    "function (c::Chain)(x, y)\n",
    "    loss = c.loss(c(x), y)\n",
    "    if training() # Only apply regularization during training, only to weights, not biases.\n",
    "        c.lambda1 != 0 && (loss += c.lambda1 * sum(sum(abs, l.w) for l in c.layers))\n",
    "        c.lambda2 != 0 && (loss += c.lambda2 * sum(sum(abs2, l.w) for l in c.layers))\n",
    "    end\n",
    "    return loss\n",
    "end\n",
    "(c::Chain)(d::Data) = mean(c(x, y) for (x, y) in d)\n",
    "=#\n",
    "\n",
    "#=\n",
    "struct Deconv; w; stride; padding; tag::String; end\n",
    "Deconv(w1, w2, nx, ny; stride=1, padding=0, atype=Knet.atype(), tag=\"\") = Deconv(param(w1, w2, nx, ny;atype=atype), stride, padding, tag)\n",
    "\n",
    "(dc::Deconv)(x) = deconv4(dc.w, x; stride=dc.stride, padding=dc.padding)\n",
    "=#\n",
    "\n",
    "# This became redundant now\n",
    "struct ResLayerConv; w; padding; stride; end\n",
    "# Random init\n",
    "ResLayerConv(w1, w2, nx, ny; padding=0, stride=1) = ResLayerConv(param(w1, w2, nx, ny), padding, stride)\n",
    "# Predeterminde weights\n",
    "ResLayerConv(w; padding=0, stride=1) = ResLayerConv(param(w), padding, stride)\n",
    "(rl0::ResLayerConv)(x) = conv4(rl0.w, x; padding=rl0.padding, stride=rl0.stride)\n",
    "\n",
    "struct BatchNormLayer; w; ms; \n",
    "\n",
    "    function BatchNormLayer(pre_w, pre_ms)\n",
    "        res_mean = popfirst!(pre_ms)\n",
    "        # Trick to arrange variance value for new(er) batchnorm\n",
    "        res_variance =   popfirst!(pre_ms).^2  .- 1e-5\n",
    "        ms = bnmoments(mean=res_mean, var=res_variance)\n",
    "    \n",
    "        w1 = pre_w[1]\n",
    "        w2 = pre_w[2]\n",
    "        w1 = vec(w1)\n",
    "        w2 = vec(w2)\n",
    "        w =  vcat(w1, w2)\n",
    "        param_w = param(w, atype=Knet.atype())\n",
    "        return new(param_w, ms)\n",
    "    end\n",
    "\n",
    "end\n",
    "\n",
    "function (batch_norm_layer::BatchNormLayer)(x)\n",
    "    return batchnorm(x, batch_norm_layer.ms, batch_norm_layer.w; eps=1e-5)\n",
    "end \n",
    "\n",
    "# ResNet 50 initial layer\n",
    "struct ResLayerX1_50;\n",
    "    batch_layer;\n",
    "    conv_w;\n",
    "    conv_b;\n",
    "    padding;\n",
    "    stride;\n",
    "    pool_window_size;\n",
    "    pool_stride;\n",
    "    pool_padding;\n",
    "end\n",
    "\n",
    "function ResLayerX1_50(w, ms; padding=3, stride=2, pool_window_size=3, pool_stride=2, pool_padding=1)\n",
    "    bnl = BatchNormLayer(w[3:4], ms)\n",
    "    return ResLayerX1_50(bnl,\n",
    "        param(w[1]; atype=Knet.atype()),\n",
    "        param(w[2]; atype=Knet.atype()),\n",
    "        padding,\n",
    "        stride,\n",
    "        pool_window_size,\n",
    "        pool_stride,\n",
    "    pool_padding)\n",
    "end\n",
    "\n",
    "function (rlx1_50::ResLayerX1_50)(x)\n",
    "    o = conv4(rlx1_50.conv_w, x; padding=rlx1_50.padding, stride=rlx1_50.stride) .+ rlx1_50.conv_b\n",
    "    o = rlx1_50.batch_layer(o)\n",
    "    o = relu.(o)\n",
    "    o = pool(o; window=rlx1_50.pool_window_size, stride=rlx1_50.pool_stride, padding=rlx1_50.pool_padding)\n",
    "    return o\n",
    "end\n",
    "\n",
    "# X0\n",
    "struct ResLayerX0; batch_layer; conv_w; padding; stride; dilation; end\n",
    "# Predetermined weights\n",
    "# TODO: should we try to make bnl params??\n",
    "function ResLayerX0(w, ms; padding=0, stride=1, dilation=1)\n",
    "    bnl = BatchNormLayer(w[2:3], ms)\n",
    "    return   ResLayerX0(\n",
    "        bnl,        \n",
    "        param(w[1]; atype=Knet.atype()), \n",
    "        padding, \n",
    "        stride,\n",
    "        dilation\n",
    "    )\n",
    "end\n",
    "\n",
    "function (rlx0::ResLayerX0)(x) \n",
    "   # batchnorm_as_function(rlx0.batch_w, conv4(rlx0.conv_w, x; padding=rlx0.padding, stride=rlx0.stride), rlx0.ms) \n",
    "    o = conv4(rlx0.conv_w, x; padding=rlx0.padding, stride=rlx0.stride, dilation=rlx0.dilation)\n",
    "    o = rlx0.batch_layer(o)\n",
    "    return o\n",
    "end\n",
    "\n",
    "# X1\n",
    "struct ResLayerX1; x0_layer; is_initial::Bool; end\n",
    "ResLayerX1(w, ms; padding=0, stride=1, is_initial::Bool=false, dilation=1) = ResLayerX1(ResLayerX0(w, ms; padding=padding, stride=stride, dilation=dilation), is_initial)\n",
    "function (rlx1::ResLayerX1)(x)\n",
    "    relu_res = relu.(rlx1.x0_layer(x))\n",
    "    if rlx1.is_initial\n",
    "        return pool(relu_res; window=3, stride=2)\n",
    "    else\n",
    "        return relu_res\n",
    "    end\n",
    "end\n",
    "\n",
    "\n",
    "# X2\n",
    "# TODO: can be constructed like Chain\n",
    "struct ResLayerX2; x1_a_layer; x1_b_layer; x0_c_layer; end\n",
    "ResLayerX2(w, ms; pads=[0, 1, 0], strides=[1, 1, 1], dilations=[1,1,1]) = ResLayerX2(\n",
    "    ResLayerX1(w[1:3], ms; padding=pads[1], stride=strides[1], dilation=dilations[1]),\n",
    "    ResLayerX1(w[4:6], ms; padding=pads[2], stride=strides[2], dilation=dilations[2]),\n",
    "    ResLayerX0(w[7:9], ms; padding=pads[3], stride=strides[3], dilation=dilations[3])\n",
    "    )\n",
    "(rlx2::ResLayerX2)(x) =   rlx2.x0_c_layer(rlx2.x1_b_layer((rlx2.x1_a_layer(x))))\n",
    "\n",
    "\n",
    "# X3\n",
    "struct ResLayerX3; x0_a_layer::ResLayerX0; x2_b_layer::ResLayerX2; end\n",
    "ResLayerX3(w, ms; pads=[0, 0, 1, 0], strides=[2, 2, 1, 1], b_layer_dilations=[1, 1, 1]) = ResLayerX3(\n",
    "    ResLayerX0(w[1:3], ms; padding=pads[1], stride=strides[1]),\n",
    "    ResLayerX2(w[4:12], ms; pads=pads[2:4], strides=strides[2:4], dilations=b_layer_dilations)\n",
    "    )\n",
    "function (rlx3::ResLayerX3)(x)\n",
    "    res_a = rlx3.x0_a_layer(x)\n",
    "    res_b = rlx3.x2_b_layer(x)\n",
    "    return relu.(res_a .+ res_b)\n",
    "end\n",
    "\n",
    "\n",
    "# X4\n",
    "struct ResLayerX4;  x2_layer; end\n",
    "ResLayerX4(w, ms; pads=[ 0, 1, 0], strides=[1, 1, 1], dilations=[1,1,1]) = ResLayerX4(\n",
    "    ResLayerX2(w, ms; pads=pads, strides=strides, dilations=dilations)\n",
    "    )\n",
    "(rlx4::ResLayerX4)(x) =   relu.(x .+ rlx4.x2_layer(x))\n",
    "\n",
    "\n",
    "# X5\n",
    "#=\n",
    "struct ResLayerX5;\n",
    "    x3_layer::ResLayerX3;\n",
    "    x4_layers; \n",
    "    is_next_fc::Bool;\n",
    "    conv3_for_deepercut_output;\n",
    "    tag;\n",
    "end\n",
    "\n",
    "\n",
    "function ResLayerX5(w, ms; \n",
    "        strides=[2, 2, 1, 1],\n",
    "        is_next_fc::Bool=false, \n",
    "        b_layer_dilations=[1, 1, 1],\n",
    "        b_layer_pads=[0, 1, 0],\n",
    "        is_conv3_for_deepercut=false,\n",
    "        tag=nothing\n",
    "    )\n",
    "    x3_layer::ResLayerX3 = ResLayerX3(w[1:12], ms; strides=strides)\n",
    "    x4_layers = []\n",
    "    for k = 13:9:length(w)\n",
    "        layer = ResLayerX4(w[k:k + 8], ms; dilations=b_layer_dilations, pads=b_layer_pads)\n",
    "        push!(x4_layers, layer)\n",
    "    end\n",
    "    \n",
    "    conv3_for_deepercut_output = nothing\n",
    "    if is_conv3_for_deepercut\n",
    "            # 14 layer for part detection\n",
    "        conv3_for_deepercut_output = Conv2(1, 1, 512, global_num_joints, identity; is_pool_enabled=false)\n",
    "    end\n",
    "    \n",
    "    return ResLayerX5(x3_layer, x4_layers, is_next_fc, conv3_for_deepercut_output, tag)\n",
    "    end \n",
    "=#\n",
    "\n",
    "#=\n",
    "function (rlx5::ResLayerX5)(x) \n",
    "    x = rlx5.x3_layer(x)\n",
    "    for l in rlx5.x4_layers\n",
    "        x = l(x)\n",
    "    end\n",
    "\n",
    "    if rlx5.is_next_fc\n",
    "        return pool(x; stride=1, window=7, mode=2)\n",
    "    else\n",
    "        return x\n",
    "    end\n",
    "    end \n",
    "=#\n",
    "\n",
    "# OLD IMPLEMENTATIONS's \n",
    "\n",
    "struct ResLayerX5;\n",
    "    x3_layer::ResLayerX3;\n",
    "    x4_layers; \n",
    "    is_next_fc::Bool;\n",
    "end\n",
    "\n",
    "function (rlx5::ResLayerX5)(x) \n",
    "    x = rlx5.x3_layer(x)\n",
    "    for l in rlx5.x4_layers\n",
    "        x = l(x)\n",
    "    end\n",
    "\n",
    "    if rlx5.is_next_fc\n",
    "        return pool(x; stride=1, window=7, mode=2)\n",
    "    else\n",
    "        return x\n",
    "    end\n",
    "    end \n",
    "\n",
    "function ResLayerX5(w, ms; \n",
    "        strides=[2, 2, 1, 1],\n",
    "        is_next_fc::Bool=false, \n",
    "        b_layer_dilations=[1, 1, 1],\n",
    "        b_layer_pads=[0, 1, 0]\n",
    "    )\n",
    "    x3_layer::ResLayerX3 = ResLayerX3(w[1:12], ms; strides=strides)\n",
    "    x4_layers = []\n",
    "    for k = 13:9:length(w)\n",
    "        layer = ResLayerX4(w[k:k + 8], ms; dilations=b_layer_dilations, pads=b_layer_pads)\n",
    "        push!(x4_layers, layer)\n",
    "    end\n",
    "    return ResLayerX5(x3_layer, x4_layers, is_next_fc)\n",
    "end \n",
    "\n",
    "struct Deconv; w; stride; padding; end\n",
    "Deconv(w1, w2, nx, ny; stride=1, padding=0, atype=Knet.atype()) = Deconv(param(w1, w2, nx, ny;atype=atype), stride, padding)\n",
    "(dc::Deconv)(x) = deconv4(dc.w, x; stride=dc.stride, padding=dc.padding)\n",
    "\n",
    "struct Chain\n",
    "    layers; lambda1; lambda2; loss;\n",
    "    Chain(layers...; lambda1=0, lambda2=0, loss=nll) = new(layers, lambda1, lambda2, loss)\n",
    "end\n",
    "\n",
    "# The prediction and average loss do not change\n",
    "function (c::Chain)(x)  \n",
    "    for l in c.layers    \n",
    "         x = l(x)     \n",
    "    end \n",
    "    x\n",
    "end\n",
    "\n",
    "function (c::Chain)(x, y)\n",
    "    loss = c.loss(c(x), y)\n",
    "    if training() # Only apply regularization during training, only to weights, not biases.\n",
    "        c.lambda1 != 0 && (loss += c.lambda1 * sum(sum(abs, l.w) for l in c.layers))\n",
    "        c.lambda2 != 0 && (loss += c.lambda2 * sum(sum(abs2, l.w) for l in c.layers))\n",
    "    end\n",
    "    return loss\n",
    "end\n",
    "(c::Chain)(d::Data) = mean(c(x, y) for (x, y) in d)"
   ]
  },
  {
   "cell_type": "code",
   "execution_count": 2,
   "metadata": {},
   "outputs": [
    {
     "name": "stderr",
     "output_type": "stream",
     "text": [
      "┌ Info: Precompiling Images [916415d5-f1e6-5110-898d-aaa5f9f070e0]\n",
      "└ @ Base loading.jl:1278\n"
     ]
    },
    {
     "data": {
      "text/plain": [
       "compute_scmap_weights (generic function with 1 method)"
      ]
     },
     "execution_count": 2,
     "metadata": {},
     "output_type": "execute_result"
    }
   ],
   "source": [
    "include(\"../training.jl\")\n",
    "include(\"../plots.jl\")\n",
    "include(\"../helper.jl\")\n",
    "include(\"accuracy.jl\")\n",
    "include(\"loss.jl\")\n",
    "include(\"mpii.annotation.parser.jl\")"
   ]
  },
  {
   "cell_type": "code",
   "execution_count": 4,
   "metadata": {},
   "outputs": [],
   "source": [
    "loaded_batches = Knet.load(\"20-12-2020-24kimage-batches.jld2\", \"24k-image-batches\")\n",
    "dtrn, dval = loaded_batches\n",
    "dtrn_x1, dtrn_y1 = first(dtrn)\n",
    "dval_x1, dval_y1 = first(dval)\n",
    "resnet_with_deconv = Knet.load(\n",
    "    \"20-+5ep-12-2020-24kimage-resnet-50.jld2\", \"resnet_with_deconv\"\n",
    ");"
   ]
  },
  {
   "cell_type": "code",
   "execution_count": 5,
   "metadata": {},
   "outputs": [],
   "source": [
    "wrong_scs_gt = []\n",
    "wrong_scs_pred = []\n",
    "wrong_scs_pred_initial = []\n",
    "wrong_scs_cache= [wrong_scs_gt, wrong_scs_pred, wrong_scs_pred_initial];"
   ]
  },
  {
   "cell_type": "code",
   "execution_count": 6,
   "metadata": {},
   "outputs": [
    {
     "data": {
      "text/plain": [
       "0.38374255952380953"
      ]
     },
     "execution_count": 6,
     "metadata": {},
     "output_type": "execute_result"
    }
   ],
   "source": [
    "modelized_naive_pck_sigm_with_wrong_cache(resnet_with_deconv, dval, wrong_scs_cache)"
   ]
  },
  {
   "cell_type": "code",
   "execution_count": 155,
   "metadata": {},
   "outputs": [
    {
     "data": {
      "text/plain": [
       "0.3845815307437407"
      ]
     },
     "execution_count": 155,
     "metadata": {},
     "output_type": "execute_result"
    }
   ],
   "source": [
    "modelized_naive_pck_sigm(resnet_with_deconv, dtrn)"
   ]
  },
  {
   "cell_type": "code",
   "execution_count": 7,
   "metadata": {},
   "outputs": [],
   "source": [
    "wrong_scs_gt;"
   ]
  },
  {
   "cell_type": "code",
   "execution_count": 8,
   "metadata": {},
   "outputs": [
    {
     "data": {
      "text/plain": [
       "136"
      ]
     },
     "execution_count": 8,
     "metadata": {},
     "output_type": "execute_result"
    }
   ],
   "source": [
    "wrong_idx = 136"
   ]
  },
  {
   "cell_type": "code",
   "execution_count": 9,
   "metadata": {},
   "outputs": [],
   "source": [
    "# 43008 Total number of Joints\n",
    "test_y = wrong_scs_gt[ wrong_idx ];\n",
    "test_y_pred = wrong_scs_pred[wrong_idx];\n",
    "test_y_pred_initial = wrong_scs_pred_initial[wrong_idx];"
   ]
  },
  {
   "cell_type": "code",
   "execution_count": 10,
   "metadata": {},
   "outputs": [],
   "source": [
    "#findall(x -> x[12, 12] == 1  , wrong_scs_gt )"
   ]
  },
  {
   "cell_type": "code",
   "execution_count": 11,
   "metadata": {},
   "outputs": [
    {
     "name": "stdout",
     "output_type": "stream",
     "text": [
      "CartesianIndex(17, 14)\n"
     ]
    },
    {
     "data": {
      "text/plain": [
       "0.3297193f0"
      ]
     },
     "execution_count": 11,
     "metadata": {},
     "output_type": "execute_result"
    }
   ],
   "source": [
    "maxi = argmax(test_y_pred_initial)\n",
    "println(maxi)\n",
    "test_y_pred_initial[maxi]"
   ]
  },
  {
   "cell_type": "code",
   "execution_count": 12,
   "metadata": {},
   "outputs": [
    {
     "data": {
      "text/plain": [
       "14-element Array{CartesianIndex{2},1}:\n",
       " CartesianIndex(22, 23)\n",
       " CartesianIndex(23, 23)\n",
       " CartesianIndex(21, 24)\n",
       " CartesianIndex(22, 24)\n",
       " CartesianIndex(23, 24)\n",
       " CartesianIndex(24, 24)\n",
       " CartesianIndex(21, 25)\n",
       " CartesianIndex(22, 25)\n",
       " CartesianIndex(23, 25)\n",
       " CartesianIndex(24, 25)\n",
       " CartesianIndex(21, 26)\n",
       " CartesianIndex(22, 26)\n",
       " CartesianIndex(23, 26)\n",
       " CartesianIndex(24, 26)"
      ]
     },
     "execution_count": 12,
     "metadata": {},
     "output_type": "execute_result"
    }
   ],
   "source": [
    "findall(x->x==1, test_y)"
   ]
  },
  {
   "cell_type": "code",
   "execution_count": 13,
   "metadata": {},
   "outputs": [
    {
     "data": {
      "text/plain": [
       "CartesianIndex(22, 23)"
      ]
     },
     "execution_count": 13,
     "metadata": {},
     "output_type": "execute_result"
    }
   ],
   "source": [
    "max_gt = argmax(test_y)"
   ]
  },
  {
   "cell_type": "code",
   "execution_count": 14,
   "metadata": {},
   "outputs": [
    {
     "data": {
      "text/plain": [
       "1.0f0"
      ]
     },
     "execution_count": 14,
     "metadata": {},
     "output_type": "execute_result"
    }
   ],
   "source": [
    "test_y[max_gt]"
   ]
  },
  {
   "cell_type": "code",
   "execution_count": 15,
   "metadata": {},
   "outputs": [
    {
     "data": {
      "text/html": [
       "<table><tbody><tr><td style='text-align:center;vertical-align:middle; margin: 0.5em;border:1px #90999f solid;border-collapse:collapse'><img style='max-width: 100px; max-height:100px;display:inline' src=\"data:image/png;base64,iVBORw0KGgoAAAANSUhEUgAAAIAAAACAAQAAAADrRVxmAAAABGdBTUEAALGPC/xhBQAAACBjSFJNAAB6JgAAgIQAAPoAAACA6AAAdTAAAOpgAAA6mAAAF3CculE8AAAAAmJLR0QAAd2KE6QAAAAkSURBVEjHY2AYBaNgFIyCUUBtwP+fcoH/g0SAGn4ZBaMAHQAAZgAYYQ5LRT0AAAAASUVORK5C\"></td><td style='text-align:center;vertical-align:middle; margin: 0.5em;border:1px #90999f solid;border-collapse:collapse'><img style='max-width: 100px; max-height:100px;display:inline' src=\"data:image/png;base64,iVBORw0KGgoAAAANSUhEUgAAAIAAAACACAAAAADmVT4XAAAABGdBTUEAALGPC/xhBQAAACBjSFJNAAB6JgAAgIQAAPoAAACA6AAAdTAAAOpgAAA6mAAAF3CculE8AAAAAmJLR0QA/4ePzL8AAAG5SURBVHja7ZjLTsJAFIa/SkUjWANIQ6I7V65c+x6+qE/h2qU7E3UhykUxgoqXxRliIx2FJqZN+b/NdGY68Oef0zMXEEIIIYQQQgghhBCrTpCsxEAb6LqOMTD6ZwFreTsgAWGy0sXmfROoO3WKgdILCH821JyqF+B1FRyQgCCtcQ+YAhPgoewOSEDg6+i4cgIMy+yABIS+jjHwCTwCDWBQVgckwBsDdVduA+/uOQaqwIZrfwIqwAXpcRJj+8zfYih3ByTAGwM3QAvbF85eOgZOgRPgDNh370VYbCTpuLFHwD2WU4ZFdEACvDHQxuYNYAv7js9d/Rk4xHLAALjG1owkE/fjV8AuFiuFdEACvDFwBzSx+4HZxnHsyikWDwdAP2VsC+i5/grfOeGyiA5IgPdc0ATe8N8Rzdb6HebPj03gA8sVPWz++8znikI4IAFBlkFtLE/8RYzljAhbM9LuGnJ3QALCLIMWmf8mdnbYwXJApagOSMDSeSAt9/touD+oYXvDQjogAUvngWXujqvAOhYLI3Q2LKiATGvBoty6MsJ/35y7AxKQaU+4KBHpZ4FCOSABQgghhBBCCPEFN1dKBiIo97IAAAAASUVORK5C\"></td><td style='text-align:center;vertical-align:middle; margin: 0.5em;border:1px #90999f solid;border-collapse:collapse'><img style='max-width: 100px; max-height:100px;display:inline' src=\"data:image/png;base64,iVBORw0KGgoAAAANSUhEUgAAAIAAAACACAAAAADmVT4XAAAABGdBTUEAALGPC/xhBQAAACBjSFJNAAB6JgAAgIQAAPoAAACA6AAAdTAAAOpgAAA6mAAAF3CculE8AAAAAmJLR0QA/4ePzL8AAAPMSURBVHja7ZrNbhNBDMd/k49taAtVBUgcuCEOfQQegXfmzrnPgODAR4MobdM0m+VgO+vMbtRUKtoReKTN7M5H8o/tsf/jWYgSJUqUKP97SQlo7MF3uPamb+KO9oeW0dASCACpr3EErF3nY+i6WAkEgOT1XAE13fUfNvBPA0ibD63NBzwBrtj2CY9tC/Z7g5YAkLz+Z4qoBpaI7uHv+YGwgSIATPxDQvTvkeW8IOeQD7GPPn4xuAQCwMYGxsAR8BL4iujrRq/aTdil/33swcZ4Ijq4BALAxPRWA5eIzmfAsaK7QezD7MDrel+ukLLayrgECQSAjR9Ieh0pqluEE0y1tjGG2vReAXd07SHXe18Ooi5BAgEg5TcV8AJYAQvEFkD0vM4mjhDdrun6AW8DCbGlGln7K22rSpBAANiyAfPNY+BE2xeI/m/0uaH1AzbPdFsjjmWV9Xu/0Lg50xIkEAA2saBhm/vdaNsKOEDW+lrHVHpva7qm9RF+X2G+vqLlmAdIbBnrnMElEAA6e0PzB8euvQauEd9QIXp8CvzWsZ+07VKfjScc6pgDJKYkrRu9ghMWAWCSN9h6/4nsD5Y6aAy8Az4A74GPwGvgs/b72D5FbGgJvAW+Izq/pfUPifADhQDo2EDSxkNanncI/ALOtf8aOEPsYo7o2M4ZzP8v9Hs+IRzzG13+GHnCIgD0+oEaOSuYIfq6pI3nIBzgHHgDXNDyAjtzOtSxz7XvFeITviD80nii8ctBSwDYStsY358ierxDdNvo/UzrKZJHuEKM6FLnGxd4htjSGfAD0f+FjrNYYD8+uAQCQOp7mNCuVcv9NIju74BThOtZLgnafcFIL7OTFWITc50TsaA4AL18wPZ9NsD8NwjHnyM+YUEb4/3+f0q7dzihjRf2j/0edHAJBIBOntDfj12b7eVM9wmxDYvr+b9KiA1Y/nmO+IwV4QcKA7CVI4Lu+yTG8219r/ZAXiH2UumcU4QLLGljSzESCACdWGDr2tY57nmB6LShu/69DS1p801rhA8ss++3sYNLIACkXY0+Z2jnARb37UzA8kmwzR8r7T9Gcgkz2jNozy3CBooAkO7r9OfFa0T/xun6/EHKrkbnLNnmjRC54kIApPs6/Pr3ccLGrLO674t9XLB/bXuPwSUQACa7OvJ3B63NczrT8/qeef6s2PYFxjEHl0AAuNcP5HuDXe+N+T7/TpFdeV6gIfhAIQDSPgOanoHGFft8RcpqW//52HiPqAgAk13v/1kxPmC16XOK5Hy8f4dtXuB9ieWN7Lw4+EAxAP4APJIQwZDBz4sAAAAASUVORK5C\"></td></tr></tbody></table><div><small>(a vector displayed as a row to save space)</small></div>"
      ],
      "text/plain": [
       "3-element Array{Base.ReinterpretArray{Gray{Float32},2,Float32,Array{Float32,2}},1}:\n",
       " [Gray{Float32}(0.0f0) Gray{Float32}(0.0f0) … Gray{Float32}(0.0f0) Gray{Float32}(0.0f0); Gray{Float32}(0.0f0) Gray{Float32}(0.0f0) … Gray{Float32}(0.0f0) Gray{Float32}(0.0f0); … ; Gray{Float32}(0.0f0) Gray{Float32}(0.0f0) … Gray{Float32}(0.0f0) Gray{Float32}(0.0f0); Gray{Float32}(0.0f0) Gray{Float32}(0.0f0) … Gray{Float32}(0.0f0) Gray{Float32}(0.0f0)]\n",
       " [Gray{Float32}(0.0f0) Gray{Float32}(0.0f0) … Gray{Float32}(0.0f0) Gray{Float32}(0.0f0); Gray{Float32}(0.0f0) Gray{Float32}(0.0f0) … Gray{Float32}(0.0f0) Gray{Float32}(0.0f0); … ; Gray{Float32}(0.0f0) Gray{Float32}(0.0f0) … Gray{Float32}(0.0f0) Gray{Float32}(0.0f0); Gray{Float32}(0.0f0) Gray{Float32}(0.0f0) … Gray{Float32}(0.0f0) Gray{Float32}(0.0f0)]\n",
       " [Gray{Float32}(0.0012965332f0) Gray{Float32}(0.0001365832f0) … Gray{Float32}(3.7709644f-5) Gray{Float32}(0.0013955894f0); Gray{Float32}(0.00014070293f0) Gray{Float32}(2.4336417f-5) … Gray{Float32}(1.6410947f-6) Gray{Float32}(0.0006843811f0); … ; Gray{Float32}(0.00018359664f0) Gray{Float32}(8.0420126f-5) … Gray{Float32}(0.003608456f0) Gray{Float32}(0.027541958f0); Gray{Float32}(0.0034857164f0) Gray{Float32}(0.0009817211f0) … Gray{Float32}(0.009454256f0) Gray{Float32}(0.04034046f0)]"
      ]
     },
     "execution_count": 15,
     "metadata": {},
     "output_type": "execute_result"
    }
   ],
   "source": [
    "to_be_shown = [colorview(Gray, test_y),\n",
    "colorview(Gray, test_y_pred),\n",
    "colorview(Gray, test_y_pred_initial)]"
   ]
  },
  {
   "cell_type": "code",
   "execution_count": 16,
   "metadata": {},
   "outputs": [],
   "source": [
    "# TODO: Let's find out the PCKh value for the model\n",
    "# But first we need to figure out matching training data items "
   ]
  },
  {
   "cell_type": "code",
   "execution_count": 17,
   "metadata": {},
   "outputs": [
    {
     "data": {
      "text/plain": [
       "Dict{String,Any} with 5 entries:\n",
       "  \"image\"     => [\"/userfiles/gsoykan20/mpii_human_pose/cropped/im00005_1.png\",…\n",
       "  \"annorect\"  => Any[Dict{String,Any}(\"objpos\"=>Dict{String,Any}(\"x\"=>158.241,\"…\n",
       "  \"size\"      => [[3.0 391.0 295.0], [3.0 446.0 368.0], [3.0 252.0 170.0], [3.0…\n",
       "  \"joints\"    => Array{Any,2}[[Int32[0 175 261; 1 173 178; … ; 12 187 126; 13 2…\n",
       "  \"is_single\" => Any[true, true, true, true, true, true, true, true, true, true…"
      ]
     },
     "execution_count": 17,
     "metadata": {},
     "output_type": "execute_result"
    }
   ],
   "source": [
    "whole_dataset = read_cropped_mpii_annotations(\n",
    "    ;should_shuffle=false)"
   ]
  },
  {
   "cell_type": "code",
   "execution_count": 18,
   "metadata": {
    "collapsed": true,
    "jupyter": {
     "outputs_hidden": true
    }
   },
   "outputs": [
    {
     "data": {
      "text/plain": [
       "28883-element Array{DataItem,1}:\n",
       " DataItem(1, \"/userfiles/gsoykan20/mpii_human_pose/cropped/im00005_1.png\", [3.0 391.0 295.0], Int32[0 175 261; 1 173 178; … ; 12 187 126; 13 226 72], true, Dict{String,Any}(\"objpos\" => Dict{String,Any}(\"x\" => 158.2412583682625,\"y\" => 170.13973636471962),\"x1\" => 180.0879949442771,\"y1\" => 66.20223204852904,\"annopoints\" => Dict{String,Any}(\"point\" => Dict{String,Any}(\"x\" => Any[168.83361549602716 193.3284413539829 … 223.78146809630624 220.4713564938798],\"id\" => Any[6.0 7.0 … 14.0 15.0],\"is_visible\" => Any[false true … true true],\"y\" => Any[123.79817393074931 116.51592840541112 … 158.8853569164697 207.2129863118959])),\"x2\" => 232.38775826261502,\"y2\" => 131.0804194560875,\"scale\" => 3.021046176409755))\n",
       " DataItem(2, \"/userfiles/gsoykan20/mpii_human_pose/cropped/im00005_2.png\", [3.0 446.0 368.0], Int32[0 142 227; 1 154 216; … ; 12 156 144; 13 90 138], true, Dict{String,Any}(\"objpos\" => Dict{String,Any}(\"x\" => 188.19023916373374,\"y\" => 169.60318602347573),\"x1\" => 98.38864615199589,\"y1\" => 107.3083872675855,\"annopoints\" => Dict{String,Any}(\"point\" => Dict{String,Any}(\"x\" => Any[210.0338698963186 150.9751645822928 … 237.5406641521663 190.6173092451321],\"id\" => Any[6.0 7.0 … 14.0 15.0],\"is_visible\" => Any[false false … true true],\"y\" => Any[168.79416266300962 143.71443848856032 … 154.2317421746197 202.7731438025861])),\"x2\" => 147.73907114042845,\"y2\" => 174.45732618627238,\"scale\" => 2.472116502109073))\n",
       " DataItem(3, \"/userfiles/gsoykan20/mpii_human_pose/cropped/im00006_3.png\", [3.0 252.0 170.0], Int32[2 80 187; 3 26 187; … ; 12 43 76; 13 31 11], true, Dict{String,Any}(\"objpos\" => Dict{String,Any}(\"x\" => 46.437234070464626,\"y\" => 109.98292279846886),\"x1\" => 9.427107668440188,\"y1\" => 12.569476891253583,\"annopoints\" => Dict{String,Any}(\"point\" => Dict{String,Any}(\"id\" => Any[2.0 3.0 … 13.0 14.0],\"x\" => Any[79.60668697793936 25.837258054243478 … 9.077955532572032 9.077955532572032],\"is_visible\" => Any[\"1\" \"1\" … \"1\" \"1\"],\"y\" => Any[187.49469696119928 187.14554482533114 … 87.63718610290692 147.6913534722296])),\"x2\" => 64.94229727147685,\"y2\" => 74.71855707578518,\"scale\" => 5.72816200888208))\n",
       " DataItem(4, \"/userfiles/gsoykan20/mpii_human_pose/cropped/im00009_1.png\", [3.0 313.0 388.0], Int32[0 250 169; 1 206 167; … ; 12 193 95; 13 174 31], true, Dict{String,Any}(\"objpos\" => Dict{String,Any}(\"x\" => 206.31110066891006,\"y\" => 89.84860447534405),\"x1\" => 158.49693103583223,\"y1\" => 29.424104389586358,\"annopoints\" => Dict{String,Any}(\"point\" => Dict{String,Any}(\"x\" => Any[209.98911371760835 185.81931368330527 … 257.8032833506861 239.938648542723],\"id\" => Any[6.0 7.0 … 14.0 15.0],\"is_visible\" => Any[true true … false false],\"y\" => Any[124.52701322021369 70.93310879632425 … 85.64516099111744 117.1709871228171])),\"x2\" => 208.41282241102334,\"y2\" => 96.15376970168398,\"scale\" => 3.806403026480511))\n",
       " DataItem(5, \"/userfiles/gsoykan20/mpii_human_pose/cropped/im00011_1.png\", [3.0 174.0 310.0], Int32[0 222 110; 1 159 125; … ; 12 192 76; 13 144 29], true, Dict{String,Any}(\"objpos\" => Dict{String,Any}(\"x\" => 223.164970252773,\"y\" => 107.4766361065844),\"x1\" => 143.70471569307352,\"y1\" => 19.080121915550937,\"annopoints\" => Dict{String,Any}(\"point\" => Dict{String,Any}(\"x\" => Any[204.32636886779866 178.24215156552648 … 268.5708300011727 244.41877694351328],\"id\" => Any[6.0 7.0 … 14.0 15.0],\"is_visible\" => Any[true true … true true],\"y\" => Any[84.77370623238454 62.55381741933788 … 92.74388374141215 118.10353945195455])),\"x2\" => 192.73338340012214,\"y2\" => 86.46434994642071,\"scale\" => 8.280869519561335))\n",
       " DataItem(6, \"/userfiles/gsoykan20/mpii_human_pose/cropped/im00017_1.png\", [3.0 506.0 304.0], Int32[0 164 428; 1 161 307; … ; 12 179 166; 13 202 103], true, Dict{String,Any}(\"objpos\" => Dict{String,Any}(\"x\" => 216.23061496765786,\"y\" => 268.7936011143122),\"x1\" => 166.68826495835327,\"y1\" => 100.13879257199866,\"annopoints\" => Dict{String,Any}(\"point\" => Dict{String,Any}(\"x\" => Any[163.52598729818487 174.06691283207948 … 233.0960958218892 241.52883624900488],\"id\" => Any[6.0 7.0 … 14.0 15.0],\"is_visible\" => Any[true true … true true],\"y\" => Any[279.3345266482068 179.19573407620814 … 232.95445429907056 188.68256705671325])),\"x2\" => 214.12242986087898,\"y2\" => 168.65480854231353,\"scale\" => 1.897366596101028))\n",
       " DataItem(7, \"/userfiles/gsoykan20/mpii_human_pose/cropped/im00017_2.png\", [3.0 467.0 296.0], Int32[0 54 395; 1 54 287; … ; 12 112 168; 13 109 101], true, Dict{String,Any}(\"objpos\" => Dict{String,Any}(\"x\" => 116.46270095629927,\"y\" => 259.31766880617016),\"x1\" => 85.38342978851853,\"y1\" => 101.00763129528725,\"annopoints\" => Dict{String,Any}(\"point\" => Dict{String,Any}(\"x\" => Any[113.5490192843198 111.60656483633352 … 165.99528937994967 132.00233654018962],\"id\" => Any[6.0 7.0 … 14.0 15.0],\"is_visible\" => Any[true true … true true],\"y\" => Any[257.3752143581839 169.96476419880068 … 228.23839763838947 184.53317255869788])),\"x2\" => 134.91601821216898,\"y2\" => 168.02230975081437,\"scale\" => 2.059250349034813))\n",
       " DataItem(8, \"/userfiles/gsoykan20/mpii_human_pose/cropped/im00018_1.png\", [3.0 545.0 323.0], Int32[0 172 468; 1 173 339; … ; 12 187 184; 13 206 120], true, Dict{String,Any}(\"objpos\" => Dict{String,Any}(\"x\" => 170.71682316481804,\"y\" => 249.73956043120242),\"x1\" => 170.71682316481804,\"y1\" => 119.19388111489206,\"annopoints\" => Dict{String,Any}(\"point\" => Dict{String,Any}(\"x\" => Any[177.52790208566898 183.20380118637814 … 251.3145903948879 256.99048949559705],\"id\" => Any[6.0 7.0 … 14.0 15.0],\"is_visible\" => Any[true true … true true],\"y\" => Any[312.17445053900303 195.25092906439463 … 267.9024375534717 189.57502996368547])),\"x2\" => 221.79991507120036,\"y2\" => 185.03431068311815,\"scale\" => 1.7618354066143638))\n",
       " DataItem(9, \"/userfiles/gsoykan20/mpii_human_pose/cropped/im00018_2.png\", [3.0 459.0 286.0], Int32[0 52 388; 1 47 292; … ; 12 99 165; 13 91 99], true, Dict{String,Any}(\"objpos\" => Dict{String,Any}(\"x\" => 72.21094803770035,\"y\" => 221.40468926802902),\"x1\" => 68.39362580894124,\"y1\" => 100.20470850492693,\"annopoints\" => Dict{String,Any}(\"point\" => Dict{String,Any}(\"x\" => Any[102.74952586777334 99.88653419620397 … 156.19203707040106 123.74479812594848],\"id\" => Any[6.0 7.0 … 14.0 15.0],\"is_visible\" => Any[true true … true true],\"y\" => Any[259.57791155562023 169.8708391797809 … 219.49602815364946 171.77950029416044])),\"x2\" => 121.8361370115689,\"y2\" => 164.14485583664222,\"scale\" => 2.095709903588758))\n",
       " DataItem(10, \"/userfiles/gsoykan20/mpii_human_pose/cropped/im00020_1.png\", [3.0 436.0 382.0], Int32[1 166 429; 2 167 314; … ; 12 189 178; 13 193 111], true, Dict{String,Any}(\"objpos\" => Dict{String,Any}(\"x\" => 179.74050002042202,\"y\" => 271.31458704463984),\"x1\" => 167.03680698154255,\"y1\" => 110.70361076737812,\"annopoints\" => Dict{String,Any}(\"point\" => Dict{String,Any}(\"x\" => Any[194.25900635056996 187.90715983113023 … 252.3330316711618 249.61081173425902],\"id\" => Any[6.0 7.0 … 14.0 15.0],\"is_visible\" => Any[true true … true true],\"y\" => Any[313.9626993894494 196.90724210263159 … 280.3886535009823 263.1479272339316])),\"x2\" => 215.12935920015764,\"y2\" => 178.75910918994663,\"scale\" => 2.2040834829924205))\n",
       " DataItem(11, \"/userfiles/gsoykan20/mpii_human_pose/cropped/im00021_1.png\", [3.0 232.0 309.0], Int32[6 131 83; 7 167 115; … ; 12 210 134; 13 185 72], true, Dict{String,Any}(\"objpos\" => Dict{String,Any}(\"x\" => 170.98708856302508,\"y\" => 142.40503707147678),\"x1\" => 172.91800431992644,\"y1\" => 69.03023830922433,\"annopoints\" => Dict{String,Any}(\"point\" => Dict{String,Any}(\"x\" => Any[218.29452460710888 209.65102158580947 … 208.639945822602 227.46637445239043],\"id\" => Any[7.0 8.0 … 12.0 13.0],\"is_visible\" => Any[false Array{Float64}(undef,0,0) … false true],\"y\" => Any[155.4387184305611 133.7802639330193 … 139.02593449689937 171.36877342499747])),\"x2\" => 221.6736271816863,\"y2\" => 136.61228980077263,\"scale\" => 4.143111873942098))\n",
       " DataItem(12, \"/userfiles/gsoykan20/mpii_human_pose/cropped/im00022_1.png\", [3.0 217.0 300.0], Int32[2 50 174; 3 94 160; … ; 12 86 102; 13 148 76], true, Dict{String,Any}(\"objpos\" => Dict{String,Any}(\"x\" => 82.5979147000118,\"y\" => 147.59299511969323),\"x1\" => 90.2709450273353,\"y1\" => 57.32205009235792,\"annopoints\" => Dict{String,Any}(\"point\" => Dict{String,Any}(\"x\" => Any[71.76540129673157 85.30604305083186 … 143.9821573185998 169.7093766513904],\"id\" => Any[6.0 7.0 … 14.0 15.0],\"is_visible\" => Any[true true … true true],\"y\" => Any[167.00124830057032 102.90887733116224 … 55.516631191811214 17.602834280330384])),\"x2\" => 143.53080259346314,\"y2\" => 121.41442106176598,\"scale\" => 4.4311046026922))\n",
       " DataItem(13, \"/userfiles/gsoykan20/mpii_human_pose/cropped/im00023_1.png\", [3.0 298.0 329.0], Int32[2 129 205; 3 98 194; … ; 12 134 54; 13 183 9], true, Dict{String,Any}(\"objpos\" => Dict{String,Any}(\"x\" => 151.1364764035905,\"y\" => 117.688239822468),\"x1\" => 130.69588738179343,\"y1\" => 0.6194117885393053,\"annopoints\" => Dict{String,Any}(\"point\" => Dict{String,Any}(\"x\" => Any[113.97176909123218 122.64353413078246 … 112.11353372561426 122.02412234224315],\"id\" => Any[6.0 7.0 … 14.0 15.0],\"is_visible\" => Any[false false … false false],\"y\" => Any[199.45059590965633 65.03823779662706 … 139.98706420988302 225.46589102830714])),\"x2\" => 186.4429483503309,\"y2\" => 62.56059064246984,\"scale\" => 3.2288697712976906))\n",
       " ⋮\n",
       " DataItem(28872, \"/userfiles/gsoykan20/mpii_human_pose/cropped/im24872_2.png\", [3.0 540.0 273.0], Int32[0 166 384; 1 86 313; … ; 12 136 125; 13 104 66], false, Dict{String,Any}(\"objpos\" => Dict{String,Any}(\"x\" => 126.35261303265645,\"y\" => 218.41174938798247),\"x1\" => 95.42368034435344,\"y1\" => 61.94773696480229,\"annopoints\" => Dict{String,Any}(\"point\" => Dict{String,Any}(\"x\" => Any[191.8491763725924 144.54610284930538 … 166.37829062928404 115.43651914266718],\"id\" => Any[6.0 7.0 … 14.0 15.0],\"is_visible\" => Any[false true … true false],\"y\" => Any[252.97938003961525 140.17974317639238 … 229.32784327797174 211.13435346132292])),\"x2\" => 144.54610284930538,\"y2\" => 129.26364928640305,\"scale\" => 1.0992943190974833))\n",
       " DataItem(28873, \"/userfiles/gsoykan20/mpii_human_pose/cropped/im24873_1.png\", [3.0 555.0 287.0], Int32[0 110 490; 1 104 392; … ; 12 139 133; 13 138 66], false, Dict{String,Any}(\"objpos\" => Dict{String,Any}(\"x\" => 149.6703660748384,\"y\" => 237.4446124426168),\"x1\" => 117.09724897561563,\"y1\" => 63.72132124676176,\"annopoints\" => Dict{String,Any}(\"point\" => Dict{String,Any}(\"x\" => Any[132.02659431275947 138.8126603750975 … 221.6026663356222 199.88725493614027],\"id\" => Any[6.0 7.0 … 14.0 15.0],\"is_visible\" => Any[true true … true true],\"y\" => Any[278.16100881664534 135.6536215075455 … 157.36903290702736 232.01575959274635])),\"x2\" => 159.1708585621118,\"y2\" => 135.6536215075455,\"scale\" => 1.47360781756884))\n",
       " DataItem(28874, \"/userfiles/gsoykan20/mpii_human_pose/cropped/im24873_2.png\", [3.0 512.0 278.0], Int32[0 74 394; 1 69 286; … ; 12 122 125; 13 91 66], false, Dict{String,Any}(\"objpos\" => Dict{String,Any}(\"x\" => 127.498959308905,\"y\" => 200.7779170990822),\"x1\" => 81.04093839383455,\"y1\" => 62.90250018984098,\"annopoints\" => Dict{String,Any}(\"point\" => Dict{String,Any}(\"x\" => Any[142.48541766860512 123.00302180099493 … 185.94614691173547 143.98406350457515],\"id\" => Any[6.0 7.0 … 14.0 15.0],\"is_visible\" => Any[false false … true true],\"y\" => Any[229.25218798251245 127.34427113655155 … 167.8077087077419 202.27656293505223])),\"x2\" => 131.99489681681507,\"y2\" => 128.84291697252158,\"scale\" => 1.3345381223479529))\n",
       " DataItem(28875, \"/userfiles/gsoykan20/mpii_human_pose/cropped/im24893_4.png\", [3.0 391.0 341.0], Int32[0 66 317; 1 110 257; … ; 12 234 118; 13 276 66], false, Dict{String,Any}(\"objpos\" => Dict{String,Any}(\"x\" => 168.5517448169985,\"y\" => 209.80984310323436),\"x1\" => 227.3756263800642,\"y1\" => 61.0200250319503,\"annopoints\" => Dict{String,Any}(\"point\" => Dict{String,Any}(\"x\" => Any[172.0119731442378 236.0261971981622 … 251.59722467073834 229.10574054368408],\"id\" => Any[6.0 7.0 … 14.0 15.0],\"is_visible\" => Any[true true … false false],\"y\" => Any[208.07972893961482 116.38367826777693 … 194.2388156306581 244.41212637562603])),\"x2\" => 282.73927961589106,\"y2\" => 123.30413492225523,\"scale\" => 1.1559930795640603))\n",
       " DataItem(28876, \"/userfiles/gsoykan20/mpii_human_pose/cropped/im24893_5.png\", [3.0 448.0 324.0], Int32[0 66 358; 1 106 292; … ; 12 240 127; 13 266 66], false, Dict{String,Any}(\"objpos\" => Dict{String,Any}(\"x\" => 186.78106930202148,\"y\" => 250.05447854896818),\"x1\" => 226.97956185359362,\"y1\" => 63.6796494462244,\"annopoints\" => Dict{String,Any}(\"point\" => Dict{String,Any}(\"x\" => Any[163.02741461245614 232.46117447426286 … 237.94278709493165 203.22590716402829],\"id\" => Any[6.0 7.0 … 14.0 15.0],\"is_visible\" => Any[true true … true true],\"y\" => Any[242.74566172140953 144.0766345493688 … 233.60964068696137 288.4257668936507])),\"x2\" => 278.1412796465038,\"y2\" => 129.45900089425163,\"scale\" => 1.0945684080951723))\n",
       " DataItem(28877, \"/userfiles/gsoykan20/mpii_human_pose/cropped/im24902_1.png\", [3.0 441.0 364.0], Int32[0 207 402; 1 202 345; … ; 12 211 133; 13 205 66], false, Dict{String,Any}(\"objpos\" => Dict{String,Any}(\"x\" => 218.94265692908436,\"y\" => 258.04637582399135),\"x1\" => 178.72362043302417,\"y1\" => 70.04576336566322,\"annopoints\" => Dict{String,Any}(\"point\" => Dict{String,Any}(\"x\" => Any[226.42526837021182 212.3953719180978 … 294.7040977705002 299.3807299212049],\"id\" => Any[6.0 7.0 … 14.0 15.0],\"is_visible\" => Any[true true … false false],\"y\" => Any[287.04149515836036 146.74253063722 … 235.59854150060886 297.3300858899106])),\"x2\" => 237.64918553190307,\"y2\" => 128.97132846454218,\"scale\" => 2.1382909063081197))\n",
       " DataItem(28878, \"/userfiles/gsoykan20/mpii_human_pose/cropped/im24902_2.png\", [3.0 428.0 257.0], Int32[0 131 363; 1 171 277; … ; 12 126 121; 13 163 66], false, Dict{String,Any}(\"objpos\" => Dict{String,Any}(\"x\" => 140.16807749042943,\"y\" => 216.57579586850613),\"x1\" => 116.65005578083952,\"y1\" => 62.40209799452765,\"annopoints\" => Dict{String,Any}(\"point\" => Dict{String,Any}(\"x\" => Any[79.1954286137148 114.90798009864767 … 119.26316930412725 159.33090999453975],\"id\" => Any[6.0 7.0 … 14.0 15.0],\"is_visible\" => Any[true false … false false],\"y\" => Any[241.8358932602879 137.31135232877705 … 160.829374038367 170.4107902904222])),\"x2\" => 171.52543976988272,\"y2\" => 125.11682255343413,\"scale\" => 2.296111495550684))\n",
       " DataItem(28879, \"/userfiles/gsoykan20/mpii_human_pose/cropped/im24902_3.png\", [3.0 253.0 239.0], Int32[6 94 172; 7 140 184; … ; 12 144 132; 13 147 66], false, Dict{String,Any}(\"objpos\" => Dict{String,Any}(\"x\" => 120.85567230452841,\"y\" => 173.33707010537222),\"x1\" => 116.60421554056643,\"y1\" => 68.87270390516201,\"annopoints\" => Dict{String,Any}(\"point\" => Dict{String,Any}(\"x\" => Any[142.72030709061892 143.91654555380455 … 81.98521046258975 66.19408533930215],\"id\" => Any[7.0 8.0 … 14.0 15.0],\"is_visible\" => Any[false Array{Float64}(undef,0,0) … true true],\"y\" => Any[158.15329594836493 132.2344719921602 … 232.25011383456052 196.41640682402334])),\"x2\" => 174.30255733719412,\"y2\" => 129.0004495669109,\"scale\" => 3.2929889158635204))\n",
       " DataItem(28880, \"/userfiles/gsoykan20/mpii_human_pose/cropped/im24985_1.png\", [3.0 505.0 289.0], Int32[0 224 440; 1 199 351; … ; 12 137 131; 13 122 66], false, Dict{String,Any}(\"objpos\" => Dict{String,Any}(\"x\" => 170.67903913200144,\"y\" => 201.61587921047362),\"x1\" => 98.40267948752847,\"y1\" => 70.50992450654601,\"annopoints\" => Dict{String,Any}(\"point\" => Dict{String,Any}(\"x\" => Any[177.40242142451052 140.42381881571043 … 84.9559149025103 66.46661359811026],\"id\" => Any[6.0 7.0 … 14.0 15.0],\"is_visible\" => Any[true true … false false],\"y\" => Any[230.1902539536373 142.78628415101895 … 186.48826905232812 178.08404118669176])),\"x2\" => 160.5939656932377,\"y2\" => 125.97782841974617,\"scale\" => 1.1898773045990918))\n",
       " DataItem(28881, \"/userfiles/gsoykan20/mpii_human_pose/cropped/im24985_2.png\", [3.0 544.0 438.0], Int32[0 373 479; 1 290 386; … ; 12 149 118; 13 108 66], false, Dict{String,Any}(\"objpos\" => Dict{String,Any}(\"x\" => 183.85955394297696,\"y\" => 239.53135390237372),\"x1\" => 97.27750393282611,\"y1\" => 64.14720131770923,\"annopoints\" => Dict{String,Any}(\"point\" => Dict{String,Any}(\"x\" => Any[226.0405526658709 168.31918599243704 … 99.49755649718895 66.19676803174639],\"id\" => Any[6.0 7.0 … 14.0 15.0],\"is_visible\" => Any[true false … false false],\"y\" => Any[250.6316167241879 141.8490410704087 … 188.47014492202834 190.69019748639118])),\"x2\" => 159.43897573498566,\"y2\" => 119.64851542678025,\"scale\" => 0.9008795701979261))\n",
       " DataItem(28882, \"/userfiles/gsoykan20/mpii_human_pose/cropped/im24985_3.png\", [3.0 503.0 371.0], Int32[0 270 390; 1 184 320; … ; 12 131 132; 13 120 66], false, Dict{String,Any}(\"objpos\" => Dict{String,Any}(\"x\" => 173.6597124360752,\"y\" => 210.62828483814093),\"x1\" => 95.79378712684229,\"y1\" => 69.62782549439481,\"annopoints\" => Dict{String,Any}(\"point\" => Dict{String,Any}(\"x\" => Any[219.9583707280516 133.6745075475502 … 102.10724053029367 66.33100457740284],\"id\" => Any[6.0 7.0 … 14.0 15.0],\"is_visible\" => Any[true false … false false],\"y\" => Any[246.4045207910317 147.49375080362773 … 206.4193159025067 191.68792462778697])),\"x2\" => 154.7193522257213,\"y2\" => 128.55339059327378,\"scale\" => 0.9503515139147198))\n",
       " DataItem(28883, \"/userfiles/gsoykan20/mpii_human_pose/cropped/im24985_4.png\", [3.0 437.0 329.0], Int32[1 264 372; 2 258 233; … ; 12 159 130; 13 140 66], false, Dict{String,Any}(\"objpos\" => Dict{String,Any}(\"x\" => 153.9156508363808,\"y\" => 214.99904600286197),\"x1\" => 114.1657303361423,\"y1\" => 75.87432425202724,\"annopoints\" => Dict{String,Any}(\"point\" => Dict{String,Any}(\"x\" => Any[226.79050508681803 160.54063758642053 … 65.58249416918414 65.58249416918414],\"id\" => Any[6.0 7.0 … 14.0 15.0],\"is_visible\" => Any[true false … true false],\"y\" => Any[234.87400625298125 133.29087608570507 … 184.08244116934316 181.87411225266322])),\"x2\" => 184.8322556698996,\"y2\" => 120.04090258562559,\"scale\" => 0.905662188677434))"
      ]
     },
     "execution_count": 18,
     "metadata": {},
     "output_type": "execute_result"
    }
   ],
   "source": [
    "whole_data_items = get_from_dataset(whole_dataset,\n",
    "    1,\n",
    "    whole_dataset_count)"
   ]
  },
  {
   "cell_type": "code",
   "execution_count": 19,
   "metadata": {
    "collapsed": true,
    "jupyter": {
     "outputs_hidden": true
    }
   },
   "outputs": [
    {
     "data": {
      "text/plain": [
       "28883-element Array{DataItem,1}:\n",
       " DataItem(1, \"/userfiles/gsoykan20/mpii_human_pose/cropped/im00005_1.png\", [3.0 256.0 256.0], Int32[1 152 171; 2 150 117; … ; 13 162 82; 14 196 47], true, Dict{String,Any}(\"objpos\" => Dict{String,Any}(\"x\" => 158.2412583682625,\"y\" => 170.13973636471962),\"x1\" => 156.27974968914174,\"y1\" => 43.34468354556219,\"annopoints\" => Dict{String,Any}(\"point\" => Dict{String,Any}(\"x\" => Any[168.83361549602716 193.3284413539829 … 223.78146809630624 220.4713564938798],\"id\" => Any[6.0 7.0 … 14.0 15.0],\"is_visible\" => Any[false true … true true],\"y\" => Any[123.79817393074931 116.51592840541112 … 158.8853569164697 207.2129863118959])),\"x2\" => 201.6653064705375,\"y2\" => 85.82247342021313,\"scale\" => 3.021046176409755))\n",
       " DataItem(2, \"/userfiles/gsoykan20/mpii_human_pose/cropped/im00005_2.png\", [3.0 256.0 256.0], Int32[1 99 130; 2 107 124; … ; 13 109 83; 14 63 79], true, Dict{String,Any}(\"objpos\" => Dict{String,Any}(\"x\" => 188.19023916373374,\"y\" => 169.60318602347573),\"x1\" => 68.44427685887112,\"y1\" => 61.594054982185654,\"annopoints\" => Dict{String,Any}(\"point\" => Dict{String,Any}(\"x\" => Any[210.0338698963186 150.9751645822928 … 237.5406641521663 190.6173092451321],\"id\" => Any[6.0 7.0 … 14.0 15.0],\"is_visible\" => Any[false false … true true],\"y\" => Any[168.79416266300962 143.71443848856032 … 154.2317421746197 202.7731438025861])),\"x2\" => 102.7750079250665,\"y2\" => 100.13694562725244,\"scale\" => 2.472116502109073))\n",
       " DataItem(3, \"/userfiles/gsoykan20/mpii_human_pose/cropped/im00006_3.png\", [3.0 256.0 256.0], Int32[3 120 190; 4 39 190; … ; 13 65 77; 14 47 11], true, Dict{String,Any}(\"objpos\" => Dict{String,Any}(\"x\" => 46.437234070464626,\"y\" => 109.98292279846886),\"x1\" => 14.19611535482493,\"y1\" => 12.768993134771112,\"annopoints\" => Dict{String,Any}(\"point\" => Dict{String,Any}(\"id\" => Any[2.0 3.0 … 13.0 14.0],\"x\" => Any[79.60668697793936 25.837258054243478 … 9.077955532572032 9.077955532572032],\"is_visible\" => Any[\"1\" \"1\" … \"1\" \"1\"],\"y\" => Any[187.49469696119928 187.14554482533114 … 87.63718610290692 147.6913534722296])),\"x2\" => 97.79546133323839,\"y2\" => 75.90457030113939,\"scale\" => 5.72816200888208))\n",
       " DataItem(4, \"/userfiles/gsoykan20/mpii_human_pose/cropped/im00009_1.png\", [3.0 256.0 256.0], Int32[1 165 138; 2 136 137; … ; 13 127 78; 14 115 25], true, Dict{String,Any}(\"objpos\" => Dict{String,Any}(\"x\" => 206.31110066891006,\"y\" => 89.84860447534405),\"x1\" => 104.57529149007428,\"y1\" => 24.06572073624376,\"annopoints\" => Dict{String,Any}(\"point\" => Dict{String,Any}(\"x\" => Any[209.98911371760835 185.81931368330527 … 257.8032833506861 239.938648542723],\"id\" => Any[6.0 7.0 … 14.0 15.0],\"is_visible\" => Any[true true … false false],\"y\" => Any[124.52701322021369 70.93310879632425 … 85.64516099111744 117.1709871228171])),\"x2\" => 137.5094868491465,\"y2\" => 78.64333740593943,\"scale\" => 3.806403026480511))\n",
       " DataItem(5, \"/userfiles/gsoykan20/mpii_human_pose/cropped/im00011_1.png\", [3.0 256.0 256.0], Int32[1 183 162; 2 131 184; … ; 13 159 112; 14 119 43], true, Dict{String,Any}(\"objpos\" => Dict{String,Any}(\"x\" => 223.164970252773,\"y\" => 107.4766361065844),\"x1\" => 118.67227952292225,\"y1\" => 28.07190340336102,\"annopoints\" => Dict{String,Any}(\"point\" => Dict{String,Any}(\"x\" => Any[204.32636886779866 178.24215156552648 … 268.5708300011727 244.41877694351328],\"id\" => Any[6.0 7.0 … 14.0 15.0],\"is_visible\" => Any[true true … true true],\"y\" => Any[84.77370623238454 62.55381741933788 … 92.74388374141215 118.10353945195455])),\"x2\" => 159.16046900721338,\"y2\" => 127.21191668864869,\"scale\" => 8.280869519561335))\n",
       " DataItem(6, \"/userfiles/gsoykan20/mpii_human_pose/cropped/im00017_1.png\", [3.0 256.0 256.0], Int32[1 138 217; 2 136 155; … ; 13 151 84; 14 170 52], true, Dict{String,Any}(\"objpos\" => Dict{String,Any}(\"x\" => 216.23061496765786,\"y\" => 268.7936011143122),\"x1\" => 140.369066273918,\"y1\" => 50.663106571253856,\"annopoints\" => Dict{String,Any}(\"point\" => Dict{String,Any}(\"x\" => Any[163.52598729818487 174.06691283207948 … 233.0960958218892 241.52883624900488],\"id\" => Any[6.0 7.0 … 14.0 15.0],\"is_visible\" => Any[true true … true true],\"y\" => Any[279.3345266482068 179.19573407620814 … 232.95445429907056 188.68256705671325])),\"x2\" => 180.31362648944454,\"y2\" => 85.32733738316438,\"scale\" => 1.897366596101028))\n",
       " DataItem(7, \"/userfiles/gsoykan20/mpii_human_pose/cropped/im00017_2.png\", [3.0 256.0 256.0], Int32[1 47 217; 2 47 157; … ; 13 97 92; 14 94 55], true, Dict{String,Any}(\"objpos\" => Dict{String,Any}(\"x\" => 116.46270095629927,\"y\" => 259.31766880617016),\"x1\" => 73.84513025386026,\"y1\" => 55.37034967564516,\"annopoints\" => Dict{String,Any}(\"point\" => Dict{String,Any}(\"x\" => Any[113.5490192843198 111.60656483633352 … 165.99528937994967 132.00233654018962],\"id\" => Any[6.0 7.0 … 14.0 15.0],\"is_visible\" => Any[true true … true true],\"y\" => Any[257.3752143581839 169.96476419880068 … 228.23839763838947 184.53317255869788])),\"x2\" => 116.68412668460769,\"y2\" => 92.10644705660205,\"scale\" => 2.059250349034813))\n",
       " DataItem(8, \"/userfiles/gsoykan20/mpii_human_pose/cropped/im00018_1.png\", [3.0 256.0 256.0], Int32[1 136 220; 2 137 159; … ; 13 148 86; 14 163 56], true, Dict{String,Any}(\"objpos\" => Dict{String,Any}(\"x\" => 170.71682316481804,\"y\" => 249.73956043120242),\"x1\" => 135.30497061650632,\"y1\" => 55.98831891186362,\"annopoints\" => Dict{String,Any}(\"point\" => Dict{String,Any}(\"x\" => Any[177.52790208566898 183.20380118637814 … 251.3145903948879 256.99048949559705],\"id\" => Any[6.0 7.0 … 14.0 15.0],\"is_visible\" => Any[true true … true true],\"y\" => Any[312.17445053900303 195.25092906439463 … 267.9024375534717 189.57502996368547])),\"x2\" => 175.791878240838,\"y2\" => 86.91519983460734,\"scale\" => 1.7618354066143638))\n",
       " DataItem(9, \"/userfiles/gsoykan20/mpii_human_pose/cropped/im00018_2.png\", [3.0 256.0 256.0], Int32[1 47 216; 2 42 163; … ; 13 89 92; 14 81 55], true, Dict{String,Any}(\"objpos\" => Dict{String,Any}(\"x\" => 72.21094803770035,\"y\" => 221.40468926802902),\"x1\" => 61.21946857137491,\"y1\" => 55.887592074241155,\"annopoints\" => Dict{String,Any}(\"point\" => Dict{String,Any}(\"x\" => Any[102.74952586777334 99.88653419620397 … 156.19203707040106 123.74479812594848],\"id\" => Any[6.0 7.0 … 14.0 15.0],\"is_visible\" => Any[true true … true true],\"y\" => Any[259.57791155562023 169.8708391797809 … 219.49602815364946 171.77950029416044])),\"x2\" => 109.05612142092886,\"y2\" => 91.54919844542361,\"scale\" => 2.095709903588758))\n",
       " DataItem(10, \"/userfiles/gsoykan20/mpii_human_pose/cropped/im00020_1.png\", [3.0 256.0 256.0], Int32[2 111 252; 3 112 184; … ; 13 127 105; 14 129 65], true, Dict{String,Any}(\"objpos\" => Dict{String,Any}(\"x\" => 179.74050002042202,\"y\" => 271.31458704463984),\"x1\" => 111.94089797211088,\"y1\" => 65.00028243654613,\"annopoints\" => Dict{String,Any}(\"point\" => Dict{String,Any}(\"x\" => Any[194.25900635056996 187.90715983113023 … 252.3330316711618 249.61081173425902],\"id\" => Any[6.0 7.0 … 14.0 15.0],\"is_visible\" => Any[true true … true true],\"y\" => Any[313.9626993894494 196.90724210263159 … 280.3886535009823 263.1479272339316])),\"x2\" => 144.1704620927737,\"y2\" => 104.959472459013,\"scale\" => 2.2040834829924205))\n",
       " DataItem(11, \"/userfiles/gsoykan20/mpii_human_pose/cropped/im00021_1.png\", [3.0 256.0 256.0], Int32[7 109 92; 8 138 127; … ; 13 174 148; 14 153 79], true, Dict{String,Any}(\"objpos\" => Dict{String,Any}(\"x\" => 170.98708856302508,\"y\" => 142.40503707147678),\"x1\" => 143.25893391508603,\"y1\" => 76.17129716090113,\"annopoints\" => Dict{String,Any}(\"point\" => Dict{String,Any}(\"x\" => Any[218.29452460710888 209.65102158580947 … 208.639945822602 227.46637445239043],\"id\" => Any[7.0 8.0 … 12.0 13.0],\"is_visible\" => Any[false Array{Float64}(undef,0,0) … false true],\"y\" => Any[155.4387184305611 133.7802639330193 … 139.02593449689937 171.36877342499747])),\"x2\" => 183.65194319721334,\"y2\" => 150.74459508066448,\"scale\" => 4.143111873942098))\n",
       " DataItem(12, \"/userfiles/gsoykan20/mpii_human_pose/cropped/im00022_1.png\", [3.0 256.0 256.0], Int32[3 43 205; 4 80 189; … ; 13 73 120; 14 126 90], true, Dict{String,Any}(\"objpos\" => Dict{String,Any}(\"x\" => 82.5979147000118,\"y\" => 147.59299511969323),\"x1\" => 77.03120828858957,\"y1\" => 67.62416963123034,\"annopoints\" => Dict{String,Any}(\"point\" => Dict{String,Any}(\"x\" => Any[71.76540129673157 85.30604305083186 … 143.9821573185998 169.7093766513904],\"id\" => Any[6.0 7.0 … 14.0 15.0],\"is_visible\" => Any[true true … true true],\"y\" => Any[167.00124830057032 102.90887733116224 … 55.516631191811214 17.602834280330384])),\"x2\" => 122.47962117885741,\"y2\" => 143.2354459118186,\"scale\" => 4.4311046026922))\n",
       " DataItem(13, \"/userfiles/gsoykan20/mpii_human_pose/cropped/im00023_1.png\", [3.0 256.0 256.0], Int32[3 100 176; 4 76 167; … ; 13 104 46; 14 142 8], true, Dict{String,Any}(\"objpos\" => Dict{String,Any}(\"x\" => 151.1364764035905,\"y\" => 117.688239822468),\"x1\" => 101.696497187913,\"y1\" => 0.5321121429679817,\"annopoints\" => Dict{String,Any}(\"point\" => Dict{String,Any}(\"x\" => Any[113.97176909123218 122.64353413078246 … 112.11353372561426 122.02412234224315],\"id\" => Any[6.0 7.0 … 14.0 15.0],\"is_visible\" => Any[false false … false false],\"y\" => Any[199.45059590965633 65.03823779662706 … 139.98706420988302 225.46589102830714])),\"x2\" => 145.07415001688062,\"y2\" => 53.74332643976616,\"scale\" => 3.2288697712976906))\n",
       " ⋮\n",
       " DataItem(28872, \"/userfiles/gsoykan20/mpii_human_pose/cropped/im24872_2.png\", [3.0 256.0 256.0], Int32[1 156 182; 2 81 148; … ; 13 128 59; 14 98 31], false, Dict{String,Any}(\"objpos\" => Dict{String,Any}(\"x\" => 126.35261303265645,\"y\" => 218.41174938798247),\"x1\" => 89.48154675767505,\"y1\" => 29.367815522905644,\"annopoints\" => Dict{String,Any}(\"point\" => Dict{String,Any}(\"x\" => Any[191.8491763725924 144.54610284930538 … 166.37829062928404 115.43651914266718],\"id\" => Any[6.0 7.0 … 14.0 15.0],\"is_visible\" => Any[false true … true false],\"y\" => Any[252.97938003961525 140.17974317639238 … 229.32784327797174 211.13435346132292])),\"x2\" => 135.54506401424067,\"y2\" => 61.28054376252023,\"scale\" => 1.0992943190974833))\n",
       " DataItem(28873, \"/userfiles/gsoykan20/mpii_human_pose/cropped/im24873_1.png\", [3.0 256.0 256.0], Int32[1 98 226; 2 93 181; … ; 13 124 61; 14 123 30], false, Dict{String,Any}(\"objpos\" => Dict{String,Any}(\"x\" => 149.6703660748384,\"y\" => 237.4446124426168),\"x1\" => 104.44911516319476,\"y1\" => 29.392177719228883,\"annopoints\" => Dict{String,Any}(\"point\" => Dict{String,Any}(\"x\" => Any[132.02659431275947 138.8126603750975 … 221.6026663356222 199.88725493614027],\"id\" => Any[6.0 7.0 … 14.0 15.0],\"is_visible\" => Any[true true … true true],\"y\" => Any[278.16100881664534 135.6536215075455 … 157.36903290702736 232.01575959274635])),\"x2\" => 141.97818891578441,\"y2\" => 62.57176206636501,\"scale\" => 1.47360781756884))\n",
       " DataItem(28874, \"/userfiles/gsoykan20/mpii_human_pose/cropped/im24873_2.png\", [3.0 256.0 256.0], Int32[1 68 197; 2 64 143; … ; 13 112 62; 14 84 33], false, Dict{String,Any}(\"objpos\" => Dict{String,Any}(\"x\" => 127.498959308905,\"y\" => 200.7779170990822),\"x1\" => 74.62762842518866,\"y1\" => 31.45125009492049,\"annopoints\" => Dict{String,Any}(\"point\" => Dict{String,Any}(\"x\" => Any[142.48541766860512 123.00302180099493 … 185.94614691173547 143.98406350457515],\"id\" => Any[6.0 7.0 … 14.0 15.0],\"is_visible\" => Any[false false … true true],\"y\" => Any[229.25218798251245 127.34427113655155 … 167.8077087077419 202.27656293505223])),\"x2\" => 121.54926027381487,\"y2\" => 64.42145848626079,\"scale\" => 1.3345381223479529))\n",
       " DataItem(28875, \"/userfiles/gsoykan20/mpii_human_pose/cropped/im24893_4.png\", [3.0 256.0 256.0], Int32[1 50 208; 2 83 168; … ; 13 176 77; 14 207 43], false, Dict{String,Any}(\"objpos\" => Dict{String,Any}(\"x\" => 168.5517448169985,\"y\" => 209.80984310323436),\"x1\" => 170.69841729937204,\"y1\" => 39.95172961862298,\"annopoints\" => Dict{String,Any}(\"point\" => Dict{String,Any}(\"x\" => Any[172.0119731442378 236.0261971981622 … 251.59722467073834 229.10574054368408],\"id\" => Any[6.0 7.0 … 14.0 15.0],\"is_visible\" => Any[true true … false false],\"y\" => Any[208.07972893961482 116.38367826777693 … 194.2388156306581 244.41212637562603])),\"x2\" => 212.26174637612263,\"y2\" => 80.73109535259557,\"scale\" => 1.1559930795640603))\n",
       " DataItem(28876, \"/userfiles/gsoykan20/mpii_human_pose/cropped/im24893_5.png\", [3.0 256.0 256.0], Int32[1 52 205; 2 84 167; … ; 13 190 73; 14 210 38], false, Dict{String,Any}(\"objpos\" => Dict{String,Any}(\"x\" => 186.78106930202148,\"y\" => 250.05447854896818),\"x1\" => 179.34187736867014,\"y1\" => 36.38837273881518,\"annopoints\" => Dict{String,Any}(\"point\" => Dict{String,Any}(\"x\" => Any[163.02741461245614 232.46117447426286 … 237.94278709493165 203.22590716402829],\"id\" => Any[6.0 7.0 … 14.0 15.0],\"is_visible\" => Any[true true … true true],\"y\" => Any[242.74566172140953 144.0766345493688 … 233.60964068696137 288.4257668936507])),\"x2\" => 219.7659509877079,\"y2\" => 73.97657524658283,\"scale\" => 1.0945684080951723))\n",
       " DataItem(28877, \"/userfiles/gsoykan20/mpii_human_pose/cropped/im24902_1.png\", [3.0 256.0 256.0], Int32[1 146 233; 2 142 200; … ; 13 148 77; 14 144 38], false, Dict{String,Any}(\"objpos\" => Dict{String,Any}(\"x\" => 218.94265692908436,\"y\" => 258.04637582399135),\"x1\" => 125.69573621250561,\"y1\" => 40.66148677536939,\"annopoints\" => Dict{String,Any}(\"point\" => Dict{String,Any}(\"x\" => Any[226.42526837021182 212.3953719180978 … 294.7040977705002 299.3807299212049],\"id\" => Any[6.0 7.0 … 14.0 15.0],\"is_visible\" => Any[true true … false false],\"y\" => Any[287.04149515836036 146.74253063722 … 235.59854150060886 297.3300858899106])),\"x2\" => 167.13789292853482,\"y2\" => 74.86771097612908,\"scale\" => 2.1382909063081197))\n",
       " DataItem(28878, \"/userfiles/gsoykan20/mpii_human_pose/cropped/im24902_2.png\", [3.0 256.0 256.0], Int32[1 130 217; 2 170 166; … ; 13 126 72; 14 162 39], false, Dict{String,Any}(\"objpos\" => Dict{String,Any}(\"x\" => 140.16807749042943,\"y\" => 216.57579586850613),\"x1\" => 116.19616448615577,\"y1\" => 37.32461817932994,\"annopoints\" => Dict{String,Any}(\"point\" => Dict{String,Any}(\"x\" => Any[79.1954286137148 114.90798009864767 … 119.26316930412725 159.33090999453975],\"id\" => Any[6.0 7.0 … 14.0 15.0],\"is_visible\" => Any[true false … false false],\"y\" => Any[241.8358932602879 137.31135232877705 … 160.829374038367 170.4107902904222])),\"x2\" => 170.858025567573,\"y2\" => 74.83622794264762,\"scale\" => 2.296111495550684))\n",
       " DataItem(28879, \"/userfiles/gsoykan20/mpii_human_pose/cropped/im24902_3.png\", [3.0 256.0 256.0], Int32[7 101 174; 8 150 186; … ; 13 154 134; 14 157 67], false, Dict{String,Any}(\"objpos\" => Dict{String,Any}(\"x\" => 120.85567230452841,\"y\" => 173.33707010537222),\"x1\" => 124.89823604128951,\"y1\" => 69.68937907432553,\"annopoints\" => Dict{String,Any}(\"point\" => Dict{String,Any}(\"x\" => Any[142.72030709061892 143.91654555380455 … 81.98521046258975 66.19408533930215],\"id\" => Any[7.0 8.0 … 14.0 15.0],\"is_visible\" => Any[false Array{Float64}(undef,0,0) … true true],\"y\" => Any[158.15329594836493 132.2344719921602 … 232.25011383456052 196.41640682402334])),\"x2\" => 186.700642407971,\"y2\" => 130.53010439384056,\"scale\" => 3.2929889158635204))\n",
       " DataItem(28880, \"/userfiles/gsoykan20/mpii_human_pose/cropped/im24985_1.png\", [3.0 256.0 256.0], Int32[1 198 223; 2 176 178; … ; 13 121 66; 14 108 33], false, Dict{String,Any}(\"objpos\" => Dict{String,Any}(\"x\" => 170.67903913200144,\"y\" => 201.61587921047362),\"x1\" => 87.166390105941,\"y1\" => 35.743646013544804,\"annopoints\" => Dict{String,Any}(\"point\" => Dict{String,Any}(\"x\" => Any[177.40242142451052 140.42381881571043 … 84.9559149025103 66.46661359811026],\"id\" => Any[6.0 7.0 … 14.0 15.0],\"is_visible\" => Any[true true … false false],\"y\" => Any[230.1902539536373 142.78628415101895 … 186.48826905232812 178.08404118669176])),\"x2\" => 142.25625089864567,\"y2\" => 63.862029864639126,\"scale\" => 1.1898773045990918))\n",
       " DataItem(28881, \"/userfiles/gsoykan20/mpii_human_pose/cropped/im24985_2.png\", [3.0 256.0 256.0], Int32[1 218 225; 2 169 182; … ; 13 87 56; 14 63 31], false, Dict{String,Any}(\"objpos\" => Dict{String,Any}(\"x\" => 183.85955394297696,\"y\" => 239.53135390237372),\"x1\" => 56.85625565005816,\"y1\" => 30.18691837961232,\"annopoints\" => Dict{String,Any}(\"point\" => Dict{String,Any}(\"x\" => Any[226.0405526658709 168.31918599243704 … 99.49755649718895 66.19676803174639],\"id\" => Any[6.0 7.0 … 14.0 15.0],\"is_visible\" => Any[true false … false false],\"y\" => Any[250.6316167241879 141.8490410704087 … 188.47014492202834 190.69019748639118])),\"x2\" => 93.18807327983632,\"y2\" => 56.305183940002685,\"scale\" => 0.9008795701979261))\n",
       " DataItem(28882, \"/userfiles/gsoykan20/mpii_human_pose/cropped/im24985_3.png\", [3.0 256.0 256.0], Int32[1 186 198; 2 127 163; … ; 13 90 67; 14 83 34], false, Dict{String,Any}(\"objpos\" => Dict{String,Any}(\"x\" => 173.6597124360752,\"y\" => 210.62828483814093),\"x1\" => 66.10029369823432,\"y1\" => 35.436824131288525,\"annopoints\" => Dict{String,Any}(\"point\" => Dict{String,Any}(\"x\" => Any[219.9583707280516 133.6745075475502 … 102.10724053029367 66.33100457740284],\"id\" => Any[6.0 7.0 … 14.0 15.0],\"is_visible\" => Any[true false … false false],\"y\" => Any[246.4045207910317 147.49375080362773 … 206.4193159025067 191.68792462778697])),\"x2\" => 106.76052100726527,\"y2\" => 65.42677243742752,\"scale\" => 0.9503515139147198))\n",
       " DataItem(28883, \"/userfiles/gsoykan20/mpii_human_pose/cropped/im24985_4.png\", [3.0 256.0 256.0], Int32[2 205 218; 3 201 136; … ; 13 124 76; 14 109 39], false, Dict{String,Any}(\"objpos\" => Dict{String,Any}(\"x\" => 153.9156508363808,\"y\" => 214.99904600286197),\"x1\" => 88.83412559240861,\"y1\" => 44.44811469591852,\"annopoints\" => Dict{String,Any}(\"point\" => Dict{String,Any}(\"x\" => Any[226.79050508681803 160.54063758642053 … 65.58249416918414 65.58249416918414],\"id\" => Any[6.0 7.0 … 14.0 15.0],\"is_visible\" => Any[true false … true false],\"y\" => Any[234.87400625298125 133.29087608570507 … 184.08244116934316 181.87411225266322])),\"x2\" => 143.82084505887863,\"y2\" => 70.32144086851501,\"scale\" => 0.905662188677434))"
      ]
     },
     "execution_count": 19,
     "metadata": {},
     "output_type": "execute_result"
    }
   ],
   "source": [
    "whole_data_items = map(d_i -> DataItem(d_i, read_image_h, read_image_w), whole_data_items)"
   ]
  },
  {
   "cell_type": "code",
   "execution_count": 21,
   "metadata": {},
   "outputs": [
    {
     "data": {
      "text/plain": [
       "load_and_arrange_images (generic function with 1 method)"
      ]
     },
     "execution_count": 21,
     "metadata": {},
     "output_type": "execute_result"
    }
   ],
   "source": [
    "function load_and_arrange_images(paths)\n",
    "    loaded_images = load.(paths)\n",
    "    println(\"loaded all\")\n",
    "    resized_images = map(\n",
    "        img -> imresize(img, read_image_w, read_image_h),\n",
    "        loaded_images)\n",
    "    println(\"resized all\")\n",
    "    arranged_img_data = arrange_img_data.(resized_images)\n",
    "    return arranged_img_data\n",
    "end "
   ]
  },
  {
   "cell_type": "code",
   "execution_count": 22,
   "metadata": {},
   "outputs": [],
   "source": [
    "whole_data_items;"
   ]
  },
  {
   "cell_type": "code",
   "execution_count": 23,
   "metadata": {},
   "outputs": [
    {
     "data": {
      "text/plain": [
       "Any[]"
      ]
     },
     "execution_count": 23,
     "metadata": {},
     "output_type": "execute_result"
    }
   ],
   "source": [
    "whole_arranged_image_data = []"
   ]
  },
  {
   "cell_type": "code",
   "execution_count": null,
   "metadata": {},
   "outputs": [],
   "source": [
    "# Could not read all images (28883) so instead read a subset "
   ]
  },
  {
   "cell_type": "code",
   "execution_count": 24,
   "metadata": {
    "collapsed": true,
    "jupyter": {
     "outputs_hidden": true
    }
   },
   "outputs": [
    {
     "name": "stdout",
     "output_type": "stream",
     "text": [
      "loaded all\n",
      "resized all\n",
      "1\n",
      "loaded all\n",
      "resized all\n",
      "101\n",
      "loaded all\n",
      "resized all\n",
      "201\n",
      "loaded all\n",
      "resized all\n",
      "301\n",
      "loaded all\n",
      "resized all\n",
      "401\n",
      "loaded all\n",
      "resized all\n",
      "501\n",
      "loaded all\n",
      "resized all\n",
      "601\n",
      "loaded all\n",
      "resized all\n",
      "701\n",
      "loaded all\n",
      "resized all\n",
      "801\n",
      "loaded all\n",
      "resized all\n",
      "901\n",
      "loaded all\n",
      "resized all\n",
      "1001\n",
      "loaded all\n",
      "resized all\n",
      "1101\n",
      "loaded all\n",
      "resized all\n",
      "1201\n",
      "loaded all\n",
      "resized all\n",
      "1301\n",
      "loaded all\n",
      "resized all\n",
      "1401\n",
      "loaded all\n",
      "resized all\n",
      "1501\n",
      "loaded all\n",
      "resized all\n",
      "1601\n",
      "loaded all\n",
      "resized all\n",
      "1701\n",
      "loaded all\n",
      "resized all\n",
      "1801\n",
      "loaded all\n",
      "resized all\n",
      "1901\n",
      "loaded all\n",
      "resized all\n",
      "2001\n",
      "loaded all\n",
      "resized all\n",
      "2101\n",
      "loaded all\n",
      "resized all\n",
      "2201\n",
      "loaded all\n",
      "resized all\n",
      "2301\n",
      "loaded all\n",
      "resized all\n",
      "2401\n",
      "loaded all\n",
      "resized all\n",
      "2501\n",
      "loaded all\n",
      "resized all\n",
      "2601\n",
      "loaded all\n",
      "resized all\n",
      "2701\n",
      "loaded all\n",
      "resized all\n",
      "2801\n",
      "loaded all\n",
      "resized all\n",
      "2901\n",
      "loaded all\n",
      "resized all\n",
      "3001\n",
      "loaded all\n",
      "resized all\n",
      "3101\n",
      "loaded all\n",
      "resized all\n",
      "3201\n",
      "loaded all\n",
      "resized all\n",
      "3301\n",
      "loaded all\n",
      "resized all\n",
      "3401\n",
      "loaded all\n",
      "resized all\n",
      "3501\n",
      "loaded all\n",
      "resized all\n",
      "3601\n",
      "loaded all\n",
      "resized all\n",
      "3701\n",
      "loaded all\n",
      "resized all\n",
      "3801\n",
      "loaded all\n",
      "resized all\n",
      "3901\n",
      "loaded all\n",
      "resized all\n",
      "4001\n",
      "loaded all\n",
      "resized all\n",
      "4101\n",
      "loaded all\n",
      "resized all\n",
      "4201\n",
      "loaded all\n",
      "resized all\n",
      "4301\n",
      "loaded all\n",
      "resized all\n",
      "4401\n",
      "loaded all\n",
      "resized all\n",
      "4501\n",
      "loaded all\n",
      "resized all\n",
      "4601\n",
      "loaded all\n",
      "resized all\n",
      "4701\n",
      "loaded all\n",
      "resized all\n",
      "4801\n",
      "loaded all\n",
      "resized all\n",
      "4901\n"
     ]
    }
   ],
   "source": [
    "for i in 1:100:5000;\n",
    "    if i == 28801\n",
    "        current_data_items = whole_data_items[i: end];\n",
    "    else\n",
    "        current_data_items = whole_data_items[i: i + 99];\n",
    "    end\n",
    "    paths = map(e -> e.path ,current_data_items);\n",
    "    arranged_img_data = load_and_arrange_images(paths);\n",
    "    push!(whole_arranged_image_data, arranged_img_data...)\n",
    "    println(i)\n",
    "end"
   ]
  },
  {
   "cell_type": "code",
   "execution_count": 25,
   "metadata": {},
   "outputs": [],
   "source": [
    "# TODO: let's save read img data after completion"
   ]
  },
  {
   "cell_type": "code",
   "execution_count": 35,
   "metadata": {
    "collapsed": true,
    "jupyter": {
     "outputs_hidden": true
    }
   },
   "outputs": [
    {
     "name": "stdout",
     "output_type": "stream",
     "text": [
      "All errors:\n",
      "===========================================\n",
      "ArgumentError: Package ImageIO not found in current path:\n",
      "- Run `import Pkg; Pkg.add(\"ImageIO\")` to install the ImageIO package.\n",
      "\n",
      "===========================================\n"
     ]
    },
    {
     "name": "stderr",
     "output_type": "stream",
     "text": [
      "Errors encountered while loading \"/userfiles/gsoykan20/mpii_human_pose/cropped/im19444_1.png\".\n"
     ]
    },
    {
     "name": "stdout",
     "output_type": "stream",
     "text": [
      "InterruptException:\n",
      "===========================================\n"
     ]
    },
    {
     "name": "stderr",
     "output_type": "stream",
     "text": [
      "\n",
      "Fatal error:\n"
     ]
    },
    {
     "ename": "LoadError",
     "evalue": "ArgumentError: Package ImageIO not found in current path:\n- Run `import Pkg; Pkg.add(\"ImageIO\")` to install the ImageIO package.\n",
     "output_type": "error",
     "traceback": [
      "ArgumentError: Package ImageIO not found in current path:\n- Run `import Pkg; Pkg.add(\"ImageIO\")` to install the ImageIO package.\n",
      "",
      "Stacktrace:",
      " [1] (::Base.var\"#770#772\")(::Task) at ./asyncmap.jl:178",
      " [2] foreach(::Base.var\"#770#772\", ::Array{Any,1}) at ./abstractarray.jl:2009",
      " [3] maptwice(::Function, ::Channel{Any}, ::Array{Any,1}, ::Array{DataItem,1}) at ./asyncmap.jl:178",
      " [4] wrap_n_exec_twice(::Channel{Any}, ::Array{Any,1}, ::Distributed.var\"#206#209\"{WorkerPool}, ::Function, ::Array{DataItem,1}) at ./asyncmap.jl:154",
      " [5] async_usemap(::var\"#118#119\", ::Array{DataItem,1}; ntasks::Function, batch_size::Nothing) at ./asyncmap.jl:103",
      " [6] #asyncmap#754 at ./asyncmap.jl:81 [inlined]",
      " [7] pmap(::Function, ::WorkerPool, ::Array{DataItem,1}; distributed::Bool, batch_size::Int64, on_error::Nothing, retry_delays::Array{Any,1}, retry_check::Nothing) at /buildworker/worker/package_linux64/build/usr/share/julia/stdlib/v1.5/Distributed/src/pmap.jl:126",
      " [8] pmap(::Function, ::WorkerPool, ::Array{DataItem,1}) at /buildworker/worker/package_linux64/build/usr/share/julia/stdlib/v1.5/Distributed/src/pmap.jl:101",
      " [9] pmap(::Function, ::Array{DataItem,1}; kwargs::Base.Iterators.Pairs{Union{},Union{},Tuple{},NamedTuple{(),Tuple{}}}) at /buildworker/worker/package_linux64/build/usr/share/julia/stdlib/v1.5/Distributed/src/pmap.jl:156",
      " [10] pmap(::Function, ::Array{DataItem,1}) at /buildworker/worker/package_linux64/build/usr/share/julia/stdlib/v1.5/Distributed/src/pmap.jl:156",
      " [11] top-level scope at In[35]:1",
      " [12] include_string(::Function, ::Module, ::String, ::String) at ./loading.jl:1091"
     ]
    }
   ],
   "source": [
    "#whole_data_items_with_img_data = pmap(e -> (e, load_and_arrange_image(e.path)) , whole_data_items)"
   ]
  },
  {
   "cell_type": "code",
   "execution_count": 122,
   "metadata": {},
   "outputs": [
    {
     "data": {
      "text/plain": [
       "find_related_data_items (generic function with 1 method)"
      ]
     },
     "execution_count": 122,
     "metadata": {},
     "output_type": "execute_result"
    }
   ],
   "source": [
    "function find_related_data_items(reshaped_d,\n",
    "        whole_data_items_with_img_data)\n",
    "    results = []\n",
    "    d_size = size(reshaped_d)[4]\n",
    "    \n",
    "    collected = collect(enumerate(whole_data_items_with_img_data))\n",
    "    \n",
    "    for i in 1:d_size\n",
    "        d_element = reshaped_d[:, : , :, i:i]\n",
    "        \n",
    "        filtered = filter(e -> e[2] == d_element,  collected)\n",
    "         #check = d_element in whole_data_items_with_img_data      \n",
    "                \n",
    "        if !isempty(filtered)\n",
    "            push!(results, (filtered..., i))\n",
    "        end\n",
    "    end\n",
    "    results\n",
    "end"
   ]
  },
  {
   "cell_type": "code",
   "execution_count": 125,
   "metadata": {},
   "outputs": [],
   "source": [
    "reshaped_dtrn = reshape(dtrn.x, dtrn.xsize);\n",
    "related_data_items_and_data_idxs = find_related_data_items(reshaped_dtrn,\n",
    "    whole_arranged_image_data)\n",
    "related_data_idxs = map(x ->  x[2], related_data_items_and_data_idxs);\n",
    "related_data_item_idxs = map(x ->  x[1][1], related_data_items_and_data_idxs);\n",
    "related_dtrn_x = reshaped_dtrn[:, : ,:, related_data_idxs];\n",
    "related_data_items = whole_data_items[related_data_item_idxs];"
   ]
  },
  {
   "cell_type": "code",
   "execution_count": 152,
   "metadata": {},
   "outputs": [],
   "source": [
    "reshaped_dval = reshape(dval.x, dval.xsize);\n",
    "related_data_items_and_data_idxs_val = find_related_data_items(\n",
    "    reshaped_dval,\n",
    "    whole_arranged_image_data)\n",
    "related_data_idxs_val = map(x ->  x[2], related_data_items_and_data_idxs_val);\n",
    "related_data_item_idxs_val = map(x ->  x[1][1], related_data_items_and_data_idxs_val);\n",
    "related_dval_x = reshaped_dval[:, : ,:, related_data_idxs_val];\n",
    "related_data_items_val = whole_data_items[related_data_item_idxs_val];"
   ]
  },
  {
   "cell_type": "code",
   "execution_count": 130,
   "metadata": {},
   "outputs": [
    {
     "data": {
      "text/plain": [
       "134-element Data{KnetArray{Float32,N} where N}"
      ]
     },
     "execution_count": 130,
     "metadata": {},
     "output_type": "execute_result"
    }
   ],
   "source": [
    "related_dtrn = minibatch(related_dtrn_x,\n",
    "        32;\n",
    "        xtype=Knet.atype(), \n",
    "        shuffle=false)"
   ]
  },
  {
   "cell_type": "code",
   "execution_count": 153,
   "metadata": {},
   "outputs": [
    {
     "data": {
      "text/plain": [
       "16-element Data{KnetArray{Float32,N} where N}"
      ]
     },
     "execution_count": 153,
     "metadata": {},
     "output_type": "execute_result"
    }
   ],
   "source": [
    "related_dval = minibatch(related_dval_x,\n",
    "        32;\n",
    "        xtype=Knet.atype(), \n",
    "        shuffle=false)"
   ]
  },
  {
   "cell_type": "code",
   "execution_count": 157,
   "metadata": {},
   "outputs": [
    {
     "name": "stdout",
     "output_type": "stream",
     "text": [
      "PCKh@ 1.25\n",
      "train accuracy: 0.689965351812367\n",
      "validation accuracy: 0.7052176339285714\n",
      "PCKh@ 1.5\n",
      "train accuracy: 0.7400719616204693\n",
      "validation accuracy: 0.7520926339285714\n"
     ]
    }
   ],
   "source": [
    "for pck in [1.25, 1.5]\n",
    "\n",
    "acc_trn = modelized_PCKh_sigm(resnet_with_deconv, \n",
    "    related_dtrn,\n",
    "    related_data_items; \n",
    "    h_range=pck\n",
    ")\n",
    "    \n",
    "  acc_val =   modelized_PCKh_sigm(resnet_with_deconv, \n",
    "    related_dval,\n",
    "    related_data_items_val; \n",
    "    h_range=pck\n",
    ")\n",
    "    println(\"PCKh@ $(pck)\")\n",
    "    println(\"train accuracy: $(acc_trn)\")\n",
    "    println(\"validation accuracy: $(acc_val)\")    \n",
    "end\n"
   ]
  },
  {
   "cell_type": "code",
   "execution_count": null,
   "metadata": {},
   "outputs": [],
   "source": []
  }
 ],
 "metadata": {
  "kernelspec": {
   "display_name": "Julia 1.5.3",
   "language": "julia",
   "name": "julia-1.5"
  },
  "language_info": {
   "file_extension": ".jl",
   "mimetype": "application/julia",
   "name": "julia",
   "version": "1.5.3"
  }
 },
 "nbformat": 4,
 "nbformat_minor": 4
}

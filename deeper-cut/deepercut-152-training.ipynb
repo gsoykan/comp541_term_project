{
 "cells": [
  {
   "cell_type": "code",
   "execution_count": 2,
   "metadata": {},
   "outputs": [
    {
     "data": {
      "text/plain": [
       "continue_training (generic function with 1 method)"
      ]
     },
     "execution_count": 2,
     "metadata": {},
     "output_type": "execute_result"
    }
   ],
   "source": [
    "include(\"training_script.jl\")"
   ]
  },
  {
   "cell_type": "code",
   "execution_count": 3,
   "metadata": {},
   "outputs": [
    {
     "name": "stdout",
     "output_type": "stream",
     "text": [
      "1\n",
      "1024-element Data{Tuple{KnetArray{Float32,N} where N,KnetArray{Float32,N} where N}}\n",
      "1025\n",
      "(786432, 1024)\n",
      "2048-element Data{Tuple{KnetArray{Float32,N} where N,KnetArray{Float32,N} where N}}\n",
      "2049\n",
      "(786432, 2048)\n",
      "3072-element Data{Tuple{KnetArray{Float32,N} where N,KnetArray{Float32,N} where N}}\n",
      "3073\n",
      "(786432, 3072)\n",
      "4096-element Data{Tuple{KnetArray{Float32,N} where N,KnetArray{Float32,N} where N}}\n",
      "4097\n",
      "(786432, 4096)\n",
      "5120-element Data{Tuple{KnetArray{Float32,N} where N,KnetArray{Float32,N} where N}}\n",
      "5121\n",
      "(786432, 5120)\n",
      "6144-element Data{Tuple{KnetArray{Float32,N} where N,KnetArray{Float32,N} where N}}\n",
      "6145\n",
      "(786432, 6144)\n",
      "7168-element Data{Tuple{KnetArray{Float32,N} where N,KnetArray{Float32,N} where N}}\n",
      "7169\n",
      "(786432, 7168)\n",
      "8192-element Data{Tuple{KnetArray{Float32,N} where N,KnetArray{Float32,N} where N}}\n",
      "8193\n",
      "(786432, 8192)\n",
      "9216-element Data{Tuple{KnetArray{Float32,N} where N,KnetArray{Float32,N} where N}}\n",
      "9217\n",
      "(786432, 9216)\n",
      "10240-element Data{Tuple{KnetArray{Float32,N} where N,KnetArray{Float32,N} where N}}\n",
      "10241\n",
      "(786432, 10240)\n",
      "11264-element Data{Tuple{KnetArray{Float32,N} where N,KnetArray{Float32,N} where N}}\n",
      "11265\n",
      "(786432, 11264)\n",
      "12288-element Data{Tuple{KnetArray{Float32,N} where N,KnetArray{Float32,N} where N}}\n",
      "12289\n",
      "(786432, 12288)\n",
      "13312-element Data{Tuple{KnetArray{Float32,N} where N,KnetArray{Float32,N} where N}}\n",
      "13313\n",
      "(786432, 13312)\n",
      "14336-element Data{Tuple{KnetArray{Float32,N} where N,KnetArray{Float32,N} where N}}\n",
      "14337\n",
      "(786432, 14336)\n",
      "15360-element Data{Tuple{KnetArray{Float32,N} where N,KnetArray{Float32,N} where N}}\n",
      "15361\n",
      "(786432, 15360)\n",
      "16384-element Data{Tuple{KnetArray{Float32,N} where N,KnetArray{Float32,N} where N}}\n",
      "16385\n",
      "(786432, 16384)\n",
      "17408-element Data{Tuple{KnetArray{Float32,N} where N,KnetArray{Float32,N} where N}}\n",
      "17409\n",
      "(786432, 17408)\n",
      "18432-element Data{Tuple{KnetArray{Float32,N} where N,KnetArray{Float32,N} where N}}\n",
      "18433\n",
      "(786432, 18432)\n",
      "19456-element Data{Tuple{KnetArray{Float32,N} where N,KnetArray{Float32,N} where N}}\n",
      "19457\n",
      "(786432, 19456)\n",
      "20480-element Data{Tuple{KnetArray{Float32,N} where N,KnetArray{Float32,N} where N}}\n",
      "20481\n",
      "(786432, 20480)\n",
      "21504-element Data{Tuple{KnetArray{Float32,N} where N,KnetArray{Float32,N} where N}}\n",
      "21505\n",
      "(786432, 21504)\n",
      "22528-element Data{Tuple{KnetArray{Float32,N} where N,KnetArray{Float32,N} where N}}\n",
      "22529\n",
      "(786432, 22528)\n",
      "23552-element Data{Tuple{KnetArray{Float32,N} where N,KnetArray{Float32,N} where N}}\n",
      "23553\n",
      "(786432, 23552)\n",
      "24576-element Data{Tuple{KnetArray{Float32,N} where N,KnetArray{Float32,N} where N}}\n",
      "24577\n",
      "(786432, 24576)\n",
      "25600-element Data{Tuple{KnetArray{Float32,N} where N,KnetArray{Float32,N} where N}}\n",
      "start saving dtrn\n",
      "start saving dval\n",
      "start saving dtst\n",
      "start saving trn data items\n",
      "start saving val data items\n",
      "start saving tst data items\n",
      "save completed!\n",
      "Effective GPU memory usage: 0.68% (102.000 MiB/14.756 GiB)\n",
      "CUDA allocator usage: 0 bytes\n",
      "binned usage: 0 bytes (0 bytes allocated, 0 bytes cached)\n",
      "cleared gpu memory\n",
      "prepared deepercut\n",
      "Effective GPU memory usage: 2.95% (446.000 MiB/14.756 GiB)\n",
      "CUDA allocator usage: 329.261 MiB\n",
      "binned usage: 17.094 KiB (17.094 KiB allocated, 0 bytes cached)\n",
      "Discrepancy of 329.244 MiB between memory pool and allocator!\n",
      "cleared gpu memory\n",
      "started training\n"
     ]
    },
    {
     "name": "stderr",
     "output_type": "stream",
     "text": [
      "┣█████████████████▍  ┫ [86.88%, 22240/25600, 01:38:25/01:53:18, 3.76i/s] Excessive output truncated after 524301 bytes."
     ]
    },
    {
     "data": {
      "text/plain": [
       "9×42 Array{Real,2}:\n",
       " 0        0         0         0         …  0        0         0\n",
       " 0        0         0         0            0        0         0\n",
       " 0        0         0         0            0        0         0\n",
       " 0        0         0         0            0        0         0\n",
       " 0        0         0         0            0        0         0\n",
       " 0        0         0         0         …  0        0         0\n",
       " 0        0         0         0            0        0         0\n",
       " 0        0         0         0            0        0         0\n",
       " 0.14895  0.211132  0.288202  0.329301     0.56264  0.536478  0.551845"
      ]
     },
     "execution_count": 3,
     "metadata": {},
     "output_type": "execute_result"
    }
   ],
   "source": [
    "init_training(; save_tag=\"31-12-20_resnet152\", learning_rate_by_epochs = [(0.005, 1), (0.02, 17), (0.002, 12), (0.001, 12)], should_use_pmap = true)"
   ]
  },
  {
   "cell_type": "code",
   "execution_count": null,
   "metadata": {},
   "outputs": [],
   "source": []
  }
 ],
 "metadata": {
  "kernelspec": {
   "display_name": "Julia 1.5.3",
   "language": "julia",
   "name": "julia-1.5"
  },
  "language_info": {
   "file_extension": ".jl",
   "mimetype": "application/julia",
   "name": "julia",
   "version": "1.5.3"
  }
 },
 "nbformat": 4,
 "nbformat_minor": 4
}

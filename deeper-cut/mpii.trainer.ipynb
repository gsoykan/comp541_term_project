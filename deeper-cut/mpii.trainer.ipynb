{
 "cells": [
  {
   "cell_type": "code",
   "execution_count": null,
   "metadata": {},
   "outputs": [],
   "source": [
    "# using Revise"
   ]
  },
  {
   "cell_type": "code",
   "execution_count": 1,
   "metadata": {},
   "outputs": [],
   "source": [
    "using Knet"
   ]
  },
  {
   "cell_type": "code",
   "execution_count": 2,
   "metadata": {},
   "outputs": [],
   "source": [
    "# pkg\"add Knet#master\""
   ]
  },
  {
   "cell_type": "code",
   "execution_count": 3,
   "metadata": {},
   "outputs": [],
   "source": [
    "# using ImageView;"
   ]
  },
  {
   "cell_type": "code",
   "execution_count": 4,
   "metadata": {},
   "outputs": [
    {
     "data": {
      "text/plain": [
       "generate_deeper_cut (generic function with 1 method)"
      ]
     },
     "execution_count": 4,
     "metadata": {},
     "output_type": "execute_result"
    }
   ],
   "source": [
    "include(\"../helper.jl\")\n",
    "include(\"accuracy.jl\")\n",
    "include(\"loss.jl\")\n",
    "include(\"mpii.batcher.jl\")\n",
    "include(\"../models.jl\")\n",
    "include(\"../training.jl\")\n",
    "include(\"../plots.jl\")\n",
    "include(\"../modular.resnet.jl\")"
   ]
  },
  {
   "cell_type": "code",
   "execution_count": 3,
   "metadata": {},
   "outputs": [
    {
     "data": {
      "text/plain": [
       "18185-element VariantData{Tuple{KnetArray{Float32,N} where N,KnetArray{Float32,N} where N}}"
      ]
     },
     "execution_count": 3,
     "metadata": {},
     "output_type": "execute_result"
    }
   ],
   "source": [
    "#dtrn_single = Knet.load(\"$(pre_full_path)18185_single_dtrn.jld2\", \"18185_single_dtrn\")"
   ]
  },
  {
   "cell_type": "code",
   "execution_count": 5,
   "metadata": {},
   "outputs": [
    {
     "name": "stdout",
     "output_type": "stream",
     "text": [
      "preprocessing 1\n",
      "preprocessing 1025\n",
      "preprocessing 2049\n",
      "preprocessing 3073\n",
      "preprocessing 4097\n",
      "preprocessing 5121\n",
      "preprocessing 6145\n",
      "preprocessing 7169\n",
      "preprocessing 8193\n",
      "preprocessing 9217\n",
      "preprocessing 10241\n",
      "preprocessing 11265\n",
      "preprocessing 12289\n",
      "preprocessing 13313\n",
      "preprocessing 14337\n",
      "preprocessing 15361\n",
      "preprocessing 16385\n",
      "preprocessing 17409\n",
      "preprocessing 1\n"
     ]
    }
   ],
   "source": [
    "train_count = 18185\n",
    "test_count = 1000\n",
    "dtrn_single, dtst_single, data_items_single = get_mpii_single_person_batches_and_data_items(; use_global_scaling = true, \n",
    "    train_size = train_count,\n",
    "    test_size = test_count,\n",
    "    fetch_only_test_batch = false\n",
    ");"
   ]
  },
  {
   "cell_type": "code",
   "execution_count": 6,
   "metadata": {},
   "outputs": [],
   "source": [
    "#Knet.save(\"$(pre_full_path)18185_single_dtrn.jld2\", \"18185_single_dtrn\", dtrn_single)"
   ]
  },
  {
   "cell_type": "code",
   "execution_count": 6,
   "metadata": {},
   "outputs": [],
   "source": [
    "#test_data_items_single = data_items_single;"
   ]
  },
  {
   "cell_type": "code",
   "execution_count": 6,
   "metadata": {},
   "outputs": [
    {
     "name": "stdout",
     "output_type": "stream",
     "text": [
      "Effective GPU memory usage: 2.77% (418.000 MiB/14.756 GiB)\n",
      "CUDA allocator usage: 0 bytes\n",
      "binned usage: 0 bytes (0 bytes allocated, 0 bytes cached)\n"
     ]
    }
   ],
   "source": [
    "clear_gpu_memory()"
   ]
  },
  {
   "cell_type": "code",
   "execution_count": 7,
   "metadata": {},
   "outputs": [],
   "source": [
    "x_255 = map(x -> x .* 255,dtst_single.x);\n",
    "dtst_single.x = x_255;"
   ]
  },
  {
   "cell_type": "code",
   "execution_count": 8,
   "metadata": {},
   "outputs": [],
   "source": [
    "x_255 = map(x -> x .* 255,dtrn_single.x);\n",
    "dtrn_single.x = x_255;"
   ]
  },
  {
   "cell_type": "code",
   "execution_count": 9,
   "metadata": {},
   "outputs": [
    {
     "name": "stdout",
     "output_type": "stream",
     "text": [
      "1\n",
      "1025\n",
      "1\n",
      "1025\n",
      "1\n",
      "1025\n",
      "1\n",
      "1025\n",
      "1\n",
      "1025\n",
      "1\n",
      "1025\n",
      "1\n",
      "1025\n",
      "1\n",
      "1025\n",
      "1\n",
      "1025\n",
      "1\n",
      "1\n"
     ]
    }
   ],
   "source": [
    "substract_mean_img_from_data!(dtrn_single, reshaped_mean_pixel_255, Knet.atype());\n",
    "substract_mean_img_from_data!(dtst_single, reshaped_mean_pixel_255, Knet.atype());"
   ]
  },
  {
   "cell_type": "code",
   "execution_count": 58,
   "metadata": {},
   "outputs": [],
   "source": [
    "#x_rot = map(x -> permutedims(x, [2, 1, 3, 4]),dtst_single.x);\n",
    "#dtst_single.x = x_rot;\n",
    "#y_rot = map(y -> permutedims(y, [2, 1, 3, 4]),dtst_single.y);\n",
    "#dtst_single.y = y_rot;"
   ]
  },
  {
   "cell_type": "code",
   "execution_count": 59,
   "metadata": {},
   "outputs": [],
   "source": [
    "#x_rot = map(x -> permutedims(x, [2, 1, 3, 4]),dtrn_single.x);\n",
    "#dtrn_single.x = x_rot;\n",
    "#y_rot = map(y -> permutedims(y, [2, 1, 3, 4]),dtrn_single.y);\n",
    "#dtrn_single.y = y_rot;"
   ]
  },
  {
   "cell_type": "code",
   "execution_count": 10,
   "metadata": {},
   "outputs": [
    {
     "data": {
      "text/plain": [
       "false"
      ]
     },
     "execution_count": 10,
     "metadata": {},
     "output_type": "execute_result"
    }
   ],
   "source": [
    "dtst_single.add_random_mirroring = false\n",
    "dtst_single.shuffle = false\n",
    "dtrn_single.add_random_mirroring = false"
   ]
  },
  {
   "cell_type": "code",
   "execution_count": 11,
   "metadata": {},
   "outputs": [
    {
     "name": "stdout",
     "output_type": "stream",
     "text": [
      "1025\n",
      "2049\n",
      "3073\n",
      "4097\n",
      "5121\n",
      "6145\n",
      "7169\n",
      "8193\n",
      "9217\n",
      "10241\n",
      "11265\n",
      "12289\n",
      "13313\n",
      "14337\n",
      "15361\n",
      "16385\n",
      "17409\n"
     ]
    }
   ],
   "source": [
    "mirrored_dtrn_single = mirror_variant_data(dtrn_single)\n",
    "#mirrored_dst_single = mirror_variant_data(dtst_single)\n",
    "#mirrored_data_items_single = mirror_data_items_for_batch(data_items_single)\n",
    "#train_data_items_single = data_items_single[begin : train_count];"
   ]
  },
  {
   "cell_type": "code",
   "execution_count": 16,
   "metadata": {
    "collapsed": true,
    "jupyter": {
     "outputs_hidden": true
    }
   },
   "outputs": [
    {
     "data": {
      "text/plain": [
       "1000-element Array{Any,1}:\n",
       " DataItem(1, \"/userfiles/gsoykan20/mpii_human_pose/cropped/im23878_2.png\", [3.0 596.0 406.0], Int32[2 272 483; 3 255 335; … ; 13 181 165; 14 165 111], true, Dict{String,Any}(\"objpos\" => Dict{String,Any}(\"x\" => 247.09136002515947,\"y\" => 337.9313724411667),\"x1\" => 148.940267140438,\"y1\" => 111.92327521214301,\"annopoints\" => Dict{String,Any}(\"point\" => Dict{String,Any}(\"x\" => Any[262.03964433618853 226.5374690974943 … 134.97922769244065 131.24215661468338],\"id\" => Any[6.0 7.0 … 14.0 15.0],\"is_visible\" => Any[true true … true true],\"y\" => Any[399.593045224162 238.89898888059844 … 384.6447609131328 455.6491113905214])),\"x2\" => 196.35435799871104,\"y2\" => 164.05144178576734,\"scale\" => 1.0703569498069323))\n",
       " DataItem(2, \"/userfiles/gsoykan20/mpii_human_pose/cropped/im23879_1.png\", [3.0 426.0 283.0], Int32[1 129 422; 2 125 348; … ; 13 123 137; 14 154 90], true, Dict{String,Any}(\"objpos\" => Dict{String,Any}(\"x\" => 149.6842005586737,\"y\" => 265.9269072519122),\"x1\" => 114.63223587607611,\"y1\" => 87.84367821965748,\"annopoints\" => Dict{String,Any}(\"point\" => Dict{String,Any}(\"x\" => Any[134.1521865067921 135.56418778423588 … 158.1562082233364 207.1055858413875],\"id\" => Any[6.0 7.0 … 14.0 15.0],\"is_visible\" => Any[false false … false true],\"y\" => Any[299.81493791056295 179.7948293278415 … 237.2162146105553 287.10692641356894])),\"x2\" => 161.27157475086523,\"y2\" => 139.8408330402619,\"scale\" => 4.249287940349536))\n",
       " DataItem(3, \"/userfiles/gsoykan20/mpii_human_pose/cropped/im23879_2.png\", [3.0 440.0 290.0], Int32[1 190 392; 2 177 307; … ; 13 137 125; 14 127 75], true, Dict{String,Any}(\"objpos\" => Dict{String,Any}(\"x\" => 200.80907441321267,\"y\" => 318.1706400821079),\"x1\" => 112.9308204424575,\"y1\" => 73.70905783262647,\"annopoints\" => Dict{String,Any}(\"point\" => Dict{String,Any}(\"x\" => Any[189.16222901919207 181.75060013208804 … 133.5750123659119 166.39794029451548],\"id\" => Any[6.0 7.0 … 14.0 15.0],\"is_visible\" => Any[true true … true false],\"y\" => Any[313.93542357519135 184.23191805087114 … 269.4656502525673 292.2299389772439])),\"x2\" => 150.80343026806116,\"y2\" => 125.42756802457984,\"scale\" => 3.7778470059016414))\n",
       " DataItem(4, \"/userfiles/gsoykan20/mpii_human_pose/cropped/im23880_1.png\", [3.0 578.0 317.0], Int32[2 137 465; 3 125 344; … ; 13 140 162; 14 172 114], true, Dict{String,Any}(\"objpos\" => Dict{String,Any}(\"x\" => 180.7073231584261,\"y\" => 301.17093076542585),\"x1\" => 132.55520632849306,\"y1\" => 110.38288255810286,\"annopoints\" => Dict{String,Any}(\"point\" => Dict{String,Any}(\"x\" => Any[136.7716423325486 146.27124899760327 … 159.33320816205332 221.08065148490846],\"id\" => Any[6.0 7.0 … 14.0 15.0],\"is_visible\" => Any[false false … false true],\"y\" => Any[392.60464491657655 206.17486411487965 … 279.79681576905296 289.29642243410757])),\"x2\" => 180.1250082666098,\"y2\" => 165.24920102116988,\"scale\" => 1.6842802617141839))\n",
       " DataItem(5, \"/userfiles/gsoykan20/mpii_human_pose/cropped/im23880_2.png\", [3.0 554.0 258.0], Int32[1 109 436; 2 108 369; … ; 13 92 176; 14 110 119], true, Dict{String,Any}(\"objpos\" => Dict{String,Any}(\"x\" => 126.87637161876597,\"y\" => 297.4519193781292),\"x1\" => 78.46629291684688,\"y1\" => 117.09055131813648,\"annopoints\" => Dict{String,Any}(\"point\" => Dict{String,Any}(\"x\" => Any[94.90029799819717 95.81390010164205 … 51.04739703284571 73.88744961896629],\"id\" => Any[6.0 7.0 … 14.0 15.0],\"is_visible\" => Any[true true … true false],\"y\" => Any[328.51439089525314 213.40052586120555 … 280.0934794126776 312.98315513669115])),\"x2\" => 124.78111254176483,\"y2\" => 176.6359103538552,\"scale\" => 2.1891368161903446))\n",
       " DataItem(6, \"/userfiles/gsoykan20/mpii_human_pose/cropped/im23880_5.png\", [3.0 597.0 351.0], Int32[1 244 482; 2 222 388; … ; 13 192 163; 14 189 108], true, Dict{String,Any}(\"objpos\" => Dict{String,Any}(\"x\" => 202.6319816447185,\"y\" => 324.8781915578899),\"x1\" => 167.83957381234418,\"y1\" => 109.47776528777604,\"annopoints\" => Dict{String,Any}(\"point\" => Dict{String,Any}(\"x\" => Any[232.02494707577057 235.06559867208648 … 148.9138034431403 130.66989386524574],\"id\" => Any[6.0 7.0 … 14.0 15.0],\"is_visible\" => Any[true true … true true],\"y\" => Any[370.48796550262614 223.52313834736492 … 300.55297878736394 324.8781915578899])),\"x2\" => 212.7247062144034,\"y2\" => 161.08101209536795,\"scale\" => 1.9732612599450687))\n",
       " DataItem(7, \"/userfiles/gsoykan20/mpii_human_pose/cropped/im23881_1.png\", [3.0 497.0 377.0], Int32[1 277 384; 2 251 313; … ; 13 201 114; 14 187 65], true, Dict{String,Any}(\"objpos\" => Dict{String,Any}(\"x\" => 246.6849933978417,\"y\" => 299.7947245647876),\"x1\" => 170.81237481013892,\"y1\" => 66.76433902074088,\"annopoints\" => Dict{String,Any}(\"point\" => Dict{String,Any}(\"x\" => Any[288.27501299064465 269.21292067727654 … 207.69435002958903 131.44598077611704],\"id\" => Any[6.0 7.0 … 14.0 15.0],\"is_visible\" => Any[false false … true true],\"y\" => Any[310.19222946298834 174.15820704486217 … 247.80720007378397 285.93138470051997])),\"x2\" => 216.90479164984453,\"y2\" => 111.49644616463726,\"scale\" => 2.3082460874005615))\n",
       " DataItem(8, \"/userfiles/gsoykan20/mpii_human_pose/cropped/im23881_2.png\", [3.0 494.0 266.0], Int32[1 175 375; 2 158 310; … ; 13 125 110; 14 107 64], true, Dict{String,Any}(\"objpos\" => Dict{String,Any}(\"x\" => 161.10135121212943,\"y\" => 274.74757772441643),\"x1\" => 95.2081094769951,\"y1\" => 64.41437323656676,\"annopoints\" => Dict{String,Any}(\"point\" => Dict{String,Any}(\"x\" => Any[188.90318943424302 178.27307481990545 … 157.01284559123042 130.8464096174764],\"id\" => Any[6.0 7.0 … 14.0 15.0],\"is_visible\" => Any[true false … true true],\"y\" => Any[321.3565418026657 170.08183382940064 … 264.1174631100789 329.53355304446376])),\"x2\" => 136.78175557535133,\"y2\" => 109.5646348509827,\"scale\" => 2.445881436210676))\n",
       " DataItem(9, \"/userfiles/gsoykan20/mpii_human_pose/cropped/im23881_3.png\", [3.0 536.0 269.0], Int32[1 156 441; 2 147 357; … ; 13 119 131; 14 140 87], true, Dict{String,Any}(\"objpos\" => Dict{String,Any}(\"x\" => 160.2608374924925,\"y\" => 339.14069555061644),\"x1\" => 109.14536321562932,\"y1\" => 86.1849734754192,\"annopoints\" => Dict{String,Any}(\"point\" => Dict{String,Any}(\"x\" => Any[161.82010505824246 152.46449966374269 … 154.80340101236766 219.51300499099102],\"id\" => Any[6.0 7.0 … 14.0 15.0],\"is_visible\" => Any[false false … false true],\"y\" => Any[356.292638773866 205.82331867899478 … 293.1423023609926 316.531315847242])),\"x2\" => 149.95602949819428,\"y2\" => 130.97847942645944,\"scale\" => 2.5653069991718334))\n",
       " DataItem(10, \"/userfiles/gsoykan20/mpii_human_pose/cropped/im23883_1.png\", [3.0 436.0 227.0], Int32[2 89 337; 3 86 213; … ; 13 75 51; 14 91 3], true, Dict{String,Any}(\"objpos\" => Dict{String,Any}(\"x\" => 118.2046982821854,\"y\" => 217.13163729838874),\"x1\" => 59.96930163354517,\"y1\" => 5.707101336399233,\"annopoints\" => Dict{String,Any}(\"point\" => Dict{String,Any}(\"x\" => Any[114.80138108315106 85.53285317145605 … 112.7593907637305 167.89312938808627],\"id\" => Any[6.0 7.0 … 14.0 15.0],\"is_visible\" => Any[false false … false true],\"y\" => Any[273.62670280235824 108.22548692929094 … 190.58576314592116 257.9714436868004])),\"x2\" => 106.63357764200025,\"y2\" => 48.76977505650254,\"scale\" => 2.938309718188333))\n",
       " DataItem(11, \"/userfiles/gsoykan20/mpii_human_pose/cropped/im23883_2.png\", [3.0 328.0 379.0], Int32[3 230 218; 4 170 226; … ; 13 202 46; 14 207 -6], true, Dict{String,Any}(\"objpos\" => Dict{String,Any}(\"x\" => 230.48055153247492,\"y\" => 184.4661968431555),\"x1\" => 178.23811402186496,\"y1\" => 0.0,\"annopoints\" => Dict{String,Any}(\"point\" => Dict{String,Any}(\"x\" => Any[253.9839665742668 251.84729247955852 … 130.76909377941786 134.3302172705985],\"id\" => Any[6.0 7.0 … 14.0 15.0],\"is_visible\" => Any[true true … true true],\"y\" => Any[281.32875580326805 96.15033426187642 … 193.7251179202251 225.06300464261443])),\"x2\" => 230.42893471213952,\"y2\" => 39.87088786352669,\"scale\" => 2.8081025622295206))\n",
       " DataItem(12, \"/userfiles/gsoykan20/mpii_human_pose/cropped/im23883_3.png\", [3.0 527.0 328.0], Int32[1 245 385; 2 214 316; … ; 13 157 99; 14 160 43], true, Dict{String,Any}(\"objpos\" => Dict{String,Any}(\"x\" => 168.70887219558782,\"y\" => 264.7121521651321),\"x1\" => 135.68688506588603,\"y1\" => 44.38687351944195,\"annopoints\" => Dict{String,Any}(\"point\" => Dict{String,Any}(\"x\" => Any[176.54059267384616 182.80596905645285 … 135.81564618690277 149.9127430477678],\"id\" => Any[6.0 7.0 … 14.0 15.0],\"is_visible\" => Any[true true … true false],\"y\" => Any[256.88043168687375 145.67000089560523 … 220.0713454390595 260.01311987817706])),\"x2\" => 181.48727140338482,\"y2\" => 98.04861613249864,\"scale\" => 2.5537172905394208))\n",
       " DataItem(13, \"/userfiles/gsoykan20/mpii_human_pose/cropped/im23884_1.png\", [3.0 478.0 277.0], Int32[1 132 372; 2 123 293; … ; 13 119 97; 14 149 52], true, Dict{String,Any}(\"objpos\" => Dict{String,Any}(\"x\" => 152.60246837946158,\"y\" => 218.19065704154548),\"x1\" => 111.58568130593243,\"y1\" => 48.65584594715388,\"annopoints\" => Dict{String,Any}(\"point\" => Dict{String,Any}(\"x\" => Any[137.91132688289866 135.73486147600048 … 162.39656271050353 211.3670343657132],\"id\" => Any[6.0 7.0 … 14.0 15.0],\"is_visible\" => Any[false false … false true],\"y\" => Any[250.29352179329405 134.39673887596442 … 213.2936098760245 244.85235827604853])),\"x2\" => 155.78516208603003,\"y2\" => 99.96564712778887,\"scale\" => 3.675684426062716))\n",
       " ⋮\n",
       " DataItem(989, \"/userfiles/gsoykan20/mpii_human_pose/cropped/im24963_1.png\", [3.0 443.0 340.0], Int32[1 107 337; 2 145 280; … ; 13 173 132; 14 184 79], true, Dict{String,Any}(\"objpos\" => Dict{String,Any}(\"x\" => 220.6657833359833,\"y\" => 244.0203452931308),\"x1\" => 160.62830257737005,\"y1\" => 76.28864724022152,\"annopoints\" => Dict{String,Any}(\"point\" => Dict{String,Any}(\"x\" => Any[217.35328996096342 210.72830321092368 … 268.1448550446015 269.2490195029415],\"id\" => Any[6.0 7.0 … 14.0 15.0],\"is_visible\" => Any[true true … true true],\"y\" => Any[276.0411145849896 173.35381995937345 … 216.41623383463184 259.4786477098902])),\"x2\" => 196.55326973080028,\"y2\" => 133.7295110446236,\"scale\" => 1.811324377354868))\n",
       " DataItem(990, \"/userfiles/gsoykan20/mpii_human_pose/cropped/im24975_1.png\", [3.0 205.0 273.0], Int32[2 183 157; 3 112 165; … ; 13 75 78; 14 97 32], true, Dict{String,Any}(\"objpos\" => Dict{String,Any}(\"x\" => 147.62108789761592,\"y\" => 164.396211522345),\"x1\" => 66.94586455270615,\"y1\" => 28.977103928135488,\"annopoints\" => Dict{String,Any}(\"point\" => Dict{String,Any}(\"x\" => Any[149.85777104757977 90.02649678604607 … 138.11518451026944 187.32221380947473],\"id\" => Any[6.0 7.0 … 14.0 15.0],\"is_visible\" => Any[false false … true true],\"y\" => Any[202.4198250717309 117.42586537310356 … 99.53240017339255 108.47913277324805])),\"x2\" => 104.04325446407836,\"y2\" => 80.53930356496481,\"scale\" => 3.5767247587702355))\n",
       " DataItem(991, \"/userfiles/gsoykan20/mpii_human_pose/cropped/im24976_1.png\", [3.0 219.0 292.0], Int32[2 200 170; 3 115 179; … ; 13 76 89; 14 101 36], true, Dict{String,Any}(\"objpos\" => Dict{String,Any}(\"x\" => 123.97172740000563,\"y\" => 125.0091477129764),\"x1\" => 67.0636001440518,\"y1\" => 32.39126265461005,\"annopoints\" => Dict{String,Any}(\"point\" => Dict{String,Any}(\"x\" => Any[136.42077115565473 82.4749148811753 … 129.15882896485942 173.76790242260205],\"id\" => Any[6.0 7.0 … 14.0 15.0],\"is_visible\" => Any[false false … true true],\"y\" => Any[188.81049696067805 108.92913286192963 … 91.81169769791212 103.74203129707584])),\"x2\" => 109.4915920719213,\"y2\" => 92.15542332720044,\"scale\" => 3.8557178319996392))\n",
       " DataItem(992, \"/userfiles/gsoykan20/mpii_human_pose/cropped/im24977_1.png\", [3.0 195.0 260.0], Int32[2 176 153; 3 93 166; … ; 13 77 75; 14 97 29], true, Dict{String,Any}(\"objpos\" => Dict{String,Any}(\"x\" => 158.9864323579878,\"y\" => 126.11127176870896),\"x1\" => 67.82796251605104,\"y1\" => 27.59191345906818,\"annopoints\" => Dict{String,Any}(\"point\" => Dict{String,Any}(\"x\" => Any[133.6563905924779 97.00867059131458 … 153.0581247107408 177.31029235856946],\"id\" => Any[6.0 7.0 … 14.0 15.0],\"is_visible\" => Any[false true … true true],\"y\" => Any[201.02352294755747 110.48209706233051 … 140.12363529856552 148.7466282400157])),\"x2\" => 106.41273161200822,\"y2\" => 77.09505231210228,\"scale\" => 3.711008488268384))\n",
       " DataItem(993, \"/userfiles/gsoykan20/mpii_human_pose/cropped/im24978_1.png\", [3.0 236.0 314.0], Int32[2 213 179; 3 124 191; … ; 13 86 92; 14 102 32], true, Dict{String,Any}(\"objpos\" => Dict{String,Any}(\"x\" => 112.96754363859047,\"y\" => 135.03562193078025),\"x1\" => 70.4981064772956,\"y1\" => 30.877864121352964,\"annopoints\" => Dict{String,Any}(\"point\" => Dict{String,Any}(\"x\" => Any[138.1882045439502 88.7977436042874 … 118.22184799387375 155.0019784808567],\"id\" => Any[6.0 7.0 … 14.0 15.0],\"is_visible\" => Any[false false … false true],\"y\" => Any[191.25667853231133 109.28953058989218 … 145.54423064134681 142.39164802817683])),\"x2\" => 117.00727394495587,\"y2\" => 93.12371719138196,\"scale\" => 3.806403026480511))\n",
       " DataItem(994, \"/userfiles/gsoykan20/mpii_human_pose/cropped/im24979_1.png\", [3.0 179.0 239.0], Int32[2 167 138; 3 106 149; … ; 13 71 73; 14 93 31], true, Dict{String,Any}(\"objpos\" => Dict{String,Any}(\"x\" => 128.9411675675585,\"y\" => 130.47618146717227),\"x1\" => 64.87305875241199,\"y1\" => 27.178898663971005,\"annopoints\" => Dict{String,Any}(\"point\" => Dict{String,Any}(\"x\" => Any[147.87300566279524 93.63584787644128 … 127.4061536679447 152.98971866150788],\"id\" => Any[6.0 7.0 … 14.0 15.0],\"is_visible\" => Any[false false … false true],\"y\" => Any[189.31838095236762 108.98598687257919 … 141.22127876446882 152.98971866150788])),\"x2\" => 99.91942382555409,\"y2\" => 76.6966181476442,\"scale\" => 3.9087593939765597))\n",
       " DataItem(995, \"/userfiles/gsoykan20/mpii_human_pose/cropped/im24980_1.png\", [3.0 361.0 376.0], Int32[1 209 345; 2 205 271; … ; 13 203 102; 14 195 45], true, Dict{String,Any}(\"objpos\" => Dict{String,Any}(\"x\" => 260.54022988505744,\"y\" => 184.48275862068962),\"x1\" => 177.15529287272483,\"y1\" => 44.60130998457985,\"annopoints\" => Dict{String,Any}(\"point\" => Dict{String,Any}(\"x\" => Any[263.41379310344826 235.25287356321837 … 249.0459770114942 209.96551724137925],\"id\" => Any[6.0 7.0 … 14.0 15.0],\"is_visible\" => Any[false true … true true],\"y\" => Any[237.35632183908044 132.183908045977 … 166.0919540229885 191.37931034482756])),\"x2\" => 220.77478254252463,\"y2\" => 102.7333544588637,\"scale\" => 3.4800000000000004))\n",
       " DataItem(996, \"/userfiles/gsoykan20/mpii_human_pose/cropped/im24981_1.png\", [3.0 551.0 485.0], Int32[1 361 420; 2 303 342; … ; 13 166 175; 14 125 125], true, Dict{String,Any}(\"objpos\" => Dict{String,Any}(\"x\" => 238.64765133977562,\"y\" => 264.4752079825995),\"x1\" => 118.4841343587449,\"y1\" => 121.2280617718211,\"annopoints\" => Dict{String,Any}(\"point\" => Dict{String,Any}(\"x\" => Any[262.6036128488049 185.74490300733578 … 175.7632523785736 132.84215467489605],\"id\" => Any[6.0 7.0 … 14.0 15.0],\"is_visible\" => Any[true false … true true],\"y\" => Any[278.44951886286657 197.59814876989262 … 264.4752079825995 238.52291634781773])),\"x2\" => 172.91071009663486,\"y2\" => 179.47341847979612,\"scale\" => 2.003676620615213))\n",
       " DataItem(997, \"/userfiles/gsoykan20/mpii_human_pose/cropped/im24982_1.png\", [3.0 381.0 415.0], Int32[1 304 346; 2 257 267; … ; 13 159 104; 14 123 59], true, Dict{String,Any}(\"objpos\" => Dict{String,Any}(\"x\" => 239.98730761030947,\"y\" => 224.36356364576068),\"x1\" => 117.84281424320315,\"y1\" => 54.38423761011241,\"annopoints\" => Dict{String,Any}(\"point\" => Dict{String,Any}(\"x\" => Any[249.87661069111437 193.01311797648628 … 149.12933555541463 131.20497372145576],\"id\" => Any[6.0 7.0 … 14.0 15.0],\"is_visible\" => Any[true false … true true],\"y\" => Any[205.82112036925153 131.03326582066464 … 205.20303892670123 166.26390804603201])),\"x2\" => 163.76016239387582,\"y2\" => 108.76847522022481,\"scale\" => 3.2358195252516784))\n",
       " DataItem(998, \"/userfiles/gsoykan20/mpii_human_pose/cropped/im24983_1.png\", [3.0 570.0 343.0], Int32[1 223 461; 2 219 374; … ; 13 186 165; 14 181 110], true, Dict{String,Any}(\"objpos\" => Dict{String,Any}(\"x\" => 200.30988837885604,\"y\" => 327.02621787618955),\"x1\" => 160.13238751793105,\"y1\" => 111.5188201860475,\"annopoints\" => Dict{String,Any}(\"point\" => Dict{String,Any}(\"x\" => Any[225.72877313362858 224.39093709390363 … 142.78293867068692 130.74241431316307],\"id\" => Any[6.0 7.0 … 14.0 15.0],\"is_visible\" => Any[true true … true true],\"y\" => Any[333.71539807481383 230.7020230159992 … 274.85061232691976 278.8641204460944])),\"x2\" => 207.25430861094836,\"y2\" => 163.10420546347868,\"scale\" => 1.4949515042301538))\n",
       " DataItem(999, \"/userfiles/gsoykan20/mpii_human_pose/cropped/im24984_1.png\", [3.0 435.0 545.0], Int32[1 285 308; 2 245 235; … ; 13 225 141; 14 162 127], true, Dict{String,Any}(\"objpos\" => Dict{String,Any}(\"x\" => 251.58868223436275,\"y\" => 222.07148954545863),\"x1\" => 164.8303455139099,\"y1\" => 105.42321895579948,\"annopoints\" => Dict{String,Any}(\"point\" => Dict{String,Any}(\"x\" => Any[332.44003899794086 235.14433848583838 … 210.47782286305176 174.8484114079157],\"id\" => Any[6.0 7.0 … 14.0 15.0],\"is_visible\" => Any[false false … true true],\"y\" => Any[182.3309921531914 145.3312187190116 … 201.5160598598032 245.3676431892015])),\"x2\" => 222.1775462584297,\"y2\" => 162.76688990175643,\"scale\" => 1.459468396369034))\n",
       " DataItem(1000, \"/userfiles/gsoykan20/mpii_human_pose/cropped/im24985_5.png\", [3.0 290.0 114.0], Int32[3 74 243; 4 20 247; … ; 8 92 175; 9 63 121], true, Dict{String,Any}(\"objpos\" => Dict{String,Any}(\"x\" => 46.51635337282111,\"y\" => 206.5891522582828),\"x1\" => 0.0,\"y1\" => 50.136389631306535,\"annopoints\" => Dict{String,Any}(\"point\" => Dict{String,Any}(\"x\" => Any[51.01793595728767 80.2782227563203 … 99.03481685826429 68.27400253107615],\"id\" => Any[6.0 2.0 … 11.0 12.0],\"is_visible\" => Any[true true … true true],\"y\" => Any[265.10972585634806 262.8589345641148 … 190.0833494485721 130.81251208642908])),\"x2\" => 52.84784815724848,\"y2\" => 106.26280936523342,\"scale\" => 2.66572916853907))"
      ]
     },
     "execution_count": 16,
     "metadata": {},
     "output_type": "execute_result"
    }
   ],
   "source": [
    "test_data_items_single = data_items_single[end - test_count + 1: end]"
   ]
  },
  {
   "cell_type": "code",
   "execution_count": 11,
   "metadata": {
    "collapsed": true,
    "jupyter": {
     "outputs_hidden": true
    }
   },
   "outputs": [
    {
     "ename": "LoadError",
     "evalue": "BoundsError: attempt to access 2000-element Array{DataItem,1} at index [18186:19185]",
     "output_type": "error",
     "traceback": [
      "BoundsError: attempt to access 2000-element Array{DataItem,1} at index [18186:19185]",
      "",
      "Stacktrace:",
      " [1] throw_boundserror(::Array{DataItem,1}, ::Tuple{UnitRange{Int64}}) at ./abstractarray.jl:541",
      " [2] checkbounds at ./abstractarray.jl:506 [inlined]",
      " [3] getindex(::Array{DataItem,1}, ::UnitRange{Int64}) at ./array.jl:815",
      " [4] top-level scope at In[11]:3",
      " [5] include_string(::Function, ::Module, ::String, ::String) at ./loading.jl:1091"
     ]
    }
   ],
   "source": [
    "# TODO: fix this source of my bug !!!! \n",
    "test_mirrored_data_items_single = []\n",
    "pt1 = mirrored_data_items_single[19185 - test_count + 1 : 19185];\n",
    "pt2 = mirrored_data_items_single[end - test_count  + 1 : end];\n",
    "push!(test_mirrored_data_items_single, pt1)\n",
    "push!(test_mirrored_data_items_single, pt2)"
   ]
  },
  {
   "cell_type": "code",
   "execution_count": 12,
   "metadata": {},
   "outputs": [
    {
     "data": {
      "text/plain": [
       "18185-element VariantData{Tuple{KnetArray{Float32,N} where N,KnetArray{Float32,N} where N}}"
      ]
     },
     "execution_count": 12,
     "metadata": {},
     "output_type": "execute_result"
    }
   ],
   "source": [
    "dtrn_single"
   ]
  },
  {
   "cell_type": "code",
   "execution_count": 755,
   "metadata": {},
   "outputs": [],
   "source": [
    "#  TODO: check resnet implementation for its regularizations"
   ]
  },
  {
   "cell_type": "code",
   "execution_count": 56,
   "metadata": {},
   "outputs": [],
   "source": [
    "#model_end_results(deeper_cut_with_loc_ref, dtrn, dval; \n",
    "#    train_data_items=nothing,\n",
    "#    validation_data_items=val_data_items)"
   ]
  },
  {
   "cell_type": "code",
   "execution_count": 11,
   "metadata": {
    "collapsed": true,
    "jupyter": {
     "outputs_hidden": true
    }
   },
   "outputs": [
    {
     "data": {
      "text/plain": [
       "Chain((ResLayerX1(ResLayerX0(BatchNormLayer(K32(128)[0.17125425⋯], Knet.Ops20.BNMoments(0.1f0, K32(1,1,64,1)[1.8934295e-6⋯], K32(1,1,64,1)[2.273289e-10⋯], zeros, ones)), P(KnetArray{Float32,4}(7,7,3,64)), 3, 2, 1), true), ResLayerX5(ResLayerX3(ResLayerX0(BatchNormLayer(K32(512)[1.0431781⋯], Knet.Ops20.BNMoments(0.1f0, K32(1,1,256,1)[-0.78023756⋯], K32(1,1,256,1)[0.678883⋯], zeros, ones)), P(KnetArray{Float32,4}(1,1,64,256)), 0, 1, 1), ResLayerX2(ResLayerX1(ResLayerX0(BatchNormLayer(K32(128)[1.3838099⋯], Knet.Ops20.BNMoments(0.1f0, K32(1,1,64,1)[-2.512886⋯], K32(1,1,64,1)[1.3937426⋯], zeros, ones)), P(KnetArray{Float32,4}(1,1,64,64)), 0, 1, 1), false), ResLayerX1(ResLayerX0(BatchNormLayer(K32(128)[0.60685426⋯], Knet.Ops20.BNMoments(0.1f0, K32(1,1,64,1)[-0.8316415⋯], K32(1,1,64,1)[1.0876805⋯], zeros, ones)), P(KnetArray{Float32,4}(3,3,64,64)), 1, 1, 1), false), ResLayerX0(BatchNormLayer(K32(512)[0.41607735⋯], Knet.Ops20.BNMoments(0.1f0, K32(1,1,256,1)[-0.17786448⋯], K32(1,1,256,1)[0.07335019⋯], zeros, ones)), P(KnetArray{Float32,4}(1,1,64,256)), 0, 1, 1))), Any[ResLayerX4(ResLayerX2(ResLayerX1(ResLayerX0(BatchNormLayer(K32(128)[0.8309465⋯], Knet.Ops20.BNMoments(0.1f0, K32(1,1,64,1)[-0.1345096⋯], K32(1,1,64,1)[1.0617871⋯], zeros, ones)), P(KnetArray{Float32,4}(1,1,256,64)), 0, 1, 1), false), ResLayerX1(ResLayerX0(BatchNormLayer(K32(128)[0.5293211⋯], Knet.Ops20.BNMoments(0.1f0, K32(1,1,64,1)[-0.42242286⋯], K32(1,1,64,1)[0.32516882⋯], zeros, ones)), P(KnetArray{Float32,4}(3,3,64,64)), 1, 1, 1), false), ResLayerX0(BatchNormLayer(K32(512)[0.07182244⋯], Knet.Ops20.BNMoments(0.1f0, K32(1,1,256,1)[0.20139745⋯], K32(1,1,256,1)[0.007859596⋯], zeros, ones)), P(KnetArray{Float32,4}(1,1,64,256)), 0, 1, 1))), ResLayerX4(ResLayerX2(ResLayerX1(ResLayerX0(BatchNormLayer(K32(128)[1.1404307⋯], Knet.Ops20.BNMoments(0.1f0, K32(1,1,64,1)[-1.397286⋯], K32(1,1,64,1)[0.5456925⋯], zeros, ones)), P(KnetArray{Float32,4}(1,1,256,64)), 0, 1, 1), false), ResLayerX1(ResLayerX0(BatchNormLayer(K32(128)[0.99143654⋯], Knet.Ops20.BNMoments(0.1f0, K32(1,1,64,1)[0.07050658⋯], K32(1,1,64,1)[0.4720138⋯], zeros, ones)), P(KnetArray{Float32,4}(3,3,64,64)), 1, 1, 1), false), ResLayerX0(BatchNormLayer(K32(512)[-0.0022369116⋯], Knet.Ops20.BNMoments(0.1f0, K32(1,1,256,1)[-0.019490149⋯], K32(1,1,256,1)[0.00076697784⋯], zeros, ones)), P(KnetArray{Float32,4}(1,1,64,256)), 0, 1, 1)))], false, nothing, nothing, nothing), ResLayerX5(ResLayerX3(ResLayerX0(BatchNormLayer(K32(1024)[0.13953286⋯], Knet.Ops20.BNMoments(0.1f0, K32(1,1,512,1)[-0.15272635⋯], K32(1,1,512,1)[0.099130586⋯], zeros, ones)), P(KnetArray{Float32,4}(1,1,256,512)), 0, 2, 1), ResLayerX2(ResLayerX1(ResLayerX0(BatchNormLayer(K32(256)[0.6188775⋯], Knet.Ops20.BNMoments(0.1f0, K32(1,1,128,1)[0.22229864⋯], K32(1,1,128,1)[0.23529078⋯], zeros, ones)), P(KnetArray{Float32,4}(1,1,256,128)), 0, 2, 1), false), ResLayerX1(ResLayerX0(BatchNormLayer(K32(256)[0.6105543⋯], Knet.Ops20.BNMoments(0.1f0, K32(1,1,128,1)[-0.0026337018⋯], K32(1,1,128,1)[0.3988327⋯], zeros, ones)), P(KnetArray{Float32,4}(3,3,128,128)), 1, 1, 1), false), ResLayerX0(BatchNormLayer(K32(1024)[3.5373254⋯], Knet.Ops20.BNMoments(0.1f0, K32(1,1,512,1)[-0.48288172⋯], K32(1,1,512,1)[0.7018571⋯], zeros, ones)), P(KnetArray{Float32,4}(1,1,128,512)), 0, 1, 1))), Any[ResLayerX4(ResLayerX2(ResLayerX1(ResLayerX0(BatchNormLayer(K32(256)[0.56359804⋯], Knet.Ops20.BNMoments(0.1f0, K32(1,1,128,1)[-0.5315224⋯], K32(1,1,128,1)[0.26543012⋯], zeros, ones)), P(KnetArray{Float32,4}(1,1,512,128)), 0, 1, 1), false), ResLayerX1(ResLayerX0(BatchNormLayer(K32(256)[0.7005138⋯], Knet.Ops20.BNMoments(0.1f0, K32(1,1,128,1)[-0.09721061⋯], K32(1,1,128,1)[0.074880674⋯], zeros, ones)), P(KnetArray{Float32,4}(3,3,128,128)), 1, 1, 1), false), ResLayerX0(BatchNormLayer(K32(1024)[0.016115788⋯], Knet.Ops20.BNMoments(0.1f0, K32(1,1,512,1)[0.020794475⋯], K32(1,1,512,1)[0.0012082928⋯], zeros, ones)), P(KnetArray{Float32,4}(1,1,128,512)), 0, 1, 1))), ResLayerX4(ResLayerX2(ResLayerX1(ResLayerX0(BatchNormLayer(K32(256)[1.1890522⋯], Knet.Ops20.BNMoments(0.1f0, K32(1,1,128,1)[-0.7308036⋯], K32(1,1,128,1)[2.415888⋯], zeros, ones)), P(KnetArray{Float32,4}(1,1,512,128)), 0, 1, 1), false), ResLayerX1(ResLayerX0(BatchNormLayer(K32(256)[0.71511155⋯], Knet.Ops20.BNMoments(0.1f0, K32(1,1,128,1)[0.4738664⋯], K32(1,1,128,1)[0.23494287⋯], zeros, ones)), P(KnetArray{Float32,4}(3,3,128,128)), 1, 1, 1), false), ResLayerX0(BatchNormLayer(K32(1024)[0.030476352⋯], Knet.Ops20.BNMoments(0.1f0, K32(1,1,512,1)[0.002361531⋯], K32(1,1,512,1)[0.0021012304⋯], zeros, ones)), P(KnetArray{Float32,4}(1,1,128,512)), 0, 1, 1))), ResLayerX4(ResLayerX2(ResLayerX1(ResLayerX0(BatchNormLayer(K32(256)[0.9669935⋯], Knet.Ops20.BNMoments(0.1f0, K32(1,1,128,1)[3.1791468⋯], K32(1,1,128,1)[1.1583811⋯], zeros, ones)), P(KnetArray{Float32,4}(1,1,512,128)), 0, 1, 1), false), ResLayerX1(ResLayerX0(BatchNormLayer(K32(256)[0.8333711⋯], Knet.Ops20.BNMoments(0.1f0, K32(1,1,128,1)[1.0052108⋯], K32(1,1,128,1)[0.52202225⋯], zeros, ones)), P(KnetArray{Float32,4}(3,3,128,128)), 1, 1, 1), false), ResLayerX0(BatchNormLayer(K32(1024)[0.22570835⋯], Knet.Ops20.BNMoments(0.1f0, K32(1,1,512,1)[0.0046768948⋯], K32(1,1,512,1)[0.009853633⋯], zeros, ones)), P(KnetArray{Float32,4}(1,1,128,512)), 0, 1, 1))), ResLayerX4(ResLayerX2(ResLayerX1(ResLayerX0(BatchNormLayer(K32(256)[0.73259145⋯], Knet.Ops20.BNMoments(0.1f0, K32(1,1,128,1)[1.6027555⋯], K32(1,1,128,1)[0.5158253⋯], zeros, ones)), P(KnetArray{Float32,4}(1,1,512,128)), 0, 1, 1), false), ResLayerX1(ResLayerX0(BatchNormLayer(K32(256)[0.9327405⋯], Knet.Ops20.BNMoments(0.1f0, K32(1,1,128,1)[0.35920236⋯], K32(1,1,128,1)[0.23684041⋯], zeros, ones)), P(KnetArray{Float32,4}(3,3,128,128)), 1, 1, 1), false), ResLayerX0(BatchNormLayer(K32(1024)[0.5926833⋯], Knet.Ops20.BNMoments(0.1f0, K32(1,1,512,1)[-0.04156772⋯], K32(1,1,512,1)[0.021973118⋯], zeros, ones)), P(KnetArray{Float32,4}(1,1,128,512)), 0, 1, 1))), ResLayerX4(ResLayerX2(ResLayerX1(ResLayerX0(BatchNormLayer(K32(256)[0.9693⋯], Knet.Ops20.BNMoments(0.1f0, K32(1,1,128,1)[0.9053383⋯], K32(1,1,128,1)[1.5899342⋯], zeros, ones)), P(KnetArray{Float32,4}(1,1,512,128)), 0, 1, 1), false), ResLayerX1(ResLayerX0(BatchNormLayer(K32(256)[0.7809257⋯], Knet.Ops20.BNMoments(0.1f0, K32(1,1,128,1)[-0.07630751⋯], K32(1,1,128,1)[0.25681433⋯], zeros, ones)), P(KnetArray{Float32,4}(3,3,128,128)), 1, 1, 1), false), ResLayerX0(BatchNormLayer(K32(1024)[0.17876975⋯], Knet.Ops20.BNMoments(0.1f0, K32(1,1,512,1)[0.07923379⋯], K32(1,1,512,1)[0.0091699455⋯], zeros, ones)), P(KnetArray{Float32,4}(1,1,128,512)), 0, 1, 1))), ResLayerX4(ResLayerX2(ResLayerX1(ResLayerX0(BatchNormLayer(K32(256)[0.82425255⋯], Knet.Ops20.BNMoments(0.1f0, K32(1,1,128,1)[-0.9015361⋯], K32(1,1,128,1)[1.4976197⋯], zeros, ones)), P(KnetArray{Float32,4}(1,1,512,128)), 0, 1, 1), false), ResLayerX1(ResLayerX0(BatchNormLayer(K32(256)[0.7335108⋯], Knet.Ops20.BNMoments(0.1f0, K32(1,1,128,1)[-0.46079066⋯], K32(1,1,128,1)[0.108467236⋯], zeros, ones)), P(KnetArray{Float32,4}(3,3,128,128)), 1, 1, 1), false), ResLayerX0(BatchNormLayer(K32(1024)[0.20435934⋯], Knet.Ops20.BNMoments(0.1f0, K32(1,1,512,1)[-0.038039368⋯], K32(1,1,512,1)[0.0078125335⋯], zeros, ones)), P(KnetArray{Float32,4}(1,1,128,512)), 0, 1, 1))), ResLayerX4(ResLayerX2(ResLayerX1(ResLayerX0(BatchNormLayer(K32(256)[0.58085⋯], Knet.Ops20.BNMoments(0.1f0, K32(1,1,128,1)[0.5066856⋯], K32(1,1,128,1)[1.5227166⋯], zeros, ones)), P(KnetArray{Float32,4}(1,1,512,128)), 0, 1, 1), false), ResLayerX1(ResLayerX0(BatchNormLayer(K32(256)[0.6822663⋯], Knet.Ops20.BNMoments(0.1f0, K32(1,1,128,1)[0.037175935⋯], K32(1,1,128,1)[0.3088879⋯], zeros, ones)), P(KnetArray{Float32,4}(3,3,128,128)), 1, 1, 1), false), ResLayerX0(BatchNormLayer(K32(1024)[-0.0004072204⋯], Knet.Ops20.BNMoments(0.1f0, K32(1,1,512,1)[-0.002085132⋯], K32(1,1,512,1)[0.00018051727⋯], zeros, ones)), P(KnetArray{Float32,4}(1,1,128,512)), 0, 1, 1)))], false, Conv2(P(KnetArray{Float32,4}(1,1,512,14)), P(KnetArray{Float32,4}(1,1,14,1)), identity, false), Conv2(P(KnetArray{Float32,4}(1,1,512,56)), P(KnetArray{Float32,4}(1,1,56,1)), identity, false), 3), ResLayerX5(ResLayerX3(ResLayerX0(BatchNormLayer(K32(2048)[1.7810009⋯], Knet.Ops20.BNMoments(0.1f0, K32(1,1,1024,1)[-0.24887334⋯], K32(1,1,1024,1)[1.211001⋯], zeros, ones)), P(KnetArray{Float32,4}(1,1,512,1024)), 0, 2, 1), ResLayerX2(ResLayerX1(ResLayerX0(BatchNormLayer(K32(512)[0.94548124⋯], Knet.Ops20.BNMoments(0.1f0, K32(1,1,256,1)[-3.138628⋯], K32(1,1,256,1)[2.3024294⋯], zeros, ones)), P(KnetArray{Float32,4}(1,1,512,256)), 0, 2, 1), false), ResLayerX1(ResLayerX0(BatchNormLayer(K32(512)[0.7724267⋯], Knet.Ops20.BNMoments(0.1f0, K32(1,1,256,1)[-0.622209⋯], K32(1,1,256,1)[0.15503909⋯], zeros, ones)), P(KnetArray{Float32,4}(3,3,256,256)), 1, 1, 1), false), ResLayerX0(BatchNormLayer(K32(2048)[1.5553025⋯], Knet.Ops20.BNMoments(0.1f0, K32(1,1,1024,1)[-0.012382701⋯], K32(1,1,1024,1)[0.030599698⋯], zeros, ones)), P(KnetArray{Float32,4}(1,1,256,1024)), 0, 1, 1))), Any[ResLayerX4(ResLayerX2(ResLayerX1(ResLayerX0(BatchNormLayer(K32(512)[1.4246888⋯], Knet.Ops20.BNMoments(0.1f0, K32(1,1,256,1)[0.07380492⋯], K32(1,1,256,1)[1.4630792⋯], zeros, ones)), P(KnetArray{Float32,4}(1,1,1024,256)), 0, 1, 1), false), ResLayerX1(ResLayerX0(BatchNormLayer(K32(512)[0.7673662⋯], Knet.Ops20.BNMoments(0.1f0, K32(1,1,256,1)[0.027405694⋯], K32(1,1,256,1)[0.04376017⋯], zeros, ones)), P(KnetArray{Float32,4}(3,3,256,256)), 1, 1, 1), false), ResLayerX0(BatchNormLayer(K32(2048)[0.7725832⋯], Knet.Ops20.BNMoments(0.1f0, K32(1,1,1024,1)[-0.009981382⋯], K32(1,1,1024,1)[0.015920198⋯], zeros, ones)), P(KnetArray{Float32,4}(1,1,256,1024)), 0, 1, 1))), ResLayerX4(ResLayerX2(ResLayerX1(ResLayerX0(BatchNormLayer(K32(512)[1.2374889⋯], Knet.Ops20.BNMoments(0.1f0, K32(1,1,256,1)[0.39407915⋯], K32(1,1,256,1)[3.1180305⋯], zeros, ones)), P(KnetArray{Float32,4}(1,1,1024,256)), 0, 1, 1), false), ResLayerX1(ResLayerX0(BatchNormLayer(K32(512)[0.86744326⋯], Knet.Ops20.BNMoments(0.1f0, K32(1,1,256,1)[-0.17037451⋯], K32(1,1,256,1)[0.031471238⋯], zeros, ones)), P(KnetArray{Float32,4}(3,3,256,256)), 1, 1, 1), false), ResLayerX0(BatchNormLayer(K32(2048)[0.7097798⋯], Knet.Ops20.BNMoments(0.1f0, K32(1,1,1024,1)[-0.021314817⋯], K32(1,1,1024,1)[0.01872849⋯], zeros, ones)), P(KnetArray{Float32,4}(1,1,256,1024)), 0, 1, 1))), ResLayerX4(ResLayerX2(ResLayerX1(ResLayerX0(BatchNormLayer(K32(512)[0.80741876⋯], Knet.Ops20.BNMoments(0.1f0, K32(1,1,256,1)[-0.45904085⋯], K32(1,1,256,1)[0.94996864⋯], zeros, ones)), P(KnetArray{Float32,4}(1,1,1024,256)), 0, 1, 1), false), ResLayerX1(ResLayerX0(BatchNormLayer(K32(512)[0.6731622⋯], Knet.Ops20.BNMoments(0.1f0, K32(1,1,256,1)[-0.3064684⋯], K32(1,1,256,1)[0.18862064⋯], zeros, ones)), P(KnetArray{Float32,4}(3,3,256,256)), 1, 1, 1), false), ResLayerX0(BatchNormLayer(K32(2048)[0.6795492⋯], Knet.Ops20.BNMoments(0.1f0, K32(1,1,1024,1)[0.031331565⋯], K32(1,1,1024,1)[0.018986758⋯], zeros, ones)), P(KnetArray{Float32,4}(1,1,256,1024)), 0, 1, 1))), ResLayerX4(ResLayerX2(ResLayerX1(ResLayerX0(BatchNormLayer(K32(512)[0.870853⋯], Knet.Ops20.BNMoments(0.1f0, K32(1,1,256,1)[-0.13892706⋯], K32(1,1,256,1)[1.2819731⋯], zeros, ones)), P(KnetArray{Float32,4}(1,1,1024,256)), 0, 1, 1), false), ResLayerX1(ResLayerX0(BatchNormLayer(K32(512)[1.0021104⋯], Knet.Ops20.BNMoments(0.1f0, K32(1,1,256,1)[-0.24592336⋯], K32(1,1,256,1)[0.35926363⋯], zeros, ones)), P(KnetArray{Float32,4}(3,3,256,256)), 1, 1, 1), false), ResLayerX0(BatchNormLayer(K32(2048)[0.70266616⋯], Knet.Ops20.BNMoments(0.1f0, K32(1,1,1024,1)[-0.006251336⋯], K32(1,1,1024,1)[0.021103183⋯], zeros, ones)), P(KnetArray{Float32,4}(1,1,256,1024)), 0, 1, 1))), ResLayerX4(ResLayerX2(ResLayerX1(ResLayerX0(BatchNormLayer(K32(512)[0.8874627⋯], Knet.Ops20.BNMoments(0.1f0, K32(1,1,256,1)[-1.3858132⋯], K32(1,1,256,1)[0.820474⋯], zeros, ones)), P(KnetArray{Float32,4}(1,1,1024,256)), 0, 1, 1), false), ResLayerX1(ResLayerX0(BatchNormLayer(K32(512)[0.75652796⋯], Knet.Ops20.BNMoments(0.1f0, K32(1,1,256,1)[-0.68536794⋯], K32(1,1,256,1)[0.1913449⋯], zeros, ones)), P(KnetArray{Float32,4}(3,3,256,256)), 1, 1, 1), false), ResLayerX0(BatchNormLayer(K32(2048)[1.5609977⋯], Knet.Ops20.BNMoments(0.1f0, K32(1,1,1024,1)[0.05050224⋯], K32(1,1,1024,1)[0.021820413⋯], zeros, ones)), P(KnetArray{Float32,4}(1,1,256,1024)), 0, 1, 1))), ResLayerX4(ResLayerX2(ResLayerX1(ResLayerX0(BatchNormLayer(K32(512)[1.0232476⋯], Knet.Ops20.BNMoments(0.1f0, K32(1,1,256,1)[-2.1572073⋯], K32(1,1,256,1)[2.5745714⋯], zeros, ones)), P(KnetArray{Float32,4}(1,1,1024,256)), 0, 1, 1), false), ResLayerX1(ResLayerX0(BatchNormLayer(K32(512)[0.6506875⋯], Knet.Ops20.BNMoments(0.1f0, K32(1,1,256,1)[-0.22342908⋯], K32(1,1,256,1)[0.0828381⋯], zeros, ones)), P(KnetArray{Float32,4}(3,3,256,256)), 1, 1, 1), false), ResLayerX0(BatchNormLayer(K32(2048)[0.8131646⋯], Knet.Ops20.BNMoments(0.1f0, K32(1,1,1024,1)[-0.014021959⋯], K32(1,1,1024,1)[0.0077279788⋯], zeros, ones)), P(KnetArray{Float32,4}(1,1,256,1024)), 0, 1, 1))), ResLayerX4(ResLayerX2(ResLayerX1(ResLayerX0(BatchNormLayer(K32(512)[0.9115223⋯], Knet.Ops20.BNMoments(0.1f0, K32(1,1,256,1)[0.010274442⋯], K32(1,1,256,1)[1.3853053⋯], zeros, ones)), P(KnetArray{Float32,4}(1,1,1024,256)), 0, 1, 1), false), ResLayerX1(ResLayerX0(BatchNormLayer(K32(512)[0.84967065⋯], Knet.Ops20.BNMoments(0.1f0, K32(1,1,256,1)[-0.26604694⋯], K32(1,1,256,1)[0.285174⋯], zeros, ones)), P(KnetArray{Float32,4}(3,3,256,256)), 1, 1, 1), false), ResLayerX0(BatchNormLayer(K32(2048)[0.77309495⋯], Knet.Ops20.BNMoments(0.1f0, K32(1,1,1024,1)[0.05724101⋯], K32(1,1,1024,1)[0.0061648106⋯], zeros, ones)), P(KnetArray{Float32,4}(1,1,256,1024)), 0, 1, 1))), ResLayerX4(ResLayerX2(ResLayerX1(ResLayerX0(BatchNormLayer(K32(512)[0.86520207⋯], Knet.Ops20.BNMoments(0.1f0, K32(1,1,256,1)[-0.6458914⋯], K32(1,1,256,1)[0.4863804⋯], zeros, ones)), P(KnetArray{Float32,4}(1,1,1024,256)), 0, 1, 1), false), ResLayerX1(ResLayerX0(BatchNormLayer(K32(512)[0.8747692⋯], Knet.Ops20.BNMoments(0.1f0, K32(1,1,256,1)[-0.49025467⋯], K32(1,1,256,1)[0.35987943⋯], zeros, ones)), P(KnetArray{Float32,4}(3,3,256,256)), 1, 1, 1), false), ResLayerX0(BatchNormLayer(K32(2048)[1.2498132⋯], Knet.Ops20.BNMoments(0.1f0, K32(1,1,1024,1)[0.07074769⋯], K32(1,1,1024,1)[0.007936738⋯], zeros, ones)), P(KnetArray{Float32,4}(1,1,256,1024)), 0, 1, 1))), ResLayerX4(ResLayerX2(ResLayerX1(ResLayerX0(BatchNormLayer(K32(512)[1.0384054⋯], Knet.Ops20.BNMoments(0.1f0, K32(1,1,256,1)[-0.19510926⋯], K32(1,1,256,1)[1.5172632⋯], zeros, ones)), P(KnetArray{Float32,4}(1,1,1024,256)), 0, 1, 1), false), ResLayerX1(ResLayerX0(BatchNormLayer(K32(512)[0.6523691⋯], Knet.Ops20.BNMoments(0.1f0, K32(1,1,256,1)[-0.8106123⋯], K32(1,1,256,1)[0.22083724⋯], zeros, ones)), P(KnetArray{Float32,4}(3,3,256,256)), 1, 1, 1), false), ResLayerX0(BatchNormLayer(K32(2048)[1.1419934⋯], Knet.Ops20.BNMoments(0.1f0, K32(1,1,1024,1)[-0.124334134⋯], K32(1,1,1024,1)[0.009295439⋯], zeros, ones)), P(KnetArray{Float32,4}(1,1,256,1024)), 0, 1, 1))), ResLayerX4(ResLayerX2(ResLayerX1(ResLayerX0(BatchNormLayer(K32(512)[0.8272233⋯], Knet.Ops20.BNMoments(0.1f0, K32(1,1,256,1)[1.2008789⋯], K32(1,1,256,1)[2.0802045⋯], zeros, ones)), P(KnetArray{Float32,4}(1,1,1024,256)), 0, 1, 1), false), ResLayerX1(ResLayerX0(BatchNormLayer(K32(512)[0.94362086⋯], Knet.Ops20.BNMoments(0.1f0, K32(1,1,256,1)[-0.65350544⋯], K32(1,1,256,1)[1.1168368⋯], zeros, ones)), P(KnetArray{Float32,4}(3,3,256,256)), 1, 1, 1), false), ResLayerX0(BatchNormLayer(K32(2048)[0.69480497⋯], Knet.Ops20.BNMoments(0.1f0, K32(1,1,1024,1)[-0.027189398⋯], K32(1,1,1024,1)[0.0023333179⋯], zeros, ones)), P(KnetArray{Float32,4}(1,1,256,1024)), 0, 1, 1)))  …  ResLayerX4(ResLayerX2(ResLayerX1(ResLayerX0(BatchNormLayer(K32(512)[0.6540935⋯], Knet.Ops20.BNMoments(0.1f0, K32(1,1,256,1)[-0.6302995⋯], K32(1,1,256,1)[2.049579⋯], zeros, ones)), P(KnetArray{Float32,4}(1,1,1024,256)), 0, 1, 1), false), ResLayerX1(ResLayerX0(BatchNormLayer(K32(512)[0.9379903⋯], Knet.Ops20.BNMoments(0.1f0, K32(1,1,256,1)[-0.33369917⋯], K32(1,1,256,1)[0.091371365⋯], zeros, ones)), P(KnetArray{Float32,4}(3,3,256,256)), 1, 1, 1), false), ResLayerX0(BatchNormLayer(K32(2048)[0.8958734⋯], Knet.Ops20.BNMoments(0.1f0, K32(1,1,1024,1)[-0.078111865⋯], K32(1,1,1024,1)[0.003557909⋯], zeros, ones)), P(KnetArray{Float32,4}(1,1,256,1024)), 0, 1, 1))), ResLayerX4(ResLayerX2(ResLayerX1(ResLayerX0(BatchNormLayer(K32(512)[0.7287603⋯], Knet.Ops20.BNMoments(0.1f0, K32(1,1,256,1)[0.8360488⋯], K32(1,1,256,1)[2.3270147⋯], zeros, ones)), P(KnetArray{Float32,4}(1,1,1024,256)), 0, 1, 1), false), ResLayerX1(ResLayerX0(BatchNormLayer(K32(512)[0.9814484⋯], Knet.Ops20.BNMoments(0.1f0, K32(1,1,256,1)[-0.1886398⋯], K32(1,1,256,1)[0.035826065⋯], zeros, ones)), P(KnetArray{Float32,4}(3,3,256,256)), 1, 1, 1), false), ResLayerX0(BatchNormLayer(K32(2048)[0.91178536⋯], Knet.Ops20.BNMoments(0.1f0, K32(1,1,1024,1)[-0.0066131614⋯], K32(1,1,1024,1)[0.0066633862⋯], zeros, ones)), P(KnetArray{Float32,4}(1,1,256,1024)), 0, 1, 1))), ResLayerX4(ResLayerX2(ResLayerX1(ResLayerX0(BatchNormLayer(K32(512)[0.9602488⋯], Knet.Ops20.BNMoments(0.1f0, K32(1,1,256,1)[-0.29446372⋯], K32(1,1,256,1)[2.7727478⋯], zeros, ones)), P(KnetArray{Float32,4}(1,1,1024,256)), 0, 1, 1), false), ResLayerX1(ResLayerX0(BatchNormLayer(K32(512)[0.8972545⋯], Knet.Ops20.BNMoments(0.1f0, K32(1,1,256,1)[-0.06263787⋯], K32(1,1,256,1)[0.014817584⋯], zeros, ones)), P(KnetArray{Float32,4}(3,3,256,256)), 1, 1, 1), false), ResLayerX0(BatchNormLayer(K32(2048)[0.88989025⋯], Knet.Ops20.BNMoments(0.1f0, K32(1,1,1024,1)[-0.046319176⋯], K32(1,1,1024,1)[0.0040227105⋯], zeros, ones)), P(KnetArray{Float32,4}(1,1,256,1024)), 0, 1, 1))), ResLayerX4(ResLayerX2(ResLayerX1(ResLayerX0(BatchNormLayer(K32(512)[0.8635278⋯], Knet.Ops20.BNMoments(0.1f0, K32(1,1,256,1)[-0.3181743⋯], K32(1,1,256,1)[2.479362⋯], zeros, ones)), P(KnetArray{Float32,4}(1,1,1024,256)), 0, 1, 1), false), ResLayerX1(ResLayerX0(BatchNormLayer(K32(512)[0.9083661⋯], Knet.Ops20.BNMoments(0.1f0, K32(1,1,256,1)[-0.14120609⋯], K32(1,1,256,1)[0.065453954⋯], zeros, ones)), P(KnetArray{Float32,4}(3,3,256,256)), 1, 1, 1), false), ResLayerX0(BatchNormLayer(K32(2048)[0.8713397⋯], Knet.Ops20.BNMoments(0.1f0, K32(1,1,1024,1)[-0.08758889⋯], K32(1,1,1024,1)[0.0065369406⋯], zeros, ones)), P(KnetArray{Float32,4}(1,1,256,1024)), 0, 1, 1))), ResLayerX4(ResLayerX2(ResLayerX1(ResLayerX0(BatchNormLayer(K32(512)[0.6669928⋯], Knet.Ops20.BNMoments(0.1f0, K32(1,1,256,1)[0.11909393⋯], K32(1,1,256,1)[1.899528⋯], zeros, ones)), P(KnetArray{Float32,4}(1,1,1024,256)), 0, 1, 1), false), ResLayerX1(ResLayerX0(BatchNormLayer(K32(512)[0.8474719⋯], Knet.Ops20.BNMoments(0.1f0, K32(1,1,256,1)[-0.13896248⋯], K32(1,1,256,1)[0.027742295⋯], zeros, ones)), P(KnetArray{Float32,4}(3,3,256,256)), 1, 1, 1), false), ResLayerX0(BatchNormLayer(K32(2048)[0.98618877⋯], Knet.Ops20.BNMoments(0.1f0, K32(1,1,1024,1)[-0.019032594⋯], K32(1,1,1024,1)[0.005650396⋯], zeros, ones)), P(KnetArray{Float32,4}(1,1,256,1024)), 0, 1, 1))), ResLayerX4(ResLayerX2(ResLayerX1(ResLayerX0(BatchNormLayer(K32(512)[0.8072319⋯], Knet.Ops20.BNMoments(0.1f0, K32(1,1,256,1)[2.0454466⋯], K32(1,1,256,1)[2.602619⋯], zeros, ones)), P(KnetArray{Float32,4}(1,1,1024,256)), 0, 1, 1), false), ResLayerX1(ResLayerX0(BatchNormLayer(K32(512)[1.0316767⋯], Knet.Ops20.BNMoments(0.1f0, K32(1,1,256,1)[0.07394127⋯], K32(1,1,256,1)[0.05531656⋯], zeros, ones)), P(KnetArray{Float32,4}(3,3,256,256)), 1, 1, 1), false), ResLayerX0(BatchNormLayer(K32(2048)[0.91920465⋯], Knet.Ops20.BNMoments(0.1f0, K32(1,1,1024,1)[-0.03838101⋯], K32(1,1,1024,1)[0.007311587⋯], zeros, ones)), P(KnetArray{Float32,4}(1,1,256,1024)), 0, 1, 1))), ResLayerX4(ResLayerX2(ResLayerX1(ResLayerX0(BatchNormLayer(K32(512)[0.6862609⋯], Knet.Ops20.BNMoments(0.1f0, K32(1,1,256,1)[0.2523162⋯], K32(1,1,256,1)[1.8734342⋯], zeros, ones)), P(KnetArray{Float32,4}(1,1,1024,256)), 0, 1, 1), false), ResLayerX1(ResLayerX0(BatchNormLayer(K32(512)[0.8775892⋯], Knet.Ops20.BNMoments(0.1f0, K32(1,1,256,1)[-0.045321405⋯], K32(1,1,256,1)[0.017587967⋯], zeros, ones)), P(KnetArray{Float32,4}(3,3,256,256)), 1, 1, 1), false), ResLayerX0(BatchNormLayer(K32(2048)[0.88861763⋯], Knet.Ops20.BNMoments(0.1f0, K32(1,1,1024,1)[-0.1071164⋯], K32(1,1,1024,1)[0.006877812⋯], zeros, ones)), P(KnetArray{Float32,4}(1,1,256,1024)), 0, 1, 1))), ResLayerX4(ResLayerX2(ResLayerX1(ResLayerX0(BatchNormLayer(K32(512)[0.75362337⋯], Knet.Ops20.BNMoments(0.1f0, K32(1,1,256,1)[1.6464415⋯], K32(1,1,256,1)[4.5484548⋯], zeros, ones)), P(KnetArray{Float32,4}(1,1,1024,256)), 0, 1, 1), false), ResLayerX1(ResLayerX0(BatchNormLayer(K32(512)[0.8486114⋯], Knet.Ops20.BNMoments(0.1f0, K32(1,1,256,1)[0.22485815⋯], K32(1,1,256,1)[0.07412784⋯], zeros, ones)), P(KnetArray{Float32,4}(3,3,256,256)), 1, 1, 1), false), ResLayerX0(BatchNormLayer(K32(2048)[0.897989⋯], Knet.Ops20.BNMoments(0.1f0, K32(1,1,1024,1)[-0.04280988⋯], K32(1,1,1024,1)[0.0018807754⋯], zeros, ones)), P(KnetArray{Float32,4}(1,1,256,1024)), 0, 1, 1))), ResLayerX4(ResLayerX2(ResLayerX1(ResLayerX0(BatchNormLayer(K32(512)[0.81578964⋯], Knet.Ops20.BNMoments(0.1f0, K32(1,1,256,1)[1.1529919⋯], K32(1,1,256,1)[3.2201457⋯], zeros, ones)), P(KnetArray{Float32,4}(1,1,1024,256)), 0, 1, 1), false), ResLayerX1(ResLayerX0(BatchNormLayer(K32(512)[0.91154766⋯], Knet.Ops20.BNMoments(0.1f0, K32(1,1,256,1)[-0.24473596⋯], K32(1,1,256,1)[0.0373901⋯], zeros, ones)), P(KnetArray{Float32,4}(3,3,256,256)), 1, 1, 1), false), ResLayerX0(BatchNormLayer(K32(2048)[0.9674913⋯], Knet.Ops20.BNMoments(0.1f0, K32(1,1,1024,1)[0.07328946⋯], K32(1,1,1024,1)[0.00882925⋯], zeros, ones)), P(KnetArray{Float32,4}(1,1,256,1024)), 0, 1, 1))), ResLayerX4(ResLayerX2(ResLayerX1(ResLayerX0(BatchNormLayer(K32(512)[0.73280615⋯], Knet.Ops20.BNMoments(0.1f0, K32(1,1,256,1)[-0.4414591⋯], K32(1,1,256,1)[3.658228⋯], zeros, ones)), P(KnetArray{Float32,4}(1,1,1024,256)), 0, 1, 1), false), ResLayerX1(ResLayerX0(BatchNormLayer(K32(512)[0.8489513⋯], Knet.Ops20.BNMoments(0.1f0, K32(1,1,256,1)[-0.12108638⋯], K32(1,1,256,1)[0.022257932⋯], zeros, ones)), P(KnetArray{Float32,4}(3,3,256,256)), 1, 1, 1), false), ResLayerX0(BatchNormLayer(K32(2048)[1.1682997⋯], Knet.Ops20.BNMoments(0.1f0, K32(1,1,1024,1)[-0.10621665⋯], K32(1,1,1024,1)[0.017253112⋯], zeros, ones)), P(KnetArray{Float32,4}(1,1,256,1024)), 0, 1, 1)))], false, nothing, nothing, nothing), ResLayerX5(ResLayerX3(ResLayerX0(BatchNormLayer(K32(4096)[2.251057⋯], Knet.Ops20.BNMoments(0.1f0, K32(1,1,2048,1)[-2.023937⋯], K32(1,1,2048,1)[2.3869143⋯], zeros, ones)), P(KnetArray{Float32,4}(1,1,1024,2048)), 0, 1, 1), ResLayerX2(ResLayerX1(ResLayerX0(BatchNormLayer(K32(1024)[1.0057768⋯], Knet.Ops20.BNMoments(0.1f0, K32(1,1,512,1)[-3.3847663⋯], K32(1,1,512,1)[8.307946⋯], zeros, ones)), P(KnetArray{Float32,4}(1,1,1024,512)), 0, 1, 1), false), ResLayerX1(ResLayerX0(BatchNormLayer(K32(1024)[1.0137023⋯], Knet.Ops20.BNMoments(0.1f0, K32(1,1,512,1)[-0.5096411⋯], K32(1,1,512,1)[0.33958697⋯], zeros, ones)), P(KnetArray{Float32,4}(3,3,512,512)), 1, 1, 1), false), ResLayerX0(BatchNormLayer(K32(4096)[1.951174⋯], Knet.Ops20.BNMoments(0.1f0, K32(1,1,2048,1)[-0.04734141⋯], K32(1,1,2048,1)[0.015023513⋯], zeros, ones)), P(KnetArray{Float32,4}(1,1,512,2048)), 0, 1, 1))), Any[ResLayerX4(ResLayerX2(ResLayerX1(ResLayerX0(BatchNormLayer(K32(1024)[0.8647778⋯], Knet.Ops20.BNMoments(0.1f0, K32(1,1,512,1)[-1.6332917⋯], K32(1,1,512,1)[2.1174083⋯], zeros, ones)), P(KnetArray{Float32,4}(1,1,2048,512)), 0, 1, 1), false), ResLayerX1(ResLayerX0(BatchNormLayer(K32(1024)[0.8405288⋯], Knet.Ops20.BNMoments(0.1f0, K32(1,1,512,1)[-0.4993158⋯], K32(1,1,512,1)[0.10161749⋯], zeros, ones)), P(KnetArray{Float32,4}(3,3,512,512)), 2, 1, 2), false), ResLayerX0(BatchNormLayer(K32(4096)[1.1863648⋯], Knet.Ops20.BNMoments(0.1f0, K32(1,1,2048,1)[-0.025762487⋯], K32(1,1,2048,1)[0.0056408513⋯], zeros, ones)), P(KnetArray{Float32,4}(1,1,512,2048)), 0, 1, 1))), ResLayerX4(ResLayerX2(ResLayerX1(ResLayerX0(BatchNormLayer(K32(1024)[0.92608565⋯], Knet.Ops20.BNMoments(0.1f0, K32(1,1,512,1)[-1.151196⋯], K32(1,1,512,1)[2.0494866⋯], zeros, ones)), P(KnetArray{Float32,4}(1,1,2048,512)), 0, 1, 1), false), ResLayerX1(ResLayerX0(BatchNormLayer(K32(1024)[1.0832604⋯], Knet.Ops20.BNMoments(0.1f0, K32(1,1,512,1)[-0.4323208⋯], K32(1,1,512,1)[0.109557636⋯], zeros, ones)), P(KnetArray{Float32,4}(3,3,512,512)), 2, 1, 2), false), ResLayerX0(BatchNormLayer(K32(4096)[1.4361827⋯], Knet.Ops20.BNMoments(0.1f0, K32(1,1,2048,1)[-0.04855993⋯], K32(1,1,2048,1)[0.010849337⋯], zeros, ones)), P(KnetArray{Float32,4}(1,1,512,2048)), 0, 1, 1)))], false, nothing, nothing, 5), DeeperCutHead(Deconv(P(KnetArray{Float32,4}(4,4,14,2048)), 2, 1, \"part_detect_deconv\"), Deconv(P(KnetArray{Float32,4}(4,4,56,2048)), 2, 1, \"loc_ref_deconv\"), \"deeper_cut_head\", true)), 0, 0, deeper_cut_combined_loss, DeeperCutOption(false))"
      ]
     },
     "execution_count": 11,
     "metadata": {},
     "output_type": "execute_result"
    }
   ],
   "source": [
    "#interrupted_deeper_cut = Knet.load(\"$(pre_full_path)10-01-21-single-mean-mirrored-resnet-152-training_model.jld2\", \"10-01-21-single-mean-mirrored-resnet-152-training_model\")"
   ]
  },
  {
   "cell_type": "code",
   "execution_count": 21,
   "metadata": {},
   "outputs": [],
   "source": [
    "deepercut_with_loc_ref_50 = generate_deeper_cut(;should_use_resnet101 = false,\n",
    "    should_use_resnet50 = true,\n",
    "    is_loc_ref_enabled = true,\n",
    "    connect_res3_to_res5 = false);"
   ]
  },
  {
   "cell_type": "code",
   "execution_count": 26,
   "metadata": {},
   "outputs": [
    {
     "data": {
      "text/plain": [
       "0.8489113959699865"
      ]
     },
     "execution_count": 26,
     "metadata": {},
     "output_type": "execute_result"
    }
   ],
   "source": [
    "deepercut_with_loc_ref_50(dtst_single )"
   ]
  },
  {
   "cell_type": "code",
   "execution_count": 20,
   "metadata": {},
   "outputs": [
    {
     "name": "stdout",
     "output_type": "stream",
     "text": [
      "Effective GPU memory usage: 6.21% (938.000 MiB/14.756 GiB)\n",
      "CUDA allocator usage: 256.719 MiB\n",
      "binned usage: 4.375 KiB (4.375 KiB allocated, 0 bytes cached)\n",
      "Discrepancy of 256.715 MiB between memory pool and allocator!\n"
     ]
    }
   ],
   "source": [
    "clear_gpu_memory()"
   ]
  },
  {
   "cell_type": "code",
   "execution_count": null,
   "metadata": {},
   "outputs": [],
   "source": [
    "# TODO: experiment with subsection of the batch pls to get valid results"
   ]
  },
  {
   "cell_type": "code",
   "execution_count": null,
   "metadata": {},
   "outputs": [
    {
     "name": "stderr",
     "output_type": "stream",
     "text": [
      "┣█████▉              ┫ [29.89%, 10871/36370, 21:49/01:13:00, 6.79i/s] "
     ]
    }
   ],
   "source": [
    "#   [(0.005, 1), (0.02, 23), (0.002, 16), (0.001, 17)]  \n",
    "# Try this next lr=0.001 for 10k, then lr=0.002 for 420k, lr=0.0002 for 300k and lr=0.0001 for 300k\n",
    "deeper_cut_with_loc_ref_results = trainresults(\n",
    "        \"15-01-21-res50-exp1\",\n",
    "        deepercut_with_loc_ref_50,\n",
    "        mirrored_dtrn_single,\n",
    "        dtst_single,\n",
    "          [(0.001, 1), (0.002, 12)];\n",
    "        accuracy_func = nothing,\n",
    "        error_func = nothing,\n",
    "        secondary_accuracy_func = modelized_PCKh_sigm,\n",
    "        data_items_trn = nothing,\n",
    "        data_items_val = test_data_items_single,\n",
    "        check_loss = false\n",
    "    )"
   ]
  },
  {
   "cell_type": "code",
   "execution_count": 19,
   "metadata": {},
   "outputs": [
    {
     "data": {
      "text/plain": [
       "0.0281478542778641"
      ]
     },
     "execution_count": 19,
     "metadata": {},
     "output_type": "execute_result"
    }
   ],
   "source": [
    "deepercut_with_loc_ref_50(dtst_single)"
   ]
  },
  {
   "cell_type": "code",
   "execution_count": 21,
   "metadata": {
    "collapsed": true,
    "jupyter": {
     "outputs_hidden": true
    }
   },
   "outputs": [
    {
     "data": {
      "text/plain": [
       "(0.5006981103594648, Dict{Any,Any}(\"multi\" => Dict{Any,Any}(0.6 => Dict{Any,Any}(2 => (0, 0),11 => (0, 0),7 => (0, 0),9 => (0, 0),10 => (0, 0),8 => (0, 0),6 => (0, 0),4 => (0, 0),3 => (0, 0),5 => (0, 0)…),0.3 => Dict{Any,Any}(2 => (0, 0),11 => (0, 0),7 => (0, 0),9 => (0, 0),10 => (0, 0),8 => (0, 0),6 => (0, 0),4 => (0, 0),3 => (0, 0),5 => (0, 0)…),0.7 => Dict{Any,Any}(2 => (0, 0),11 => (0, 0),7 => (0, 0),9 => (0, 0),10 => (0, 0),8 => (0, 0),6 => (0, 0),4 => (0, 0),3 => (0, 0),5 => (0, 0)…),0.0 => Dict{Any,Any}(2 => (0, 0),11 => (0, 0),7 => (0, 0),9 => (0, 0),10 => (0, 0),8 => (0, 0),6 => (0, 0),4 => (0, 0),3 => (0, 0),5 => (0, 0)…),0.2 => Dict{Any,Any}(2 => (0, 0),11 => (0, 0),7 => (0, 0),9 => (0, 0),10 => (0, 0),8 => (0, 0),6 => (0, 0),4 => (0, 0),3 => (0, 0),5 => (0, 0)…),0.9 => Dict{Any,Any}(2 => (0, 0),11 => (0, 0),7 => (0, 0),9 => (0, 0),10 => (0, 0),8 => (0, 0),6 => (0, 0),4 => (0, 0),3 => (0, 0),5 => (0, 0)…),0.8 => Dict{Any,Any}(2 => (0, 0),11 => (0, 0),7 => (0, 0),9 => (0, 0),10 => (0, 0),8 => (0, 0),6 => (0, 0),4 => (0, 0),3 => (0, 0),5 => (0, 0)…),0.5 => Dict{Any,Any}(2 => (0, 0),11 => (0, 0),7 => (0, 0),9 => (0, 0),10 => (0, 0),8 => (0, 0),6 => (0, 0),4 => (0, 0),3 => (0, 0),5 => (0, 0)…),0.1 => Dict{Any,Any}(2 => (0, 0),11 => (0, 0),7 => (0, 0),9 => (0, 0),10 => (0, 0),8 => (0, 0),6 => (0, 0),4 => (0, 0),3 => (0, 0),5 => (0, 0)…),0.4 => Dict{Any,Any}(2 => (0, 0),11 => (0, 0),7 => (0, 0),9 => (0, 0),10 => (0, 0),8 => (0, 0),6 => (0, 0),4 => (0, 0),3 => (0, 0),5 => (0, 0)…)…),\"mixed\" => Dict{Any,Any}(0.6 => Dict{Any,Any}(2 => (248, 628),11 => (399, 747),7 => (381, 746),9 => (513, 752),10 => (501, 751),8 => (360, 748),6 => (233, 530),4 => (361, 733),3 => (348, 732),5 => (262, 630)…),0.3 => Dict{Any,Any}(2 => (117, 628),11 => (221, 747),7 => (237, 746),9 => (323, 752),10 => (297, 751),8 => (203, 748),6 => (129, 530),4 => (158, 733),3 => (163, 732),5 => (132, 630)…),0.7 => Dict{Any,Any}(2 => (268, 628),11 => (419, 747),7 => (401, 746),9 => (540, 752),10 => (526, 751),8 => (387, 748),6 => (241, 530),4 => (409, 733),3 => (397, 732),5 => (283, 630)…),0.0 => Dict{Any,Any}(2 => (0, 628),11 => (0, 747),7 => (0, 746),9 => (0, 752),10 => (0, 751),8 => (0, 748),6 => (0, 530),4 => (0, 733),3 => (0, 732),5 => (0, 630)…),0.2 => Dict{Any,Any}(2 => (68, 628),11 => (122, 747),7 => (154, 746),9 => (207, 752),10 => (179, 751),8 => (129, 748),6 => (68, 530),4 => (88, 733),3 => (88, 732),5 => (79, 630)…),0.9 => Dict{Any,Any}(2 => (319, 628),11 => (473, 747),7 => (435, 746),9 => (582, 752),10 => (567, 751),8 => (426, 748),6 => (270, 530),4 => (482, 733),3 => (451, 732),5 => (332, 630)…),0.8 => Dict{Any,Any}(2 => (297, 628),11 => (445, 747),7 => (420, 746),9 => (566, 752),10 => (548, 751),8 => (410, 748),6 => (260, 530),4 => (449, 733),3 => (425, 732),5 => (309, 630)…),0.5 => Dict{Any,Any}(2 => (209, 628),11 => (354, 747),7 => (339, 746),9 => (471, 752),10 => (454, 751),8 => (322, 748),6 => (205, 530),4 => (294, 733),3 => (290, 732),5 => (219, 630)…),0.1 => Dict{Any,Any}(2 => (23, 628),11 => (39, 747),7 => (37, 746),9 => (61, 752),10 => (68, 751),8 => (44, 748),6 => (19, 530),4 => (17, 733),3 => (28, 732),5 => (23, 630)…),0.4 => Dict{Any,Any}(2 => (172, 628),11 => (289, 747),7 => (298, 746),9 => (407, 752),10 => (401, 751),8 => (274, 748),6 => (174, 530),4 => (213, 733),3 => (225, 732),5 => (172, 630)…)…),\"single\" => Dict{Any,Any}(0.6 => Dict{Any,Any}(2 => (248, 628),11 => (399, 747),7 => (381, 746),9 => (513, 752),10 => (501, 751),8 => (360, 748),6 => (233, 530),4 => (361, 733),3 => (348, 732),5 => (262, 630)…),0.3 => Dict{Any,Any}(2 => (117, 628),11 => (221, 747),7 => (237, 746),9 => (323, 752),10 => (297, 751),8 => (203, 748),6 => (129, 530),4 => (158, 733),3 => (163, 732),5 => (132, 630)…),0.7 => Dict{Any,Any}(2 => (268, 628),11 => (419, 747),7 => (401, 746),9 => (540, 752),10 => (526, 751),8 => (387, 748),6 => (241, 530),4 => (409, 733),3 => (397, 732),5 => (283, 630)…),0.0 => Dict{Any,Any}(2 => (0, 628),11 => (0, 747),7 => (0, 746),9 => (0, 752),10 => (0, 751),8 => (0, 748),6 => (0, 530),4 => (0, 733),3 => (0, 732),5 => (0, 630)…),0.2 => Dict{Any,Any}(2 => (68, 628),11 => (122, 747),7 => (154, 746),9 => (207, 752),10 => (179, 751),8 => (129, 748),6 => (68, 530),4 => (88, 733),3 => (88, 732),5 => (79, 630)…),0.9 => Dict{Any,Any}(2 => (319, 628),11 => (473, 747),7 => (435, 746),9 => (582, 752),10 => (567, 751),8 => (426, 748),6 => (270, 530),4 => (482, 733),3 => (451, 732),5 => (332, 630)…),0.8 => Dict{Any,Any}(2 => (297, 628),11 => (445, 747),7 => (420, 746),9 => (566, 752),10 => (548, 751),8 => (410, 748),6 => (260, 530),4 => (449, 733),3 => (425, 732),5 => (309, 630)…),0.5 => Dict{Any,Any}(2 => (209, 628),11 => (354, 747),7 => (339, 746),9 => (471, 752),10 => (454, 751),8 => (322, 748),6 => (205, 530),4 => (294, 733),3 => (290, 732),5 => (219, 630)…),0.1 => Dict{Any,Any}(2 => (23, 628),11 => (39, 747),7 => (37, 746),9 => (61, 752),10 => (68, 751),8 => (44, 748),6 => (19, 530),4 => (17, 733),3 => (28, 732),5 => (23, 630)…),0.4 => Dict{Any,Any}(2 => (172, 628),11 => (289, 747),7 => (298, 746),9 => (407, 752),10 => (401, 751),8 => (274, 748),6 => (174, 530),4 => (213, 733),3 => (225, 732),5 => (172, 630)…)…)))"
      ]
     },
     "execution_count": 21,
     "metadata": {},
     "output_type": "execute_result"
    }
   ],
   "source": [
    "final, acc_dist_dict = modelized_PCKh_sigm(deeper_cut_with_loc_ref, dtst_single, val_data_items_single)"
   ]
  },
  {
   "cell_type": "code",
   "execution_count": 30,
   "metadata": {},
   "outputs": [
    {
     "data": {
      "text/plain": [
       "0.5006981103594648"
      ]
     },
     "execution_count": 30,
     "metadata": {},
     "output_type": "execute_result"
    }
   ],
   "source": [
    "#42.28 36.19 37.68 37.92 37.9 40.8 45.12 46.29 60.57 62.14 45.45 43.82 78.44 68.72\n",
    "#39.81 33.28 39.62 40.11 34.76 38.68 45.44 43.05 62.63 60.45 47.39 44.62 85.33 67.73"
   ]
  },
  {
   "cell_type": "code",
   "execution_count": 31,
   "metadata": {},
   "outputs": [
    {
     "name": "stdout",
     "output_type": "stream",
     "text": [
      "\u001b[0m[39.81 33.28 39.62 40.11 34.76 38.68 45.44 43.05 62.63 60.45 47.39 44.62 85.33 67.73; NaN NaN NaN NaN NaN NaN NaN NaN NaN NaN NaN NaN NaN NaN; 39.81 33.28 39.62 40.11 34.76 38.68 45.44 43.05 62.63 60.45 47.39 44.62 85.33 67.73]"
     ]
    }
   ],
   "source": [
    "read_accuracy_results(acc_dist_dict)[16: 18, :] |> printstyled"
   ]
  },
  {
   "cell_type": "code",
   "execution_count": null,
   "metadata": {},
   "outputs": [],
   "source": [
    "#=\n",
    "- [0.005, 10000]\n",
    "- [0.02, 430000]\n",
    "- [0.002, 730000]\n",
    "- [0.001, 1030000]\n",
    "=#"
   ]
  },
  {
   "cell_type": "code",
   "execution_count": 7,
   "metadata": {},
   "outputs": [
    {
     "name": "stderr",
     "output_type": "stream",
     "text": [
      "┣██▍                 ┫ [12.50%, 25598/204800, 58:59/07:51:56, 7.30i/s] "
     ]
    },
    {
     "name": "stdout",
     "output_type": "stream",
     "text": [
      "(0, 0.013955040275182904, 0.01395504027302751, 0, 0, 0, 0, 0, 0.5217468421854654)\n"
     ]
    },
    {
     "name": "stderr",
     "output_type": "stream",
     "text": [
      "┣████▊               ┫ [24.20%, 49556/204800, 02:24:00/09:55:08, 6.97i/s] ] Excessive output truncated after 524297 bytes."
     ]
    }
   ],
   "source": [
    "#=\n",
    "We train networks with SGD for 1M iterations,\n",
    "starting with the learning rate lr=0.001 for 10k,\n",
    "then lr=0.002 for 420k,\n",
    "lr=0.0002 for 300k and\n",
    "lr=0.0001 for 300k. This corresponds to roughly 17 epochs of the MPII=#\n",
    "deeper_cut_with_loc_ref_results = trainresults(\"29-12-20-continue\",\n",
    "    model,\n",
    "    dtrn,\n",
    "    dval, [(0.002, 8), (0.001, 12)]; \n",
    "    accuracy_func=nothing,\n",
    "    error_func=nothing,\n",
    "    secondary_accuracy_func=modelized_PCKh_sigm,\n",
    "        data_items_trn=nothing,\n",
    "        data_items_val=val_data_items\n",
    "    );"
   ]
  },
  {
   "cell_type": "code",
   "execution_count": 79,
   "metadata": {},
   "outputs": [
    {
     "data": {
      "image/png": "[encoded data removed]"
     },
     "metadata": {},
     "output_type": "display_data"
    },
    {
     "data": {
      "image/png": "[encoded data removed]"
     },
     "metadata": {},
     "output_type": "display_data"
    },
    {
     "data": {
      "image/png": "[encoded data removed]"
     },
     "metadata": {},
     "output_type": "display_data"
    },
    {
     "data": {
      "image/png": "[encoded data removed]"
     },
     "metadata": {},
     "output_type": "display_data"
    }
   ],
   "source": [
    "draw_plots(deeper_cut_with_loc_ref_results)"
   ]
  },
  {
   "cell_type": "code",
   "execution_count": null,
   "metadata": {},
   "outputs": [],
   "source": [
    "# Experimental Zone"
   ]
  },
  {
   "cell_type": "code",
   "execution_count": null,
   "metadata": {},
   "outputs": [],
   "source": [
    "sigmoided_output = Array(sigm.(resnet_with_deconv(dtrn_x1)));"
   ]
  },
  {
   "cell_type": "code",
   "execution_count": null,
   "metadata": {},
   "outputs": [],
   "source": [
    "sigmoided_output = Array(sigm.(loadedResNet(dtrn_x1)));"
   ]
  },
  {
   "cell_type": "code",
   "execution_count": null,
   "metadata": {},
   "outputs": [],
   "source": [
    "sigmoided_output[ sigmoided_output .< output_consider_threshold] .= 0  ;"
   ]
  },
  {
   "cell_type": "code",
   "execution_count": null,
   "metadata": {},
   "outputs": [],
   "source": [
    "test_image_order = 7;"
   ]
  },
  {
   "cell_type": "code",
   "execution_count": null,
   "metadata": {
    "scrolled": true
   },
   "outputs": [],
   "source": [
    "gt_joint_images = draw_score_maps(Array(dtrn_y1), test_image_order);"
   ]
  },
  {
   "cell_type": "code",
   "execution_count": null,
   "metadata": {},
   "outputs": [],
   "source": [
    "pred_joint_images = draw_score_maps(sigmoided_output, test_image_order);"
   ]
  },
  {
   "cell_type": "code",
   "execution_count": null,
   "metadata": {},
   "outputs": [],
   "source": [
    "pred_joint_images[14]"
   ]
  },
  {
   "cell_type": "code",
   "execution_count": null,
   "metadata": {},
   "outputs": [],
   "source": [
    "gt_joint_images[14]"
   ]
  },
  {
   "cell_type": "code",
   "execution_count": null,
   "metadata": {},
   "outputs": [],
   "source": [
    "images = []\n",
    "for (i, joint_sc) in enumerate(gt_joint_images)\n",
    "img = show_scmap_on_image(test_image, joint_sc;\n",
    "        fill_value=1, \n",
    "        should_use_scmap_size=true,\n",
    "    display_name=i)\n",
    "    push!(images, img)\n",
    "end"
   ]
  },
  {
   "cell_type": "code",
   "execution_count": null,
   "metadata": {},
   "outputs": [],
   "source": [
    "mosaicify(images; ncol=3)"
   ]
  },
  {
   "cell_type": "code",
   "execution_count": null,
   "metadata": {},
   "outputs": [],
   "source": [
    "show_scmap_on_image(test_image, pred_joint_images[13]; fill_value=1);"
   ]
  },
  {
   "cell_type": "code",
   "execution_count": null,
   "metadata": {},
   "outputs": [],
   "source": [
    "should_use_output_sized = false\n",
    "test_image = Array(dtrn_x1_2k)[:, :, :, test_image_order];\n",
    "output_sized_test_image = imresize(test_image, 32, 32);\n",
    "perm = permutedims( should_use_output_sized ? output_sized_test_image : test_image, [3, 1, 2])\n",
    "colored = colorview(RGB, perm);\n",
    "fetch(display(colored));\n",
    "#colorview(RGB, rand(3,256,256))"
   ]
  },
  {
   "cell_type": "code",
   "execution_count": null,
   "metadata": {},
   "outputs": [],
   "source": [
    "#  Experimental Section"
   ]
  },
  {
   "cell_type": "code",
   "execution_count": null,
   "metadata": {},
   "outputs": [],
   "source": [
    "first(dtrn)[1] |> size"
   ]
  },
  {
   "cell_type": "code",
   "execution_count": null,
   "metadata": {},
   "outputs": [],
   "source": [
    "first(dtrn)[2] |> size"
   ]
  },
  {
   "cell_type": "code",
   "execution_count": null,
   "metadata": {},
   "outputs": [],
   "source": [
    "#julia> w0 = KnetArray(randn(Float32, 5, 5, 1, 20));\n",
    "\n",
    "#julia> x0 = KnetArray(rand(Float32, 24, 24, 20, 100));\n",
    "\n",
    "#julia> size(deconv4(w0,x0)) # this output does not make it sense, it should give what I want\n",
    "#(28, 28, 20, 100)\n",
    "#\n",
    "\n",
    "w0 = KnetArray(randn(Float32, 5, 5, 1, 20));\n",
    " x0 = KnetArray(rand(Float32, 4, 4, 2048, 32));\n",
    "\n",
    " # this output does not make it sense, it should give what I want\n",
    "#(28, 28, 20, 100)"
   ]
  },
  {
   "cell_type": "code",
   "execution_count": null,
   "metadata": {},
   "outputs": [],
   "source": [
    "dec_layer = Deconv(4, 4, 14, 2048; padding=1, stride=2, atype=Knet.atype())"
   ]
  },
  {
   "cell_type": "code",
   "execution_count": null,
   "metadata": {},
   "outputs": [],
   "source": [
    "mock = randn(Float32, 16, 16, 2048, 32)\n",
    "mock = convert(Knet.atype(), mock);"
   ]
  },
  {
   "cell_type": "code",
   "execution_count": null,
   "metadata": {},
   "outputs": [],
   "source": [
    "size(dec_layer(mock))"
   ]
  },
  {
   "cell_type": "code",
   "execution_count": null,
   "metadata": {},
   "outputs": [],
   "source": [
    "size(deconv4(w0, x0))"
   ]
  },
  {
   "cell_type": "code",
   "execution_count": null,
   "metadata": {
    "scrolled": true
   },
   "outputs": [],
   "source": [
    "tc = Conv2(3, 3, 3, 3)"
   ]
  },
  {
   "cell_type": "code",
   "execution_count": null,
   "metadata": {},
   "outputs": [],
   "source": [
    "fb = first(dtrn)[1];"
   ]
  },
  {
   "cell_type": "code",
   "execution_count": null,
   "metadata": {},
   "outputs": [],
   "source": [
    "res_tc = tc2(fb) |> tc;"
   ]
  },
  {
   "cell_type": "code",
   "execution_count": null,
   "metadata": {},
   "outputs": [],
   "source": [
    "mid = res_tc |> tc2"
   ]
  },
  {
   "cell_type": "code",
   "execution_count": null,
   "metadata": {},
   "outputs": [],
   "source": [
    "w1 = KnetArray(randn(Float32, 3, 3, 1, 3));"
   ]
  },
  {
   "cell_type": "code",
   "execution_count": null,
   "metadata": {},
   "outputs": [],
   "source": [
    "#deconv4(w1, mid)\n",
    "size(deconv4(w1, mid; padding=1))"
   ]
  },
  {
   "cell_type": "code",
   "execution_count": null,
   "metadata": {},
   "outputs": [],
   "source": [
    "tc2 = ResLayerConv(3, 3, 3, 3; stride=2, padding=1)"
   ]
  },
  {
   "cell_type": "code",
   "execution_count": null,
   "metadata": {},
   "outputs": [],
   "source": [
    "res_tc2 = res_tc |> tc2;"
   ]
  },
  {
   "cell_type": "code",
   "execution_count": null,
   "metadata": {},
   "outputs": [],
   "source": [
    "size(res_tc)"
   ]
  },
  {
   "cell_type": "code",
   "execution_count": null,
   "metadata": {},
   "outputs": [],
   "source": [
    "tc2(fb) |> tc2 |> tc2;"
   ]
  },
  {
   "cell_type": "code",
   "execution_count": null,
   "metadata": {},
   "outputs": [],
   "source": []
  }
 ],
 "metadata": {
  "kernelspec": {
   "display_name": "Julia 1.5.3",
   "language": "julia",
   "name": "julia-1.5"
  },
  "language_info": {
   "file_extension": ".jl",
   "mimetype": "application/julia",
   "name": "julia",
   "version": "1.5.3"
  }
 },
 "nbformat": 4,
 "nbformat_minor": 4
}

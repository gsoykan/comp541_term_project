{
 "cells": [
  {
   "cell_type": "code",
   "execution_count": null,
   "metadata": {},
   "outputs": [],
   "source": [
    "#using Revise"
   ]
  },
  {
   "cell_type": "code",
   "execution_count": null,
   "metadata": {},
   "outputs": [],
   "source": [
    "using Knet"
   ]
  },
  {
   "cell_type": "code",
   "execution_count": null,
   "metadata": {},
   "outputs": [],
   "source": [
    "using ImageView;"
   ]
  },
  {
   "cell_type": "code",
   "execution_count": null,
   "metadata": {},
   "outputs": [],
   "source": [
    "include(\"../helper.jl\")\n",
    "include(\"mpii.annotation.parser.jl\")\n",
    "include(\"accuracy.jl\")\n",
    "include(\"loss.jl\")\n",
    "include(\"mpii.batcher.jl\")\n",
    "include(\"../models.jl\")\n",
    "include(\"../training.jl\")\n",
    "include(\"../plots.jl\")\n",
    "include(\"../modular.resnet.jl\")"
   ]
  },
  {
   "cell_type": "code",
   "execution_count": null,
   "metadata": {
    "scrolled": true
   },
   "outputs": [],
   "source": [
    "dtrn, dval = get_mpii_batches(32)"
   ]
  },
  {
   "cell_type": "code",
   "execution_count": null,
   "metadata": {},
   "outputs": [],
   "source": [
    "# 5) Implementing a Convolutional Neural Network\n",
    "simple_conv_net =   Chain(\n",
    "    ResLayerConv(3, 3, 3, 8; stride=2, padding=1),\n",
    "    ResLayerConv(3, 3, 8, 16; stride=2, padding=1),\n",
    "    ResLayerConv(3, 3, 16, 32; stride=2, padding=1),\n",
    "    Conv2(3, 3, 32, 32),\n",
    "    ResLayerConv(3, 3, 32, 32; stride=2, padding=1),\n",
    "    Deconv(3, 3, 14, 32; padding=1),\n",
    "    loss=sigmoid_cross_entropy_loss\n",
    ")"
   ]
  },
  {
   "cell_type": "code",
   "execution_count": null,
   "metadata": {},
   "outputs": [],
   "source": [
    "simple_conv_net_results = trainresults(\"simple_conv_net.jld2\", simple_conv_net, dtrn, dval, 100, 0.15; accuracy_func=modelized_naive_pck_sigm, error_func=nothing);"
   ]
  },
  {
   "cell_type": "code",
   "execution_count": null,
   "metadata": {},
   "outputs": [],
   "source": [
    "draw_plots(simple_conv_net_results)"
   ]
  },
  {
   "cell_type": "code",
   "execution_count": null,
   "metadata": {},
   "outputs": [],
   "source": [
    "dtrn_x1, dtrn_y1 = first(dtrn)\n",
    "dval_x1, dval_y1 = first(dval)"
   ]
  },
  {
   "cell_type": "code",
   "execution_count": null,
   "metadata": {},
   "outputs": [],
   "source": [
    "simple_conv_net(dval)"
   ]
  },
  {
   "cell_type": "code",
   "execution_count": null,
   "metadata": {},
   "outputs": [],
   "source": [
    "sigmoided_output = Array(sigm.(simple_conv_net(dval_x1)));"
   ]
  },
  {
   "cell_type": "code",
   "execution_count": null,
   "metadata": {},
   "outputs": [],
   "source": [
    "total_pck = naive_pck(sigmoided_output, dval_y1);\n",
    "println(total_pck)"
   ]
  },
  {
   "cell_type": "code",
   "execution_count": null,
   "metadata": {},
   "outputs": [],
   "source": [
    "function get_params(params, atype)\n",
    "    len = length(params[\"value\"])\n",
    "    ws, ms = [], []\n",
    "    for k = 1:len\n",
    "        name = params[\"name\"][k]\n",
    "        value = convert(Array{Float32}, params[\"value\"][k])\n",
    "\n",
    "        if endswith(name, \"moments\")\n",
    "            push!(ms, reshape(value[:,1], (1,1,size(value,1),1)))\n",
    "            push!(ms, reshape(value[:,2], (1,1,size(value,1),1)))\n",
    "        elseif startswith(name, \"bn\")\n",
    "            push!(ws, reshape(value, (1,1,length(value),1)))\n",
    "        elseif startswith(name, \"fc\") && endswith(name, \"filter\")\n",
    "            push!(ws, transpose(reshape(value,(size(value,3),size(value,4)))))\n",
    "        elseif startswith(name, \"conv\") && endswith(name, \"bias\")\n",
    "            push!(ws, reshape(value, (1,1,length(value),1)))\n",
    "        else\n",
    "            push!(ws, value)\n",
    "        end\n",
    "    end\n",
    "    map(wi->convert(atype, wi), ws),\n",
    "    map(mi->convert(atype, mi), ms)\n",
    "end"
   ]
  },
  {
   "cell_type": "code",
   "execution_count": null,
   "metadata": {},
   "outputs": [],
   "source": [
    "model_file_path = \"/home/gsoykan/Desktop/comp541/comp541_term_project/results/imagenet-resnet-152-dag.mat\"\n",
    "\n",
    "o = Dict(\n",
    "  :atype => KnetArray{Float32},\n",
    "  :model => model_file_path,\n",
    "  :top   => 10\n",
    ")\n",
    "model = matread(abspath(o[:model]))\n",
    "w, ms = get_params(model[\"params\"], o[:atype]);"
   ]
  },
  {
   "cell_type": "code",
   "execution_count": null,
   "metadata": {},
   "outputs": [],
   "source": [
    "modular_resnet152 = generate_headless_resnet_from_weights(w, ms);"
   ]
  },
  {
   "cell_type": "code",
   "execution_count": null,
   "metadata": {},
   "outputs": [],
   "source": [
    "resnet_with_deconv = Chain(modular_resnet152.layers...,  \n",
    "    Deconv(3, 3, 14, 2048; padding=1); loss=sigmoid_cross_entropy_loss);"
   ]
  },
  {
   "cell_type": "code",
   "execution_count": null,
   "metadata": {},
   "outputs": [],
   "source": [
    "resnet_output = Array(sigm.(resnet_with_deconv(dtrn_x1)))"
   ]
  },
  {
   "cell_type": "code",
   "execution_count": null,
   "metadata": {},
   "outputs": [],
   "source": [
    "total_pck_resnet = naive_pck(resnet_output, dtrn_y1);\n",
    "println(total_pck_resnet)"
   ]
  },
  {
   "cell_type": "code",
   "execution_count": null,
   "metadata": {},
   "outputs": [],
   "source": [
    "resnet_with_deconv(dtrn)"
   ]
  },
  {
   "cell_type": "code",
   "execution_count": null,
   "metadata": {},
   "outputs": [],
   "source": [
    "CUDA.reclaim()"
   ]
  },
  {
   "cell_type": "code",
   "execution_count": null,
   "metadata": {},
   "outputs": [],
   "source": [
    "CUDA.memory_status() "
   ]
  },
  {
   "cell_type": "code",
   "execution_count": null,
   "metadata": {},
   "outputs": [],
   "source": [
    "GC.gc(true)"
   ]
  },
  {
   "cell_type": "code",
   "execution_count": null,
   "metadata": {},
   "outputs": [],
   "source": [
    "# TODO: Fix batch norm issue here try with different batchnorms\n",
    "# Check here https://github.com/denizyuret/Knet.jl/blob/master/examples/dcgan-mnist/dcgan.jl\n",
    "# and\n",
    "# check previous batch norm emails\n",
    "\n",
    "resnetnet_results = trainresults(\"resnet_with_deconv.jld2\", resnet_with_deconv, dtrn, dval, 100, 0.15; accuracy_func=nothing, error_func=nothing);"
   ]
  },
  {
   "cell_type": "code",
   "execution_count": null,
   "metadata": {},
   "outputs": [],
   "source": [
    "sigmoided_output = Array(sigm.(simple_conv_net(dtrn_x1)));"
   ]
  },
  {
   "cell_type": "code",
   "execution_count": null,
   "metadata": {},
   "outputs": [],
   "source": [
    "function draw_first_images_forehead(y)\n",
    "test_y = y[:, :, :, 17];\n",
    "colorview(Gray, test_y[:, : , 2])\n",
    "end"
   ]
  },
  {
   "cell_type": "code",
   "execution_count": null,
   "metadata": {},
   "outputs": [],
   "source": [
    "#Array(dtrn_y1)"
   ]
  },
  {
   "cell_type": "code",
   "execution_count": null,
   "metadata": {
    "scrolled": true
   },
   "outputs": [],
   "source": [
    "draw_first_images_forehead(Array(dtrn_y1))"
   ]
  },
  {
   "cell_type": "code",
   "execution_count": null,
   "metadata": {},
   "outputs": [],
   "source": [
    "draw_first_images_forehead(sigmoided_output)"
   ]
  },
  {
   "cell_type": "code",
   "execution_count": null,
   "metadata": {},
   "outputs": [],
   "source": [
    "#draw_plots(simple_conv_net_results);"
   ]
  },
  {
   "cell_type": "code",
   "execution_count": null,
   "metadata": {},
   "outputs": [],
   "source": [
    "test_image = Array(dtrn_x1)[:, :, :, 17];"
   ]
  },
  {
   "cell_type": "code",
   "execution_count": null,
   "metadata": {},
   "outputs": [],
   "source": [
    "perm = permutedims(test_image, [3, 1, 2])\n",
    "colorview(RGB, perm)\n",
    "#colorview(RGB, rand(3,256,256))\n"
   ]
  },
  {
   "cell_type": "code",
   "execution_count": null,
   "metadata": {},
   "outputs": [],
   "source": [
    "size(ytrn)"
   ]
  },
  {
   "cell_type": "code",
   "execution_count": null,
   "metadata": {},
   "outputs": [],
   "source": [
    "first(dtrn)[1] |> size"
   ]
  },
  {
   "cell_type": "code",
   "execution_count": null,
   "metadata": {},
   "outputs": [],
   "source": [
    "first(dtrn)[2] |> size"
   ]
  },
  {
   "cell_type": "code",
   "execution_count": null,
   "metadata": {},
   "outputs": [],
   "source": [
    "#julia> w0 = KnetArray(randn(Float32, 5, 5, 1, 20));\n",
    "\n",
    "#julia> x0 = KnetArray(rand(Float32, 24, 24, 20, 100));\n",
    "\n",
    "#julia> size(deconv4(w0,x0)) # this output does not make it sense, it should give what I want\n",
    "#(28, 28, 20, 100)\n",
    "#\n",
    "\n",
    "w0 = KnetArray(randn(Float32, 5, 5, 1, 20));\n",
    " x0 = KnetArray(rand(Float32, 24, 24, 20, 100));\n",
    "\n",
    " # this output does not make it sense, it should give what I want\n",
    "#(28, 28, 20, 100)"
   ]
  },
  {
   "cell_type": "code",
   "execution_count": null,
   "metadata": {},
   "outputs": [],
   "source": [
    "size(deconv4(w0,x0))"
   ]
  },
  {
   "cell_type": "code",
   "execution_count": null,
   "metadata": {
    "scrolled": true
   },
   "outputs": [],
   "source": [
    "tc = Conv2(3, 3, 3, 3)"
   ]
  },
  {
   "cell_type": "code",
   "execution_count": null,
   "metadata": {},
   "outputs": [],
   "source": [
    "fb = first(dtrn)[1];"
   ]
  },
  {
   "cell_type": "code",
   "execution_count": null,
   "metadata": {},
   "outputs": [],
   "source": [
    "res_tc = tc2(fb) |> tc;"
   ]
  },
  {
   "cell_type": "code",
   "execution_count": null,
   "metadata": {},
   "outputs": [],
   "source": [
    "mid = res_tc |> tc2"
   ]
  },
  {
   "cell_type": "code",
   "execution_count": null,
   "metadata": {},
   "outputs": [],
   "source": [
    "w1 = KnetArray(randn(Float32, 3,3, 1, 3));"
   ]
  },
  {
   "cell_type": "code",
   "execution_count": null,
   "metadata": {},
   "outputs": [],
   "source": [
    "#deconv4(w1, mid)\n",
    "size(deconv4(w1, mid; padding=1))"
   ]
  },
  {
   "cell_type": "code",
   "execution_count": null,
   "metadata": {},
   "outputs": [],
   "source": [
    "tc2 = ResLayerConv(3, 3, 3, 3; stride=2, padding=1)"
   ]
  },
  {
   "cell_type": "code",
   "execution_count": null,
   "metadata": {},
   "outputs": [],
   "source": [
    "res_tc2 = res_tc |> tc2;"
   ]
  },
  {
   "cell_type": "code",
   "execution_count": null,
   "metadata": {},
   "outputs": [],
   "source": [
    "size(res_tc)"
   ]
  },
  {
   "cell_type": "code",
   "execution_count": null,
   "metadata": {},
   "outputs": [],
   "source": [
    "tc2(fb) |> tc2 |> tc2;"
   ]
  },
  {
   "cell_type": "code",
   "execution_count": null,
   "metadata": {},
   "outputs": [],
   "source": []
  }
 ],
 "metadata": {
  "kernelspec": {
   "display_name": "Julia 1.5.3",
   "language": "julia",
   "name": "julia-1.5"
  },
  "language_info": {
   "file_extension": ".jl",
   "mimetype": "application/julia",
   "name": "julia",
   "version": "1.5.3"
  }
 },
 "nbformat": 4,
 "nbformat_minor": 4
}

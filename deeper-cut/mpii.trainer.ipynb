{
 "cells": [
  {
   "cell_type": "code",
   "execution_count": null,
   "metadata": {},
   "outputs": [],
   "source": [
    "# using Revise"
   ]
  },
  {
   "cell_type": "code",
   "execution_count": 1,
   "metadata": {},
   "outputs": [],
   "source": [
    "using Knet"
   ]
  },
  {
   "cell_type": "code",
   "execution_count": 2,
   "metadata": {},
   "outputs": [],
   "source": [
    "# pkg\"add Knet#master\""
   ]
  },
  {
   "cell_type": "code",
   "execution_count": 3,
   "metadata": {},
   "outputs": [],
   "source": [
    "# using ImageView;"
   ]
  },
  {
   "cell_type": "code",
   "execution_count": 10,
   "metadata": {},
   "outputs": [
    {
     "data": {
      "text/plain": [
       "generate_deeper_cut (generic function with 1 method)"
      ]
     },
     "execution_count": 10,
     "metadata": {},
     "output_type": "execute_result"
    }
   ],
   "source": [
    "include(\"../helper.jl\")\n",
    "include(\"accuracy.jl\")\n",
    "include(\"loss.jl\")\n",
    "include(\"mpii.batcher.jl\")\n",
    "include(\"../models.jl\")\n",
    "include(\"../training.jl\")\n",
    "include(\"../plots.jl\")\n",
    "include(\"../modular.resnet.jl\")"
   ]
  },
  {
   "cell_type": "code",
   "execution_count": 11,
   "metadata": {
    "collapsed": true,
    "jupyter": {
     "outputs_hidden": true
    }
   },
   "outputs": [
    {
     "name": "stdout",
     "output_type": "stream",
     "text": [
      "1\n",
      "1024-element Data{Tuple{KnetArray{Float32,N} where N,KnetArray{Float32,N} where N}}\n",
      "1025\n",
      "(786432, 1024)\n",
      "2048-element Data{Tuple{KnetArray{Float32,N} where N,KnetArray{Float32,N} where N}}\n",
      "2049\n",
      "(786432, 2048)\n",
      "3072-element Data{Tuple{KnetArray{Float32,N} where N,KnetArray{Float32,N} where N}}\n",
      "3073\n",
      "(786432, 3072)\n",
      "4096-element Data{Tuple{KnetArray{Float32,N} where N,KnetArray{Float32,N} where N}}\n",
      "4097\n",
      "(786432, 4096)\n",
      "5120-element Data{Tuple{KnetArray{Float32,N} where N,KnetArray{Float32,N} where N}}\n",
      "5121\n",
      "(786432, 5120)\n",
      "6144-element Data{Tuple{KnetArray{Float32,N} where N,KnetArray{Float32,N} where N}}\n",
      "6145\n",
      "(786432, 6144)\n",
      "7168-element Data{Tuple{KnetArray{Float32,N} where N,KnetArray{Float32,N} where N}}\n",
      "7169\n",
      "(786432, 7168)\n",
      "8192-element Data{Tuple{KnetArray{Float32,N} where N,KnetArray{Float32,N} where N}}\n",
      "8193\n",
      "(786432, 8192)\n",
      "9216-element Data{Tuple{KnetArray{Float32,N} where N,KnetArray{Float32,N} where N}}\n",
      "9217\n",
      "(786432, 9216)\n",
      "10240-element Data{Tuple{KnetArray{Float32,N} where N,KnetArray{Float32,N} where N}}\n",
      "10241\n",
      "(786432, 10240)\n",
      "11264-element Data{Tuple{KnetArray{Float32,N} where N,KnetArray{Float32,N} where N}}\n",
      "11265\n",
      "(786432, 11264)\n",
      "12288-element Data{Tuple{KnetArray{Float32,N} where N,KnetArray{Float32,N} where N}}\n",
      "12289\n",
      "(786432, 12288)\n",
      "13312-element Data{Tuple{KnetArray{Float32,N} where N,KnetArray{Float32,N} where N}}\n",
      "13313\n",
      "(786432, 13312)\n",
      "14336-element Data{Tuple{KnetArray{Float32,N} where N,KnetArray{Float32,N} where N}}\n",
      "14337\n",
      "(786432, 14336)\n",
      "15360-element Data{Tuple{KnetArray{Float32,N} where N,KnetArray{Float32,N} where N}}\n",
      "15361\n",
      "(786432, 15360)\n",
      "16384-element Data{Tuple{KnetArray{Float32,N} where N,KnetArray{Float32,N} where N}}\n",
      "16385\n",
      "(786432, 16384)\n",
      "17408-element Data{Tuple{KnetArray{Float32,N} where N,KnetArray{Float32,N} where N}}\n",
      "17409\n",
      "(786432, 17408)\n",
      "18432-element Data{Tuple{KnetArray{Float32,N} where N,KnetArray{Float32,N} where N}}\n"
     ]
    },
    {
     "data": {
      "text/plain": [
       "(18432-element Data{Tuple{KnetArray{Float32,N} where N,KnetArray{Float32,N} where N}}, 753-element Data{Tuple{KnetArray{Float32,N} where N,KnetArray{Float32,N} where N}}, DataItem[DataItem(1, \"/userfiles/gsoykan20/mpii_human_pose/cropped/im18002_1.png\", [3.0 512.0 512.0], Int32[1 242 385; 2 189 314; … ; 13 248 141; 14 211 82], true, Dict{String,Any}(\"objpos\" => Dict{String,Any}(\"x\" => 208.96442562694062,\"y\" => 267.4759854225754),\"x1\" => 194.96086302600244,\"y1\" => 78.473532002716,\"annopoints\" => Dict{String,Any}(\"point\" => Dict{String,Any}(\"x\" => Any[199.7411157847829 179.9768804087305 … 208.96442562694062 160.21264503267815],\"id\" => Any[6.0 7.0 … 14.0 15.0],\"is_visible\" => Any[false false … true true],\"y\" => Any[270.1112168060491 167.3371928505767 … 230.5827460539443 259.57029127215446])),\"x2\" => 263.37295197318434,\"y2\" => 144.29004271467136,\"scale\" => 1.5178932768808222)), DataItem(2, \"/userfiles/gsoykan20/mpii_human_pose/cropped/im04418_1.png\", [3.0 512.0 512.0], Int32[3 222 426; 4 276 452; … ; 13 263 194; 14 250 49], true, Dict{String,Any}(\"head_r11\" => \"0.93153\",\"torso_r33\" => \"0.76313\",\"head_r32\" => \"0.052204\",\"head_r33\" => \"0.93811\",\"scale\" => 9.345989514224804,\"torso_r23\" => \"-0.010488\",\"torso_r13\" => \"-0.64616\",\"torso_r32\" => \"0.087156\",\"part_occ4\" => \"0\",\"torso_r31\" => \"0.64034\"…)), DataItem(3, \"/userfiles/gsoykan20/mpii_human_pose/cropped/im04210_1.png\", [3.0 512.0 512.0], Int32[1 346 453; 2 315 339; … ; 13 232 121; 14 153 122], true, Dict{String,Any}(\"head_r11\" => \"0.85244\",\"torso_r33\" => \"0.86571\",\"head_r32\" => \"0.00017124\",\"head_r33\" => \"0.86571\",\"scale\" => 3.3996235085667936,\"torso_r23\" => \"0.087102\",\"torso_r13\" => \"-0.49292\",\"torso_r32\" => \"0.00017124\",\"part_occ4\" => \"0\",\"torso_r31\" => \"0.50055\"…)), DataItem(4, \"/userfiles/gsoykan20/mpii_human_pose/cropped/im17274_2.png\", [3.0 512.0 512.0], Int32[1 242 412; 2 263 354; … ; 13 281 145; 14 329 101], true, Dict{String,Any}(\"objpos\" => Dict{String,Any}(\"x\" => 191.78854155728982,\"y\" => 299.9853979787007),\"x1\" => 269.0969989123796,\"y1\" => 98.20398693754433,\"annopoints\" => Dict{String,Any}(\"point\" => Dict{String,Any}(\"x\" => Any[200.54894709867838 192.58494206105243 … 131.26210327133242 186.21373803095165],\"id\" => Any[6.0 7.0 … 14.0 15.0],\"is_visible\" => Any[false true … true false],\"y\" => Any[353.3442317307947 208.39934004600204 … 276.8897833695854 285.65018891097395])),\"x2\" => 339.963868654579,\"y2\" => 148.63547915131826,\"scale\" => 2.5112992653206425)), DataItem(5, \"/userfiles/gsoykan20/mpii_human_pose/cropped/im19083_1.png\", [3.0 512.0 512.0], Int32[3 58 428; 4 115 383; … ; 13 145 122; 14 202 2], true, Dict{String,Any}(\"objpos\" => Dict{String,Any}(\"x\" => 95.4978678632994,\"y\" => 108.32090312409579),\"x1\" => 122.12330363367839,\"y1\" => 2.8440086007392287,\"annopoints\" => Dict{String,Any}(\"point\" => Dict{String,Any}(\"x\" => Any[51.967037635859036 83.34972919517651 … 128.5678009043006 76.60076326844157],\"id\" => Any[6.0 7.0 … 14.0 15.0],\"is_visible\" => Any[false true … true true],\"y\" => Any[193.02042550461928 64.45262460031867 … 134.3044219420253 168.7241481683735])),\"x2\" => 223.98652002858984,\"y2\" => 122.29236983178684,\"scale\" => 5.926833893403796)), DataItem(6, \"/userfiles/gsoykan20/mpii_human_pose/cropped/im11981_1.png\", [3.0 512.0 512.0], Int32[1 317 459; 2 326 379; … ; 13 304 177; 14 254 119], true, Dict{String,Any}(\"objpos\" => Dict{String,Any}(\"x\" => 247.0179245849813,\"y\" => 259.9648499293282),\"x1\" => 244.5209333414287,\"y1\" => 114.4734164910937,\"annopoints\" => Dict{String,Any}(\"point\" => Dict{String,Any}(\"x\" => Any[265.8653762048575 244.41827608568803 … 152.13075436077645 130.68365424160692],\"id\" => Any[6.0 7.0 … 14.0 15.0],\"is_visible\" => Any[true false … true true],\"y\" => Any[276.8625651747345 165.0776797051234 … 212.52126481722578 176.12618582711983])),\"x2\" => 314.0152211519734,\"y2\" => 182.73085738019304,\"scale\" => 3.0773391103354206)), DataItem(7, \"/userfiles/gsoykan20/mpii_human_pose/cropped/im05029_1.png\", [3.0 512.0 512.0], Int32[1 232 383; 2 185 306; … ; 13 217 157; 14 219 91], true, Dict{String,Any}(\"head_r11\" => \"0.99729\",\"torso_r33\" => \"0.98526\",\"head_r32\" => \"-0.03759\",\"head_r33\" => \"0.99691\",\"scale\" => 2.3831407847628303,\"torso_r23\" => \"0.17108\",\"torso_r13\" => \"0.00031303\",\"torso_r32\" => \"-0.13473\",\"part_occ4\" => \"0\",\"torso_r31\" => \"-0.10544\"…)), DataItem(8, \"/userfiles/gsoykan20/mpii_human_pose/cropped/im05162_1.png\", [3.0 512.0 512.0], Int32[2 228 464; 3 232 342; … ; 13 222 178; 14 225 90], true, Dict{String,Any}(\"head_r11\" => \"0.40929\",\"torso_r33\" => \"0.98106\",\"head_r32\" => \"-0.13155\",\"head_r33\" => \"0.41508\",\"scale\" => 3.6773294657944366,\"torso_r23\" => \"0.085832\",\"torso_r13\" => \"0.17365\",\"torso_r32\" => \"-0.087156\",\"part_occ4\" => \"0\",\"torso_r31\" => \"-0.17299\"…)), DataItem(9, \"/userfiles/gsoykan20/mpii_human_pose/cropped/im02036_1.png\", [3.0 512.0 512.0], Int32[1 223 212; 2 274 261; … ; 13 230 279; 14 212 190], true, Dict{String,Any}(\"objpos\" => Dict{String,Any}(\"x\" => 218.2493399473899,\"y\" => 194.61005451881562),\"x1\" => 183.9477540082952,\"y1\" => 195.32645593341732,\"annopoints\" => Dict{String,Any}(\"point\" => Dict{String,Any}(\"x\" => Any[239.1142834285942 191.24764838347852 … 232.97753534588708 239.1142834285942],\"id\" => Any[6.0 7.0 … 14.0 15.0],\"is_visible\" => Any[false true … true true],\"y\" => Any[242.47668956393136 211.79294915039566 … 172.5177614210699 130.78787445866138])),\"x2\" => 256.7414826504646,\"y2\" => 274.08629821642404,\"scale\" => 1.6295275388897237)), DataItem(10, \"/userfiles/gsoykan20/mpii_human_pose/cropped/im11926_1.png\", [3.0 512.0 512.0], Int32[1 229 492; 2 306 383; … ; 13 230 262; 14 281 185], true, Dict{String,Any}(\"objpos\" => Dict{String,Any}(\"x\" => 218.8832226407954,\"y\" => 234.1574475292054),\"x1\" => 221.78919233604773,\"y1\" => 178.16733981150313,\"annopoints\" => Dict{String,Any}(\"point\" => Dict{String,Any}(\"x\" => Any[145.2235968216806 172.84595650384864 … 146.94999430181605 205.07204279971137],\"id\" => Any[6.0 7.0 … 14.0 15.0],\"is_visible\" => Any[false false … false false],\"y\" => Any[311.84533413530306 196.17670296622433 … 233.00651587578176 224.94999430181605])),\"x2\" => 289.7826925380698,\"y2\" => 268.51229872787513,\"scale\" => 3.4754452952103847))  …  DataItem(19176, \"/userfiles/gsoykan20/mpii_human_pose/cropped/im09825_1.png\", [3.0 512.0 512.0], Int32[1 218 464; 2 205 352; … ; 13 252 119; 14 250 -4], true, Dict{String,Any}(\"head_r11\" => \"0.98966\",\"torso_r33\" => \"1\",\"head_r32\" => \"0.0012174\",\"head_r33\" => \"0.99939\",\"scale\" => 5.2500788565506324,\"torso_r23\" => \"0\",\"torso_r13\" => \"0\",\"torso_r32\" => \"0\",\"torso_r31\" => \"0\",\"objpos\" => Dict{String,Any}(\"x\" => 181.99639518325935,\"y\" => 126.09334413596642)…)), DataItem(19177, \"/userfiles/gsoykan20/mpii_human_pose/cropped/im03017_1.png\", [3.0 512.0 512.0], Int32[3 236 362; 4 291 380; … ; 13 309 241; 14 309 172], true, Dict{String,Any}(\"objpos\" => Dict{String,Any}(\"x\" => 193.12229389878476,\"y\" => 278.2839018473383),\"x1\" => 275.1294623216519,\"y1\" => 173.5194234398118,\"annopoints\" => Dict{String,Any}(\"point\" => Dict{String,Any}(\"x\" => Any[212.32782588871916 248.60494186970635 … 220.86361788424554 98.16160794855358],\"id\" => Any[6.0 7.0 … 14.0 15.0],\"is_visible\" => Any[false false … true true],\"y\" => Any[362.5748478031615 250.54257786187753 … 316.6949658272071 331.63260181937835])),\"x2\" => 341.2663523028182,\"y2\" => 239.07430907914434,\"scale\" => 1.8744599222175968)), DataItem(19178, \"/userfiles/gsoykan20/mpii_human_pose/cropped/im23355_1.png\", [3.0 512.0 512.0], Int32[1 365 328; 2 281 315; … ; 13 194 182; 14 148 129], true, Dict{String,Any}(\"objpos\" => Dict{String,Any}(\"x\" => 226.97106380826744,\"y\" => 235.22758230175924),\"x1\" => 142.79878746018392,\"y1\" => 122.53545431788604,\"annopoints\" => Dict{String,Any}(\"point\" => Dict{String,Any}(\"x\" => Any[211.70061002328669 174.61522225976216 … 225.88031710934024 220.4265836147042],\"id\" => Any[6.0 7.0 … 14.0 15.0],\"is_visible\" => Any[false false … true true],\"y\" => Any[260.3147563770847 187.23472754896284 … 197.05144783930757 246.13504929103118])),\"x2\" => 199.3830720426365,\"y2\" => 188.3003196816504,\"scale\" => 1.8336062827117499)), DataItem(19179, \"/userfiles/gsoykan20/mpii_human_pose/cropped/im24939_1.png\", [3.0 512.0 512.0], Int32[1 182 395; 2 259 330; … ; 13 288 175; 14 321 118], true, Dict{String,Any}(\"objpos\" => Dict{String,Any}(\"x\" => 180.4508973939735,\"y\" => 269.19189602785974),\"x1\" => 269.8489756511934,\"y1\" => 116.79277307281914,\"annopoints\" => Dict{String,Any}(\"point\" => Dict{String,Any}(\"x\" => Any[161.16082561876215 199.74096916918484 … 214.20852300059323 238.32111271960753],\"id\" => Any[6.0 7.0 … 14.0 15.0],\"is_visible\" => Any[false false … false true],\"y\" => Any[303.9140252232401 214.21519146850756 … 260.5113637290147 297.1625001019161])),\"x2\" => 339.6287148508372,\"y2\" => 176.8879789853103,\"scale\" => 2.073605555548113)), DataItem(19180, \"/userfiles/gsoykan20/mpii_human_pose/cropped/im12766_2.png\", [3.0 512.0 512.0], Int32[1 133 376; 2 192 317; … ; 13 284 180; 14 317 122], true, Dict{String,Any}(\"objpos\" => Dict{String,Any}(\"x\" => 149.48701994680243,\"y\" => 304.3583815985577),\"x1\" => 262.72567748585374,\"y1\" => 122.38533972494754,\"annopoints\" => Dict{String,Any}(\"point\" => Dict{String,Any}(\"x\" => Any[131.67525744982504 202.92230743773467 … 231.42112743289852 239.73328326482135],\"id\" => Any[6.0 7.0 … 14.0 15.0],\"is_visible\" => Any[false true … true true],\"y\" => Any[265.1725041052074 198.67525744982504 … 277.0470124365256 329.294849094326])),\"x2\" => 338.3117388348287,\"y2\" => 181.18582431031768,\"scale\" => 1.6842802617141839)), DataItem(19181, \"/userfiles/gsoykan20/mpii_human_pose/cropped/im12394_2.png\", [3.0 512.0 512.0], Int32[1 174 412; 2 214 346; … ; 13 287 167; 14 331 112], true, Dict{String,Any}(\"objpos\" => Dict{String,Any}(\"x\" => 174.6417292060803,\"y\" => 289.00681640532815),\"x1\" => 275.6963105505829,\"y1\" => 107.92184105757082,\"annopoints\" => Dict{String,Any}(\"point\" => Dict{String,Any}(\"x\" => Any[176.15882535518966 201.94945989004827 … 237.60121939411772 235.3255751704537],\"id\" => Any[6.0 7.0 … 14.0 15.0],\"is_visible\" => Any[true true … true true],\"y\" => Any[301.14358559820283 185.08573019133877 … 238.18409541016547 279.1456914361175])),\"x2\" => 342.18469954129574,\"y2\" => 171.82293115744824,\"scale\" => 2.6366160129984797)), DataItem(19182, \"/userfiles/gsoykan20/mpii_human_pose/cropped/im15667_1.png\", [3.0 512.0 512.0], Int32[1 62 386; 2 89 298; … ; 13 185 191; 14 197 127], true, Dict{String,Any}(\"objpos\" => Dict{String,Any}(\"x\" => 81.1007664570875,\"y\" => 257.4531415522369),\"x1\" => 147.10593809099146,\"y1\" => 126.90810675999295,\"annopoints\" => Dict{String,Any}(\"point\" => Dict{String,Any}(\"x\" => Any[103.53251639365465 109.94158780410237 … 169.22549835074392 169.22549835074392],\"id\" => Any[6.0 7.0 … 14.0 15.0],\"is_visible\" => Any[false true … true true],\"y\" => Any[252.6463379944011 180.5442846268641 … 194.9646953003715 239.82819517350566])),\"x2\" => 234.90378519222244,\"y2\" => 190.61039419261618,\"scale\" => 1.248230747898801)), DataItem(19183, \"/userfiles/gsoykan20/mpii_human_pose/cropped/im18784_1.png\", [3.0 512.0 512.0], Int32[1 272 355; 2 276 388; … ; 13 168 214; 14 118 173], true, Dict{String,Any}(\"objpos\" => Dict{String,Any}(\"x\" => 214.08320992888417,\"y\" => 237.0989076128208),\"x1\" => 118.9221754444754,\"y1\" => 160.48947072780325,\"annopoints\" => Dict{String,Any}(\"point\" => Dict{String,Any}(\"x\" => Any[304.7080161050532 187.30769901319786 … 138.90581389638032 131.69702249600323],\"id\" => Any[6.0 7.0 … 14.0 15.0],\"is_visible\" => Any[true true … true false],\"y\" => Any[251.51649041357496 205.17425998257943 … 131.02669129298658 179.42857640980412])),\"x2\" => 167.27865224830515,\"y2\" => 227.61645287866588,\"scale\" => 1.9420731191178149)), DataItem(19184, \"/userfiles/gsoykan20/mpii_human_pose/cropped/im18891_1.png\", [3.0 512.0 512.0], Int32[1 240 391; 2 159 280; … ; 13 150 157; 14 198 99], true, Dict{String,Any}(\"objpos\" => Dict{String,Any}(\"x\" => 138.33734362969022,\"y\" => 223.72430619140206),\"x1\" => 139.9438876889703,\"y1\" => 93.82705984637717,\"annopoints\" => Dict{String,Any}(\"point\" => Dict{String,Any}(\"x\" => Any[91.86321239186276 94.0247998912966 … 130.7717873816718 148.06448737714248],\"id\" => Any[6.0 7.0 … 14.0 15.0],\"is_visible\" => Any[false true … false false],\"y\" => Any[252.90573743375887 172.9269999547069 … 218.32033744281748 229.12827493998665])),\"x2\" => 209.11468741317174,\"y2\" => 162.06492155283325,\"scale\" => 1.8504918265153185)), DataItem(19185, \"/userfiles/gsoykan20/mpii_human_pose/cropped/im00102_2.png\", [3.0 512.0 512.0], Int32[1 306 387; 2 311 311; … ; 13 273 178; 14 328 126], true, Dict{String,Any}(\"objpos\" => Dict{String,Any}(\"x\" => 218.95598328008884,\"y\" => 260.74650533851616),\"x1\" => 256.8952053563123,\"y1\" => 124.98930837502357,\"annopoints\" => Dict{String,Any}(\"point\" => Dict{String,Any}(\"x\" => Any[157.22939705169125 191.68144517916897 … 175.89092312074172 190.24594317385743],\"id\" => Any[6.0 7.0 … 14.0 15.0],\"is_visible\" => Any[true true … false false],\"y\" => Any[250.69799130133515 186.1004010623144 … 229.1654612216616 262.1820073438277])),\"x2\" => 344.1991096945197,\"y2\" => 178.76811525824496,\"scale\" => 1.3932408262751992))])"
      ]
     },
     "execution_count": 11,
     "metadata": {},
     "output_type": "execute_result"
    }
   ],
   "source": [
    "dtrn_single, dtst_single, data_items_single = get_mpii_single_person_batches_and_data_items()"
   ]
  },
  {
   "cell_type": "code",
   "execution_count": 12,
   "metadata": {},
   "outputs": [],
   "source": [
    "Knet.save(\"dtrn_single.jld2\", \"dtrn_single\", dtrn_single)"
   ]
  },
  {
   "cell_type": "code",
   "execution_count": 13,
   "metadata": {},
   "outputs": [],
   "source": [
    "Knet.save(\"dtst_single.jld2\", \"dtst_single\", dtrn_single)"
   ]
  },
  {
   "cell_type": "code",
   "execution_count": 14,
   "metadata": {},
   "outputs": [],
   "source": [
    "Knet.save(\"data_items_single.jld2\", \"data_items_single\", data_items_single)"
   ]
  },
  {
   "cell_type": "code",
   "execution_count": 86,
   "metadata": {},
   "outputs": [
    {
     "name": "stdout",
     "output_type": "stream",
     "text": [
      "1\n",
      "1024-element Data{Tuple{KnetArray{Float32,N} where N,KnetArray{Float32,N} where N}}\n"
     ]
    }
   ],
   "source": [
    "dtrn, dval, dtst, data_items = get_mpii_batches_and_data_items(1; should_shuffle=true);\n",
    "trn_data_items = data_items[begin : end - validation_image_count - test_image_count];\n",
    "val_data_items = data_items[end - validation_image_count - test_image_count + 1 : end - test_image_count]\n",
    "tst_data_items = data_items[end - test_image_count + 1 : end];"
   ]
  },
  {
   "cell_type": "code",
   "execution_count": 3,
   "metadata": {},
   "outputs": [
    {
     "data": {
      "text/plain": [
       "25600-element Data{Tuple{KnetArray{Float32,N} where N,KnetArray{Float32,N} where N}}"
      ]
     },
     "execution_count": 3,
     "metadata": {},
     "output_type": "execute_result"
    }
   ],
   "source": [
    "dtrn = Knet.load(\"29-12-20-dtrn.jld2\", \"29-12-20-dtrn\")"
   ]
  },
  {
   "cell_type": "code",
   "execution_count": 4,
   "metadata": {},
   "outputs": [
    {
     "data": {
      "text/plain": [
       "3283-element Data{Tuple{KnetArray{Float32,N} where N,KnetArray{Float32,N} where N}}"
      ]
     },
     "execution_count": 4,
     "metadata": {},
     "output_type": "execute_result"
    }
   ],
   "source": [
    "dval = Knet.load(\"29-12-20-dval.jld2\", \"29-12-20-dval\")"
   ]
  },
  {
   "cell_type": "code",
   "execution_count": 44,
   "metadata": {},
   "outputs": [],
   "source": [
    "#trn_data_items = Knet.load(\"29-12-20-trn_data_items.jld2\", \"29-12-20-trn_data_items\")"
   ]
  },
  {
   "cell_type": "code",
   "execution_count": 5,
   "metadata": {},
   "outputs": [],
   "source": [
    "val_data_items = Knet.load(\"29-12-20-val_data_items.jld2\", \"29-12-20-val_data_items\");"
   ]
  },
  {
   "cell_type": "code",
   "execution_count": 6,
   "metadata": {
    "collapsed": true,
    "jupyter": {
     "outputs_hidden": true
    }
   },
   "outputs": [
    {
     "data": {
      "text/plain": [
       "Chain((ResLayerX1_50(BatchNormLayer(K32(128)[1.0913312⋯], Knet.Ops20.BNMoments(0.1f0, K32(1,1,64,1)[0.14145072⋯], K32(1,1,64,1)[0.03843275⋯], zeros, ones)), P(KnetArray{Float32,4}(7,7,3,64)), P(KnetArray{Float32,4}(1,1,64,1)), 3, 2, 3, 2, 1), ResLayerX5(ResLayerX3(ResLayerX0(BatchNormLayer(K32(512)[0.30266267⋯], Knet.Ops20.BNMoments(0.1f0, K32(1,1,256,1)[-0.15347853⋯], K32(1,1,256,1)[0.028956868⋯], zeros, ones)), P(KnetArray{Float32,4}(1,1,64,256)), 0, 1, 1), ResLayerX2(ResLayerX1(ResLayerX0(BatchNormLayer(K32(128)[0.8936078⋯], Knet.Ops20.BNMoments(0.1f0, K32(1,1,64,1)[-3.0701911⋯], K32(1,1,64,1)[0.6297425⋯], zeros, ones)), P(KnetArray{Float32,4}(1,1,64,64)), 0, 1, 1), false), ResLayerX1(ResLayerX0(BatchNormLayer(K32(128)[1.0477029⋯], Knet.Ops20.BNMoments(0.1f0, K32(1,1,64,1)[0.5202805⋯], K32(1,1,64,1)[0.35945126⋯], zeros, ones)), P(KnetArray{Float32,4}(3,3,64,64)), 1, 1, 1), false), ResLayerX0(BatchNormLayer(K32(512)[0.70080197⋯], Knet.Ops20.BNMoments(0.1f0, K32(1,1,256,1)[0.15136625⋯], K32(1,1,256,1)[0.019039834⋯], zeros, ones)), P(KnetArray{Float32,4}(1,1,64,256)), 0, 1, 1))), Any[ResLayerX4(ResLayerX2(ResLayerX1(ResLayerX0(BatchNormLayer(K32(128)[1.0857642⋯], Knet.Ops20.BNMoments(0.1f0, K32(1,1,64,1)[0.1487781⋯], K32(1,1,64,1)[1.2711904⋯], zeros, ones)), P(KnetArray{Float32,4}(1,1,256,64)), 0, 1, 1), false), ResLayerX1(ResLayerX0(BatchNormLayer(K32(128)[1.0937752⋯], Knet.Ops20.BNMoments(0.1f0, K32(1,1,64,1)[-0.23051134⋯], K32(1,1,64,1)[0.2314607⋯], zeros, ones)), P(KnetArray{Float32,4}(3,3,64,64)), 1, 1, 1), false), ResLayerX0(BatchNormLayer(K32(512)[2.1300814⋯], Knet.Ops20.BNMoments(0.1f0, K32(1,1,256,1)[0.3183554⋯], K32(1,1,256,1)[0.07366851⋯], zeros, ones)), P(KnetArray{Float32,4}(1,1,64,256)), 0, 1, 1))), ResLayerX4(ResLayerX2(ResLayerX1(ResLayerX0(BatchNormLayer(K32(128)[1.3269103⋯], Knet.Ops20.BNMoments(0.1f0, K32(1,1,64,1)[-1.9037888⋯], K32(1,1,64,1)[1.5904891⋯], zeros, ones)), P(KnetArray{Float32,4}(1,1,256,64)), 0, 1, 1), false), ResLayerX1(ResLayerX0(BatchNormLayer(K32(128)[1.4569347⋯], Knet.Ops20.BNMoments(0.1f0, K32(1,1,64,1)[0.08778386⋯], K32(1,1,64,1)[0.35348883⋯], zeros, ones)), P(KnetArray{Float32,4}(3,3,64,64)), 1, 1, 1), false), ResLayerX0(BatchNormLayer(K32(512)[1.0176569⋯], Knet.Ops20.BNMoments(0.1f0, K32(1,1,256,1)[-0.17686787⋯], K32(1,1,256,1)[0.06267624⋯], zeros, ones)), P(KnetArray{Float32,4}(1,1,64,256)), 0, 1, 1)))], false, nothing, nothing, nothing), ResLayerX5(ResLayerX3(ResLayerX0(BatchNormLayer(K32(1024)[1.4466515⋯], Knet.Ops20.BNMoments(0.1f0, K32(1,1,512,1)[-0.77846825⋯], K32(1,1,512,1)[0.87763166⋯], zeros, ones)), P(KnetArray{Float32,4}(1,1,256,512)), 0, 2, 1), ResLayerX2(ResLayerX1(ResLayerX0(BatchNormLayer(K32(256)[0.6567121⋯], Knet.Ops20.BNMoments(0.1f0, K32(1,1,128,1)[-1.3833444⋯], K32(1,1,128,1)[0.542178⋯], zeros, ones)), P(KnetArray{Float32,4}(1,1,256,128)), 0, 2, 1), false), ResLayerX1(ResLayerX0(BatchNormLayer(K32(256)[1.1599708⋯], Knet.Ops20.BNMoments(0.1f0, K32(1,1,128,1)[-0.4358482⋯], K32(1,1,128,1)[1.0666407⋯], zeros, ones)), P(KnetArray{Float32,4}(3,3,128,128)), 1, 1, 1), false), ResLayerX0(BatchNormLayer(K32(1024)[0.5816232⋯], Knet.Ops20.BNMoments(0.1f0, K32(1,1,512,1)[-0.055359952⋯], K32(1,1,512,1)[0.017415661⋯], zeros, ones)), P(KnetArray{Float32,4}(1,1,128,512)), 0, 1, 1))), Any[ResLayerX4(ResLayerX2(ResLayerX1(ResLayerX0(BatchNormLayer(K32(256)[0.866662⋯], Knet.Ops20.BNMoments(0.1f0, K32(1,1,128,1)[0.28820038⋯], K32(1,1,128,1)[0.81755745⋯], zeros, ones)), P(KnetArray{Float32,4}(1,1,512,128)), 0, 1, 1), false), ResLayerX1(ResLayerX0(BatchNormLayer(K32(256)[1.1783595⋯], Knet.Ops20.BNMoments(0.1f0, K32(1,1,128,1)[-0.15844566⋯], K32(1,1,128,1)[0.39311594⋯], zeros, ones)), P(KnetArray{Float32,4}(3,3,128,128)), 1, 1, 1), false), ResLayerX0(BatchNormLayer(K32(1024)[0.78409165⋯], Knet.Ops20.BNMoments(0.1f0, K32(1,1,512,1)[-0.013929213⋯], K32(1,1,512,1)[0.05021399⋯], zeros, ones)), P(KnetArray{Float32,4}(1,1,128,512)), 0, 1, 1))), ResLayerX4(ResLayerX2(ResLayerX1(ResLayerX0(BatchNormLayer(K32(256)[0.8043252⋯], Knet.Ops20.BNMoments(0.1f0, K32(1,1,128,1)[0.4092232⋯], K32(1,1,128,1)[0.7098232⋯], zeros, ones)), P(KnetArray{Float32,4}(1,1,512,128)), 0, 1, 1), false), ResLayerX1(ResLayerX0(BatchNormLayer(K32(256)[0.98584735⋯], Knet.Ops20.BNMoments(0.1f0, K32(1,1,128,1)[0.49716163⋯], K32(1,1,128,1)[0.5842867⋯], zeros, ones)), P(KnetArray{Float32,4}(3,3,128,128)), 1, 1, 1), false), ResLayerX0(BatchNormLayer(K32(1024)[0.26081032⋯], Knet.Ops20.BNMoments(0.1f0, K32(1,1,512,1)[0.05083162⋯], K32(1,1,512,1)[0.0054036723⋯], zeros, ones)), P(KnetArray{Float32,4}(1,1,128,512)), 0, 1, 1))), ResLayerX4(ResLayerX2(ResLayerX1(ResLayerX0(BatchNormLayer(K32(256)[1.0667678⋯], Knet.Ops20.BNMoments(0.1f0, K32(1,1,128,1)[-0.31752154⋯], K32(1,1,128,1)[1.4007573⋯], zeros, ones)), P(KnetArray{Float32,4}(1,1,512,128)), 0, 1, 1), false), ResLayerX1(ResLayerX0(BatchNormLayer(K32(256)[1.2993172⋯], Knet.Ops20.BNMoments(0.1f0, K32(1,1,128,1)[-0.6669731⋯], K32(1,1,128,1)[1.7254832⋯], zeros, ones)), P(KnetArray{Float32,4}(3,3,128,128)), 1, 1, 1), false), ResLayerX0(BatchNormLayer(K32(1024)[0.28678632⋯], Knet.Ops20.BNMoments(0.1f0, K32(1,1,512,1)[-0.38659292⋯], K32(1,1,512,1)[0.09676153⋯], zeros, ones)), P(KnetArray{Float32,4}(1,1,128,512)), 0, 1, 1)))], false, Conv2(P(KnetArray{Float32,4}(1,1,512,14)), P(KnetArray{Float32,4}(1,1,14,1)), identity, false), Conv2(P(KnetArray{Float32,4}(1,1,512,56)), P(KnetArray{Float32,4}(1,1,56,1)), identity, false), 3), ResLayerX5(ResLayerX3(ResLayerX0(BatchNormLayer(K32(2048)[1.8901694⋯], Knet.Ops20.BNMoments(0.1f0, K32(1,1,1024,1)[-0.5777102⋯], K32(1,1,1024,1)[0.82776016⋯], zeros, ones)), P(KnetArray{Float32,4}(1,1,512,1024)), 0, 2, 1), ResLayerX2(ResLayerX1(ResLayerX0(BatchNormLayer(K32(512)[0.7846621⋯], Knet.Ops20.BNMoments(0.1f0, K32(1,1,256,1)[0.35905024⋯], K32(1,1,256,1)[0.7989915⋯], zeros, ones)), P(KnetArray{Float32,4}(1,1,512,256)), 0, 2, 1), false), ResLayerX1(ResLayerX0(BatchNormLayer(K32(512)[0.80431044⋯], Knet.Ops20.BNMoments(0.1f0, K32(1,1,256,1)[-0.315437⋯], K32(1,1,256,1)[0.5980575⋯], zeros, ones)), P(KnetArray{Float32,4}(3,3,256,256)), 1, 1, 1), false), ResLayerX0(BatchNormLayer(K32(2048)[0.611424⋯], Knet.Ops20.BNMoments(0.1f0, K32(1,1,1024,1)[0.08705414⋯], K32(1,1,1024,1)[0.021746203⋯], zeros, ones)), P(KnetArray{Float32,4}(1,1,256,1024)), 0, 1, 1))), Any[ResLayerX4(ResLayerX2(ResLayerX1(ResLayerX0(BatchNormLayer(K32(512)[0.5766096⋯], Knet.Ops20.BNMoments(0.1f0, K32(1,1,256,1)[-1.2048222⋯], K32(1,1,256,1)[1.0915555⋯], zeros, ones)), P(KnetArray{Float32,4}(1,1,1024,256)), 0, 1, 1), false), ResLayerX1(ResLayerX0(BatchNormLayer(K32(512)[1.1113132⋯], Knet.Ops20.BNMoments(0.1f0, K32(1,1,256,1)[-0.34134147⋯], K32(1,1,256,1)[0.3072425⋯], zeros, ones)), P(KnetArray{Float32,4}(3,3,256,256)), 1, 1, 1), false), ResLayerX0(BatchNormLayer(K32(2048)[0.44023758⋯], Knet.Ops20.BNMoments(0.1f0, K32(1,1,1024,1)[-0.011858582⋯], K32(1,1,1024,1)[0.015873777⋯], zeros, ones)), P(KnetArray{Float32,4}(1,1,256,1024)), 0, 1, 1))), ResLayerX4(ResLayerX2(ResLayerX1(ResLayerX0(BatchNormLayer(K32(512)[0.776772⋯], Knet.Ops20.BNMoments(0.1f0, K32(1,1,256,1)[-0.596799⋯], K32(1,1,256,1)[0.9171391⋯], zeros, ones)), P(KnetArray{Float32,4}(1,1,1024,256)), 0, 1, 1), false), ResLayerX1(ResLayerX0(BatchNormLayer(K32(512)[1.047111⋯], Knet.Ops20.BNMoments(0.1f0, K32(1,1,256,1)[-0.42312667⋯], K32(1,1,256,1)[0.12850809⋯], zeros, ones)), P(KnetArray{Float32,4}(3,3,256,256)), 1, 1, 1), false), ResLayerX0(BatchNormLayer(K32(2048)[0.618001⋯], Knet.Ops20.BNMoments(0.1f0, K32(1,1,1024,1)[-0.064911455⋯], K32(1,1,1024,1)[0.01741123⋯], zeros, ones)), P(KnetArray{Float32,4}(1,1,256,1024)), 0, 1, 1))), ResLayerX4(ResLayerX2(ResLayerX1(ResLayerX0(BatchNormLayer(K32(512)[0.7149036⋯], Knet.Ops20.BNMoments(0.1f0, K32(1,1,256,1)[0.027722526⋯], K32(1,1,256,1)[1.1018192⋯], zeros, ones)), P(KnetArray{Float32,4}(1,1,1024,256)), 0, 1, 1), false), ResLayerX1(ResLayerX0(BatchNormLayer(K32(512)[1.0872635⋯], Knet.Ops20.BNMoments(0.1f0, K32(1,1,256,1)[-0.09086886⋯], K32(1,1,256,1)[0.1919388⋯], zeros, ones)), P(KnetArray{Float32,4}(3,3,256,256)), 1, 1, 1), false), ResLayerX0(BatchNormLayer(K32(2048)[0.83193636⋯], Knet.Ops20.BNMoments(0.1f0, K32(1,1,1024,1)[-0.085170075⋯], K32(1,1,1024,1)[0.027416732⋯], zeros, ones)), P(KnetArray{Float32,4}(1,1,256,1024)), 0, 1, 1))), ResLayerX4(ResLayerX2(ResLayerX1(ResLayerX0(BatchNormLayer(K32(512)[1.1325587⋯], Knet.Ops20.BNMoments(0.1f0, K32(1,1,256,1)[-0.693258⋯], K32(1,1,256,1)[1.1252179⋯], zeros, ones)), P(KnetArray{Float32,4}(1,1,1024,256)), 0, 1, 1), false), ResLayerX1(ResLayerX0(BatchNormLayer(K32(512)[0.705297⋯], Knet.Ops20.BNMoments(0.1f0, K32(1,1,256,1)[0.011312202⋯], K32(1,1,256,1)[0.096899964⋯], zeros, ones)), P(KnetArray{Float32,4}(3,3,256,256)), 1, 1, 1), false), ResLayerX0(BatchNormLayer(K32(2048)[0.99949026⋯], Knet.Ops20.BNMoments(0.1f0, K32(1,1,1024,1)[-0.055637173⋯], K32(1,1,1024,1)[0.0903124⋯], zeros, ones)), P(KnetArray{Float32,4}(1,1,256,1024)), 0, 1, 1))), ResLayerX4(ResLayerX2(ResLayerX1(ResLayerX0(BatchNormLayer(K32(512)[1.1847397⋯], Knet.Ops20.BNMoments(0.1f0, K32(1,1,256,1)[-0.14336684⋯], K32(1,1,256,1)[0.58428615⋯], zeros, ones)), P(KnetArray{Float32,4}(1,1,1024,256)), 0, 1, 1), false), ResLayerX1(ResLayerX0(BatchNormLayer(K32(512)[1.1398379⋯], Knet.Ops20.BNMoments(0.1f0, K32(1,1,256,1)[-0.40458265⋯], K32(1,1,256,1)[0.1620076⋯], zeros, ones)), P(KnetArray{Float32,4}(3,3,256,256)), 1, 1, 1), false), ResLayerX0(BatchNormLayer(K32(2048)[0.66548127⋯], Knet.Ops20.BNMoments(0.1f0, K32(1,1,1024,1)[-0.23340851⋯], K32(1,1,1024,1)[0.031166004⋯], zeros, ones)), P(KnetArray{Float32,4}(1,1,256,1024)), 0, 1, 1)))], false, nothing, nothing, nothing), ResLayerX5(ResLayerX3(ResLayerX0(BatchNormLayer(K32(4096)[2.5592484⋯], Knet.Ops20.BNMoments(0.1f0, K32(1,1,2048,1)[-0.11689658⋯], K32(1,1,2048,1)[0.18099838⋯], zeros, ones)), P(KnetArray{Float32,4}(1,1,1024,2048)), 0, 1, 1), ResLayerX2(ResLayerX1(ResLayerX0(BatchNormLayer(K32(1024)[0.90421796⋯], Knet.Ops20.BNMoments(0.1f0, K32(1,1,512,1)[-0.35031974⋯], K32(1,1,512,1)[0.4160045⋯], zeros, ones)), P(KnetArray{Float32,4}(1,1,1024,512)), 0, 1, 1), false), ResLayerX1(ResLayerX0(BatchNormLayer(K32(1024)[1.1694604⋯], Knet.Ops20.BNMoments(0.1f0, K32(1,1,512,1)[-0.7112057⋯], K32(1,1,512,1)[0.4312633⋯], zeros, ones)), P(KnetArray{Float32,4}(3,3,512,512)), 1, 1, 1), false), ResLayerX0(BatchNormLayer(K32(4096)[1.704133⋯], Knet.Ops20.BNMoments(0.1f0, K32(1,1,2048,1)[-0.020792287⋯], K32(1,1,2048,1)[0.018248402⋯], zeros, ones)), P(KnetArray{Float32,4}(1,1,512,2048)), 0, 1, 1))), Any[ResLayerX4(ResLayerX2(ResLayerX1(ResLayerX0(BatchNormLayer(K32(1024)[0.8890093⋯], Knet.Ops20.BNMoments(0.1f0, K32(1,1,512,1)[-2.254946⋯], K32(1,1,512,1)[4.923659⋯], zeros, ones)), P(KnetArray{Float32,4}(1,1,2048,512)), 0, 1, 1), false), ResLayerX1(ResLayerX0(BatchNormLayer(K32(1024)[0.84919703⋯], Knet.Ops20.BNMoments(0.1f0, K32(1,1,512,1)[-0.38966823⋯], K32(1,1,512,1)[0.12177684⋯], zeros, ones)), P(KnetArray{Float32,4}(3,3,512,512)), 2, 1, 2), false), ResLayerX0(BatchNormLayer(K32(4096)[1.4563987⋯], Knet.Ops20.BNMoments(0.1f0, K32(1,1,2048,1)[-0.070854515⋯], K32(1,1,2048,1)[0.00571139⋯], zeros, ones)), P(KnetArray{Float32,4}(1,1,512,2048)), 0, 1, 1))), ResLayerX4(ResLayerX2(ResLayerX1(ResLayerX0(BatchNormLayer(K32(1024)[0.85895765⋯], Knet.Ops20.BNMoments(0.1f0, K32(1,1,512,1)[-1.196292⋯], K32(1,1,512,1)[2.8216658⋯], zeros, ones)), P(KnetArray{Float32,4}(1,1,2048,512)), 0, 1, 1), false), ResLayerX1(ResLayerX0(BatchNormLayer(K32(1024)[1.066858⋯], Knet.Ops20.BNMoments(0.1f0, K32(1,1,512,1)[-0.41548124⋯], K32(1,1,512,1)[0.15365496⋯], zeros, ones)), P(KnetArray{Float32,4}(3,3,512,512)), 2, 1, 2), false), ResLayerX0(BatchNormLayer(K32(4096)[1.3451786⋯], Knet.Ops20.BNMoments(0.1f0, K32(1,1,2048,1)[-0.1264955⋯], K32(1,1,2048,1)[0.006315252⋯], zeros, ones)), P(KnetArray{Float32,4}(1,1,512,2048)), 0, 1, 1)))], false, nothing, nothing, 5), DeeperCutHead(Deconv(P(KnetArray{Float32,4}(4,4,14,2048)), 2, 1, \"part_detect_deconv\"), Deconv(P(KnetArray{Float32,4}(4,4,56,2048)), 2, 1, \"loc_ref_deconv\"), \"deeper_cut_head\", true)), 0, 0, deeper_cut_combined_loss, DeeperCutOption(true))"
      ]
     },
     "execution_count": 6,
     "metadata": {},
     "output_type": "execute_result"
    }
   ],
   "source": [
    "model = Knet.load(\"29-12-20-training_model.jld2\", \"29-12-20-training_model\")"
   ]
  },
  {
   "cell_type": "code",
   "execution_count": 46,
   "metadata": {},
   "outputs": [
    {
     "data": {
      "text/plain": [
       "true"
      ]
     },
     "execution_count": 46,
     "metadata": {},
     "output_type": "execute_result"
    }
   ],
   "source": [
    "dtrn.shuffle = false\n",
    "dtrn_first_two_batch = collect(take(dtrn, 2))\n",
    "dtrn_x1, dtrn_y1 = first(dtrn)\n",
    "dval_x1, dval_y1 = first(dval)\n",
    "dtrn.shuffle = true"
   ]
  },
  {
   "cell_type": "code",
   "execution_count": 50,
   "metadata": {},
   "outputs": [],
   "source": [
    "deeper_cut_without_loc_ref = generate_deeper_cut();"
   ]
  },
  {
   "cell_type": "code",
   "execution_count": 15,
   "metadata": {},
   "outputs": [],
   "source": [
    "deeper_cut_with_loc_ref = generate_deeper_cut(; is_loc_ref_enabled = true);"
   ]
  },
  {
   "cell_type": "code",
   "execution_count": 755,
   "metadata": {},
   "outputs": [],
   "source": [
    "#  TODO: check resnet implementation for its regularizations"
   ]
  },
  {
   "cell_type": "code",
   "execution_count": 55,
   "metadata": {},
   "outputs": [],
   "source": [
    "#deeper_cut_without_loc_ref(dval)"
   ]
  },
  {
   "cell_type": "code",
   "execution_count": 56,
   "metadata": {},
   "outputs": [],
   "source": [
    "#model_end_results(deeper_cut_with_loc_ref, dtrn, dval; \n",
    "#    train_data_items=nothing,\n",
    "#    validation_data_items=val_data_items)"
   ]
  },
  {
   "cell_type": "code",
   "execution_count": 96,
   "metadata": {},
   "outputs": [
    {
     "name": "stdout",
     "output_type": "stream",
     "text": [
      "train_acc_PCKh: 0.2828051655311874\n",
      "train_loss: 0.020552090019918978\n",
      "train_acc: 0.04854910714285712\n",
      "validation_PCKh: 0.2681170997923558\n",
      "validation_loss: 0.021801844472065568\n",
      "validation_acc: 0.044642857142857144\n"
     ]
    }
   ],
   "source": [
    "model_end_results(deeper_cut_without_loc_ref, dtrn_2k, dval_2k; \n",
    "    train_data_items=trn_data_items,\n",
    "    validation_data_items=val_data_items);"
   ]
  },
  {
   "cell_type": "code",
   "execution_count": 38,
   "metadata": {},
   "outputs": [
    {
     "name": "stdout",
     "output_type": "stream",
     "text": [
      "Effective GPU memory usage: 5.10% (770.000 MiB/14.756 GiB)\n",
      "CUDA allocator usage: 138.015 MiB\n",
      "binned usage: 3.469 KiB (3.469 KiB allocated, 0 bytes cached)\n",
      "Discrepancy of 138.012 MiB between memory pool and allocator!\n"
     ]
    }
   ],
   "source": [
    "CUDA.reclaim()\n",
    "CUDA.memory_status()\n",
    "GC.gc(true)"
   ]
  },
  {
   "cell_type": "code",
   "execution_count": 14,
   "metadata": {},
   "outputs": [
    {
     "name": "stderr",
     "output_type": "stream",
     "text": [
      "┣████████████████████┫ [100.00%, 1280/1280, 43:11/43:11, 2.02s/i] \n"
     ]
    }
   ],
   "source": [
    "deeper_cut_without_loc_ref_results = trainresults(\"resnet_with_deconv.jld2\",\n",
    "    deeper_cut_without_loc_ref,\n",
    "    dtrn_2k,\n",
    "    dval_2k, [(0.05, 20)]; \n",
    "    accuracy_func=nothing,\n",
    "    error_func=nothing,\n",
    "    secondary_accuracy_func=modelized_PCKh_sigm,\n",
    "        data_items_trn=trn_data_items,\n",
    "        data_items_val=val_data_items\n",
    "    );"
   ]
  },
  {
   "cell_type": "code",
   "execution_count": 15,
   "metadata": {},
   "outputs": [
    {
     "data": {
      "image/png": "[encoded data removed]"
     },
     "metadata": {},
     "output_type": "display_data"
    },
    {
     "data": {
      "image/png": "[encoded data removed]"
     },
     "metadata": {},
     "output_type": "display_data"
    },
    {
     "data": {
      "image/png": "[encoded data removed]"
     },
     "metadata": {},
     "output_type": "display_data"
    },
    {
     "data": {
      "image/png": "[encoded data removed]"
     },
     "metadata": {},
     "output_type": "display_data"
    }
   ],
   "source": [
    "draw_plots(deeper_cut_without_loc_ref_results)"
   ]
  },
  {
   "cell_type": "code",
   "execution_count": null,
   "metadata": {},
   "outputs": [
    {
     "name": "stderr",
     "output_type": "stream",
     "text": [
      "┣███████████████████▉┫ [100.00%, 18432/18432, 40:36/40:36, 7.57i/s] \n"
     ]
    },
    {
     "name": "stdout",
     "output_type": "stream",
     "text": [
      "(0, 0, 0, 0, 0, 0, 0, 0, 0)\n"
     ]
    },
    {
     "name": "stderr",
     "output_type": "stream",
     "text": [
      "┣█▏                  ┫ [5.88%, 18425/313344, 40:17/11:25:06, 7.61i/s] "
     ]
    },
    {
     "name": "stdout",
     "output_type": "stream",
     "text": [
      "(0, 0, 0, 0, 0, 0, 0, 0, 0)\n"
     ]
    },
    {
     "name": "stderr",
     "output_type": "stream",
     "text": [
      "┣██                  ┫ [10.21%, 31977/313344, 01:09:53/11:24:49, 7.66i/s] Excessive output truncated after 524302 bytes."
     ]
    }
   ],
   "source": [
    "   deeper_cut_with_loc_ref_results = trainresults(\n",
    "        \"03-01-21-single\",\n",
    "        deeper_cut_with_loc_ref,\n",
    "        dtrn_single,\n",
    "        nothing,\n",
    "        [(0.005, 1), (0.02, 17)];\n",
    "        accuracy_func = nothing,\n",
    "        error_func = nothing,\n",
    "        secondary_accuracy_func = nothing,\n",
    "        data_items_trn = nothing,\n",
    "        data_items_val = nothing,\n",
    "        check_loss = false\n",
    "    )"
   ]
  },
  {
   "cell_type": "code",
   "execution_count": null,
   "metadata": {},
   "outputs": [],
   "source": [
    "#=\n",
    "- [0.005, 10000]\n",
    "- [0.02, 430000]\n",
    "- [0.002, 730000]\n",
    "- [0.001, 1030000]\n",
    "=#"
   ]
  },
  {
   "cell_type": "code",
   "execution_count": 7,
   "metadata": {},
   "outputs": [
    {
     "name": "stderr",
     "output_type": "stream",
     "text": [
      "┣██▍                 ┫ [12.50%, 25598/204800, 58:59/07:51:56, 7.30i/s] "
     ]
    },
    {
     "name": "stdout",
     "output_type": "stream",
     "text": [
      "(0, 0.013955040275182904, 0.01395504027302751, 0, 0, 0, 0, 0, 0.5217468421854654)\n"
     ]
    },
    {
     "name": "stderr",
     "output_type": "stream",
     "text": [
      "┣████▊               ┫ [24.20%, 49556/204800, 02:24:00/09:55:08, 6.97i/s] ] Excessive output truncated after 524297 bytes."
     ]
    }
   ],
   "source": [
    "#=\n",
    "We train networks with SGD for 1M iterations,\n",
    "starting with the learning rate lr=0.001 for 10k,\n",
    "then lr=0.002 for 420k,\n",
    "lr=0.0002 for 300k and\n",
    "lr=0.0001 for 300k. This corresponds to roughly 17 epochs of the MPII=#\n",
    "deeper_cut_with_loc_ref_results = trainresults(\"29-12-20-continue\",\n",
    "    model,\n",
    "    dtrn,\n",
    "    dval, [(0.002, 8), (0.001, 12)]; \n",
    "    accuracy_func=nothing,\n",
    "    error_func=nothing,\n",
    "    secondary_accuracy_func=modelized_PCKh_sigm,\n",
    "        data_items_trn=nothing,\n",
    "        data_items_val=val_data_items\n",
    "    );"
   ]
  },
  {
   "cell_type": "code",
   "execution_count": 8,
   "metadata": {},
   "outputs": [
    {
     "data": {
      "image/png": "[encoded data removed]"
     },
     "metadata": {},
     "output_type": "display_data"
    },
    {
     "data": {
      "image/png": "[encoded data removed]"
     },
     "metadata": {},
     "output_type": "display_data"
    },
    {
     "data": {
      "image/png": "[encoded data removed]"
     },
     "metadata": {},
     "output_type": "display_data"
    },
    {
     "data": {
      "image/png": "[encoded data removed]"
     },
     "metadata": {},
     "output_type": "display_data"
    }
   ],
   "source": [
    "draw_plots(deeper_cut_with_loc_ref_results)"
   ]
  },
  {
   "cell_type": "code",
   "execution_count": null,
   "metadata": {},
   "outputs": [],
   "source": [
    "# Experimental Zone"
   ]
  },
  {
   "cell_type": "code",
   "execution_count": null,
   "metadata": {},
   "outputs": [],
   "source": [
    "sigmoided_output = Array(sigm.(resnet_with_deconv(dtrn_x1)));"
   ]
  },
  {
   "cell_type": "code",
   "execution_count": null,
   "metadata": {},
   "outputs": [],
   "source": [
    "sigmoided_output = Array(sigm.(loadedResNet(dtrn_x1)));"
   ]
  },
  {
   "cell_type": "code",
   "execution_count": null,
   "metadata": {},
   "outputs": [],
   "source": [
    "sigmoided_output[ sigmoided_output .< output_consider_threshold] .= 0  ;"
   ]
  },
  {
   "cell_type": "code",
   "execution_count": null,
   "metadata": {},
   "outputs": [],
   "source": [
    "test_image_order = 7;"
   ]
  },
  {
   "cell_type": "code",
   "execution_count": null,
   "metadata": {
    "scrolled": true
   },
   "outputs": [],
   "source": [
    "gt_joint_images = draw_score_maps(Array(dtrn_y1), test_image_order);"
   ]
  },
  {
   "cell_type": "code",
   "execution_count": null,
   "metadata": {},
   "outputs": [],
   "source": [
    "pred_joint_images = draw_score_maps(sigmoided_output, test_image_order);"
   ]
  },
  {
   "cell_type": "code",
   "execution_count": null,
   "metadata": {},
   "outputs": [],
   "source": [
    "pred_joint_images[14]"
   ]
  },
  {
   "cell_type": "code",
   "execution_count": null,
   "metadata": {},
   "outputs": [],
   "source": [
    "gt_joint_images[14]"
   ]
  },
  {
   "cell_type": "code",
   "execution_count": null,
   "metadata": {},
   "outputs": [],
   "source": [
    "images = []\n",
    "for (i, joint_sc) in enumerate(gt_joint_images)\n",
    "img = show_scmap_on_image(test_image, joint_sc;\n",
    "        fill_value=1, \n",
    "        should_use_scmap_size=true,\n",
    "    display_name=i)\n",
    "    push!(images, img)\n",
    "end"
   ]
  },
  {
   "cell_type": "code",
   "execution_count": null,
   "metadata": {},
   "outputs": [],
   "source": [
    "mosaicify(images; ncol=3)"
   ]
  },
  {
   "cell_type": "code",
   "execution_count": null,
   "metadata": {},
   "outputs": [],
   "source": [
    "show_scmap_on_image(test_image, pred_joint_images[13]; fill_value=1);"
   ]
  },
  {
   "cell_type": "code",
   "execution_count": null,
   "metadata": {},
   "outputs": [],
   "source": [
    "should_use_output_sized = false\n",
    "test_image = Array(dtrn_x1_2k)[:, :, :, test_image_order];\n",
    "output_sized_test_image = imresize(test_image, 32, 32);\n",
    "perm = permutedims( should_use_output_sized ? output_sized_test_image : test_image, [3, 1, 2])\n",
    "colored = colorview(RGB, perm);\n",
    "fetch(display(colored));\n",
    "#colorview(RGB, rand(3,256,256))"
   ]
  },
  {
   "cell_type": "code",
   "execution_count": null,
   "metadata": {},
   "outputs": [],
   "source": [
    "#  Experimental Section"
   ]
  },
  {
   "cell_type": "code",
   "execution_count": null,
   "metadata": {},
   "outputs": [],
   "source": [
    "first(dtrn)[1] |> size"
   ]
  },
  {
   "cell_type": "code",
   "execution_count": null,
   "metadata": {},
   "outputs": [],
   "source": [
    "first(dtrn)[2] |> size"
   ]
  },
  {
   "cell_type": "code",
   "execution_count": null,
   "metadata": {},
   "outputs": [],
   "source": [
    "#julia> w0 = KnetArray(randn(Float32, 5, 5, 1, 20));\n",
    "\n",
    "#julia> x0 = KnetArray(rand(Float32, 24, 24, 20, 100));\n",
    "\n",
    "#julia> size(deconv4(w0,x0)) # this output does not make it sense, it should give what I want\n",
    "#(28, 28, 20, 100)\n",
    "#\n",
    "\n",
    "w0 = KnetArray(randn(Float32, 5, 5, 1, 20));\n",
    " x0 = KnetArray(rand(Float32, 4, 4, 2048, 32));\n",
    "\n",
    " # this output does not make it sense, it should give what I want\n",
    "#(28, 28, 20, 100)"
   ]
  },
  {
   "cell_type": "code",
   "execution_count": null,
   "metadata": {},
   "outputs": [],
   "source": [
    "dec_layer = Deconv(4, 4, 14, 2048; padding=1, stride=2, atype=Knet.atype())"
   ]
  },
  {
   "cell_type": "code",
   "execution_count": null,
   "metadata": {},
   "outputs": [],
   "source": [
    "mock = randn(Float32, 16, 16, 2048, 32)\n",
    "mock = convert(Knet.atype(), mock);"
   ]
  },
  {
   "cell_type": "code",
   "execution_count": null,
   "metadata": {},
   "outputs": [],
   "source": [
    "size(dec_layer(mock))"
   ]
  },
  {
   "cell_type": "code",
   "execution_count": null,
   "metadata": {},
   "outputs": [],
   "source": [
    "size(deconv4(w0, x0))"
   ]
  },
  {
   "cell_type": "code",
   "execution_count": null,
   "metadata": {
    "scrolled": true
   },
   "outputs": [],
   "source": [
    "tc = Conv2(3, 3, 3, 3)"
   ]
  },
  {
   "cell_type": "code",
   "execution_count": null,
   "metadata": {},
   "outputs": [],
   "source": [
    "fb = first(dtrn)[1];"
   ]
  },
  {
   "cell_type": "code",
   "execution_count": null,
   "metadata": {},
   "outputs": [],
   "source": [
    "res_tc = tc2(fb) |> tc;"
   ]
  },
  {
   "cell_type": "code",
   "execution_count": null,
   "metadata": {},
   "outputs": [],
   "source": [
    "mid = res_tc |> tc2"
   ]
  },
  {
   "cell_type": "code",
   "execution_count": null,
   "metadata": {},
   "outputs": [],
   "source": [
    "w1 = KnetArray(randn(Float32, 3, 3, 1, 3));"
   ]
  },
  {
   "cell_type": "code",
   "execution_count": null,
   "metadata": {},
   "outputs": [],
   "source": [
    "#deconv4(w1, mid)\n",
    "size(deconv4(w1, mid; padding=1))"
   ]
  },
  {
   "cell_type": "code",
   "execution_count": null,
   "metadata": {},
   "outputs": [],
   "source": [
    "tc2 = ResLayerConv(3, 3, 3, 3; stride=2, padding=1)"
   ]
  },
  {
   "cell_type": "code",
   "execution_count": null,
   "metadata": {},
   "outputs": [],
   "source": [
    "res_tc2 = res_tc |> tc2;"
   ]
  },
  {
   "cell_type": "code",
   "execution_count": null,
   "metadata": {},
   "outputs": [],
   "source": [
    "size(res_tc)"
   ]
  },
  {
   "cell_type": "code",
   "execution_count": null,
   "metadata": {},
   "outputs": [],
   "source": [
    "tc2(fb) |> tc2 |> tc2;"
   ]
  },
  {
   "cell_type": "code",
   "execution_count": null,
   "metadata": {},
   "outputs": [],
   "source": []
  }
 ],
 "metadata": {
  "kernelspec": {
   "display_name": "Julia 1.5.3",
   "language": "julia",
   "name": "julia-1.5"
  },
  "language_info": {
   "file_extension": ".jl",
   "mimetype": "application/julia",
   "name": "julia",
   "version": "1.5.3"
  }
 },
 "nbformat": 4,
 "nbformat_minor": 4
}

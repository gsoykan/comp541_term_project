{
 "cells": [
  {
   "cell_type": "code",
   "execution_count": null,
   "metadata": {},
   "outputs": [],
   "source": [
    "#using Revise"
   ]
  },
  {
   "cell_type": "code",
   "execution_count": 1,
   "metadata": {},
   "outputs": [],
   "source": [
    "using Knet"
   ]
  },
  {
   "cell_type": "code",
   "execution_count": 2,
   "metadata": {},
   "outputs": [],
   "source": [
    "#pkg\"add Knet#master\""
   ]
  },
  {
   "cell_type": "code",
   "execution_count": 3,
   "metadata": {},
   "outputs": [],
   "source": [
    "#using ImageView;"
   ]
  },
  {
   "cell_type": "code",
   "execution_count": 14,
   "metadata": {},
   "outputs": [
    {
     "data": {
      "text/plain": [
       "generate_headless_resnet50_from_weights (generic function with 1 method)"
      ]
     },
     "execution_count": 14,
     "metadata": {},
     "output_type": "execute_result"
    }
   ],
   "source": [
    "include(\"../helper.jl\")\n",
    "include(\"accuracy.jl\")\n",
    "include(\"loss.jl\")\n",
    "include(\"mpii.batcher.jl\")\n",
    "include(\"../models.jl\")\n",
    "include(\"../training.jl\")\n",
    "include(\"../plots.jl\")\n",
    "include(\"../modular.resnet.jl\")"
   ]
  },
  {
   "cell_type": "code",
   "execution_count": 15,
   "metadata": {
    "scrolled": true
   },
   "outputs": [
    {
     "name": "stdout",
     "output_type": "stream",
     "text": [
      "1\n",
      "8-element Data{Tuple{KnetArray{Float32,N} where N,KnetArray{Float32,N} where N}}\n",
      "257\n",
      "(196608, 256)\n",
      "16-element Data{Tuple{KnetArray{Float32,N} where N,KnetArray{Float32,N} where N}}\n",
      "513\n",
      "(196608, 512)\n",
      "24-element Data{Tuple{KnetArray{Float32,N} where N,KnetArray{Float32,N} where N}}\n",
      "769\n",
      "(196608, 768)\n",
      "32-element Data{Tuple{KnetArray{Float32,N} where N,KnetArray{Float32,N} where N}}\n"
     ]
    },
    {
     "data": {
      "text/plain": [
       "(K32(256,256,3,32)[0.19607843⋯], K32(32,32,71,32)[0.0⋯])"
      ]
     },
     "execution_count": 15,
     "metadata": {},
     "output_type": "execute_result"
    }
   ],
   "source": [
    "dtrn_2k, dval_2k, data_items = get_mpii_batches_and_data_items(32; should_shuffle=true)\n",
    "dtrn_x1_2k, dtrn_y1_2k = first(dtrn_2k)\n",
    "dval_x1_2k, dval_y1_2k = first(dval_2k)"
   ]
  },
  {
   "cell_type": "code",
   "execution_count": null,
   "metadata": {},
   "outputs": [],
   "source": [
    "#Knet.save(\"20-12-2020-24kimage-batches.jld2\", \"24k-image-batches\", (dtrn, dval))"
   ]
  },
  {
   "cell_type": "code",
   "execution_count": null,
   "metadata": {},
   "outputs": [],
   "source": [
    "loaded_batches = Knet.load(\"20-12-2020-24kimage-batches.jld2\", \"24k-image-batches\");\n",
    "dtrn, dval = loaded_batches\n",
    "dtrn_x1, dtrn_y1 = first(dtrn)\n",
    "dval_x1, dval_y1 = first(dval)"
   ]
  },
  {
   "cell_type": "code",
   "execution_count": 21,
   "metadata": {},
   "outputs": [],
   "source": [
    "# TODO: check resnet implementation for its regularizations\n",
    "should_use_resnet50 = true\n",
    "modular_resnet = get_modular_resnet(should_use_resnet50);"
   ]
  },
  {
   "cell_type": "code",
   "execution_count": null,
   "metadata": {},
   "outputs": [],
   "source": [
    "#size(resnet_with_deconv(dtrn_x1))"
   ]
  },
  {
   "cell_type": "code",
   "execution_count": 22,
   "metadata": {},
   "outputs": [],
   "source": [
    "resnet_with_deconv = Chain(modular_resnet.layers...,  \n",
    "     Deconv(4, 4, global_num_joints, 2048; padding=1, stride=2, tag=\"part_detect_deconv\"); \n",
    "    loss=sigmoid_cross_entropy_loss,\n",
    "    deeperCutOption=DeeperCutOption(true));"
   ]
  },
  {
   "cell_type": "code",
   "execution_count": 23,
   "metadata": {},
   "outputs": [
    {
     "name": "stdout",
     "output_type": "stream",
     "text": [
      "train_loss: 1.0323536\n",
      "train_acc: 0.002022879464285714\n",
      "validation_loss: 1.03175\n",
      "validation_acc: 0.0011160714285714287\n"
     ]
    }
   ],
   "source": [
    "model_end_results(resnet_with_deconv, dtrn_2k, dval_2k)"
   ]
  },
  {
   "cell_type": "code",
   "execution_count": null,
   "metadata": {},
   "outputs": [],
   "source": [
    "resnet_with_deconv_conv3_disabled = Chain(modular_resnet.layers...,  \n",
    "     Deconv(4, 4, 14, 2048; padding=1, stride=2, tag=\"part_detect_deconv\"); \n",
    "    loss=sigmoid_cross_entropy_loss,\n",
    "    deeperCutOption=DeeperCutOption(false));"
   ]
  },
  {
   "cell_type": "code",
   "execution_count": null,
   "metadata": {},
   "outputs": [],
   "source": [
    "model_end_results(resnet_with_deconv_conv3_disabled, dtrn_2k, dval_2k)"
   ]
  },
  {
   "cell_type": "code",
   "execution_count": null,
   "metadata": {},
   "outputs": [],
   "source": [
    "CUDA.reclaim()\n",
    "CUDA.memory_status() \n",
    "GC.gc(true)"
   ]
  },
  {
   "cell_type": "code",
   "execution_count": null,
   "metadata": {},
   "outputs": [],
   "source": [
    "# [(0.005, 1), (0.02, 20), (0.002, 15), (0.001, 15)]\n",
    "resnetnet_results = trainresults(\"resnet_with_deconv.jld2\", resnet_with_deconv_conv3_disabled, dtrn_2k, dval_2k, [(0.02, 5)]; accuracy_func=modelized_naive_pck_sigm, error_func=nothing);"
   ]
  },
  {
   "cell_type": "code",
   "execution_count": null,
   "metadata": {},
   "outputs": [],
   "source": [
    "resnetnet_results = trainresults(\"resnet_with_deconv.jld2\", resnet_with_deconv, dtrn_2k, dval_2k, [(0.02, 5)]; accuracy_func=modelized_naive_pck_sigm, error_func=nothing);"
   ]
  },
  {
   "cell_type": "code",
   "execution_count": null,
   "metadata": {},
   "outputs": [],
   "source": [
    "#Knet.save(\"20-+5ep-12-2020-24kimage-resnet-50.jld2\", \"resnet_with_deconv\", resnet_with_deconv)"
   ]
  },
  {
   "cell_type": "code",
   "execution_count": null,
   "metadata": {},
   "outputs": [],
   "source": [
    "#resnet_with_deconv = Knet.load(\"20-+5ep-12-2020-24kimage-resnet-50.jld2\", \"resnet_with_deconv\");"
   ]
  },
  {
   "cell_type": "code",
   "execution_count": null,
   "metadata": {},
   "outputs": [],
   "source": [
    "modelized_naive_pck_sigm(resnet_with_deconv, dval)"
   ]
  },
  {
   "cell_type": "code",
   "execution_count": null,
   "metadata": {},
   "outputs": [],
   "source": [
    "draw_plots(resnetnet_results)"
   ]
  },
  {
   "cell_type": "code",
   "execution_count": null,
   "metadata": {},
   "outputs": [],
   "source": [
    "sigmoided_output = Array(sigm.(resnet_with_deconv(dtrn_x1)));"
   ]
  },
  {
   "cell_type": "code",
   "execution_count": null,
   "metadata": {},
   "outputs": [],
   "source": [
    "sigmoided_output = Array(sigm.(loadedResNet(dtrn_x1)));"
   ]
  },
  {
   "cell_type": "code",
   "execution_count": null,
   "metadata": {},
   "outputs": [],
   "source": [
    "sigmoided_output[ sigmoided_output .< output_consider_threshold] .= 0  ;"
   ]
  },
  {
   "cell_type": "code",
   "execution_count": null,
   "metadata": {},
   "outputs": [],
   "source": [
    "test_image_order = 7;"
   ]
  },
  {
   "cell_type": "code",
   "execution_count": null,
   "metadata": {
    "scrolled": true
   },
   "outputs": [],
   "source": [
    "gt_joint_images = draw_score_maps(Array(dtrn_y1), test_image_order);"
   ]
  },
  {
   "cell_type": "code",
   "execution_count": null,
   "metadata": {},
   "outputs": [],
   "source": [
    "pred_joint_images = draw_score_maps(sigmoided_output, test_image_order);"
   ]
  },
  {
   "cell_type": "code",
   "execution_count": null,
   "metadata": {},
   "outputs": [],
   "source": [
    "pred_joint_images[14]"
   ]
  },
  {
   "cell_type": "code",
   "execution_count": null,
   "metadata": {},
   "outputs": [],
   "source": [
    "gt_joint_images[14]"
   ]
  },
  {
   "cell_type": "code",
   "execution_count": null,
   "metadata": {},
   "outputs": [],
   "source": [
    "images = []\n",
    "for (i, joint_sc) in enumerate(gt_joint_images)\n",
    "img = show_scmap_on_image(test_image, joint_sc;\n",
    "        fill_value=1, \n",
    "        should_use_scmap_size=true,\n",
    "    display_name=i)\n",
    "    push!(images, img)\n",
    "end"
   ]
  },
  {
   "cell_type": "code",
   "execution_count": null,
   "metadata": {},
   "outputs": [],
   "source": [
    "mosaicify(images; ncol=3)"
   ]
  },
  {
   "cell_type": "code",
   "execution_count": null,
   "metadata": {},
   "outputs": [],
   "source": [
    "show_scmap_on_image(test_image, pred_joint_images[13]; fill_value=1);"
   ]
  },
  {
   "cell_type": "code",
   "execution_count": null,
   "metadata": {},
   "outputs": [],
   "source": [
    "should_use_output_sized = false\n",
    "test_image = Array(dtrn_x1_2k)[:, :, :, test_image_order];\n",
    "output_sized_test_image = imresize(test_image, 32, 32);\n",
    "perm = permutedims( should_use_output_sized ? output_sized_test_image : test_image, [3, 1, 2])\n",
    "colored = colorview(RGB, perm);\n",
    "fetch(display(colored));\n",
    "#colorview(RGB, rand(3,256,256))"
   ]
  },
  {
   "cell_type": "code",
   "execution_count": null,
   "metadata": {},
   "outputs": [],
   "source": [
    "# Experimental Section"
   ]
  },
  {
   "cell_type": "code",
   "execution_count": null,
   "metadata": {},
   "outputs": [],
   "source": [
    "first(dtrn)[1] |> size"
   ]
  },
  {
   "cell_type": "code",
   "execution_count": null,
   "metadata": {},
   "outputs": [],
   "source": [
    "first(dtrn)[2] |> size"
   ]
  },
  {
   "cell_type": "code",
   "execution_count": null,
   "metadata": {},
   "outputs": [],
   "source": [
    "#julia> w0 = KnetArray(randn(Float32, 5, 5, 1, 20));\n",
    "\n",
    "#julia> x0 = KnetArray(rand(Float32, 24, 24, 20, 100));\n",
    "\n",
    "#julia> size(deconv4(w0,x0)) # this output does not make it sense, it should give what I want\n",
    "#(28, 28, 20, 100)\n",
    "#\n",
    "\n",
    "w0 = KnetArray(randn(Float32, 5, 5, 1, 20));\n",
    " x0 = KnetArray(rand(Float32, 4, 4, 2048, 32));\n",
    "\n",
    " # this output does not make it sense, it should give what I want\n",
    "#(28, 28, 20, 100)"
   ]
  },
  {
   "cell_type": "code",
   "execution_count": null,
   "metadata": {},
   "outputs": [],
   "source": [
    "dec_layer = Deconv(4, 4, 14, 2048; padding=1, stride=2, atype=Knet.atype())"
   ]
  },
  {
   "cell_type": "code",
   "execution_count": null,
   "metadata": {},
   "outputs": [],
   "source": [
    "mock = randn(Float32, 16,16, 2048, 32);\n",
    "mock = convert(Knet.atype(), mock);"
   ]
  },
  {
   "cell_type": "code",
   "execution_count": null,
   "metadata": {},
   "outputs": [],
   "source": [
    "size(dec_layer(  mock ))"
   ]
  },
  {
   "cell_type": "code",
   "execution_count": null,
   "metadata": {},
   "outputs": [],
   "source": [
    "size(deconv4(w0,x0))"
   ]
  },
  {
   "cell_type": "code",
   "execution_count": null,
   "metadata": {
    "scrolled": true
   },
   "outputs": [],
   "source": [
    "tc = Conv2(3, 3, 3, 3)"
   ]
  },
  {
   "cell_type": "code",
   "execution_count": null,
   "metadata": {},
   "outputs": [],
   "source": [
    "fb = first(dtrn)[1];"
   ]
  },
  {
   "cell_type": "code",
   "execution_count": null,
   "metadata": {},
   "outputs": [],
   "source": [
    "res_tc = tc2(fb) |> tc;"
   ]
  },
  {
   "cell_type": "code",
   "execution_count": null,
   "metadata": {},
   "outputs": [],
   "source": [
    "mid = res_tc |> tc2"
   ]
  },
  {
   "cell_type": "code",
   "execution_count": null,
   "metadata": {},
   "outputs": [],
   "source": [
    "w1 = KnetArray(randn(Float32, 3,3, 1, 3));"
   ]
  },
  {
   "cell_type": "code",
   "execution_count": null,
   "metadata": {},
   "outputs": [],
   "source": [
    "#deconv4(w1, mid)\n",
    "size(deconv4(w1, mid; padding=1))"
   ]
  },
  {
   "cell_type": "code",
   "execution_count": null,
   "metadata": {},
   "outputs": [],
   "source": [
    "tc2 = ResLayerConv(3, 3, 3, 3; stride=2, padding=1)"
   ]
  },
  {
   "cell_type": "code",
   "execution_count": null,
   "metadata": {},
   "outputs": [],
   "source": [
    "res_tc2 = res_tc |> tc2;"
   ]
  },
  {
   "cell_type": "code",
   "execution_count": null,
   "metadata": {},
   "outputs": [],
   "source": [
    "size(res_tc)"
   ]
  },
  {
   "cell_type": "code",
   "execution_count": null,
   "metadata": {},
   "outputs": [],
   "source": [
    "tc2(fb) |> tc2 |> tc2;"
   ]
  },
  {
   "cell_type": "code",
   "execution_count": null,
   "metadata": {},
   "outputs": [],
   "source": []
  }
 ],
 "metadata": {
  "kernelspec": {
   "display_name": "Julia 1.5.3",
   "language": "julia",
   "name": "julia-1.5"
  },
  "language_info": {
   "file_extension": ".jl",
   "mimetype": "application/julia",
   "name": "julia",
   "version": "1.5.3"
  }
 },
 "nbformat": 4,
 "nbformat_minor": 4
}

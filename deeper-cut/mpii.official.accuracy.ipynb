{
 "cells": [
  {
   "cell_type": "code",
   "execution_count": 1,
   "metadata": {},
   "outputs": [],
   "source": [
    "using MAT"
   ]
  },
  {
   "cell_type": "code",
   "execution_count": 2,
   "metadata": {},
   "outputs": [
    {
     "data": {
      "text/plain": [
       "\"/userfiles/gsoykan20/mpii_human_pose/cropped/dataset.mat\""
      ]
     },
     "execution_count": 2,
     "metadata": {},
     "output_type": "execute_result"
    }
   ],
   "source": [
    "path_to_processed_mat = \"/userfiles/gsoykan20/mpii_human_pose/cropped/dataset.mat\""
   ]
  },
  {
   "cell_type": "code",
   "execution_count": 6,
   "metadata": {},
   "outputs": [],
   "source": [
    "file = matopen(path_to_processed_mat)\n",
    "dataset = read(file, \"dataset\")\n",
    "close(file);"
   ]
  },
  {
   "cell_type": "code",
   "execution_count": 5,
   "metadata": {},
   "outputs": [
    {
     "data": {
      "text/plain": [
       "Dict{String,Any} with 3 entries:\n",
       "  \"image\"  => Any[\"/userfiles/gsoykan20/mpii_human_pose/cropped/im00005_1.png\" …\n",
       "  \"size\"   => Any[[3.0 391.0 295.0] [3.0 446.0 368.0] … [3.0 503.0 371.0] [3.0 …\n",
       "  \"joints\" => Any[Any[Int32[0 175 261; 1 173 178; … ; 12 187 126; 13 226 72]] A…"
      ]
     },
     "execution_count": 5,
     "metadata": {},
     "output_type": "execute_result"
    }
   ],
   "source": [
    "dataset"
   ]
  }
 ],
 "metadata": {
  "kernelspec": {
   "display_name": "Julia 1.5.3",
   "language": "julia",
   "name": "julia-1.5"
  },
  "language_info": {
   "file_extension": ".jl",
   "mimetype": "application/julia",
   "name": "julia",
   "version": "1.5.3"
  }
 },
 "nbformat": 4,
 "nbformat_minor": 4
}

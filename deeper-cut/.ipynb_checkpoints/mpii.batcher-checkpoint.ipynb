{
 "cells": [
  {
   "cell_type": "code",
   "execution_count": 1,
   "metadata": {},
   "outputs": [],
   "source": [
    "#using Revise"
   ]
  },
  {
   "cell_type": "code",
   "execution_count": 1,
   "metadata": {},
   "outputs": [],
   "source": [
    "using Knet"
   ]
  },
  {
   "cell_type": "code",
   "execution_count": 2,
   "metadata": {},
   "outputs": [
    {
     "name": "stderr",
     "output_type": "stream",
     "text": [
      "\n",
      "(julia:10306): Gtk-WARNING **: 14:38:07.947: Theme parsing error: gtk.css:1521:23: 'font-feature-settings' is not a valid property name\n",
      "\n",
      "(julia:10306): Gtk-WARNING **: 14:38:07.960: Theme parsing error: gtk.css:3460:25: 'font-feature-settings' is not a valid property name\n",
      "\n",
      "(julia:10306): Gtk-WARNING **: 14:38:07.962: Theme parsing error: gtk.css:3922:23: 'font-feature-settings' is not a valid property name\n",
      "Gtk-Message: 14:38:08.038: Failed to load module \"canberra-gtk-module\"\n",
      "Gtk-Message: 14:38:08.038: Failed to load module \"canberra-gtk-module\"\n"
     ]
    }
   ],
   "source": [
    "using ImageView;"
   ]
  },
  {
   "cell_type": "code",
   "execution_count": 833,
   "metadata": {},
   "outputs": [
    {
     "data": {
      "text/plain": [
       "compute_scmap_weights (generic function with 1 method)"
      ]
     },
     "execution_count": 833,
     "metadata": {},
     "output_type": "execute_result"
    }
   ],
   "source": [
    "include(\"../helper.jl\")\n",
    "include(\"mpii.annotation.parser.jl\")"
   ]
  },
  {
   "cell_type": "code",
   "execution_count": 776,
   "metadata": {},
   "outputs": [],
   "source": [
    "include(\"../models.jl\")"
   ]
  },
  {
   "cell_type": "code",
   "execution_count": 5,
   "metadata": {},
   "outputs": [
    {
     "data": {
      "text/plain": [
       "draw_plots (generic function with 1 method)"
      ]
     },
     "execution_count": 5,
     "metadata": {},
     "output_type": "execute_result"
    }
   ],
   "source": [
    "include(\"../training.jl\")\n",
    "include(\"../plots.jl\")"
   ]
  },
  {
   "cell_type": "code",
   "execution_count": 834,
   "metadata": {},
   "outputs": [
    {
     "data": {
      "text/plain": [
       "1×64 Array{DataItem,2}:\n",
       " DataItem(1, \"/home/gsoykan/Desktop/comp541/mpii-dataset/cropped/im00005_1.png\", [3.0 391.0 295.0], Int32[0 175 261; 1 173 178; … ; 12 187 126; 13 226 72])  …  DataItem(64, \"/home/gsoykan/Desktop/comp541/mpii-dataset/cropped/im00094_2.png\", [3.0 219.0 147.0], Int32[2 27 179; 3 35 172; … ; 12 14 74; 13 24 8])"
      ]
     },
     "execution_count": 834,
     "metadata": {},
     "output_type": "execute_result"
    }
   ],
   "source": [
    "dataset = get_dataset()"
   ]
  },
  {
   "cell_type": "code",
   "execution_count": 835,
   "metadata": {},
   "outputs": [
    {
     "name": "stdout",
     "output_type": "stream",
     "text": [
      "(1, 64)\n"
     ]
    }
   ],
   "source": [
    "preprocessed = preprocess_dataset(dataset)\n",
    "println(size(preprocessed))"
   ]
  },
  {
   "cell_type": "code",
   "execution_count": 836,
   "metadata": {},
   "outputs": [],
   "source": [
    "y_scmap = map(element -> element[3]  ,preprocessed);\n",
    "y_scmap_weights = map(element -> add_dim(element[4])  ,preprocessed);\n",
    "y_locref_map = map(element -> element[5]  ,preprocessed);\n",
    "y_locref_mask = map(element -> element[6]  ,preprocessed);"
   ]
  },
  {
   "cell_type": "code",
   "execution_count": 837,
   "metadata": {},
   "outputs": [],
   "source": [
    "#i = 9\n",
    "#merge_different_y(y_scmap[i], y_scmap_weights[i], y_locref_map[i], y_locref_mask[i] ) \n",
    "#println.(size.([y_scmap[i], y_scmap_weights[i], y_locref_map[i], y_locref_mask[i]]))"
   ]
  },
  {
   "cell_type": "code",
   "execution_count": 838,
   "metadata": {},
   "outputs": [
    {
     "data": {
      "text/plain": [
       "merge_different_y (generic function with 1 method)"
      ]
     },
     "execution_count": 838,
     "metadata": {},
     "output_type": "execute_result"
    }
   ],
   "source": [
    "function merge_different_y(scmap, scmap_w, locref_map, locref_mask )\n",
    "   return add_dim(cat(scmap,  \n",
    "    scmap_w,\n",
    "    locref_map,\n",
    "    locref_mask; dims=(3)));\n",
    "end"
   ]
  },
  {
   "cell_type": "code",
   "execution_count": 839,
   "metadata": {},
   "outputs": [],
   "source": [
    "y_all = map(i ->  merge_different_y(y_scmap[i], y_scmap_weights[i], y_locref_map[i], y_locref_mask[i] ) , 1:length(y_scmap));\n",
    "x_all = map(element -> element[2]  ,preprocessed);"
   ]
  },
  {
   "cell_type": "code",
   "execution_count": 840,
   "metadata": {},
   "outputs": [],
   "source": [
    "xtrn = cat(x_all..., dims=4);\n",
    "ytrn = cat(y_all..., dims=4);"
   ]
  },
  {
   "cell_type": "code",
   "execution_count": 841,
   "metadata": {},
   "outputs": [
    {
     "data": {
      "text/plain": [
       "(4, 4, 71)"
      ]
     },
     "execution_count": 841,
     "metadata": {},
     "output_type": "execute_result"
    }
   ],
   "source": [
    "xsize = size(xtrn)[1:3]\n",
    "ysize = size(ytrn)[1:3]"
   ]
  },
  {
   "cell_type": "code",
   "execution_count": 842,
   "metadata": {
    "scrolled": true
   },
   "outputs": [
    {
     "data": {
      "text/plain": [
       "2-element Data{Tuple{KnetArray{Float32,N} where N,KnetArray{Float32,N} where N}}"
      ]
     },
     "execution_count": 842,
     "metadata": {},
     "output_type": "execute_result"
    }
   ],
   "source": [
    "dtrn = minibatch(xtrn, ytrn, 32; xsize = (xsize...,:), ysize=(ysize...,:), xtype=Knet.atype())"
   ]
  },
  {
   "cell_type": "code",
   "execution_count": 697,
   "metadata": {},
   "outputs": [
    {
     "data": {
      "text/plain": [
       "sigmoid_cross_entropy_loss (generic function with 1 method)"
      ]
     },
     "execution_count": 697,
     "metadata": {},
     "output_type": "execute_result"
    }
   ],
   "source": [
    "#https://www.tensorflow.org/api_docs/python/tf/nn/sigmoid_cross_entropy_with_logits\n",
    "function sigmoid_cross_entropy_loss(scores, labels)\n",
    "   # max.(y_hat, 0) .- y_hat .* y + log(1 .+ exp(-abs.(y_hat)))\n",
    "    mask = Knet.atype()(zeros(Float32, size(labels)))\n",
    "    mask[:, :, 1:14 ,:] .= 1\n",
    "    scores = scores .* mask\n",
    "    labels = labels .* mask\n",
    "    l = max.(0, scores) .- labels .* scores .+ log.(1 .+ exp.(-abs.(scores)))\n",
    "    (sum(l)/length(l)) \n",
    "end"
   ]
  },
  {
   "cell_type": "code",
   "execution_count": 873,
   "metadata": {},
   "outputs": [
    {
     "data": {
      "text/plain": [
       "Chain((ResLayerConv(P(KnetArray{Float32,4}(3,3,3,8)), 1, 2), ResLayerConv(P(KnetArray{Float32,4}(3,3,8,16)), 1, 2), ResLayerConv(P(KnetArray{Float32,4}(3,3,16,32)), 1, 2), ResLayerConv(P(KnetArray{Float32,4}(3,3,32,32)), 1, 2), Conv2(P(KnetArray{Float32,4}(3,3,32,32)), P(KnetArray{Float32,4}(1,1,32,1)), Knet.Ops20.relu), Deconv(P(KnetArray{Float32,4}(3,3,71,32)), 1, 1)), 0, 0, sigmoid_cross_entropy_loss)"
      ]
     },
     "execution_count": 873,
     "metadata": {},
     "output_type": "execute_result"
    }
   ],
   "source": [
    "# 5) Implementing a Convolutional Neural Network\n",
    "simple_conv_net =   Chain(\n",
    "    ResLayerConv(3, 3, 3, 8; stride=2, padding=1),\n",
    "    ResLayerConv(3, 3, 8, 16; stride=2, padding=1),\n",
    "    ResLayerConv(3, 3, 16, 32; stride=2, padding=1),\n",
    "        Conv2(3, 3, 32, 32),\n",
    "     ResLayerConv(3, 3, 32, 32; stride=2, padding=1),\n",
    "    Deconv(3, 3, 71, 32; padding=1),\n",
    "    loss=sigmoid_cross_entropy_loss\n",
    ")"
   ]
  },
  {
   "cell_type": "code",
   "execution_count": 874,
   "metadata": {},
   "outputs": [
    {
     "name": "stdout",
     "output_type": "stream",
     "text": [
      "\n",
      "Stacktrace:\n",
      " [1] \u001b[1mvbroadcast_shape\u001b[22m\u001b[1m(\u001b[22m::KnetArray{Float32,4}, ::KnetArray{Float32,4}\u001b[1m)\u001b[22m at \u001b[1m/home/gsoykan/.julia/packages/Knet/LdQyF/src/knetarrays/binary.jl:172\u001b[22m\n",
      " [2] \u001b[1mbroadcasted\u001b[22m\u001b[1m(\u001b[22m::typeof(*), ::KnetArray{Float32,4}, ::KnetArray{Float32,4}\u001b[1m)\u001b[22m at \u001b[1m/home/gsoykan/.julia/packages/Knet/LdQyF/src/knetarrays/binary.jl:46\u001b[22m\n",
      " [3] \u001b[1mforw\u001b[22m\u001b[1m(\u001b[22m::Function, ::Function, ::Vararg{Any,N} where N; kwargs::Base.Iterators.Pairs{Union{},Union{},Tuple{},NamedTuple{(),Tuple{}}}\u001b[1m)\u001b[22m at \u001b[1m/home/gsoykan/.julia/packages/AutoGrad/VFrAv/src/core.jl:66\u001b[22m\n",
      " [4] \u001b[1mforw\u001b[22m at \u001b[1m/home/gsoykan/.julia/packages/AutoGrad/VFrAv/src/core.jl:65\u001b[22m [inlined]\n",
      " [5] \u001b[1mbroadcasted\u001b[22m\u001b[1m(\u001b[22m::typeof(*), ::AutoGrad.Result{KnetArray{Float32,4}}, ::KnetArray{Float32,4}\u001b[1m)\u001b[22m at \u001b[1m./none:0\u001b[22m\n",
      " [6] \u001b[1msigmoid_cross_entropy_loss\u001b[22m\u001b[1m(\u001b[22m::AutoGrad.Result{KnetArray{Float32,4}}, ::KnetArray{Float32,4}\u001b[1m)\u001b[22m at \u001b[1m./In[697]:6\u001b[22m\n",
      " [7] \u001b[1m(::Chain)\u001b[22m\u001b[1m(\u001b[22m::KnetArray{Float32,4}, ::KnetArray{Float32,4}\u001b[1m)\u001b[22m at \u001b[1m/home/gsoykan/Desktop/comp541/comp541_term_project/models.jl:48\u001b[22m\n",
      " [8] \u001b[1m(::Knet.Train20.var\"#27#28\"{Knet.Train20.Minimize{IterTools.NCycle{Data{Tuple{KnetArray{Float32,N} where N,KnetArray{Float32,N} where N}}}},Tuple{KnetArray{Float32,4},KnetArray{Float32,4}}})\u001b[22m\u001b[1m(\u001b[22m\u001b[1m)\u001b[22m at \u001b[1m/home/gsoykan/.julia/packages/AutoGrad/VFrAv/src/core.jl:205\u001b[22m\n",
      " [9] \u001b[1mdifferentiate\u001b[22m\u001b[1m(\u001b[22m::Function; o::Base.Iterators.Pairs{Union{},Union{},Tuple{},NamedTuple{(),Tuple{}}}\u001b[1m)\u001b[22m at \u001b[1m/home/gsoykan/.julia/packages/AutoGrad/VFrAv/src/core.jl:144\u001b[22m\n",
      " [10] \u001b[1mdifferentiate\u001b[22m at \u001b[1m/home/gsoykan/.julia/packages/AutoGrad/VFrAv/src/core.jl:135\u001b[22m [inlined]\n",
      " [11] \u001b[1miterate\u001b[22m at \u001b[1m/home/gsoykan/.julia/packages/Knet/LdQyF/src/train20/train.jl:26\u001b[22m [inlined]\n",
      " [12] \u001b[1miterate\u001b[22m\u001b[1m(\u001b[22m::Knet.Train20.Progress{Knet.Train20.Minimize{IterTools.NCycle{Data{Tuple{KnetArray{Float32,N} where N,KnetArray{Float32,N} where N}}}}}\u001b[1m)\u001b[22m at \u001b[1m/home/gsoykan/.julia/packages/Knet/LdQyF/src/train20/progress.jl:73\u001b[22m\n",
      " [13] \u001b[1miterate\u001b[22m at \u001b[1m/home/gsoykan/.julia/packages/IterTools/0dYLc/src/IterTools.jl:82\u001b[22m [inlined]\n",
      " [14] \u001b[1miterate\u001b[22m at \u001b[1m./generator.jl:44\u001b[22m [inlined]\n",
      " [15] \u001b[1miterate\u001b[22m at \u001b[1m./iterators.jl:1068\u001b[22m [inlined]\n",
      " [16] \u001b[1miterate\u001b[22m at \u001b[1m./iterators.jl:1064\u001b[22m [inlined]\n",
      " [17] \u001b[1mgrow_to!\u001b[22m\u001b[1m(\u001b[22m::Array{Any,1}, ::Base.Iterators.Flatten{Base.Generator{IterTools.TakeNth{Knet.Train20.Progress{Knet.Train20.Minimize{IterTools.NCycle{Data{Tuple{KnetArray{Float32,N} where N,KnetArray{Float32,N} where N}}}}}},var\"#32#34\"{var\"#snapshot#33\"{Chain,Data{Tuple{KnetArray{Float32,N} where N,KnetArray{Float32,N} where N}},Data{Tuple{KnetArray{Float32,N} where N,KnetArray{Float32,N} where N}}}}}}\u001b[1m)\u001b[22m at \u001b[1m./array.jl:747\u001b[22m\n",
      " [18] \u001b[1m_collect\u001b[22m at \u001b[1m./array.jl:660\u001b[22m [inlined]\n",
      " [19] \u001b[1mcollect\u001b[22m at \u001b[1m./array.jl:624\u001b[22m [inlined]\n",
      " [20] \u001b[1mtrainresults\u001b[22m\u001b[1m(\u001b[22m::String, ::Chain, ::Data{Tuple{KnetArray{Float32,N} where N,KnetArray{Float32,N} where N}}, ::Data{Tuple{KnetArray{Float32,N} where N,KnetArray{Float32,N} where N}}, ::Int64, ::Float64, ::typeof(sgd), ::Bool; accuracy_func::Nothing, error_func::Nothing\u001b[1m)\u001b[22m at \u001b[1m/home/gsoykan/Desktop/comp541/comp541_term_project/training.jl:13\u001b[22m\n",
      " [21] top-level scope at \u001b[1mIn[874]:1\u001b[22m\n",
      " [22] \u001b[1minclude_string\u001b[22m\u001b[1m(\u001b[22m::Function, ::Module, ::String, ::String\u001b[1m)\u001b[22m at \u001b[1m./loading.jl:1091\u001b[22m\n",
      " [23] \u001b[1msoftscope_include_string\u001b[22m\u001b[1m(\u001b[22m::Module, ::String, ::String\u001b[1m)\u001b[22m at \u001b[1m/home/gsoykan/.julia/packages/SoftGlobalScope/u4UzH/src/SoftGlobalScope.jl:65\u001b[22m\n",
      " [24] \u001b[1mexecute_request\u001b[22m\u001b[1m(\u001b[22m::ZMQ.Socket, ::IJulia.Msg\u001b[1m)\u001b[22m at \u001b[1m/home/gsoykan/.julia/packages/IJulia/IDNmS/src/execute_request.jl:67\u001b[22m\n",
      " [25] \u001b[1m#invokelatest#1\u001b[22m at \u001b[1m./essentials.jl:710\u001b[22m [inlined]\n",
      " [26] \u001b[1minvokelatest\u001b[22m at \u001b[1m./essentials.jl:709\u001b[22m [inlined]\n",
      " [27] \u001b[1meventloop\u001b[22m\u001b[1m(\u001b[22m::ZMQ.Socket\u001b[1m)\u001b[22m at \u001b[1m/home/gsoykan/.julia/packages/IJulia/IDNmS/src/eventloop.jl:8\u001b[22m\n",
      " [28] \u001b[1m(::IJulia.var\"#15#18\")\u001b[22m\u001b[1m(\u001b[22m\u001b[1m)\u001b[22m at \u001b[1m./task.jl:356\u001b[22m\n"
     ]
    },
    {
     "ename": "LoadError",
     "evalue": "DimensionMismatch(\"arrays could not be broadcast to a common size\")",
     "output_type": "error",
     "traceback": [
      "DimensionMismatch(\"arrays could not be broadcast to a common size\")",
      "",
      "Stacktrace:",
      " [1] differentiate(::Function; o::Base.Iterators.Pairs{Union{},Union{},Tuple{},NamedTuple{(),Tuple{}}}) at /home/gsoykan/.julia/packages/AutoGrad/VFrAv/src/core.jl:148",
      " [2] differentiate at /home/gsoykan/.julia/packages/AutoGrad/VFrAv/src/core.jl:135 [inlined]",
      " [3] iterate at /home/gsoykan/.julia/packages/Knet/LdQyF/src/train20/train.jl:26 [inlined]",
      " [4] iterate(::Knet.Train20.Progress{Knet.Train20.Minimize{IterTools.NCycle{Data{Tuple{KnetArray{Float32,N} where N,KnetArray{Float32,N} where N}}}}}) at /home/gsoykan/.julia/packages/Knet/LdQyF/src/train20/progress.jl:73",
      " [5] iterate at /home/gsoykan/.julia/packages/IterTools/0dYLc/src/IterTools.jl:82 [inlined]",
      " [6] iterate at ./generator.jl:44 [inlined]",
      " [7] iterate at ./iterators.jl:1068 [inlined]",
      " [8] iterate at ./iterators.jl:1064 [inlined]",
      " [9] grow_to!(::Array{Any,1}, ::Base.Iterators.Flatten{Base.Generator{IterTools.TakeNth{Knet.Train20.Progress{Knet.Train20.Minimize{IterTools.NCycle{Data{Tuple{KnetArray{Float32,N} where N,KnetArray{Float32,N} where N}}}}}},var\"#32#34\"{var\"#snapshot#33\"{Chain,Data{Tuple{KnetArray{Float32,N} where N,KnetArray{Float32,N} where N}},Data{Tuple{KnetArray{Float32,N} where N,KnetArray{Float32,N} where N}}}}}}) at ./array.jl:747",
      " [10] _collect at ./array.jl:660 [inlined]",
      " [11] collect at ./array.jl:624 [inlined]",
      " [12] trainresults(::String, ::Chain, ::Data{Tuple{KnetArray{Float32,N} where N,KnetArray{Float32,N} where N}}, ::Data{Tuple{KnetArray{Float32,N} where N,KnetArray{Float32,N} where N}}, ::Int64, ::Float64, ::typeof(sgd), ::Bool; accuracy_func::Nothing, error_func::Nothing) at /home/gsoykan/Desktop/comp541/comp541_term_project/training.jl:13",
      " [13] top-level scope at In[874]:1",
      " [14] include_string(::Function, ::Module, ::String, ::String) at ./loading.jl:1091"
     ]
    }
   ],
   "source": [
    "simple_conv_net_results = trainresults(\"simple_conv_net.jld2\", simple_conv_net, dtrn, dtrn, 1000, 0.15; accuracy_func=nothing, error_func=nothing);"
   ]
  },
  {
   "cell_type": "code",
   "execution_count": 847,
   "metadata": {},
   "outputs": [
    {
     "data": {
      "text/plain": [
       "(K32(128,128,3,32)[0.4117647⋯], K32(4,4,71,32)[0.0⋯])"
      ]
     },
     "execution_count": 847,
     "metadata": {},
     "output_type": "execute_result"
    }
   ],
   "source": [
    "dtrn_x1, dtrn_x2 = first(dtrn)"
   ]
  },
  {
   "cell_type": "code",
   "execution_count": 848,
   "metadata": {},
   "outputs": [
    {
     "data": {
      "text/plain": [
       "0.58041763f0"
      ]
     },
     "execution_count": 848,
     "metadata": {},
     "output_type": "execute_result"
    }
   ],
   "source": [
    "simple_conv_net(dtrn)"
   ]
  },
  {
   "cell_type": "code",
   "execution_count": 849,
   "metadata": {},
   "outputs": [],
   "source": [
    "sigmoided_output = Array(sigm.(simple_conv_net(dtrn_x1)));"
   ]
  },
  {
   "cell_type": "code",
   "execution_count": 859,
   "metadata": {},
   "outputs": [
    {
     "data": {
      "text/plain": [
       "draw_first_images_forehead (generic function with 1 method)"
      ]
     },
     "execution_count": 859,
     "metadata": {},
     "output_type": "execute_result"
    }
   ],
   "source": [
    "function draw_first_images_forehead(y)\n",
    "test_y = y[:, :, :, 1];\n",
    "colorview(Gray, test_y[:, : , 12])\n",
    "end"
   ]
  },
  {
   "cell_type": "code",
   "execution_count": 860,
   "metadata": {
    "scrolled": true
   },
   "outputs": [
    {
     "data": {
      "image/png": "[encoded data removed]",
      "text/plain": [
       "4×4 reinterpret(Gray{Float64}, ::Array{Float64,2}):\n",
       " Gray{Float64}(0.0)  Gray{Float64}(0.0)  …  Gray{Float64}(0.0)\n",
       " Gray{Float64}(0.0)  Gray{Float64}(1.0)     Gray{Float64}(0.0)\n",
       " Gray{Float64}(0.0)  Gray{Float64}(0.0)     Gray{Float64}(0.0)\n",
       " Gray{Float64}(0.0)  Gray{Float64}(0.0)     Gray{Float64}(0.0)"
      ]
     },
     "execution_count": 860,
     "metadata": {},
     "output_type": "execute_result"
    }
   ],
   "source": [
    "draw_first_images_forehead(ytrn)"
   ]
  },
  {
   "cell_type": "code",
   "execution_count": 861,
   "metadata": {},
   "outputs": [
    {
     "data": {
      "image/png": "[encoded data removed]",
      "text/plain": [
       "4×4 reinterpret(Gray{Float32}, ::Array{Float32,2}):\n",
       " Gray{Float32}(0.0323475)    …  Gray{Float32}(0.0139872)\n",
       " Gray{Float32}(0.0538847)       Gray{Float32}(0.0031112)\n",
       " Gray{Float32}(0.00039372)      Gray{Float32}(5.65128f-7)\n",
       " Gray{Float32}(0.000529476)     Gray{Float32}(8.85207f-6)"
      ]
     },
     "execution_count": 861,
     "metadata": {},
     "output_type": "execute_result"
    }
   ],
   "source": [
    "draw_first_images_forehead(sigmoided_output)"
   ]
  },
  {
   "cell_type": "code",
   "execution_count": 724,
   "metadata": {},
   "outputs": [],
   "source": [
    "#draw_plots(simple_conv_net_results);"
   ]
  },
  {
   "cell_type": "code",
   "execution_count": 725,
   "metadata": {},
   "outputs": [],
   "source": [
    "test_image = xtrn[:, :, :, 1];"
   ]
  },
  {
   "cell_type": "code",
   "execution_count": 726,
   "metadata": {},
   "outputs": [
    {
     "data": {
      "image/png": "[encoded data removed]",
      "text/plain": [
       "128×128 reshape(reinterpret(RGB{Float32}, ::Array{Float32,3}), 128, 128) with eltype RGB{Float32}:\n",
       " RGB{Float32}(0.411765,0.411765,0.403922)  …  RGB{Float32}(0.415686,0.407843,0.419608)\n",
       " RGB{Float32}(0.937255,0.933333,0.917647)     RGB{Float32}(0.909804,0.901961,0.913725)\n",
       " RGB{Float32}(0.933333,0.929412,0.913725)     RGB{Float32}(0.921569,0.913725,0.92549)\n",
       " RGB{Float32}(0.937255,0.941176,0.92549)      RGB{Float32}(0.92549,0.917647,0.937255)\n",
       " RGB{Float32}(0.945098,0.94902,0.929412)      RGB{Float32}(0.92549,0.921569,0.941176)\n",
       " RGB{Float32}(0.945098,0.94902,0.929412)   …  RGB{Float32}(0.921569,0.917647,0.94902)\n",
       " RGB{Float32}(0.945098,0.94902,0.929412)      RGB{Float32}(0.921569,0.917647,0.94902)\n",
       " RGB{Float32}(0.945098,0.945098,0.945098)     RGB{Float32}(0.92549,0.921569,0.952941)\n",
       " RGB{Float32}(0.945098,0.945098,0.945098)     RGB{Float32}(0.92549,0.921569,0.952941)\n",
       " RGB{Float32}(0.945098,0.945098,0.945098)     RGB{Float32}(0.92549,0.921569,0.952941)\n",
       " RGB{Float32}(0.941176,0.941176,0.929412)  …  RGB{Float32}(0.92549,0.921569,0.952941)\n",
       " RGB{Float32}(0.937255,0.941176,0.921569)     RGB{Float32}(0.92549,0.921569,0.952941)\n",
       " RGB{Float32}(0.937255,0.941176,0.921569)     RGB{Float32}(0.92549,0.921569,0.952941)\n",
       " ⋮                                         ⋱  \n",
       " RGB{Float32}(0.933333,0.929412,0.921569)     RGB{Float32}(0.890196,0.890196,0.921569)\n",
       " RGB{Float32}(0.933333,0.929412,0.921569)     RGB{Float32}(0.890196,0.890196,0.921569)\n",
       " RGB{Float32}(0.933333,0.937255,0.917647)     RGB{Float32}(0.890196,0.890196,0.921569)\n",
       " RGB{Float32}(0.933333,0.937255,0.917647)     RGB{Float32}(0.890196,0.890196,0.921569)\n",
       " RGB{Float32}(0.933333,0.937255,0.917647)  …  RGB{Float32}(0.890196,0.890196,0.921569)\n",
       " RGB{Float32}(0.937255,0.941176,0.921569)     RGB{Float32}(0.890196,0.890196,0.921569)\n",
       " RGB{Float32}(0.937255,0.941176,0.921569)     RGB{Float32}(0.890196,0.890196,0.921569)\n",
       " RGB{Float32}(0.929412,0.933333,0.913725)     RGB{Float32}(0.890196,0.890196,0.921569)\n",
       " RGB{Float32}(0.933333,0.937255,0.917647)     RGB{Float32}(0.890196,0.890196,0.921569)\n",
       " RGB{Float32}(0.933333,0.937255,0.917647)  …  RGB{Float32}(0.886275,0.898039,0.92549)\n",
       " RGB{Float32}(0.933333,0.937255,0.917647)     RGB{Float32}(0.886275,0.898039,0.92549)\n",
       " RGB{Float32}(0.933333,0.937255,0.917647)     RGB{Float32}(0.886275,0.898039,0.92549)"
      ]
     },
     "execution_count": 726,
     "metadata": {},
     "output_type": "execute_result"
    }
   ],
   "source": [
    "perm = permutedims(test_image, [3, 1, 2])\n",
    "colorview(RGB, perm)\n",
    "#colorview(RGB, rand(3,256,256))\n"
   ]
  },
  {
   "cell_type": "code",
   "execution_count": 235,
   "metadata": {},
   "outputs": [
    {
     "data": {
      "text/plain": [
       "(16, 16, 71, 64)"
      ]
     },
     "execution_count": 235,
     "metadata": {},
     "output_type": "execute_result"
    }
   ],
   "source": [
    "size(ytrn)"
   ]
  },
  {
   "cell_type": "code",
   "execution_count": 240,
   "metadata": {},
   "outputs": [
    {
     "data": {
      "text/plain": [
       "(128, 128, 3, 64)"
      ]
     },
     "execution_count": 240,
     "metadata": {},
     "output_type": "execute_result"
    }
   ],
   "source": [
    "first(dtrn)[1] |> size"
   ]
  },
  {
   "cell_type": "code",
   "execution_count": 241,
   "metadata": {},
   "outputs": [
    {
     "data": {
      "text/plain": [
       "(16, 16, 71, 64)"
      ]
     },
     "execution_count": 241,
     "metadata": {},
     "output_type": "execute_result"
    }
   ],
   "source": [
    "first(dtrn)[2] |> size"
   ]
  },
  {
   "cell_type": "code",
   "execution_count": 434,
   "metadata": {},
   "outputs": [],
   "source": [
    "#julia> w0 = KnetArray(randn(Float32, 5, 5, 1, 20));\n",
    "\n",
    "#julia> x0 = KnetArray(rand(Float32, 24, 24, 20, 100));\n",
    "\n",
    "#julia> size(deconv4(w0,x0)) # this output does not make it sense, it should give what I want\n",
    "#(28, 28, 20, 100)\n",
    "#\n",
    "\n",
    "w0 = KnetArray(randn(Float32, 5, 5, 1, 20));\n",
    " x0 = KnetArray(rand(Float32, 24, 24, 20, 100));\n",
    "\n",
    " # this output does not make it sense, it should give what I want\n",
    "#(28, 28, 20, 100)"
   ]
  },
  {
   "cell_type": "code",
   "execution_count": 435,
   "metadata": {},
   "outputs": [
    {
     "data": {
      "text/plain": [
       "(26, 26, 1, 100)"
      ]
     },
     "execution_count": 435,
     "metadata": {},
     "output_type": "execute_result"
    }
   ],
   "source": [
    "size(deconv4(w0,x0))"
   ]
  },
  {
   "cell_type": "code",
   "execution_count": 244,
   "metadata": {
    "scrolled": true
   },
   "outputs": [
    {
     "data": {
      "text/plain": [
       "Conv2(P(KnetArray{Float32,4}(3,3,3,3)), P(KnetArray{Float32,4}(1,1,3,1)), Knet.Ops20.relu)"
      ]
     },
     "execution_count": 244,
     "metadata": {},
     "output_type": "execute_result"
    }
   ],
   "source": [
    "tc = Conv2(3, 3, 3, 3)"
   ]
  },
  {
   "cell_type": "code",
   "execution_count": 392,
   "metadata": {},
   "outputs": [],
   "source": [
    "fb = first(dtrn)[1];"
   ]
  },
  {
   "cell_type": "code",
   "execution_count": 393,
   "metadata": {},
   "outputs": [],
   "source": [
    "res_tc = tc2(fb) |> tc;"
   ]
  },
  {
   "cell_type": "code",
   "execution_count": 437,
   "metadata": {},
   "outputs": [
    {
     "data": {
      "text/plain": [
       "16×16×3×64 KnetArray{Float32,4}:\n",
       "[:, :, 1, 1] =\n",
       "  0.112997    0.0517907  0.0520545  0.0519588  …   0.0475755    0.0123551\n",
       "  0.00921452  0.0132281  0.0129419  0.0123628      0.0150117   -0.0227738\n",
       "  0.00826144  0.0145944  0.0121391  0.013257       0.0130657   -0.0205809\n",
       "  0.0134121   0.0111661  0.0140461  0.0135455      0.0137847   -0.0215094\n",
       "  0.01818     0.0129529  0.0131644  0.0133484      0.0142651   -0.0205225\n",
       "  0.0140348   0.0133471  0.0134129  0.013993   …   0.0133054   -0.0204491\n",
       "  0.0140647   0.0126312  0.0138596  0.0136938     -0.00172006  -0.0240447\n",
       "  0.0125345   0.012157   0.0134645  0.0132168     -0.00509805  -0.0628166\n",
       "  0.0131149   0.014411   0.0125145  0.0153247      0.052321     0.198369\n",
       "  0.0142692   0.0131414  0.0128014  0.0122287      0.0531236   -0.000250595\n",
       "  0.015522    0.0135363  0.0143546  0.0112565  …   0.0304594   -0.0201726\n",
       "  0.0133763   0.0122032  0.0147571  0.0148027      0.0613541   -0.0199047\n",
       "  0.0151913   0.0118998  0.0121954  0.0119745      0.013699    -0.0184501\n",
       "  0.011656    0.0133205  0.011469   0.0145812      0.0122664   -0.0183497\n",
       "  0.0106387   0.0155095  0.0128049  0.0151295      0.0125378   -0.0229306\n",
       " -0.0350939   0.052503   0.055207   0.0545652  …   0.0559115   -0.0158563\n",
       "\n",
       "[:, :, 2, 1] =\n",
       " 0.38407   0.107071   0.110518   …   0.10327     0.103781    0.0761212\n",
       " 0.216812  0.0550314  0.0542146      0.0540648   0.0547276   0.0779971\n",
       " 0.212332  0.0544024  0.0532141      0.0513859   0.0558134   0.0792102\n",
       " 0.213663  0.0523366  0.0532327      0.0405122   0.0547347   0.0773595\n",
       " 0.209689  0.0542753  0.0530892      0.0210742   0.0548566   0.0761326\n",
       " 0.209032  0.0554882  0.0544679  …   0.0486714   0.0549149   0.0758754\n",
       " 0.210241  0.0537424  0.0545756      0.0316556   0.0364524   0.0707527\n",
       " 0.210887  0.0512464  0.0530861      0.0944581   0.12864     0.154924\n",
       " 0.212294  0.0518568  0.0511295     -0.108962   -0.180797   -0.0289682\n",
       " 0.207884  0.0520628  0.052809       0.132045    0.0337646   0.0644171\n",
       " 0.206115  0.053014   0.0517676  …   0.108621    0.0638415   0.0713483\n",
       " 0.208679  0.0521763  0.0568169     -0.10588     0.0522178   0.0672568\n",
       " 0.212267  0.0496522  0.0510215      0.0358515   0.0474814   0.0727537\n",
       " 0.210848  0.0486212  0.0540933      0.0509985   0.0551841   0.0766988\n",
       " 0.208595  0.0533692  0.053062       0.0530643   0.0548599   0.0789083\n",
       " 0.185566  0.11313    0.11022    …   0.110567    0.11227     0.0593937\n",
       "\n",
       "[:, :, 3, 1] =\n",
       " -0.0981804  -0.0741321  -0.077654   …  -0.0747178  -0.076601   -0.13404\n",
       " -0.267152   -0.139916   -0.137566      -0.14133    -0.14239    -0.108895\n",
       " -0.272423   -0.137212   -0.138945      -0.142917   -0.14172    -0.108195\n",
       " -0.266087   -0.140074   -0.137821      -0.134387   -0.138285   -0.107382\n",
       " -0.264569   -0.132793   -0.137114      -0.143965   -0.136157   -0.106978\n",
       " -0.25814    -0.136953   -0.135066   …  -0.130894   -0.135975   -0.104149\n",
       " -0.258895   -0.135745   -0.136067      -0.117819   -0.160175   -0.107293\n",
       " -0.258486   -0.135185   -0.134951      -0.325146   -0.208649   -0.105763\n",
       " -0.26371    -0.13215    -0.134363      -0.15337    -0.261322   -0.0574824\n",
       " -0.259674   -0.132666   -0.134957      -0.192497   -0.0891201  -0.0840034\n",
       " -0.257462   -0.133557   -0.131559   …  -0.254316   -0.0708665  -0.0968889\n",
       " -0.259175   -0.133662   -0.136326      -0.226575   -0.0907929  -0.0988842\n",
       " -0.259679   -0.131038   -0.137644      -0.0299161  -0.127806   -0.10257\n",
       " -0.260421   -0.136035   -0.136671      -0.127992   -0.131794   -0.110042\n",
       " -0.265195   -0.135573   -0.13757       -0.13714    -0.139758   -0.109647\n",
       " -0.23464    -0.0922826  -0.0892982  …  -0.0892205  -0.0894114   0.0157316\n",
       "\n",
       "[:, :, 1, 2] =\n",
       "  0.0554657   0.0540754  0.0542944  0.0529913   …   0.0533698    0.013817\n",
       " -0.0057351   0.0161827  0.0136604  0.0134662       0.0114406   -0.0222024\n",
       " -0.00707596  0.0145628  0.0145845  0.014286        0.0132861   -0.0200718\n",
       " -0.00600502  0.0138167  0.0125411  0.0114667       0.00886326  -0.0283905\n",
       " -0.00664251  0.0139527  0.0154495  0.0191317      -0.00546217   0.0239084\n",
       " -0.0071671   0.0128681  0.012343   0.0439654   …   0.128076     0.101005\n",
       " -0.00493878  0.0147747  0.0157888  0.0118429       0.0153485   -0.022304\n",
       "  0.0246782   0.0531197  0.0309357  0.0151387       0.0121424   -0.02061\n",
       "  0.0650153   0.0906171  0.161802   0.0132671       0.0132185   -0.0192537\n",
       " -0.054381    0.131932   0.0279102  0.00199619      0.0138551   -0.0185354\n",
       "  0.0294331   0.0498282  0.0102053  0.0135845   …   0.0122088   -0.0186466\n",
       "  0.171255    0.0756614  0.0105261  0.0133439       0.0088429   -0.0183954\n",
       " -0.0516442   0.0275153  0.0142714  0.036366        0.0123744   -0.0166228\n",
       " -0.0101924   0.0141896  0.0124634  0.049036        0.0086609   -0.0173036\n",
       " -0.00841339  0.0118229  0.0148868  0.0126379       0.0131852   -0.0171815\n",
       " -0.0477091   0.0562226  0.0549267  0.0557982   …   0.051789    -0.0125086\n",
       "\n",
       "[:, :, 2, 2] =\n",
       " 0.320003    0.114464   0.110768    …  0.108067   0.111637   0.0772428\n",
       " 0.219637    0.0548238  0.0538793      0.0523261  0.0540874  0.0782742\n",
       " 0.21581     0.0566998  0.0559175      0.0546344  0.0565214  0.0774998\n",
       " 0.214439    0.0544989  0.0511654      0.048802   0.0611082  0.0631673\n",
       " 0.213177    0.055113   0.05322        0.121358   0.0129154  0.0908192\n",
       " 0.207496    0.0530804  0.0527908   …  0.224677   0.0263842  0.100423\n",
       " 0.196353    0.0539698  0.0534261      0.0491832  0.0522639  0.0777305\n",
       " 0.396142    0.233016   0.105169       0.0481956  0.0520822  0.0745594\n",
       " 0.0512643  -0.146438   0.00962233     0.0486662  0.0489408  0.0708231\n",
       " 0.194543   -0.0314172  0.00785785     0.0515421  0.0528167  0.0712138\n",
       " 0.201306    0.0617564  0.0523598   …  0.046332   0.0499157  0.0667291\n",
       " 0.180208    0.132667   0.0498178      0.04541    0.0436253  0.0631145\n",
       " 0.190806    0.0463876  0.052548       0.0441969  0.0492197  0.0633533\n",
       " 0.195427    0.0501293  0.0508143      0.0430908  0.0439863  0.0659714\n",
       " 0.20492     0.0558025  0.0537493      0.0459196  0.0480903  0.066224\n",
       " 0.179671    0.110736   0.110828    …  0.102134   0.102117   0.0519474\n",
       "\n",
       "[:, :, 3, 2] =\n",
       " -0.122599  -0.0763408  -0.0782629  …  -0.0776982  -0.0784348  -0.131075\n",
       " -0.26421   -0.142376   -0.138974      -0.137724   -0.140118   -0.108965\n",
       " -0.264142  -0.14096    -0.141413      -0.138597   -0.140535   -0.107828\n",
       " -0.264755  -0.13737    -0.137769      -0.129316   -0.165566   -0.12679\n",
       " -0.261233  -0.138785   -0.138192      -0.219352   -0.228851   -0.141366\n",
       " -0.259066  -0.13541    -0.135066   …  -0.350325   -0.113488   -0.145851\n",
       " -0.249151  -0.134641   -0.129786      -0.136988   -0.132046   -0.106857\n",
       " -0.363855  -0.249727   -0.108341      -0.128365   -0.133517   -0.101185\n",
       " -0.312581  -0.227829   -0.161702      -0.126156   -0.129451   -0.0986752\n",
       " -0.245192  -0.077672   -0.14462       -0.12659    -0.124605   -0.0932926\n",
       " -0.291138  -0.16538    -0.124643   …  -0.117924   -0.118948   -0.0906483\n",
       " -0.341433  -0.115219   -0.127749      -0.114649   -0.118878   -0.0873996\n",
       " -0.225268  -0.135651   -0.119156      -0.118982   -0.114556   -0.0932518\n",
       " -0.236567  -0.130629   -0.128563      -0.120414   -0.123482   -0.0928516\n",
       " -0.244543  -0.13594    -0.136912      -0.124208   -0.122132   -0.0966698\n",
       " -0.236553  -0.0911717  -0.0888265  …  -0.0827939  -0.0801648   0.0164978\n",
       "\n",
       "[:, :, 1, 3] =\n",
       "  0.02707    -0.0320206   -0.0152298   …   0.0085556   -0.0247893\n",
       " -0.021287    0.0169376    0.0559541       0.00319038   0.0255711\n",
       "  0.0329951  -0.00553778   0.02969         0.0060201   -0.0139661\n",
       "  0.0923369  -0.00221001   0.0577385       0.00511519  -0.0113913\n",
       "  0.165495    0.0526402    0.19592         0.0109366   -0.0105053\n",
       "  0.0130025   0.262346     0.143662    …   0.00178561  -0.00761003\n",
       "  0.16986     0.313867     0.260915        0.0128501   -0.0108515\n",
       "  0.0631382   0.185286     0.265824        0.00974579  -0.0106737\n",
       "  0.0141688   0.10782      0.223722       -0.00286836  -0.0241755\n",
       "  0.0508184  -0.00340004   0.195063       -0.0186173   -0.0148272\n",
       "  0.0786087   0.072052     0.222296    …  -0.0284035   -0.0332182\n",
       "  0.22273     0.0331183    0.252928        0.0657006    0.00482146\n",
       "  0.256492    0.0944847    0.173991        0.0973993    0.140351\n",
       "  0.148414    0.0502382    0.22407         0.131974     0.0690611\n",
       "  0.186558    0.162053    -0.00144916      0.0572607    0.00881899\n",
       "  0.0398029   0.167763     0.0995878   …   0.0820186   -0.0208835\n",
       "\n",
       "[:, :, 2, 3] =\n",
       "  0.0377249    -0.00751773   0.0316377   …   0.0339154   -0.00439932\n",
       "  0.128559      0.0494082    0.0372899       0.0403624    0.0336914\n",
       "  0.143526     -0.0102217   -0.0277336       0.0326586    0.042872\n",
       "  0.0726758    -0.0212306   -0.0162911       0.02589      0.0451058\n",
       "  0.22815      -0.0248686    0.0157226       0.0359901    0.0367857\n",
       "  0.137979     -0.0509769   -0.201099    …   0.0339498    0.0403362\n",
       "  0.0409584    -0.0728984    0.0827645       0.0379049    0.0549782\n",
       " -0.0948228    -0.00941313   0.176932        0.0291375    0.0547405\n",
       " -0.0989566    -0.0648995   -0.0104585       0.00648379   0.0352494\n",
       " -0.0382089     0.0358727   -0.110178       -0.00681927   0.0537708\n",
       "  0.0781217    -0.095553    -0.0957081   …  -0.00984671   0.0262331\n",
       "  0.0592142    -0.0785218   -0.0772664       0.140679     0.0667423\n",
       "  0.000139056   0.107857    -0.00398922     -0.0803581   -0.0534652\n",
       "  0.0745477     0.0500926   -0.0146902      -0.0956603    0.0570894\n",
       "  0.0646402    -0.0888038    0.0152861       0.0604497    0.0523616\n",
       " -0.163258      0.0386359    0.230936    …   0.0993739    0.0535983\n",
       "\n",
       "[:, :, 3, 3] =\n",
       " -0.023331    0.032291   -0.0927302  …  -0.0346745  -0.0435725  -0.0520102\n",
       " -0.144256   -0.169426   -0.0331524     -0.0984725  -0.0905879  -0.032181\n",
       " -0.11484    -0.0511648  -0.140542      -0.0680785  -0.081325   -0.054312\n",
       " -0.115227   -0.0805137  -0.168275      -0.070953   -0.0661572  -0.0602528\n",
       " -0.198557   -0.170344   -0.291442      -0.0625826  -0.0785384  -0.0497861\n",
       " -0.407423   -0.217882   -0.236735   …  -0.0789747  -0.0737978  -0.0510682\n",
       " -0.338441   -0.357531    0.0591246     -0.0757884  -0.0731864  -0.0769928\n",
       " -0.301907   -0.35151     0.0778922     -0.0823949  -0.0787651  -0.0698117\n",
       " -0.213515   -0.281186   -0.11711       -0.0684641  -0.0645992  -0.0468592\n",
       " -0.0953702  -0.21788    -0.178332      -0.0886404  -0.0960908  -0.149789\n",
       " -0.148668   -0.210846   -0.174694   …  -0.0932828  -0.154572   -0.068221\n",
       " -0.126438   -0.170817   -0.269651      -0.186702   -0.154021   -0.071022\n",
       " -0.242067   -0.211527   -0.378269      -0.136016   -0.2817     -0.0167985\n",
       " -0.340035   -0.31917    -0.13455       -0.134305   -0.12       -0.0479772\n",
       " -0.20278    -0.0460373  -0.120977      -0.118441   -0.0805001  -0.146004\n",
       " -0.187711   -0.0638185   0.0345972  …  -0.199549   -0.0900998   0.0161669\n",
       "\n",
       "...\n",
       "\n",
       "[:, :, 1, 62] =\n",
       "  0.0          0.0           0.0         …   0.0          0.0\n",
       "  0.03873     -0.00566421   -0.0355366      -0.0208533   -0.0115618\n",
       " -0.0373807    0.00555138    0.0762252       0.132391     0.0227896\n",
       "  0.0369088    0.0613779    -0.00504943      0.161766    -0.0165808\n",
       "  0.08779      0.0471705     0.0329936       0.369581     0.143561\n",
       "  0.0636494   -0.00667082    0.0831317   …   0.259087     0.0700814\n",
       "  0.0508066    0.0956413     0.0245949       0.0558016    0.054666\n",
       "  0.0626656    0.039039     -0.0134922       0.0281369    0.0614645\n",
       " -0.00631135   0.00515757    0.0117452       0.00337802   0.00676507\n",
       "  0.0204385   -0.00483527    0.0133186       0.0178397   -0.0226785\n",
       "  0.0012555   -0.000575133   0.0100202   …   0.00155066  -0.0138707\n",
       "  0.0170653    0.0154012     0.0220429       0.0551848   -0.00768272\n",
       " -0.023673     0.000332192   0.016967        0.0220645   -0.00621584\n",
       "  0.0200994    0.00541051    0.0311288       0.0539977    0.018291\n",
       "  0.0414257    0.0214076     0.0389239       0.0155869    0.0628117\n",
       "  0.0          0.0           0.0         …   0.0          0.0\n",
       "\n",
       "[:, :, 2, 62] =\n",
       "  0.0         0.0          0.0          0.0        …   0.0         0.0\n",
       " -0.0248599  -0.0557756   -0.0716669   -0.0530843     -0.0286054  -0.00867088\n",
       "  0.0156913   0.0222702    0.198684     0.156877       0.0890549   0.0704606\n",
       "  0.110268    0.0912227   -0.0413637   -0.051697       0.175947    0.0993199\n",
       " -0.0257855   0.0871174    0.00353301   0.0979504      0.0738469   0.176505\n",
       "  0.0508081  -0.0377689    0.0368571    0.0256886  …  -0.181549    0.181908\n",
       "  0.0954045   0.0323408    0.0270319   -0.0542847      0.0134668   0.022674\n",
       "  0.0301062   5.76464f-5   0.0385513    0.0406771     -0.0210518   0.0139863\n",
       "  0.043514    0.0382636    0.00769746   0.027744      -0.0563864   0.0459857\n",
       "  0.0386714   0.00851586   0.0228393    0.0216335      0.047929    0.085799\n",
       "  0.0332895   0.00540741   0.00410718   0.0293903  …   0.0522067   0.0542347\n",
       "  0.0604011   0.0542208    0.00364117   0.0343065      0.0246999   0.058826\n",
       "  0.0469076   0.0506569    0.0490171    0.050249      -0.0264516   0.0830308\n",
       "  0.0708616   0.0424218    0.0858692    0.134559      -0.0137678   0.0307881\n",
       " -0.0235985  -0.0273327   -0.0921938   -0.0100073     -0.0206954  -0.0119585\n",
       "  0.0         0.0          0.0          0.0        …   0.0         0.0\n",
       "\n",
       "[:, :, 3, 62] =\n",
       "  0.0         0.0          0.0        …   0.0         0.0         0.0\n",
       "  0.0110626   0.00357066   0.0299915     -0.0047281  -0.0329409  -0.0300056\n",
       " -0.0285135  -0.0690813   -0.131487      -0.047757   -0.0552757  -0.193924\n",
       " -0.0942758  -0.0991061   -0.1122        -0.125788   -0.275486   -0.136076\n",
       " -0.243433   -0.136595    -0.0763796     -0.641586   -0.466532   -0.0126316\n",
       " -0.100299   -0.186128    -0.0819421  …  -0.446781   -0.396379   -0.0756328\n",
       " -0.158206   -0.0893903   -0.0501234     -0.11848    -0.0996604  -0.0396779\n",
       " -0.131149   -0.129818    -0.0885085     -0.0727291  -0.106957   -0.0479722\n",
       " -0.144129   -0.0405804   -0.0501416     -0.059017   -0.0974283  -0.157501\n",
       " -0.0773584  -0.0586076   -0.0434296     -0.114955   -0.106      -0.0714194\n",
       " -0.0389404  -0.0375162   -0.0270801  …  -0.108889   -0.085554   -0.0767085\n",
       " -0.0526799  -0.0296855   -0.0334436     -0.0959461  -0.0563189  -0.0577701\n",
       " -0.0497145  -0.0655895   -0.0830194     -0.0466662  -0.135452   -0.0706507\n",
       " -0.0997155  -0.0849978   -0.169273      -0.0925259  -0.0313759  -0.067864\n",
       " -0.0215752  -0.0596122   -0.136427      -0.0399249  -0.0440908  -0.0307755\n",
       "  0.0         0.0          0.0        …   0.0         0.0         0.0\n",
       "\n",
       "[:, :, 1, 63] =\n",
       "  0.112214    -0.0249514    0.110119     …   0.0132286   0.0200881\n",
       "  0.0112246    0.103477     0.149704         0.0810379  -0.0219734\n",
       "  0.101845     0.0425201    0.113702        -0.0377087   0.101317\n",
       "  0.00963956   0.0606411    0.0807262       -0.0361406   0.0533797\n",
       "  0.00233268   0.047088     0.0129512        0.0953737  -0.0218618\n",
       "  0.048866     0.0366326    0.0064873    …   0.116362    0.0304168\n",
       "  0.0748365    0.0280944    0.0675423        0.015968    0.00530242\n",
       "  0.0270792   -0.00131639   0.0496519        0.334482   -1.49215f-5\n",
       "  0.0187224   -0.00222567   0.0143752        0.258668    0.260479\n",
       "  0.0371973    0.0525191    0.0719876        0.216987    0.321358\n",
       " -0.00547912   0.0485975    0.0165543    …   0.229988    0.27052\n",
       "  0.0210063    0.0219036    0.000337632      0.218565    0.227076\n",
       "  0.0248679    0.0220166   -0.00121851       0.266014    0.239948\n",
       "  0.0214778    0.0263436   -0.00793525       0.233317    0.148325\n",
       "  0.0508358    0.0981452    0.0272665        0.190421    0.0649127\n",
       "  0.0450142    0.0794132    0.179913     …   0.114669    0.0909183\n",
       "\n",
       "[:, :, 2, 63] =\n",
       "  0.296768     0.145588      0.116908     …   0.134085     0.0729019\n",
       "  0.14992      0.00915738    0.142992         0.071256     0.090828\n",
       "  0.320666     0.0688963     0.11972          0.0561987   -0.0380743\n",
       " -0.025822     0.00338155   -0.133337         0.0614869    0.020804\n",
       " -0.00295964   0.00990533    0.0174297        0.0494765    0.0710878\n",
       "  0.0266674   -0.000780891   0.0102925    …  -0.103205     0.0146262\n",
       "  0.109448     0.0279067    -0.0255739       -0.0694098    0.0405398\n",
       "  0.060947     0.0181586     0.019944         0.160881    -0.0812398\n",
       "  0.0826937    0.0109396     0.0125947       -0.00817261   0.231992\n",
       "  0.0132408    0.0449151    -0.0451586       -0.0518537    0.0382495\n",
       "  0.0353136   -0.00997917    0.00359326   …  -0.0778838    0.0156598\n",
       "  0.0123609    0.00270021    0.00621562      -0.113951    -0.0180073\n",
       "  0.0215332   -0.0172024     0.000592056     -0.0837078    0.0368314\n",
       "  0.0206956   -0.000278956   0.0124511       -0.0243542    0.033897\n",
       "  0.0935876   -0.0345723    -0.128841         0.0376146    0.0448828\n",
       "  0.0516271    0.0731483     0.140232     …   0.0434154    0.0500801\n",
       "\n",
       "[:, :, 3, 63] =\n",
       " -0.0746616  -0.233808   -0.0872477  …  -0.0867172  -0.0330682  -0.168649\n",
       " -0.312901   -0.416254   -0.0877002     -0.14867    -0.262329   -0.0857607\n",
       " -0.475787   -0.15469    -0.288066      -0.156789   -0.126802   -0.151472\n",
       " -0.276708   -0.136046   -0.289961      -0.186839   -0.185958   -0.0942305\n",
       " -0.133911   -0.045963   -0.122031      -0.115232   -0.182264   -0.0689493\n",
       " -0.0997209  -0.0578724  -0.178483   …  -0.0933863  -0.16256    -0.053937\n",
       " -0.083926   -0.131833   -0.222457      -0.0622644  -0.0672135  -0.066206\n",
       " -0.129129   -0.0910222  -0.189112      -0.155904   -0.0349212  -0.0597109\n",
       " -0.103582   -0.113437   -0.154314      -0.307544   -0.359488    0.0355663\n",
       " -0.127386   -0.0728748  -0.0462917     -0.290757   -0.296359   -0.0597142\n",
       " -0.0588617  -0.0759638  -0.109321   …  -0.274013   -0.250536   -0.0314992\n",
       " -0.0589849  -0.0629991  -0.0505697     -0.281787   -0.156101   -0.013907\n",
       " -0.0521892  -0.0394023  -0.0548249     -0.222176   -0.105518    0.00165088\n",
       " -0.0473258  -0.0386539  -0.0524957     -0.161455   -0.094409    0.0171767\n",
       " -0.111323    0.0074855  -0.0587967     -0.13585    -0.12961     0.0182618\n",
       " -0.111952   -0.357522    0.0159761  …  -0.0657615  -0.0872826   0.0187533\n",
       "\n",
       "[:, :, 1, 64] =\n",
       " 0.069742    0.0788843    0.0941867    …   0.117974     0.0682784\n",
       " 0.0686116   0.0823301    0.0860137        0.0318796    0.197292\n",
       " 0.122202    0.129926     0.0110928       -0.0521114    0.0633693\n",
       " 0.0859677   0.0271293    0.0715509        0.118096     0.0870799\n",
       " 0.0911634   0.0579273    0.0367942       -0.0198371    0.027097\n",
       " 0.0780698   0.0992766    0.136426     …   0.0474212    0.0368415\n",
       " 0.11534     0.0202786   -0.000346429     -0.0124455    0.0331684\n",
       " 0.113289    0.0677777    0.0440735        0.00757754   0.0201939\n",
       " 0.095034    0.117528     0.0772264        0.0333384    0.0376058\n",
       " 0.120719    0.0791943    0.0654926        0.0595852    0.0474641\n",
       " 0.109563   -0.00329697   0.12975      …   0.0349672    0.046471\n",
       " 0.0601391   0.044144     0.0194349        0.0143169    0.0257711\n",
       " 0.0569689  -0.004464     0.0383992        0.0105651    0.0207711\n",
       " 0.0686264   0.023126     0.00517399       0.00831534   0.0116948\n",
       " 0.0686344   0.00578081   0.0105682        0.0650679    0.180162\n",
       " 0.0166063   0.0557035    0.0338121    …   0.231421    -0.0342297\n",
       "\n",
       "[:, :, 2, 64] =\n",
       "  0.208704     0.149697     0.116536    …   0.277243     0.0631353\n",
       " -0.0132463   -0.0749164    0.0176827       0.051035    -0.0135796\n",
       "  0.0491679    0.0551575   -0.0824021       0.136817     0.0587304\n",
       "  0.0487162    0.00876156   0.114447       -0.00610734  -0.00231477\n",
       " -0.00560875  -0.060681    -0.024923        0.021377     0.0205487\n",
       "  0.00777323  -0.0509261    0.0861709   …   0.00173105   0.0322481\n",
       "  0.0924984    0.077253     0.0328282       0.0360348    0.018952\n",
       "  0.0109598    0.0304634    0.0314688       0.0363924    0.0183205\n",
       "  0.0149398    0.0252414    0.016603        0.0253254    0.00551146\n",
       "  0.012471    -0.0371496   -0.0128607       0.0180882   -0.00323423\n",
       " -0.0470032    0.0447678    0.0852477   …  -0.0143922    0.0147618\n",
       "  0.0122941   -0.00350599   0.0841748       0.00579342   0.00604131\n",
       " -0.00171309  -0.0115875   -0.0144933      -0.00720208   0.00758649\n",
       "  0.0690745    0.0368927   -0.00239463     -0.00485011   0.0166992\n",
       "  0.136596     0.0730771    0.027998        0.0184379    0.0542702\n",
       "  0.0616627    0.0866538    0.0869553   …   0.0258118    0.146469\n",
       "\n",
       "[:, :, 3, 64] =\n",
       " -0.120003   -0.105033   -0.0467014   …  -0.0760131  -0.299018   -0.116312\n",
       " -0.129215   -0.137319   -0.210087       -0.238813   -0.222511   -0.163776\n",
       " -0.123453   -0.0456479  -0.0851462      -0.285857   -0.268915   -0.0563355\n",
       " -0.13733    -0.198219   -0.0987253      -0.202764   -0.177722   -0.0297918\n",
       " -0.151362   -0.157015   -0.183268       -0.0799124  -0.120838   -0.0266896\n",
       " -0.197272   -0.153598   -0.0645956   …  -0.0896954  -0.0822492  -0.0332287\n",
       " -0.199942   -0.116562   -0.121256       -0.0625124  -0.0546796  -0.0870711\n",
       " -0.198228   -0.182124   -0.120577       -0.0937898  -0.077629   -0.0400543\n",
       " -0.221795   -0.191745   -0.125776       -0.106      -0.109039   -0.0329316\n",
       " -0.14833    -0.194844   -0.148187       -0.0957974  -0.0835105  -0.0351695\n",
       " -0.140413   -0.1779     -0.154181    …  -0.0358513  -0.0683354  -0.00842184\n",
       " -0.120703   -0.148662   -0.218057       -0.0521239  -0.0639974  -0.0183859\n",
       " -0.0729664  -0.187974   -0.0146452      -0.0476552  -0.0493307  -0.018103\n",
       " -0.143438   -0.0766611  -0.00546229     -0.0347111  -0.0277499  -0.0348088\n",
       " -0.195      -0.0203654  -0.0554721      -0.092766   -0.0600323  -0.12535\n",
       " -0.127738   -0.0481118  -0.0629774   …  -0.0352921  -0.157941    0.0473381"
      ]
     },
     "execution_count": 437,
     "metadata": {},
     "output_type": "execute_result"
    }
   ],
   "source": [
    "mid = res_tc |> tc2"
   ]
  },
  {
   "cell_type": "code",
   "execution_count": 439,
   "metadata": {},
   "outputs": [],
   "source": [
    "w1 = KnetArray(randn(Float32, 3,3, 1, 3));"
   ]
  },
  {
   "cell_type": "code",
   "execution_count": 443,
   "metadata": {},
   "outputs": [
    {
     "data": {
      "text/plain": [
       "(16, 16, 1, 64)"
      ]
     },
     "execution_count": 443,
     "metadata": {},
     "output_type": "execute_result"
    }
   ],
   "source": [
    "#deconv4(w1, mid)\n",
    "size(deconv4(w1, mid; padding=1))"
   ]
  },
  {
   "cell_type": "code",
   "execution_count": 249,
   "metadata": {},
   "outputs": [
    {
     "data": {
      "text/plain": [
       "ResLayerConv(P(KnetArray{Float32,4}(3,3,3,3)), 1, 2)"
      ]
     },
     "execution_count": 249,
     "metadata": {},
     "output_type": "execute_result"
    }
   ],
   "source": [
    "tc2 = ResLayerConv(3, 3, 3, 3; stride=2, padding=1)"
   ]
  },
  {
   "cell_type": "code",
   "execution_count": 264,
   "metadata": {},
   "outputs": [],
   "source": [
    "res_tc2 = res_tc |> tc2;"
   ]
  },
  {
   "cell_type": "code",
   "execution_count": 265,
   "metadata": {},
   "outputs": [
    {
     "data": {
      "text/plain": [
       "(14, 14, 3, 64)"
      ]
     },
     "execution_count": 265,
     "metadata": {},
     "output_type": "execute_result"
    }
   ],
   "source": [
    "size(res_tc)"
   ]
  },
  {
   "cell_type": "code",
   "execution_count": 267,
   "metadata": {},
   "outputs": [],
   "source": [
    "tc2(fb) |> tc2 |> tc2;"
   ]
  },
  {
   "cell_type": "code",
   "execution_count": null,
   "metadata": {},
   "outputs": [],
   "source": []
  }
 ],
 "metadata": {
  "kernelspec": {
   "display_name": "Julia 1.5.3",
   "language": "julia",
   "name": "julia-1.5"
  },
  "language_info": {
   "file_extension": ".jl",
   "mimetype": "application/julia",
   "name": "julia",
   "version": "1.5.3"
  }
 },
 "nbformat": 4,
 "nbformat_minor": 4
}

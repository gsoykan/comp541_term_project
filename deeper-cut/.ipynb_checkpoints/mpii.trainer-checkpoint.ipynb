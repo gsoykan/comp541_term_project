{
 "cells": [
  {
   "cell_type": "code",
   "execution_count": null,
   "metadata": {},
   "outputs": [],
   "source": [
    "# using Revise"
   ]
  },
  {
   "cell_type": "code",
   "execution_count": 1,
   "metadata": {},
   "outputs": [],
   "source": [
    "using Knet"
   ]
  },
  {
   "cell_type": "code",
   "execution_count": 2,
   "metadata": {},
   "outputs": [],
   "source": [
    "# pkg\"add Knet#master\""
   ]
  },
  {
   "cell_type": "code",
   "execution_count": 3,
   "metadata": {},
   "outputs": [],
   "source": [
    "# using ImageView;"
   ]
  },
  {
   "cell_type": "code",
   "execution_count": null,
   "metadata": {},
   "outputs": [],
   "source": [
    "include(\"../helper.jl\")\n",
    "include(\"accuracy.jl\")\n",
    "include(\"loss.jl\")\n",
    "include(\"mpii.batcher.jl\")\n",
    "include(\"../models.jl\")\n",
    "include(\"../training.jl\")\n",
    "include(\"../plots.jl\")\n",
    "include(\"../modular.resnet.jl\")"
   ]
  },
  {
   "cell_type": "code",
   "execution_count": 3,
   "metadata": {},
   "outputs": [
    {
     "data": {
      "text/plain": [
       "18185-element VariantData{Tuple{KnetArray{Float32,N} where N,KnetArray{Float32,N} where N}}"
      ]
     },
     "execution_count": 3,
     "metadata": {},
     "output_type": "execute_result"
    }
   ],
   "source": [
    "#dtrn_single = Knet.load(\"$(pre_full_path)18185_single_dtrn.jld2\", \"18185_single_dtrn\")"
   ]
  },
  {
   "cell_type": "code",
   "execution_count": 5,
   "metadata": {},
   "outputs": [
    {
     "name": "stdout",
     "output_type": "stream",
     "text": [
      "preprocessing 1\n"
     ]
    }
   ],
   "source": [
    "train_count = 18185\n",
    "test_count = 1000\n",
    "dtrn_single, dtst_single, data_items_single = get_mpii_single_person_batches_and_data_items(; use_global_scaling = true, \n",
    "    train_size = train_count,\n",
    "    test_size = test_count,\n",
    "    fetch_only_test_batch = false\n",
    ");"
   ]
  },
  {
   "cell_type": "code",
   "execution_count": 6,
   "metadata": {},
   "outputs": [],
   "source": [
    "test_data_items_single = data_items_single;"
   ]
  },
  {
   "cell_type": "code",
   "execution_count": 7,
   "metadata": {},
   "outputs": [
    {
     "name": "stdout",
     "output_type": "stream",
     "text": [
      "Effective GPU memory usage: 0.68% (102.000 MiB/14.756 GiB)\n",
      "CUDA allocator usage: 0 bytes\n",
      "binned usage: 0 bytes (0 bytes allocated, 0 bytes cached)\n"
     ]
    }
   ],
   "source": [
    "clear_gpu_memory()"
   ]
  },
  {
   "cell_type": "code",
   "execution_count": 8,
   "metadata": {},
   "outputs": [
    {
     "name": "stdout",
     "output_type": "stream",
     "text": [
      "1\n",
      "1025\n",
      "1\n",
      "1025\n",
      "1\n",
      "1025\n",
      "1\n",
      "1025\n",
      "1\n",
      "1025\n",
      "1\n",
      "1025\n",
      "1\n",
      "1025\n",
      "1\n",
      "1025\n",
      "1\n",
      "1025\n",
      "1\n",
      "1\n"
     ]
    }
   ],
   "source": [
    "substract_mean_img_from_data!(dtrn_single, reshaped_mean_pixel, Knet.atype());\n",
    "substract_mean_img_from_data!(dtst_single, reshaped_mean_pixel, Knet.atype());"
   ]
  },
  {
   "cell_type": "code",
   "execution_count": 9,
   "metadata": {},
   "outputs": [
    {
     "name": "stdout",
     "output_type": "stream",
     "text": [
      "1025\n",
      "2049\n",
      "3073\n",
      "4097\n",
      "5121\n",
      "6145\n",
      "7169\n",
      "8193\n",
      "9217\n",
      "10241\n",
      "11265\n",
      "12289\n",
      "13313\n",
      "14337\n",
      "15361\n",
      "16385\n",
      "17409\n"
     ]
    },
    {
     "data": {
      "text/plain": [
       "36370-element VariantData{Tuple{KnetArray{Float32,N} where N,KnetArray{Float32,N} where N}}"
      ]
     },
     "execution_count": 9,
     "metadata": {},
     "output_type": "execute_result"
    }
   ],
   "source": [
    "mirrored_dtrn_single = mirror_variant_data(dtrn_single)"
   ]
  },
  {
   "cell_type": "code",
   "execution_count": 10,
   "metadata": {
    "collapsed": true,
    "jupyter": {
     "outputs_hidden": true
    }
   },
   "outputs": [
    {
     "data": {
      "text/plain": [
       "2000-element Array{DataItem,1}:\n",
       " DataItem(1, \"/userfiles/gsoykan20/mpii_human_pose/cropped/im23878_2.png\", [3.0 596.0 406.0], Int32[2 272 483; 3 255 335; … ; 13 181 165; 14 165 111], true, Dict{String,Any}(\"objpos\" => Dict{String,Any}(\"x\" => 247.09136002515947,\"y\" => 337.9313724411667),\"x1\" => 148.940267140438,\"y1\" => 111.92327521214301,\"annopoints\" => Dict{String,Any}(\"point\" => Dict{String,Any}(\"x\" => Any[262.03964433618853 226.5374690974943 … 134.97922769244065 131.24215661468338],\"id\" => Any[6.0 7.0 … 14.0 15.0],\"is_visible\" => Any[true true … true true],\"y\" => Any[399.593045224162 238.89898888059844 … 384.6447609131328 455.6491113905214])),\"x2\" => 196.35435799871104,\"y2\" => 164.05144178576734,\"scale\" => 1.0703569498069323))\n",
       " DataItem(2, \"/userfiles/gsoykan20/mpii_human_pose/cropped/im23879_1.png\", [3.0 431.0 285.0], Int32[1 130 427; 2 126 352; … ; 13 123 139; 14 155 91], true, Dict{String,Any}(\"objpos\" => Dict{String,Any}(\"x\" => 149.6842005586737,\"y\" => 265.9269072519122),\"x1\" => 115.44235728188201,\"y1\" => 88.87470945082796,\"annopoints\" => Dict{String,Any}(\"point\" => Dict{String,Any}(\"x\" => Any[134.1521865067921 135.56418778423588 … 158.1562082233364 207.1055858413875],\"id\" => Any[6.0 7.0 … 14.0 15.0],\"is_visible\" => Any[false false … false true],\"y\" => Any[299.81493791056295 179.7948293278415 … 237.2162146105553 287.10692641356894])),\"x2\" => 162.411302628065,\"y2\" => 141.48216078495034,\"scale\" => 4.249287940349536))\n",
       " DataItem(3, \"/userfiles/gsoykan20/mpii_human_pose/cropped/im23879_2.png\", [3.0 484.0 319.0], Int32[1 209 431; 2 195 338; … ; 13 151 137; 14 140 82], true, Dict{String,Any}(\"objpos\" => Dict{String,Any}(\"x\" => 200.80907441321267,\"y\" => 318.1706400821079),\"x1\" => 124.22390161164708,\"y1\" => 81.07996304474683,\"annopoints\" => Dict{String,Any}(\"point\" => Dict{String,Any}(\"x\" => Any[189.16222901919207 181.75060013208804 … 133.5750123659119 166.39794029451548],\"id\" => Any[6.0 7.0 … 14.0 15.0],\"is_visible\" => Any[true true … true false],\"y\" => Any[313.93542357519135 184.23191805087114 … 269.4656502525673 292.2299389772439])),\"x2\" => 165.8837721263513,\"y2\" => 137.9703238551493,\"scale\" => 3.7778470059016414))\n",
       " DataItem(4, \"/userfiles/gsoykan20/mpii_human_pose/cropped/im23880_1.png\", [3.0 561.0 308.0], Int32[2 133 451; 3 121 334; … ; 13 136 157; 14 168 111], true, Dict{String,Any}(\"objpos\" => Dict{String,Any}(\"x\" => 180.7073231584261,\"y\" => 301.17093076542585),\"x1\" => 128.79181176465792,\"y1\" => 107.136327410714,\"annopoints\" => Dict{String,Any}(\"point\" => Dict{String,Any}(\"x\" => Any[136.7716423325486 146.27124899760327 … 159.33320816205332 221.08065148490846],\"id\" => Any[6.0 7.0 … 14.0 15.0],\"is_visible\" => Any[false false … false true],\"y\" => Any[392.60464491657655 206.17486411487965 … 279.79681576905296 289.29642243410757])),\"x2\" => 175.01105238590742,\"y2\" => 160.38893073519705,\"scale\" => 1.6842802617141839))\n",
       " DataItem(5, \"/userfiles/gsoykan20/mpii_human_pose/cropped/im23880_2.png\", [3.0 518.0 241.0], Int32[1 101 408; 2 101 345; … ; 13 86 164; 14 103 111], true, Dict{String,Any}(\"objpos\" => Dict{String,Any}(\"x\" => 126.87637161876597,\"y\" => 297.4519193781292),\"x1\" => 73.29602942123134,\"y1\" => 109.48177928081455,\"annopoints\" => Dict{String,Any}(\"point\" => Dict{String,Any}(\"x\" => Any[94.90029799819717 95.81390010164205 … 51.04739703284571 73.88744961896629],\"id\" => Any[6.0 7.0 … 14.0 15.0],\"is_visible\" => Any[true true … true false],\"y\" => Any[328.51439089525314 213.40052586120555 … 280.0934794126776 312.98315513669115])),\"x2\" => 116.55909507242079,\"y2\" => 165.15776493257607,\"scale\" => 2.1891368161903446))\n",
       " DataItem(6, \"/userfiles/gsoykan20/mpii_human_pose/cropped/im23880_5.png\", [3.0 615.0 362.0], Int32[1 252 497; 2 229 399; … ; 13 198 167; 14 195 111], true, Dict{String,Any}(\"objpos\" => Dict{String,Any}(\"x\" => 202.6319816447185,\"y\" => 324.8781915578899),\"x1\" => 173.09950191205175,\"y1\" => 112.77859544416052,\"annopoints\" => Dict{String,Any}(\"point\" => Dict{String,Any}(\"x\" => Any[232.02494707577057 235.06559867208648 … 148.9138034431403 130.66989386524574],\"id\" => Any[6.0 7.0 … 14.0 15.0],\"is_visible\" => Any[true true … true true],\"y\" => Any[370.48796550262614 223.52313834736492 … 300.55297878736394 324.8781915578899])),\"x2\" => 219.3912904668765,\"y2\" => 165.9377157460835,\"scale\" => 1.9732612599450687))\n",
       " DataItem(7, \"/userfiles/gsoykan20/mpii_human_pose/cropped/im23881_1.png\", [3.0 546.0 414.0], Int32[1 304 422; 2 276 344; … ; 13 221 125; 14 205 71], true, Dict{String,Any}(\"objpos\" => Dict{String,Any}(\"x\" => 246.6849933978417,\"y\" => 299.7947245647876),\"x1\" => 187.57644433255237,\"y1\" => 73.3467377696314,\"annopoints\" => Dict{String,Any}(\"point\" => Dict{String,Any}(\"x\" => Any[288.27501299064465 269.21292067727654 … 207.69435002958903 131.44598077611704],\"id\" => Any[6.0 7.0 … 14.0 15.0],\"is_visible\" => Any[false false … true true],\"y\" => Any[310.19222946298834 174.15820704486217 … 247.80720007378397 285.93138470051997])),\"x2\" => 238.19251750111442,\"y2\" => 122.48905207528443,\"scale\" => 2.3082460874005615))\n",
       " DataItem(8, \"/userfiles/gsoykan20/mpii_human_pose/cropped/im23881_2.png\", [3.0 568.0 306.0], Int32[1 202 432; 2 181 356; … ; 13 144 126; 14 123 74], true, Dict{String,Any}(\"objpos\" => Dict{String,Any}(\"x\" => 161.10135121212943,\"y\" => 274.74757772441643),\"x1\" => 109.52511627836039,\"y1\" => 74.06349342232129,\"annopoints\" => Dict{String,Any}(\"point\" => Dict{String,Any}(\"x\" => Any[188.90318943424302 178.27307481990545 … 157.01284559123042 130.8464096174764],\"id\" => Any[6.0 7.0 … 14.0 15.0],\"is_visible\" => Any[true false … true true],\"y\" => Any[321.3565418026657 170.08183382940064 … 264.1174631100789 329.53355304446376])),\"x2\" => 157.3504375461678,\"y2\" => 125.97715703609789,\"scale\" => 2.445881436210676))\n",
       " DataItem(9, \"/userfiles/gsoykan20/mpii_human_pose/cropped/im23881_3.png\", [3.0 623.0 313.0], Int32[1 182 513; 2 171 415; … ; 13 139 152; 14 162 101], true, Dict{String,Any}(\"objpos\" => Dict{String,Any}(\"x\" => 160.2608374924925,\"y\" => 339.14069555061644),\"x1\" => 126.99814253496588,\"y1\" => 100.17394863652623,\"annopoints\" => Dict{String,Any}(\"point\" => Dict{String,Any}(\"x\" => Any[161.82010505824246 152.46449966374269 … 154.80340101236766 219.51300499099102],\"id\" => Any[6.0 7.0 … 14.0 15.0],\"is_visible\" => Any[false false … false true],\"y\" => Any[356.292638773866 205.82331867899478 … 293.1423023609926 316.531315847242])),\"x2\" => 174.48416173727256,\"y2\" => 152.23804036208924,\"scale\" => 2.5653069991718334))\n",
       " DataItem(10, \"/userfiles/gsoykan20/mpii_human_pose/cropped/im23883_1.png\", [3.0 484.0 252.0], Int32[2 99 374; 3 96 237; … ; 13 84 57; 14 101 3], true, Dict{String,Any}(\"objpos\" => Dict{String,Any}(\"x\" => 118.2046982821854,\"y\" => 217.13163729838874),\"x1\" => 66.57384754295246,\"y1\" => 6.335405931475821,\"annopoints\" => Dict{String,Any}(\"point\" => Dict{String,Any}(\"x\" => Any[114.80138108315106 85.53285317145605 … 112.7593907637305 167.89312938808627],\"id\" => Any[6.0 7.0 … 14.0 15.0],\"is_visible\" => Any[false false … false true],\"y\" => Any[273.62670280235824 108.22548692929094 … 190.58576314592116 257.9714436868004])),\"x2\" => 118.37735887401296,\"y2\" => 54.13892341442974,\"scale\" => 2.938309718188333))\n",
       " DataItem(11, \"/userfiles/gsoykan20/mpii_human_pose/cropped/im23883_2.png\", [3.0 352.0 407.0], Int32[3 247 234; 4 183 242; … ; 13 217 49; 14 223 -7], true, Dict{String,Any}(\"objpos\" => Dict{String,Any}(\"x\" => 230.48055153247492,\"y\" => 184.4661968431555),\"x1\" => 191.4060972107415,\"y1\" => 0.0,\"annopoints\" => Dict{String,Any}(\"point\" => Dict{String,Any}(\"x\" => Any[253.9839665742668 251.84729247955852 … 130.76909377941786 134.3302172705985],\"id\" => Any[6.0 7.0 … 14.0 15.0],\"is_visible\" => Any[true true … true true],\"y\" => Any[281.32875580326805 96.15033426187642 … 193.7251179202251 225.06300464261443])),\"x2\" => 247.45270291778812,\"y2\" => 42.7882688731216,\"scale\" => 2.8081025622295206))\n",
       " DataItem(12, \"/userfiles/gsoykan20/mpii_human_pose/cropped/im23883_3.png\", [3.0 527.0 328.0], Int32[1 245 385; 2 214 316; … ; 13 157 99; 14 160 43], true, Dict{String,Any}(\"objpos\" => Dict{String,Any}(\"x\" => 168.70887219558782,\"y\" => 264.7121521651321),\"x1\" => 135.68688506588603,\"y1\" => 44.38687351944195,\"annopoints\" => Dict{String,Any}(\"point\" => Dict{String,Any}(\"x\" => Any[176.54059267384616 182.80596905645285 … 135.81564618690277 149.9127430477678],\"id\" => Any[6.0 7.0 … 14.0 15.0],\"is_visible\" => Any[true true … true false],\"y\" => Any[256.88043168687375 145.67000089560523 … 220.0713454390595 260.01311987817706])),\"x2\" => 181.48727140338482,\"y2\" => 98.04861613249864,\"scale\" => 2.5537172905394208))\n",
       " DataItem(13, \"/userfiles/gsoykan20/mpii_human_pose/cropped/im23884_1.png\", [3.0 498.0 289.0], Int32[1 137 388; 2 128 306; … ; 13 124 101; 14 155 54], true, Dict{String,Any}(\"objpos\" => Dict{String,Any}(\"x\" => 152.60246837946158,\"y\" => 218.19065704154548),\"x1\" => 116.4197216177944,\"y1\" => 50.69165683398233,\"annopoints\" => Dict{String,Any}(\"point\" => Dict{String,Any}(\"x\" => Any[137.91132688289866 135.73486147600048 … 162.39656271050353 211.3670343657132],\"id\" => Any[6.0 7.0 … 14.0 15.0],\"is_visible\" => Any[false false … false true],\"y\" => Any[250.29352179329405 134.39673887596442 … 213.2936098760245 244.85235827604853])),\"x2\" => 162.53398276535302,\"y2\" => 104.14831313163643,\"scale\" => 3.675684426062716))\n",
       " ⋮\n",
       " DataItem(989, \"/userfiles/gsoykan20/mpii_human_pose/cropped/im24963_1.png\", [3.0 461.0 354.0], Int32[6 243 351; 5 203 291; … ; 13 174 137; 14 163 82], true, Dict{String,Any}(\"objpos\" => Dict{String,Any}(\"x\" => 220.6657833359833,\"y\" => 244.0203452931308),\"x1\" => 186.75758274495468,\"y1\" => 79.38841231929746,\"annopoints\" => Dict{String,Any}(\"point\" => Dict{String,Any}(\"x\" => Any[217.35328996096342 210.72830321092368 … 268.1448550446015 269.2490195029415],\"id\" => Any[6.0 7.0 … 14.0 15.0],\"is_visible\" => Any[true true … true true],\"y\" => Any[276.0411145849896 173.35381995937345 … 216.41623383463184 259.4786477098902])),\"x2\" => 149.35335042634563,\"y2\" => 139.16321688912143,\"scale\" => 1.811324377354868))\n",
       " DataItem(990, \"/userfiles/gsoykan20/mpii_human_pose/cropped/im24975_1.png\", [3.0 228.0 303.0], Int32[5 100 175; 4 179 183; … ; 13 220 86; 14 196 36], true, Dict{String,Any}(\"objpos\" => Dict{String,Any}(\"x\" => 147.62108789761592,\"y\" => 164.396211522345),\"x1\" => 228.69744691990456,\"y1\" => 32.22819321703561,\"annopoints\" => Dict{String,Any}(\"point\" => Dict{String,Any}(\"x\" => Any[149.85777104757977 90.02649678604607 … 138.11518451026944 187.32221380947473],\"id\" => Any[6.0 7.0 … 14.0 15.0],\"is_visible\" => Any[false false … true true],\"y\" => Any[202.4198250717309 117.42586537310356 … 99.53240017339255 108.47913277324805])),\"x2\" => 187.52342069080711,\"y2\" => 89.5754193826431,\"scale\" => 3.5767247587702355))\n",
       " DataItem(991, \"/userfiles/gsoykan20/mpii_human_pose/cropped/im24976_1.png\", [3.0 211.0 281.0], Int32[5 89 164; 4 170 172; … ; 13 208 86; 14 184 35], true, Dict{String,Any}(\"objpos\" => Dict{String,Any}(\"x\" => 123.97172740000563,\"y\" => 125.0091477129764),\"x1\" => 216.46277005107225,\"y1\" => 31.208020253373224,\"annopoints\" => Dict{String,Any}(\"point\" => Dict{String,Any}(\"x\" => Any[136.42077115565473 82.4749148811753 … 129.15882896485942 173.76790242260205],\"id\" => Any[6.0 7.0 … 14.0 15.0],\"is_visible\" => Any[false false … true true],\"y\" => Any[188.81049696067805 108.92913286192963 … 91.81169769791212 103.74203129707584])),\"x2\" => 175.6330939609343,\"y2\" => 88.78901536875199,\"scale\" => 3.8557178319996392))\n",
       " DataItem(992, \"/userfiles/gsoykan20/mpii_human_pose/cropped/im24977_1.png\", [3.0 219.0 292.0], Int32[5 95 172; 4 187 187; … ; 13 206 85; 14 183 33], true, Dict{String,Any}(\"objpos\" => Dict{String,Any}(\"x\" => 158.9864323579878,\"y\" => 126.11127176870896),\"x1\" => 215.8239782480064,\"y1\" => 30.98784009321347,\"annopoints\" => Dict{String,Any}(\"point\" => Dict{String,Any}(\"x\" => Any[133.6563905924779 97.00867059131458 … 153.0581247107408 177.31029235856946],\"id\" => Any[6.0 7.0 … 14.0 15.0],\"is_visible\" => Any[false true … true true],\"y\" => Any[201.02352294755747 110.48209706233051 … 140.12363529856552 148.7466282400157])),\"x2\" => 172.49031317950704,\"y2\" => 86.58367084868472,\"scale\" => 3.711008488268384))\n",
       " DataItem(993, \"/userfiles/gsoykan20/mpii_human_pose/cropped/im24978_1.png\", [3.0 214.0 285.0], Int32[5 91 162; 4 173 173; … ; 13 207 84; 14 193 29], true, Dict{String,Any}(\"objpos\" => Dict{String,Any}(\"x\" => 112.96754363859047,\"y\" => 135.03562193078025),\"x1\" => 221.0128622244593,\"y1\" => 27.999419812994283,\"annopoints\" => Dict{String,Any}(\"point\" => Dict{String,Any}(\"x\" => Any[138.1882045439502 88.7977436042874 … 118.22184799387375 155.0019784808567],\"id\" => Any[6.0 7.0 … 14.0 15.0],\"is_visible\" => Any[false false … false true],\"y\" => Any[191.25667853231133 109.28953058989218 … 145.54423064134681 142.39164802817683])),\"x2\" => 178.7991254975401,\"y2\" => 84.44269467410975,\"scale\" => 3.806403026480511))\n",
       " DataItem(994, \"/userfiles/gsoykan20/mpii_human_pose/cropped/im24979_1.png\", [3.0 208.0 278.0], Int32[5 84 161; 4 154 173; … ; 13 195 85; 14 170 36], true, Dict{String,Any}(\"objpos\" => Dict{String,Any}(\"x\" => 128.9411675675585,\"y\" => 130.47618146717227),\"x1\" => 202.54096072704172,\"y1\" => 31.582184046756975,\"annopoints\" => Dict{String,Any}(\"point\" => Dict{String,Any}(\"x\" => Any[147.87300566279524 93.63584787644128 … 127.4061536679447 152.98971866150788],\"id\" => Any[6.0 7.0 … 14.0 15.0],\"is_visible\" => Any[false false … false true],\"y\" => Any[189.31838095236762 108.98598687257919 … 141.22127876446882 152.98971866150788])),\"x2\" => 161.77573261406428,\"y2\" => 89.12232758399914,\"scale\" => 3.9087593939765597))\n",
       " DataItem(995, \"/userfiles/gsoykan20/mpii_human_pose/cropped/im24980_1.png\", [3.0 350.0 365.0], Int32[6 162 335; 5 166 263; … ; 13 168 99; 14 176 44], true, Dict{String,Any}(\"objpos\" => Dict{String,Any}(\"x\" => 260.54022988505744,\"y\" => 184.48275862068962),\"x1\" => 193.0274440769492,\"y1\" => 43.24226862397687,\"annopoints\" => Dict{String,Any}(\"point\" => Dict{String,Any}(\"x\" => Any[263.41379310344826 235.25287356321837 … 249.0459770114942 209.96551724137925],\"id\" => Any[6.0 7.0 … 14.0 15.0],\"is_visible\" => Any[false true … true true],\"y\" => Any[237.35632183908044 132.183908045977 … 166.0919540229885 191.37931034482756])),\"x2\" => 150.68405706923588,\"y2\" => 99.60297829118268,\"scale\" => 3.4800000000000004))\n",
       " DataItem(996, \"/userfiles/gsoykan20/mpii_human_pose/cropped/im24981_1.png\", [3.0 487.0 429.0], Int32[6 110 371; 5 161 303; … ; 13 282 155; 14 318 111], true, Dict{String,Any}(\"objpos\" => Dict{String,Any}(\"x\" => 238.64765133977562,\"y\" => 264.4752079825995),\"x1\" => 324.1965096181373,\"y1\" => 107.14712602159022,\"annopoints\" => Dict{String,Any}(\"point\" => Dict{String,Any}(\"x\" => Any[262.6036128488049 185.74490300733578 … 175.7632523785736 132.84215467489605],\"id\" => Any[6.0 7.0 … 14.0 15.0],\"is_visible\" => Any[true false … true true],\"y\" => Any[278.44951886286657 197.59814876989262 … 264.4752079825995 238.52291634781773])),\"x2\" => 276.05424029461017,\"y2\" => 158.62714215109438,\"scale\" => 2.003676620615213))\n",
       " DataItem(997, \"/userfiles/gsoykan20/mpii_human_pose/cropped/im24982_1.png\", [3.0 377.0 411.0], Int32[6 110 342; 5 156 264; … ; 13 254 103; 14 289 58], true, Dict{String,Any}(\"objpos\" => Dict{String,Any}(\"x\" => 239.98730761030947,\"y\" => 224.36356364576068),\"x1\" => 294.2930276230676,\"y1\" => 53.81327564090018,\"annopoints\" => Dict{String,Any}(\"point\" => Dict{String,Any}(\"x\" => Any[249.87661069111437 193.01311797648628 … 149.12933555541463 131.20497372145576],\"id\" => Any[6.0 7.0 … 14.0 15.0],\"is_visible\" => Any[true false … true true],\"y\" => Any[205.82112036925153 131.03326582066464 … 205.20303892670123 166.26390804603201])),\"x2\" => 248.81825924913062,\"y2\" => 107.62655128180036,\"scale\" => 3.2358195252516784))\n",
       " DataItem(998, \"/userfiles/gsoykan20/mpii_human_pose/cropped/im24983_1.png\", [3.0 575.0 346.0], Int32[6 121 465; 5 125 377; … ; 13 158 167; 14 163 111], true, Dict{String,Any}(\"objpos\" => Dict{String,Any}(\"x\" => 200.30988837885604,\"y\" => 327.02621787618955),\"x1\" => 184.46704065045148,\"y1\" => 112.49704842531153,\"annopoints\" => Dict{String,Any}(\"point\" => Dict{String,Any}(\"x\" => Any[225.72877313362858 224.39093709390363 … 142.78293867068692 130.74241431316307],\"id\" => Any[6.0 7.0 … 14.0 15.0],\"is_visible\" => Any[true true … true true],\"y\" => Any[333.71539807481383 230.7020230159992 … 274.85061232691976 278.8641204460944])),\"x2\" => 136.93297535376897,\"y2\" => 164.53493383256395,\"scale\" => 1.4949515042301538))\n",
       " DataItem(999, \"/userfiles/gsoykan20/mpii_human_pose/cropped/im24984_1.png\", [3.0 378.0 474.0], Int32[6 226 268; 5 261 204; … ; 13 278 123; 14 333 111], true, Dict{String,Any}(\"objpos\" => Dict{String,Any}(\"x\" => 251.58868223436275,\"y\" => 222.07148954545863),\"x1\" => 330.64296275606057,\"y1\" => 91.60913905010312,\"annopoints\" => Dict{String,Any}(\"point\" => Dict{String,Any}(\"x\" => Any[332.44003899794086 235.14433848583838 … 210.47782286305176 174.8484114079157],\"id\" => Any[6.0 7.0 … 14.0 15.0],\"is_visible\" => Any[false false … true true],\"y\" => Any[182.3309921531914 145.3312187190116 … 201.5160598598032 245.3676431892015])),\"x2\" => 280.76668076844544,\"y2\" => 141.43881013550248,\"scale\" => 1.459468396369034))\n",
       " DataItem(1000, \"/userfiles/gsoykan20/mpii_human_pose/cropped/im24985_5.png\", [3.0 266.0 104.0], Int32[4 36 223; 3 85 226; … ; 11 20 161; 10 47 111], true, Dict{String,Any}(\"objpos\" => Dict{String,Any}(\"x\" => 46.51635337282111,\"y\" => 206.5891522582828),\"x1\" => 104.0,\"y1\" => 45.98717111211549,\"annopoints\" => Dict{String,Any}(\"point\" => Dict{String,Any}(\"x\" => Any[51.01793595728767 80.2782227563203 … 99.03481685826429 68.27400253107615],\"id\" => Any[6.0 2.0 … 11.0 12.0],\"is_visible\" => Any[true true … true true],\"y\" => Any[265.10972585634806 262.8589345641148 … 190.0833494485721 130.81251208642908])),\"x2\" => 55.787926923635204,\"y2\" => 97.46864568967072,\"scale\" => 2.66572916853907))"
      ]
     },
     "execution_count": 10,
     "metadata": {},
     "output_type": "execute_result"
    }
   ],
   "source": [
    "mirrored_dtst_single = mirror_variant_data(dtst_single)\n",
    "mirrored_data_items_single = mirror_data_items_for_batch(data_items_single)"
   ]
  },
  {
   "cell_type": "code",
   "execution_count": 14,
   "metadata": {},
   "outputs": [],
   "source": [
    "first_img = mirrored_dtrn_single.x[18186][:, :, :, 1];"
   ]
  },
  {
   "cell_type": "code",
   "execution_count": 15,
   "metadata": {},
   "outputs": [
    {
     "data": {
      "image/png": "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",
      "text/plain": [
       "331×250 reshape(reinterpret(RGB{Float32}, ::Array{Float32,3}), 331, 250) with eltype RGB{Float32}:\n",
       " RGB{Float32}(-0.449725,-0.422663,-0.37231)  …  RGB{Float32}(-0.449725,-0.422663,-0.37231)\n",
       " RGB{Float32}(0.0718432,0.0910628,0.149259)     RGB{Float32}(0.0679216,0.0910628,0.133573)\n",
       " RGB{Float32}(0.460078,0.479298,0.537494)       RGB{Float32}(0.467922,0.491063,0.529651)\n",
       " RGB{Float32}(0.424784,0.444004,0.506122)       RGB{Float32}(0.452235,0.475376,0.510043)\n",
       " RGB{Float32}(0.428706,0.447926,0.510043)       RGB{Float32}(0.448314,0.471455,0.506122)\n",
       " RGB{Float32}(0.432627,0.451847,0.513965)    …  RGB{Float32}(0.448314,0.471455,0.506122)\n",
       " RGB{Float32}(0.436549,0.455769,0.517886)       RGB{Float32}(0.448314,0.471455,0.506122)\n",
       " RGB{Float32}(0.436549,0.455769,0.517886)       RGB{Float32}(0.448314,0.471455,0.510043)\n",
       " RGB{Float32}(0.440471,0.45969,0.525729)        RGB{Float32}(0.452235,0.475376,0.517886)\n",
       " RGB{Float32}(0.440471,0.463612,0.533573)       RGB{Float32}(0.456157,0.487141,0.517886)\n",
       " RGB{Float32}(0.440471,0.463612,0.533573)    …  RGB{Float32}(0.460078,0.491063,0.521808)\n",
       " RGB{Float32}(0.440471,0.463612,0.533573)       RGB{Float32}(0.460078,0.491063,0.521808)\n",
       " RGB{Float32}(0.440471,0.463612,0.533573)       RGB{Float32}(0.460078,0.491063,0.521808)\n",
       " ⋮                                           ⋱  \n",
       " RGB{Float32}(0.405176,0.432239,0.513965)       RGB{Float32}(0.448314,0.479298,0.510043)\n",
       " RGB{Float32}(0.405176,0.432239,0.513965)    …  RGB{Float32}(0.448314,0.479298,0.510043)\n",
       " RGB{Float32}(0.405176,0.432239,0.513965)       RGB{Float32}(0.448314,0.479298,0.510043)\n",
       " RGB{Float32}(0.405176,0.432239,0.513965)       RGB{Float32}(0.448314,0.479298,0.510043)\n",
       " RGB{Float32}(0.405176,0.440082,0.517886)       RGB{Float32}(0.448314,0.479298,0.510043)\n",
       " RGB{Float32}(0.405176,0.440082,0.517886)       RGB{Float32}(0.448314,0.479298,0.510043)\n",
       " RGB{Float32}(0.405176,0.440082,0.517886)    …  RGB{Float32}(0.448314,0.479298,0.510043)\n",
       " RGB{Float32}(0.405176,0.440082,0.517886)       RGB{Float32}(0.448314,0.479298,0.510043)\n",
       " RGB{Float32}(0.405176,0.440082,0.517886)       RGB{Float32}(0.448314,0.479298,0.510043)\n",
       " RGB{Float32}(0.405176,0.440082,0.517886)       RGB{Float32}(0.448314,0.479298,0.510043)\n",
       " RGB{Float32}(0.405176,0.440082,0.517886)       RGB{Float32}(0.448314,0.479298,0.510043)\n",
       " RGB{Float32}(0.405176,0.440082,0.517886)    …  RGB{Float32}(0.448314,0.479298,0.510043)"
      ]
     },
     "execution_count": 15,
     "metadata": {},
     "output_type": "execute_result"
    }
   ],
   "source": [
    "colorview(RGB, permutedims(first_img, [3, 1, 2]))"
   ]
  },
  {
   "cell_type": "code",
   "execution_count": 14,
   "metadata": {},
   "outputs": [],
   "source": [
    "#Knet.save(\"$(pre_full_path)18185_single_dtrn.jld2\", \"18185_single_dtrn\", dtrn_single)"
   ]
  },
  {
   "cell_type": "code",
   "execution_count": 11,
   "metadata": {
    "collapsed": true,
    "jupyter": {
     "outputs_hidden": true
    }
   },
   "outputs": [
    {
     "name": "stdout",
     "output_type": "stream",
     "text": [
      "preprocessing 1\n",
      "preprocessing 1025\n",
      "preprocessing 2049\n",
      "preprocessing 3073\n",
      "preprocessing 4097\n",
      "preprocessing 5121\n",
      "preprocessing 6145\n",
      "preprocessing 7169\n",
      "preprocessing 8193\n",
      "preprocessing 9217\n",
      "preprocessing 10241\n",
      "preprocessing 11265\n",
      "preprocessing 12289\n",
      "preprocessing 13313\n",
      "preprocessing 14337\n",
      "preprocessing 15361\n",
      "preprocessing 16385\n",
      "preprocessing 17409\n",
      "preprocessing 1\n"
     ]
    },
    {
     "data": {
      "text/plain": [
       "(18185-element VariantData{Tuple{KnetArray{Float32,N} where N,KnetArray{Float32,N} where N}}, 1000-element VariantData{Tuple{KnetArray{Float32,N} where N,KnetArray{Float32,N} where N}}, Any[DataItem(1, \"/userfiles/gsoykan20/mpii_human_pose/cropped/im00005_1.png\", [3.0 331.0 250.0], Int32[1 148 221; 2 147 151; … ; 13 158 107; 14 192 61], true, Dict{String,Any}(\"objpos\" => Dict{String,Any}(\"x\" => 158.2412583682625,\"y\" => 170.13973636471962),\"x1\" => 152.61694850670295,\"y1\" => 56.04332116432594,\"annopoints\" => Dict{String,Any}(\"point\" => Dict{String,Any}(\"x\" => Any[168.83361549602716 193.3284413539829 … 223.78146809630624 220.4713564938798],\"id\" => Any[6.0 7.0 … 14.0 15.0],\"is_visible\" => Any[false true … true true],\"y\" => Any[123.79817393074931 116.51592840541112 … 158.8853569164697 207.2129863118959])),\"x2\" => 196.93878288404318,\"y2\" => 110.96577590536535,\"scale\" => 3.021046176409755)), DataItem(2, \"/userfiles/gsoykan20/mpii_human_pose/cropped/im00005_2.png\", [3.0 377.0 312.0], Int32[1 120 192; 2 131 183; … ; 13 132 122; 14 76 117], true, Dict{String,Any}(\"objpos\" => Dict{String,Any}(\"x\" => 188.19023916373374,\"y\" => 169.60318602347573),\"x1\" => 83.41645857322335,\"y1\" => 90.70686713413636,\"annopoints\" => Dict{String,Any}(\"point\" => Dict{String,Any}(\"x\" => Any[210.0338698963186 150.9751645822928 … 237.5406641521663 190.6173092451321],\"id\" => Any[6.0 7.0 … 14.0 15.0],\"is_visible\" => Any[false false … true true],\"y\" => Any[168.79416266300962 143.71443848856032 … 154.2317421746197 202.7731438025861])),\"x2\" => 125.25703512978005,\"y2\" => 147.46729412207816,\"scale\" => 2.472116502109073)), DataItem(3, \"/userfiles/gsoykan20/mpii_human_pose/cropped/im00006_3.png\", [3.0 214.0 144.0], Int32[3 68 159; 4 22 159; … ; 13 36 65; 14 26 9], true, Dict{String,Any}(\"objpos\" => Dict{String,Any}(\"x\" => 46.437234070464626,\"y\" => 109.98292279846886),\"x1\" => 7.985314816851598,\"y1\" => 10.674079320629907,\"annopoints\" => Dict{String,Any}(\"point\" => Dict{String,Any}(\"id\" => Any[2.0 3.0 … 13.0 14.0],\"x\" => Any[79.60668697793936 25.837258054243478 … 9.077955532572032 9.077955532572032],\"is_visible\" => Any[\"1\" \"1\" … \"1\" \"1\"],\"y\" => Any[187.49469696119928 187.14554482533114 … 87.63718610290692 147.6913534722296])),\"x2\" => 55.00994651608878,\"y2\" => 63.451471517077785,\"scale\" => 5.72816200888208)), DataItem(4, \"/userfiles/gsoykan20/mpii_human_pose/cropped/im00009_1.png\", [3.0 265.0 328.0], Int32[1 211 143; 2 174 141; … ; 13 163 80; 14 147 26], true, Dict{String,Any}(\"objpos\" => Dict{String,Any}(\"x\" => 206.31110066891006,\"y\" => 89.84860447534405),\"x1\" => 133.98709487866952,\"y1\" => 24.911781313087328,\"annopoints\" => Dict{String,Any}(\"point\" => Dict{String,Any}(\"x\" => Any[209.98911371760835 185.81931368330527 … 257.8032833506861 239.938648542723],\"id\" => Any[6.0 7.0 … 14.0 15.0],\"is_visible\" => Any[true true … false false],\"y\" => Any[124.52701322021369 70.93310879632425 … 85.64516099111744 117.1709871228171])),\"x2\" => 176.18403351926113,\"y2\" => 81.40814250526752,\"scale\" => 3.806403026480511)), DataItem(5, \"/userfiles/gsoykan20/mpii_human_pose/cropped/im00011_1.png\", [3.0 148.0 263.0], Int32[1 188 94; 2 135 106; … ; 13 163 65; 14 122 25], true, Dict{String,Any}(\"objpos\" => Dict{String,Any}(\"x\" => 223.164970252773,\"y\" => 107.4766361065844),\"x1\" => 121.9172301868393,\"y1\" => 16.22906958154205,\"annopoints\" => Dict{String,Any}(\"point\" => Dict{String,Any}(\"x\" => Any[204.32636886779866 178.24215156552648 … 268.5708300011727 244.41877694351328],\"id\" => Any[6.0 7.0 … 14.0 15.0],\"is_visible\" => Any[true true … true true],\"y\" => Any[84.77370623238454 62.55381741933788 … 92.74388374141215 118.10353945195455])),\"x2\" => 163.51252048587858,\"y2\" => 73.54439126825385,\"scale\" => 8.280869519561335)), DataItem(6, \"/userfiles/gsoykan20/mpii_human_pose/cropped/im00017_1.png\", [3.0 428.0 257.0], Int32[1 139 362; 2 136 260; … ; 13 151 140; 14 171 87], true, Dict{String,Any}(\"objpos\" => Dict{String,Any}(\"x\" => 216.23061496765786,\"y\" => 268.7936011143122),\"x1\" => 140.91738084330314,\"y1\" => 84.70237887401557,\"annopoints\" => Dict{String,Any}(\"point\" => Dict{String,Any}(\"x\" => Any[163.52598729818487 174.06691283207948 … 233.0960958218892 241.52883624900488],\"id\" => Any[6.0 7.0 … 14.0 15.0],\"is_visible\" => Any[true true … true true],\"y\" => Any[279.3345266482068 179.19573407620814 … 232.95445429907056 188.68256705671325])),\"x2\" => 181.01797390078872,\"y2\" => 142.65663810360516,\"scale\" => 1.897366596101028)), DataItem(7, \"/userfiles/gsoykan20/mpii_human_pose/cropped/im00017_2.png\", [3.0 395.0 251.0], Int32[1 46 334; 2 46 243; … ; 13 95 142; 14 92 85], true, Dict{String,Any}(\"objpos\" => Dict{String,Any}(\"x\" => 116.46270095629927,\"y\" => 259.31766880617016),\"x1\" => 72.40284217587185,\"y1\" => 85.43472120157755,\"annopoints\" => Dict{String,Any}(\"point\" => Dict{String,Any}(\"x\" => Any[113.5490192843198 111.60656483633352 … 165.99528937994967 132.00233654018962],\"id\" => Any[6.0 7.0 … 14.0 15.0],\"is_visible\" => Any[true true … true true],\"y\" => Any[257.3752143581839 169.96476419880068 … 228.23839763838947 184.53317255869788])),\"x2\" => 114.40513923845987,\"y2\" => 142.1173727680088,\"scale\" => 2.059250349034813)), DataItem(8, \"/userfiles/gsoykan20/mpii_human_pose/cropped/im00018_1.png\", [3.0 461.0 274.0], Int32[1 146 396; 2 147 287; … ; 13 159 156; 14 175 102], true, Dict{String,Any}(\"objpos\" => Dict{String,Any}(\"x\" => 170.71682316481804,\"y\" => 249.73956043120242),\"x1\" => 144.81860963058585,\"y1\" => 100.82271508201633,\"annopoints\" => Dict{String,Any}(\"point\" => Dict{String,Any}(\"x\" => Any[177.52790208566898 183.20380118637814 … 251.3145903948879 256.99048949559705],\"id\" => Any[6.0 7.0 … 14.0 15.0],\"is_visible\" => Any[true true … true true],\"y\" => Any[312.17445053900303 195.25092906439463 … 267.9024375534717 189.57502996368547])),\"x2\" => 188.15225542114484,\"y2\" => 156.51526246065393,\"scale\" => 1.7618354066143638)), DataItem(9, \"/userfiles/gsoykan20/mpii_human_pose/cropped/im00018_2.png\", [3.0 388.0 242.0], Int32[1 44 328; 2 40 247; … ; 13 84 139; 14 77 84], true, Dict{String,Any}(\"objpos\" => Dict{String,Any}(\"x\" => 72.21094803770035,\"y\" => 221.40468926802902),\"x1\" => 57.871530157808394,\"y1\" => 84.70463668363583,\"annopoints\" => Dict{String,Any}(\"point\" => Dict{String,Any}(\"x\" => Any[102.74952586777334 99.88653419620397 … 156.19203707040106 123.74479812594848],\"id\" => Any[6.0 7.0 … 14.0 15.0],\"is_visible\" => Any[true true … true true],\"y\" => Any[259.57791155562023 169.8708391797809 … 219.49602815364946 171.77950029416044])),\"x2\" => 103.0921170500967,\"y2\" => 138.75426199605107,\"scale\" => 2.095709903588758)), DataItem(10, \"/userfiles/gsoykan20/mpii_human_pose/cropped/im00020_1.png\", [3.0 369.0 323.0], Int32[2 140 363; 3 141 266; … ; 13 160 151; 14 163 94], true, Dict{String,Any}(\"objpos\" => Dict{String,Any}(\"x\" => 179.74050002042202,\"y\" => 271.31458704463984),\"x1\" => 141.23793243007424,\"y1\" => 93.69181845929101,\"annopoints\" => Dict{String,Any}(\"point\" => Dict{String,Any}(\"x\" => Any[194.25900635056996 187.90715983113023 … 252.3330316711618 249.61081173425902],\"id\" => Any[6.0 7.0 … 14.0 15.0],\"is_visible\" => Any[true true … true true],\"y\" => Any[313.9626993894494 196.90724210263159 … 280.3886535009823 263.1479272339316])),\"x2\" => 181.9025785244715,\"y2\" => 151.2892478400027,\"scale\" => 2.2040834829924205))  …  DataItem(991, \"/userfiles/gsoykan20/mpii_human_pose/cropped/im24976_1.png\", [3.0 211.0 281.0], Int32[2 192 164; 3 111 172; … ; 13 73 86; 14 97 35], true, Dict{String,Any}(\"objpos\" => Dict{String,Any}(\"x\" => 123.97172740000563,\"y\" => 125.0091477129764),\"x1\" => 64.53722994892775,\"y1\" => 31.208020253373224,\"annopoints\" => Dict{String,Any}(\"point\" => Dict{String,Any}(\"x\" => Any[136.42077115565473 82.4749148811753 … 129.15882896485942 173.76790242260205],\"id\" => Any[6.0 7.0 … 14.0 15.0],\"is_visible\" => Any[false false … true true],\"y\" => Any[188.81049696067805 108.92913286192963 … 91.81169769791212 103.74203129707584])),\"x2\" => 105.3669060390657,\"y2\" => 88.78901536875199,\"scale\" => 3.8557178319996392)), DataItem(992, \"/userfiles/gsoykan20/mpii_human_pose/cropped/im24977_1.png\", [3.0 219.0 292.0], Int32[2 197 172; 3 105 187; … ; 13 86 85; 14 109 33], true, Dict{String,Any}(\"objpos\" => Dict{String,Any}(\"x\" => 158.9864323579878,\"y\" => 126.11127176870896),\"x1\" => 76.1760217519936,\"y1\" => 30.98784009321347,\"annopoints\" => Dict{String,Any}(\"point\" => Dict{String,Any}(\"x\" => Any[133.6563905924779 97.00867059131458 … 153.0581247107408 177.31029235856946],\"id\" => Any[6.0 7.0 … 14.0 15.0],\"is_visible\" => Any[false true … true true],\"y\" => Any[201.02352294755747 110.48209706233051 … 140.12363529856552 148.7466282400157])),\"x2\" => 119.50968682049296,\"y2\" => 86.58367084868472,\"scale\" => 3.711008488268384)), DataItem(993, \"/userfiles/gsoykan20/mpii_human_pose/cropped/im24978_1.png\", [3.0 214.0 285.0], Int32[2 194 162; 3 112 173; … ; 13 78 84; 14 92 29], true, Dict{String,Any}(\"objpos\" => Dict{String,Any}(\"x\" => 112.96754363859047,\"y\" => 135.03562193078025),\"x1\" => 63.9871377755407,\"y1\" => 27.999419812994283,\"annopoints\" => Dict{String,Any}(\"point\" => Dict{String,Any}(\"x\" => Any[138.1882045439502 88.7977436042874 … 118.22184799387375 155.0019784808567],\"id\" => Any[6.0 7.0 … 14.0 15.0],\"is_visible\" => Any[false false … false true],\"y\" => Any[191.25667853231133 109.28953058989218 … 145.54423064134681 142.39164802817683])),\"x2\" => 106.20087450245991,\"y2\" => 84.44269467410975,\"scale\" => 3.806403026480511)), DataItem(994, \"/userfiles/gsoykan20/mpii_human_pose/cropped/im24979_1.png\", [3.0 208.0 278.0], Int32[2 194 161; 3 124 173; … ; 13 83 85; 14 108 36], true, Dict{String,Any}(\"objpos\" => Dict{String,Any}(\"x\" => 128.9411675675585,\"y\" => 130.47618146717227),\"x1\" => 75.45903927295828,\"y1\" => 31.582184046756975,\"annopoints\" => Dict{String,Any}(\"point\" => Dict{String,Any}(\"x\" => Any[147.87300566279524 93.63584787644128 … 127.4061536679447 152.98971866150788],\"id\" => Any[6.0 7.0 … 14.0 15.0],\"is_visible\" => Any[false false … false true],\"y\" => Any[189.31838095236762 108.98598687257919 … 141.22127876446882 152.98971866150788])),\"x2\" => 116.22426738593573,\"y2\" => 89.12232758399914,\"scale\" => 3.9087593939765597)), DataItem(995, \"/userfiles/gsoykan20/mpii_human_pose/cropped/im24980_1.png\", [3.0 350.0 365.0], Int32[1 203 335; 2 199 263; … ; 13 197 99; 14 189 44], true, Dict{String,Any}(\"objpos\" => Dict{String,Any}(\"x\" => 260.54022988505744,\"y\" => 184.48275862068962),\"x1\" => 171.9725559230508,\"y1\" => 43.24226862397687,\"annopoints\" => Dict{String,Any}(\"point\" => Dict{String,Any}(\"x\" => Any[263.41379310344826 235.25287356321837 … 249.0459770114942 209.96551724137925],\"id\" => Any[6.0 7.0 … 14.0 15.0],\"is_visible\" => Any[false true … true true],\"y\" => Any[237.35632183908044 132.183908045977 … 166.0919540229885 191.37931034482756])),\"x2\" => 214.31594293076412,\"y2\" => 99.60297829118268,\"scale\" => 3.4800000000000004)), DataItem(996, \"/userfiles/gsoykan20/mpii_human_pose/cropped/im24981_1.png\", [3.0 487.0 429.0], Int32[1 319 371; 2 268 303; … ; 13 147 155; 14 111 111], true, Dict{String,Any}(\"objpos\" => Dict{String,Any}(\"x\" => 238.64765133977562,\"y\" => 264.4752079825995),\"x1\" => 104.80349038186267,\"y1\" => 107.14712602159022,\"annopoints\" => Dict{String,Any}(\"point\" => Dict{String,Any}(\"x\" => Any[262.6036128488049 185.74490300733578 … 175.7632523785736 132.84215467489605],\"id\" => Any[6.0 7.0 … 14.0 15.0],\"is_visible\" => Any[true false … true true],\"y\" => Any[278.44951886286657 197.59814876989262 … 264.4752079825995 238.52291634781773])),\"x2\" => 152.9457597053898,\"y2\" => 158.62714215109438,\"scale\" => 2.003676620615213)), DataItem(997, \"/userfiles/gsoykan20/mpii_human_pose/cropped/im24982_1.png\", [3.0 377.0 411.0], Int32[1 301 342; 2 255 264; … ; 13 157 103; 14 122 58], true, Dict{String,Any}(\"objpos\" => Dict{String,Any}(\"x\" => 239.98730761030947,\"y\" => 224.36356364576068),\"x1\" => 116.7069723769324,\"y1\" => 53.81327564090018,\"annopoints\" => Dict{String,Any}(\"point\" => Dict{String,Any}(\"x\" => Any[249.87661069111437 193.01311797648628 … 149.12933555541463 131.20497372145576],\"id\" => Any[6.0 7.0 … 14.0 15.0],\"is_visible\" => Any[true false … true true],\"y\" => Any[205.82112036925153 131.03326582066464 … 205.20303892670123 166.26390804603201])),\"x2\" => 162.18174075086938,\"y2\" => 107.62655128180036,\"scale\" => 3.2358195252516784)), DataItem(998, \"/userfiles/gsoykan20/mpii_human_pose/cropped/im24983_1.png\", [3.0 575.0 346.0], Int32[1 225 465; 2 221 377; … ; 13 188 167; 14 183 111], true, Dict{String,Any}(\"objpos\" => Dict{String,Any}(\"x\" => 200.30988837885604,\"y\" => 327.02621787618955),\"x1\" => 161.53295934954852,\"y1\" => 112.49704842531153,\"annopoints\" => Dict{String,Any}(\"point\" => Dict{String,Any}(\"x\" => Any[225.72877313362858 224.39093709390363 … 142.78293867068692 130.74241431316307],\"id\" => Any[6.0 7.0 … 14.0 15.0],\"is_visible\" => Any[true true … true true],\"y\" => Any[333.71539807481383 230.7020230159992 … 274.85061232691976 278.8641204460944])),\"x2\" => 209.06702464623103,\"y2\" => 164.53493383256395,\"scale\" => 1.4949515042301538)), DataItem(999, \"/userfiles/gsoykan20/mpii_human_pose/cropped/im24984_1.png\", [3.0 378.0 474.0], Int32[1 248 268; 2 213 204; … ; 13 196 123; 14 141 111], true, Dict{String,Any}(\"objpos\" => Dict{String,Any}(\"x\" => 251.58868223436275,\"y\" => 222.07148954545863),\"x1\" => 143.35703724393946,\"y1\" => 91.60913905010312,\"annopoints\" => Dict{String,Any}(\"point\" => Dict{String,Any}(\"x\" => Any[332.44003899794086 235.14433848583838 … 210.47782286305176 174.8484114079157],\"id\" => Any[6.0 7.0 … 14.0 15.0],\"is_visible\" => Any[false false … true true],\"y\" => Any[182.3309921531914 145.3312187190116 … 201.5160598598032 245.3676431892015])),\"x2\" => 193.23331923155456,\"y2\" => 141.43881013550248,\"scale\" => 1.459468396369034)), DataItem(1000, \"/userfiles/gsoykan20/mpii_human_pose/cropped/im24985_5.png\", [3.0 266.0 104.0], Int32[3 68 223; 4 19 226; … ; 8 84 161; 9 57 111], true, Dict{String,Any}(\"objpos\" => Dict{String,Any}(\"x\" => 46.51635337282111,\"y\" => 206.5891522582828),\"x1\" => 0.0,\"y1\" => 45.98717111211549,\"annopoints\" => Dict{String,Any}(\"point\" => Dict{String,Any}(\"x\" => Any[51.01793595728767 80.2782227563203 … 99.03481685826429 68.27400253107615],\"id\" => Any[6.0 2.0 … 11.0 12.0],\"is_visible\" => Any[true true … true true],\"y\" => Any[265.10972585634806 262.8589345641148 … 190.0833494485721 130.81251208642908])),\"x2\" => 48.212073076364796,\"y2\" => 97.46864568967072,\"scale\" => 2.66572916853907))])"
      ]
     },
     "execution_count": 11,
     "metadata": {},
     "output_type": "execute_result"
    }
   ],
   "source": [
    "train_count = 18185\n",
    "test_count = 1000\n",
    "dtrn_single, dtst_single, data_items_single = get_mpii_single_person_batches_and_data_items(; use_global_scaling = true, \n",
    "    train_size = train_count,\n",
    "    test_size = test_count)"
   ]
  },
  {
   "cell_type": "code",
   "execution_count": 11,
   "metadata": {
    "collapsed": true,
    "jupyter": {
     "outputs_hidden": true
    }
   },
   "outputs": [
    {
     "name": "stdout",
     "output_type": "stream",
     "text": [
      "1\n",
      "1024-element Data{Tuple{KnetArray{Float32,N} where N,KnetArray{Float32,N} where N}}\n",
      "1025\n",
      "(786432, 1024)\n",
      "2048-element Data{Tuple{KnetArray{Float32,N} where N,KnetArray{Float32,N} where N}}\n",
      "2049\n",
      "(786432, 2048)\n",
      "3072-element Data{Tuple{KnetArray{Float32,N} where N,KnetArray{Float32,N} where N}}\n",
      "3073\n",
      "(786432, 3072)\n",
      "4096-element Data{Tuple{KnetArray{Float32,N} where N,KnetArray{Float32,N} where N}}\n",
      "4097\n",
      "(786432, 4096)\n",
      "5120-element Data{Tuple{KnetArray{Float32,N} where N,KnetArray{Float32,N} where N}}\n",
      "5121\n",
      "(786432, 5120)\n",
      "6144-element Data{Tuple{KnetArray{Float32,N} where N,KnetArray{Float32,N} where N}}\n",
      "6145\n",
      "(786432, 6144)\n",
      "7168-element Data{Tuple{KnetArray{Float32,N} where N,KnetArray{Float32,N} where N}}\n",
      "7169\n",
      "(786432, 7168)\n",
      "8192-element Data{Tuple{KnetArray{Float32,N} where N,KnetArray{Float32,N} where N}}\n",
      "8193\n",
      "(786432, 8192)\n",
      "9216-element Data{Tuple{KnetArray{Float32,N} where N,KnetArray{Float32,N} where N}}\n",
      "9217\n",
      "(786432, 9216)\n",
      "10240-element Data{Tuple{KnetArray{Float32,N} where N,KnetArray{Float32,N} where N}}\n",
      "10241\n",
      "(786432, 10240)\n",
      "11264-element Data{Tuple{KnetArray{Float32,N} where N,KnetArray{Float32,N} where N}}\n",
      "11265\n",
      "(786432, 11264)\n",
      "12288-element Data{Tuple{KnetArray{Float32,N} where N,KnetArray{Float32,N} where N}}\n",
      "12289\n",
      "(786432, 12288)\n",
      "13312-element Data{Tuple{KnetArray{Float32,N} where N,KnetArray{Float32,N} where N}}\n",
      "13313\n",
      "(786432, 13312)\n",
      "14336-element Data{Tuple{KnetArray{Float32,N} where N,KnetArray{Float32,N} where N}}\n",
      "14337\n",
      "(786432, 14336)\n",
      "15360-element Data{Tuple{KnetArray{Float32,N} where N,KnetArray{Float32,N} where N}}\n",
      "15361\n",
      "(786432, 15360)\n",
      "16384-element Data{Tuple{KnetArray{Float32,N} where N,KnetArray{Float32,N} where N}}\n",
      "16385\n",
      "(786432, 16384)\n",
      "17408-element Data{Tuple{KnetArray{Float32,N} where N,KnetArray{Float32,N} where N}}\n",
      "17409\n",
      "(786432, 17408)\n",
      "18432-element Data{Tuple{KnetArray{Float32,N} where N,KnetArray{Float32,N} where N}}\n"
     ]
    },
    {
     "data": {
      "text/plain": [
       "(18432-element Data{Tuple{KnetArray{Float32,N} where N,KnetArray{Float32,N} where N}}, 753-element Data{Tuple{KnetArray{Float32,N} where N,KnetArray{Float32,N} where N}}, DataItem[DataItem(1, \"/userfiles/gsoykan20/mpii_human_pose/cropped/im18002_1.png\", [3.0 512.0 512.0], Int32[1 242 385; 2 189 314; … ; 13 248 141; 14 211 82], true, Dict{String,Any}(\"objpos\" => Dict{String,Any}(\"x\" => 208.96442562694062,\"y\" => 267.4759854225754),\"x1\" => 194.96086302600244,\"y1\" => 78.473532002716,\"annopoints\" => Dict{String,Any}(\"point\" => Dict{String,Any}(\"x\" => Any[199.7411157847829 179.9768804087305 … 208.96442562694062 160.21264503267815],\"id\" => Any[6.0 7.0 … 14.0 15.0],\"is_visible\" => Any[false false … true true],\"y\" => Any[270.1112168060491 167.3371928505767 … 230.5827460539443 259.57029127215446])),\"x2\" => 263.37295197318434,\"y2\" => 144.29004271467136,\"scale\" => 1.5178932768808222)), DataItem(2, \"/userfiles/gsoykan20/mpii_human_pose/cropped/im04418_1.png\", [3.0 512.0 512.0], Int32[3 222 426; 4 276 452; … ; 13 263 194; 14 250 49], true, Dict{String,Any}(\"head_r11\" => \"0.93153\",\"torso_r33\" => \"0.76313\",\"head_r32\" => \"0.052204\",\"head_r33\" => \"0.93811\",\"scale\" => 9.345989514224804,\"torso_r23\" => \"-0.010488\",\"torso_r13\" => \"-0.64616\",\"torso_r32\" => \"0.087156\",\"part_occ4\" => \"0\",\"torso_r31\" => \"0.64034\"…)), DataItem(3, \"/userfiles/gsoykan20/mpii_human_pose/cropped/im04210_1.png\", [3.0 512.0 512.0], Int32[1 346 453; 2 315 339; … ; 13 232 121; 14 153 122], true, Dict{String,Any}(\"head_r11\" => \"0.85244\",\"torso_r33\" => \"0.86571\",\"head_r32\" => \"0.00017124\",\"head_r33\" => \"0.86571\",\"scale\" => 3.3996235085667936,\"torso_r23\" => \"0.087102\",\"torso_r13\" => \"-0.49292\",\"torso_r32\" => \"0.00017124\",\"part_occ4\" => \"0\",\"torso_r31\" => \"0.50055\"…)), DataItem(4, \"/userfiles/gsoykan20/mpii_human_pose/cropped/im17274_2.png\", [3.0 512.0 512.0], Int32[1 242 412; 2 263 354; … ; 13 281 145; 14 329 101], true, Dict{String,Any}(\"objpos\" => Dict{String,Any}(\"x\" => 191.78854155728982,\"y\" => 299.9853979787007),\"x1\" => 269.0969989123796,\"y1\" => 98.20398693754433,\"annopoints\" => Dict{String,Any}(\"point\" => Dict{String,Any}(\"x\" => Any[200.54894709867838 192.58494206105243 … 131.26210327133242 186.21373803095165],\"id\" => Any[6.0 7.0 … 14.0 15.0],\"is_visible\" => Any[false true … true false],\"y\" => Any[353.3442317307947 208.39934004600204 … 276.8897833695854 285.65018891097395])),\"x2\" => 339.963868654579,\"y2\" => 148.63547915131826,\"scale\" => 2.5112992653206425)), DataItem(5, \"/userfiles/gsoykan20/mpii_human_pose/cropped/im19083_1.png\", [3.0 512.0 512.0], Int32[3 58 428; 4 115 383; … ; 13 145 122; 14 202 2], true, Dict{String,Any}(\"objpos\" => Dict{String,Any}(\"x\" => 95.4978678632994,\"y\" => 108.32090312409579),\"x1\" => 122.12330363367839,\"y1\" => 2.8440086007392287,\"annopoints\" => Dict{String,Any}(\"point\" => Dict{String,Any}(\"x\" => Any[51.967037635859036 83.34972919517651 … 128.5678009043006 76.60076326844157],\"id\" => Any[6.0 7.0 … 14.0 15.0],\"is_visible\" => Any[false true … true true],\"y\" => Any[193.02042550461928 64.45262460031867 … 134.3044219420253 168.7241481683735])),\"x2\" => 223.98652002858984,\"y2\" => 122.29236983178684,\"scale\" => 5.926833893403796)), DataItem(6, \"/userfiles/gsoykan20/mpii_human_pose/cropped/im11981_1.png\", [3.0 512.0 512.0], Int32[1 317 459; 2 326 379; … ; 13 304 177; 14 254 119], true, Dict{String,Any}(\"objpos\" => Dict{String,Any}(\"x\" => 247.0179245849813,\"y\" => 259.9648499293282),\"x1\" => 244.5209333414287,\"y1\" => 114.4734164910937,\"annopoints\" => Dict{String,Any}(\"point\" => Dict{String,Any}(\"x\" => Any[265.8653762048575 244.41827608568803 … 152.13075436077645 130.68365424160692],\"id\" => Any[6.0 7.0 … 14.0 15.0],\"is_visible\" => Any[true false … true true],\"y\" => Any[276.8625651747345 165.0776797051234 … 212.52126481722578 176.12618582711983])),\"x2\" => 314.0152211519734,\"y2\" => 182.73085738019304,\"scale\" => 3.0773391103354206)), DataItem(7, \"/userfiles/gsoykan20/mpii_human_pose/cropped/im05029_1.png\", [3.0 512.0 512.0], Int32[1 232 383; 2 185 306; … ; 13 217 157; 14 219 91], true, Dict{String,Any}(\"head_r11\" => \"0.99729\",\"torso_r33\" => \"0.98526\",\"head_r32\" => \"-0.03759\",\"head_r33\" => \"0.99691\",\"scale\" => 2.3831407847628303,\"torso_r23\" => \"0.17108\",\"torso_r13\" => \"0.00031303\",\"torso_r32\" => \"-0.13473\",\"part_occ4\" => \"0\",\"torso_r31\" => \"-0.10544\"…)), DataItem(8, \"/userfiles/gsoykan20/mpii_human_pose/cropped/im05162_1.png\", [3.0 512.0 512.0], Int32[2 228 464; 3 232 342; … ; 13 222 178; 14 225 90], true, Dict{String,Any}(\"head_r11\" => \"0.40929\",\"torso_r33\" => \"0.98106\",\"head_r32\" => \"-0.13155\",\"head_r33\" => \"0.41508\",\"scale\" => 3.6773294657944366,\"torso_r23\" => \"0.085832\",\"torso_r13\" => \"0.17365\",\"torso_r32\" => \"-0.087156\",\"part_occ4\" => \"0\",\"torso_r31\" => \"-0.17299\"…)), DataItem(9, \"/userfiles/gsoykan20/mpii_human_pose/cropped/im02036_1.png\", [3.0 512.0 512.0], Int32[1 223 212; 2 274 261; … ; 13 230 279; 14 212 190], true, Dict{String,Any}(\"objpos\" => Dict{String,Any}(\"x\" => 218.2493399473899,\"y\" => 194.61005451881562),\"x1\" => 183.9477540082952,\"y1\" => 195.32645593341732,\"annopoints\" => Dict{String,Any}(\"point\" => Dict{String,Any}(\"x\" => Any[239.1142834285942 191.24764838347852 … 232.97753534588708 239.1142834285942],\"id\" => Any[6.0 7.0 … 14.0 15.0],\"is_visible\" => Any[false true … true true],\"y\" => Any[242.47668956393136 211.79294915039566 … 172.5177614210699 130.78787445866138])),\"x2\" => 256.7414826504646,\"y2\" => 274.08629821642404,\"scale\" => 1.6295275388897237)), DataItem(10, \"/userfiles/gsoykan20/mpii_human_pose/cropped/im11926_1.png\", [3.0 512.0 512.0], Int32[1 229 492; 2 306 383; … ; 13 230 262; 14 281 185], true, Dict{String,Any}(\"objpos\" => Dict{String,Any}(\"x\" => 218.8832226407954,\"y\" => 234.1574475292054),\"x1\" => 221.78919233604773,\"y1\" => 178.16733981150313,\"annopoints\" => Dict{String,Any}(\"point\" => Dict{String,Any}(\"x\" => Any[145.2235968216806 172.84595650384864 … 146.94999430181605 205.07204279971137],\"id\" => Any[6.0 7.0 … 14.0 15.0],\"is_visible\" => Any[false false … false false],\"y\" => Any[311.84533413530306 196.17670296622433 … 233.00651587578176 224.94999430181605])),\"x2\" => 289.7826925380698,\"y2\" => 268.51229872787513,\"scale\" => 3.4754452952103847))  …  DataItem(19176, \"/userfiles/gsoykan20/mpii_human_pose/cropped/im09825_1.png\", [3.0 512.0 512.0], Int32[1 218 464; 2 205 352; … ; 13 252 119; 14 250 -4], true, Dict{String,Any}(\"head_r11\" => \"0.98966\",\"torso_r33\" => \"1\",\"head_r32\" => \"0.0012174\",\"head_r33\" => \"0.99939\",\"scale\" => 5.2500788565506324,\"torso_r23\" => \"0\",\"torso_r13\" => \"0\",\"torso_r32\" => \"0\",\"torso_r31\" => \"0\",\"objpos\" => Dict{String,Any}(\"x\" => 181.99639518325935,\"y\" => 126.09334413596642)…)), DataItem(19177, \"/userfiles/gsoykan20/mpii_human_pose/cropped/im03017_1.png\", [3.0 512.0 512.0], Int32[3 236 362; 4 291 380; … ; 13 309 241; 14 309 172], true, Dict{String,Any}(\"objpos\" => Dict{String,Any}(\"x\" => 193.12229389878476,\"y\" => 278.2839018473383),\"x1\" => 275.1294623216519,\"y1\" => 173.5194234398118,\"annopoints\" => Dict{String,Any}(\"point\" => Dict{String,Any}(\"x\" => Any[212.32782588871916 248.60494186970635 … 220.86361788424554 98.16160794855358],\"id\" => Any[6.0 7.0 … 14.0 15.0],\"is_visible\" => Any[false false … true true],\"y\" => Any[362.5748478031615 250.54257786187753 … 316.6949658272071 331.63260181937835])),\"x2\" => 341.2663523028182,\"y2\" => 239.07430907914434,\"scale\" => 1.8744599222175968)), DataItem(19178, \"/userfiles/gsoykan20/mpii_human_pose/cropped/im23355_1.png\", [3.0 512.0 512.0], Int32[1 365 328; 2 281 315; … ; 13 194 182; 14 148 129], true, Dict{String,Any}(\"objpos\" => Dict{String,Any}(\"x\" => 226.97106380826744,\"y\" => 235.22758230175924),\"x1\" => 142.79878746018392,\"y1\" => 122.53545431788604,\"annopoints\" => Dict{String,Any}(\"point\" => Dict{String,Any}(\"x\" => Any[211.70061002328669 174.61522225976216 … 225.88031710934024 220.4265836147042],\"id\" => Any[6.0 7.0 … 14.0 15.0],\"is_visible\" => Any[false false … true true],\"y\" => Any[260.3147563770847 187.23472754896284 … 197.05144783930757 246.13504929103118])),\"x2\" => 199.3830720426365,\"y2\" => 188.3003196816504,\"scale\" => 1.8336062827117499)), DataItem(19179, \"/userfiles/gsoykan20/mpii_human_pose/cropped/im24939_1.png\", [3.0 512.0 512.0], Int32[1 182 395; 2 259 330; … ; 13 288 175; 14 321 118], true, Dict{String,Any}(\"objpos\" => Dict{String,Any}(\"x\" => 180.4508973939735,\"y\" => 269.19189602785974),\"x1\" => 269.8489756511934,\"y1\" => 116.79277307281914,\"annopoints\" => Dict{String,Any}(\"point\" => Dict{String,Any}(\"x\" => Any[161.16082561876215 199.74096916918484 … 214.20852300059323 238.32111271960753],\"id\" => Any[6.0 7.0 … 14.0 15.0],\"is_visible\" => Any[false false … false true],\"y\" => Any[303.9140252232401 214.21519146850756 … 260.5113637290147 297.1625001019161])),\"x2\" => 339.6287148508372,\"y2\" => 176.8879789853103,\"scale\" => 2.073605555548113)), DataItem(19180, \"/userfiles/gsoykan20/mpii_human_pose/cropped/im12766_2.png\", [3.0 512.0 512.0], Int32[1 133 376; 2 192 317; … ; 13 284 180; 14 317 122], true, Dict{String,Any}(\"objpos\" => Dict{String,Any}(\"x\" => 149.48701994680243,\"y\" => 304.3583815985577),\"x1\" => 262.72567748585374,\"y1\" => 122.38533972494754,\"annopoints\" => Dict{String,Any}(\"point\" => Dict{String,Any}(\"x\" => Any[131.67525744982504 202.92230743773467 … 231.42112743289852 239.73328326482135],\"id\" => Any[6.0 7.0 … 14.0 15.0],\"is_visible\" => Any[false true … true true],\"y\" => Any[265.1725041052074 198.67525744982504 … 277.0470124365256 329.294849094326])),\"x2\" => 338.3117388348287,\"y2\" => 181.18582431031768,\"scale\" => 1.6842802617141839)), DataItem(19181, \"/userfiles/gsoykan20/mpii_human_pose/cropped/im12394_2.png\", [3.0 512.0 512.0], Int32[1 174 412; 2 214 346; … ; 13 287 167; 14 331 112], true, Dict{String,Any}(\"objpos\" => Dict{String,Any}(\"x\" => 174.6417292060803,\"y\" => 289.00681640532815),\"x1\" => 275.6963105505829,\"y1\" => 107.92184105757082,\"annopoints\" => Dict{String,Any}(\"point\" => Dict{String,Any}(\"x\" => Any[176.15882535518966 201.94945989004827 … 237.60121939411772 235.3255751704537],\"id\" => Any[6.0 7.0 … 14.0 15.0],\"is_visible\" => Any[true true … true true],\"y\" => Any[301.14358559820283 185.08573019133877 … 238.18409541016547 279.1456914361175])),\"x2\" => 342.18469954129574,\"y2\" => 171.82293115744824,\"scale\" => 2.6366160129984797)), DataItem(19182, \"/userfiles/gsoykan20/mpii_human_pose/cropped/im15667_1.png\", [3.0 512.0 512.0], Int32[1 62 386; 2 89 298; … ; 13 185 191; 14 197 127], true, Dict{String,Any}(\"objpos\" => Dict{String,Any}(\"x\" => 81.1007664570875,\"y\" => 257.4531415522369),\"x1\" => 147.10593809099146,\"y1\" => 126.90810675999295,\"annopoints\" => Dict{String,Any}(\"point\" => Dict{String,Any}(\"x\" => Any[103.53251639365465 109.94158780410237 … 169.22549835074392 169.22549835074392],\"id\" => Any[6.0 7.0 … 14.0 15.0],\"is_visible\" => Any[false true … true true],\"y\" => Any[252.6463379944011 180.5442846268641 … 194.9646953003715 239.82819517350566])),\"x2\" => 234.90378519222244,\"y2\" => 190.61039419261618,\"scale\" => 1.248230747898801)), DataItem(19183, \"/userfiles/gsoykan20/mpii_human_pose/cropped/im18784_1.png\", [3.0 512.0 512.0], Int32[1 272 355; 2 276 388; … ; 13 168 214; 14 118 173], true, Dict{String,Any}(\"objpos\" => Dict{String,Any}(\"x\" => 214.08320992888417,\"y\" => 237.0989076128208),\"x1\" => 118.9221754444754,\"y1\" => 160.48947072780325,\"annopoints\" => Dict{String,Any}(\"point\" => Dict{String,Any}(\"x\" => Any[304.7080161050532 187.30769901319786 … 138.90581389638032 131.69702249600323],\"id\" => Any[6.0 7.0 … 14.0 15.0],\"is_visible\" => Any[true true … true false],\"y\" => Any[251.51649041357496 205.17425998257943 … 131.02669129298658 179.42857640980412])),\"x2\" => 167.27865224830515,\"y2\" => 227.61645287866588,\"scale\" => 1.9420731191178149)), DataItem(19184, \"/userfiles/gsoykan20/mpii_human_pose/cropped/im18891_1.png\", [3.0 512.0 512.0], Int32[1 240 391; 2 159 280; … ; 13 150 157; 14 198 99], true, Dict{String,Any}(\"objpos\" => Dict{String,Any}(\"x\" => 138.33734362969022,\"y\" => 223.72430619140206),\"x1\" => 139.9438876889703,\"y1\" => 93.82705984637717,\"annopoints\" => Dict{String,Any}(\"point\" => Dict{String,Any}(\"x\" => Any[91.86321239186276 94.0247998912966 … 130.7717873816718 148.06448737714248],\"id\" => Any[6.0 7.0 … 14.0 15.0],\"is_visible\" => Any[false true … false false],\"y\" => Any[252.90573743375887 172.9269999547069 … 218.32033744281748 229.12827493998665])),\"x2\" => 209.11468741317174,\"y2\" => 162.06492155283325,\"scale\" => 1.8504918265153185)), DataItem(19185, \"/userfiles/gsoykan20/mpii_human_pose/cropped/im00102_2.png\", [3.0 512.0 512.0], Int32[1 306 387; 2 311 311; … ; 13 273 178; 14 328 126], true, Dict{String,Any}(\"objpos\" => Dict{String,Any}(\"x\" => 218.95598328008884,\"y\" => 260.74650533851616),\"x1\" => 256.8952053563123,\"y1\" => 124.98930837502357,\"annopoints\" => Dict{String,Any}(\"point\" => Dict{String,Any}(\"x\" => Any[157.22939705169125 191.68144517916897 … 175.89092312074172 190.24594317385743],\"id\" => Any[6.0 7.0 … 14.0 15.0],\"is_visible\" => Any[true true … false false],\"y\" => Any[250.69799130133515 186.1004010623144 … 229.1654612216616 262.1820073438277])),\"x2\" => 344.1991096945197,\"y2\" => 178.76811525824496,\"scale\" => 1.3932408262751992))])"
      ]
     },
     "execution_count": 11,
     "metadata": {},
     "output_type": "execute_result"
    }
   ],
   "source": [
    "#dtrn_single, dtst_single, data_items_single = get_mpii_single_person_batches_and_data_items()"
   ]
  },
  {
   "cell_type": "code",
   "execution_count": 19,
   "metadata": {
    "collapsed": true,
    "jupyter": {
     "outputs_hidden": true
    }
   },
   "outputs": [
    {
     "ename": "LoadError",
     "evalue": "BoundsError: attempt to access 1000-element Array{Any,1} at index [17186:19185]",
     "output_type": "error",
     "traceback": [
      "BoundsError: attempt to access 1000-element Array{Any,1} at index [17186:19185]",
      "",
      "Stacktrace:",
      " [1] throw_boundserror(::Array{Any,1}, ::Tuple{UnitRange{Int64}}) at ./abstractarray.jl:541",
      " [2] checkbounds at ./abstractarray.jl:506 [inlined]",
      " [3] getindex(::Array{Any,1}, ::UnitRange{Int64}) at ./array.jl:815",
      " [4] top-level scope at In[19]:2",
      " [5] include_string(::Function, ::Module, ::String, ::String) at ./loading.jl:1091"
     ]
    }
   ],
   "source": [
    "train_data_items_single = data_items_single[begin : train_count];\n",
    "test_data_items_single = data_items_single[end - test_count + 1 : end];"
   ]
  },
  {
   "cell_type": "code",
   "execution_count": null,
   "metadata": {},
   "outputs": [],
   "source": [
    "mirrored_data_items_single[end - test_count * 2 + 1 : end];"
   ]
  },
  {
   "cell_type": "code",
   "execution_count": null,
   "metadata": {},
   "outputs": [],
   "source": [
    "mirror_data_items_for_batch(test_data_items_single)"
   ]
  },
  {
   "cell_type": "code",
   "execution_count": 50,
   "metadata": {},
   "outputs": [],
   "source": [
    "# deeper_cut_without_loc_ref = generate_deeper_cut();"
   ]
  },
  {
   "cell_type": "code",
   "execution_count": 17,
   "metadata": {},
   "outputs": [],
   "source": [
    "# deeper_cut_with_loc_ref = generate_deeper_cut(;should_use_resnet50 = false, is_loc_ref_enabled = true, connect_res3_to_res5 = false);"
   ]
  },
  {
   "cell_type": "code",
   "execution_count": 755,
   "metadata": {},
   "outputs": [],
   "source": [
    "#  TODO: check resnet implementation for its regularizations"
   ]
  },
  {
   "cell_type": "code",
   "execution_count": 85,
   "metadata": {
    "collapsed": true,
    "jupyter": {
     "outputs_hidden": true
    }
   },
   "outputs": [
    {
     "data": {
      "text/plain": [
       "42×32×70 KnetArray{Float32,3}:\n",
       "[:, :, 1] =\n",
       "  -6.09921   -9.3223    -8.8842   …   -9.09595   -9.67387   -4.82657\n",
       " -11.4527   -14.8357   -16.1672      -11.1247   -11.4574    -5.6083\n",
       "  -9.80898  -14.2781   -13.2516      -12.1008   -13.0566    -6.88518\n",
       " -10.0089   -13.4007   -13.7688       -9.6192    -8.32571   -5.97391\n",
       " -10.5209   -11.9823   -11.6001      -11.4814   -11.2385    -6.47383\n",
       " -10.1331   -10.9741   -12.7045   …  -10.6183    -9.15381   -6.95996\n",
       "  -9.86703   -9.77877  -10.2117      -10.5095    -9.63309   -6.26552\n",
       "  -8.4885    -9.29945  -10.3532      -10.5821    -8.97387   -6.88261\n",
       "  -8.93376   -8.80106   -8.30916     -11.8307   -10.0571    -7.34485\n",
       "  -7.4411    -8.67858   -8.15177     -11.917    -10.0396    -7.0977\n",
       "  -8.05592   -7.92648   -6.97159  …  -12.1526   -10.1658    -7.77932\n",
       "  -7.02697   -9.06005   -7.5411      -10.9678   -10.7832    -7.56393\n",
       "  -7.65885   -8.27959   -7.32216     -11.6171    -9.97953   -8.12344\n",
       "   ⋮                              ⋱               ⋮        \n",
       "  -8.54988   -9.09781   -9.25591  …  -13.3148   -10.9992    -8.32029\n",
       "  -7.7649   -10.7694    -8.45259     -13.6956   -13.7608    -9.18223\n",
       "  -8.60771   -9.08155   -8.60917     -14.8304   -12.2215    -9.69395\n",
       "  -8.04136  -10.1838    -8.85158     -14.6522   -13.2549    -9.48028\n",
       "  -8.98624   -9.29608   -8.29473     -14.4314   -13.0534   -10.2643\n",
       "  -7.75794  -10.2108    -8.60352  …  -12.6643   -12.1325    -8.0463\n",
       "  -8.39775   -9.40145   -7.37754     -14.2154   -11.6496   -10.046\n",
       "  -7.35539   -9.60433   -8.20072     -10.5279   -10.2016    -7.28282\n",
       "  -8.09828   -9.04684   -7.39295     -13.0387    -9.42298   -8.99469\n",
       "  -7.72037   -9.95305   -7.91042     -10.2232    -8.51757   -6.79668\n",
       "  -8.44869   -9.5205    -8.01369  …  -11.6714    -9.09941   -8.0859\n",
       "  -4.72977   -7.13709   -5.63631      -8.36671   -7.07404   -5.27193\n",
       "\n",
       "[:, :, 2] =\n",
       "  -5.95866   -8.89883   -8.63951  …   -9.97126   -9.02007   -4.92378\n",
       " -10.1274   -13.7898   -14.5027      -11.2833   -11.9199    -5.67113\n",
       "  -9.36372  -13.9245   -13.5887      -12.3078   -13.5781    -7.55793\n",
       "  -8.20022  -12.2784   -12.4385      -10.1481    -9.14552   -5.42155\n",
       "  -8.39675  -12.1781   -12.622        -9.81233  -10.6039    -7.33524\n",
       "  -7.38588  -10.1678   -10.9455   …   -9.49441   -9.12544   -4.53328\n",
       "  -7.68429  -11.6212    -9.73792     -10.3536    -8.39164   -6.84284\n",
       "  -7.10638   -8.60829  -10.3589      -10.3683    -9.03601   -4.96141\n",
       "  -6.86754   -9.30176   -8.58992     -10.1177    -7.63727   -6.24506\n",
       "  -7.16765   -8.43012   -9.57181     -11.1684    -9.88805   -5.46751\n",
       "  -6.68125   -8.63118   -7.51781  …   -9.89777   -8.61365   -5.77151\n",
       "  -7.24849   -8.80952   -9.29895     -11.6625   -10.1296    -5.94046\n",
       "  -6.70389   -8.60263   -7.27685      -9.97537   -9.47106   -6.36779\n",
       "   ⋮                              ⋱               ⋮        \n",
       "  -7.62016   -9.09992   -8.55206  …  -11.1839   -11.7057    -5.70477\n",
       "  -7.93746  -10.5186   -11.4848      -16.7259   -15.0896   -10.3268\n",
       "  -7.66591   -9.39821   -8.00924     -14.2124   -13.7869    -7.31432\n",
       "  -7.61433  -10.1532   -11.5882      -15.7073   -15.3256   -10.8561\n",
       "  -7.62942   -9.54279   -8.47741     -14.6301   -14.0478    -7.93369\n",
       "  -7.38669  -10.2697   -11.1516   …  -12.3605   -13.4028   -10.2278\n",
       "  -7.21528   -8.93754   -7.93401     -13.7887   -11.0407    -7.22673\n",
       "  -6.48402   -9.03926  -10.3488       -9.73763  -11.1074    -8.22571\n",
       "  -7.15883   -8.90788   -8.75924     -11.1045    -9.74112   -7.07954\n",
       "  -7.41163   -8.98904  -10.296        -9.22831   -9.70765   -8.11255\n",
       "  -7.78439   -9.65666   -9.4051   …  -11.7113    -8.15      -6.92467\n",
       "  -4.36525   -6.71448   -6.52392      -6.71423   -8.37568   -4.76839\n",
       "\n",
       "[:, :, 3] =\n",
       "  -5.92813  -10.5896   -10.0908   …   -9.44682   -9.76327  -4.81646\n",
       " -10.1654   -15.4347   -12.1665      -11.7867   -12.017    -8.01147\n",
       "  -9.49442  -15.2665   -16.0253      -13.3639   -13.4029   -7.50405\n",
       "  -8.36458  -12.7949   -11.7192      -10.2518   -10.0559   -6.63064\n",
       "  -8.53074  -11.1717   -12.2463      -12.2548   -10.3932   -7.66053\n",
       "  -7.60975   -9.38374   -9.12585  …   -9.62558   -8.65233  -6.07211\n",
       "  -7.82198   -8.32486  -10.4468      -10.4019    -9.12138  -7.50082\n",
       "  -7.66349   -7.34347   -7.3095      -10.492     -9.97489  -5.63918\n",
       "  -7.30008   -6.53834   -9.21235     -10.7054    -9.41991  -6.63842\n",
       "  -7.25219   -6.4278    -5.86153      -9.96679  -10.1874   -5.47688\n",
       "  -6.87147   -7.14811   -7.92656  …  -11.6112    -7.73139  -6.99919\n",
       "  -7.39599   -6.9083    -6.31347     -10.2445   -11.0968   -5.52136\n",
       "  -6.94642   -7.75156   -7.78781     -13.6624    -9.0663   -7.1463\n",
       "   ⋮                              ⋱               ⋮        \n",
       "  -7.77317  -10.0705    -9.02948  …  -13.5312   -12.6507   -7.27053\n",
       "  -8.45765   -8.28333   -8.59055     -14.4876   -12.5286   -8.13092\n",
       "  -7.59304   -9.9293    -8.50831     -14.2946   -14.0354   -8.51981\n",
       "  -8.2676    -8.34352   -8.37564     -15.9909   -13.6504   -9.28165\n",
       "  -7.20471   -9.58719   -8.48291     -15.0672   -13.6178   -9.04891\n",
       "  -7.42273   -7.44231   -8.19014  …  -12.7881   -10.8904   -7.56683\n",
       "  -6.93446   -9.55686   -8.25292     -12.7307   -12.4788   -9.63264\n",
       "  -7.0677    -6.75907   -8.03735     -11.8854   -10.782    -7.07062\n",
       "  -6.19256   -7.34753   -7.61013     -12.0104   -10.4827   -8.9226\n",
       "  -7.23368   -5.93441   -7.58739     -10.3255    -8.11071  -6.26881\n",
       "  -6.43296   -8.67898   -8.76358  …  -10.903    -10.0587   -8.26432\n",
       "  -4.67897   -5.70379   -6.14938      -7.76094   -6.69654  -4.69162\n",
       "\n",
       "...\n",
       "\n",
       "[:, :, 68] =\n",
       " -2.65193   -8.04973   -4.46573   -6.23482  …   -5.43612   -4.70072  -3.45518\n",
       " -6.67945   -9.01002  -12.9204    -8.41148      -7.20249   -8.98379  -3.88627\n",
       " -5.0606   -11.6036    -6.46445  -10.2784       -8.67724   -6.72378  -5.84521\n",
       " -5.91219   -8.82785  -10.7107    -7.94276      -7.28725   -6.10026  -3.85852\n",
       " -4.5458    -8.53469   -6.64403   -6.65936      -6.34252   -5.61536  -4.90968\n",
       " -4.69649   -7.53842   -8.09711   -6.43102  …   -7.71549   -6.68121  -3.92607\n",
       " -4.35288   -5.83586   -6.62759   -4.47592      -5.02366   -5.87233  -4.22078\n",
       " -3.81809   -6.62962   -6.83361   -6.21625      -8.24266   -6.67147  -4.02951\n",
       " -4.53815   -4.77764   -6.5547    -4.29491      -5.92084   -5.95381  -4.10724\n",
       " -3.60298   -6.05979   -5.14609   -5.75521      -7.93574   -7.5321   -4.59605\n",
       " -4.16518   -4.98883   -6.91773   -4.20458  …   -5.3633    -6.32688  -4.0664\n",
       " -3.39242   -6.21768   -5.2886    -6.18748      -7.78409   -7.48384  -3.96244\n",
       " -3.9972    -5.12708   -6.96061   -4.47685      -5.75607   -6.68785  -3.99153\n",
       "  ⋮                                         ⋱               ⋮        \n",
       " -3.60759   -6.32257   -6.77761   -6.10642  …   -8.27494   -9.32398  -3.90714\n",
       " -4.31028   -8.0578    -7.75296   -8.26296     -10.8164   -12.6458   -5.65533\n",
       " -3.55424   -6.4429    -6.78531   -6.1003       -8.09814   -8.98009  -3.71026\n",
       " -4.28766   -7.69761   -7.80927   -8.11341     -11.6406   -12.2528   -6.65042\n",
       " -3.76742   -6.16135   -6.69646   -6.06536      -7.63097   -9.65694  -5.03548\n",
       " -4.38682   -6.78621   -7.35264   -7.15853  …  -10.8429   -10.6153   -6.48413\n",
       " -4.03754   -6.18765   -6.9295    -5.72287      -8.01502   -7.95662  -4.67843\n",
       " -4.32421   -7.10114   -7.01384   -6.4072       -9.01513   -8.08703  -6.30981\n",
       " -4.00777   -5.87241   -7.0186    -5.07811      -6.17513   -6.12121  -4.96128\n",
       " -4.72575   -7.00921   -7.29567   -5.81618      -8.5721    -7.4565   -5.75718\n",
       " -4.4364    -7.01357   -7.46556   -5.28886  …   -6.06793   -6.34243  -4.17893\n",
       " -3.46215   -4.97533   -4.35912   -3.80267      -4.61393   -3.60577  -4.06535\n",
       "\n",
       "[:, :, 69] =\n",
       " -3.88329  -6.09591   -8.44244  -5.89167  …   -3.90802   -5.73584  -2.04668\n",
       " -5.78159  -7.97862  -10.3556   -7.86632      -8.10871   -4.77965  -4.52986\n",
       " -5.50391  -8.05596  -10.2757   -6.35586      -5.9582    -8.46843  -1.89627\n",
       " -5.57478  -7.68183   -9.69268  -7.20102      -5.90081   -5.56365  -3.73863\n",
       " -4.15889  -7.30233   -8.43396  -5.64705      -5.35543   -5.84554  -2.46238\n",
       " -4.91894  -6.56942   -7.88803  -5.7517   …   -5.98424   -6.21963  -3.45173\n",
       " -3.47438  -7.26799   -6.86327  -6.06281      -6.17247   -6.44435  -3.56535\n",
       " -4.02585  -6.66914   -5.64415  -5.65036      -6.0851    -7.61606  -3.28197\n",
       " -3.12844  -6.24855   -5.82331  -4.98647      -6.89165   -6.17939  -3.85629\n",
       " -3.15422  -6.07688   -4.81485  -5.8801       -6.21196   -7.72748  -3.44568\n",
       " -3.16704  -5.8725    -5.40364  -4.52742  …   -6.67808   -5.30613  -4.12099\n",
       " -2.77414  -6.42505   -4.70078  -6.87453      -6.19268   -8.80918  -3.41665\n",
       " -3.23738  -5.71859   -5.44526  -4.82728      -6.10624   -6.49508  -4.038\n",
       "  ⋮                                       ⋱               ⋮        \n",
       " -3.88977  -6.16849   -7.47439  -6.12351  …   -9.99851   -9.63711  -4.54961\n",
       " -2.76403  -6.90748   -5.22888  -7.853        -9.8528   -10.8988   -3.51532\n",
       " -3.87081  -6.50639   -7.15842  -6.52122     -12.1517   -11.7832   -6.31925\n",
       " -2.84175  -6.29045   -5.09296  -7.3318       -8.1993   -11.0803   -5.62862\n",
       " -4.09103  -5.87819   -6.97062  -6.73746     -11.8766   -11.3994   -6.37591\n",
       " -2.79937  -6.59929   -5.09719  -7.94899  …   -8.84512   -9.64957  -5.84398\n",
       " -4.06322  -7.18222   -6.33676  -6.86983      -8.18093   -8.40628  -5.80984\n",
       " -3.15832  -5.81729   -5.27037  -6.69006      -7.48527   -8.6368   -5.88964\n",
       " -3.8628   -5.46164   -5.8841   -5.87042      -7.64872   -6.03129  -5.29683\n",
       " -3.95725  -6.34204   -5.40118  -7.18101      -7.21608   -8.08567  -4.3543\n",
       " -3.49065  -6.81714   -7.31546  -5.83175  …   -7.72116   -5.62372  -4.84684\n",
       " -1.94811  -4.44314   -3.49373  -5.43658      -5.5521    -4.35859  -2.73569\n",
       "\n",
       "[:, :, 70] =\n",
       " -3.02569  -5.51255  -4.76296  -5.12131  …   -5.39043   -5.23692  -2.99998\n",
       " -5.52448  -9.18314  -8.12301  -9.39027      -5.69837   -6.69871  -4.90293\n",
       " -4.8425   -9.66702  -8.57904  -7.93313      -7.1296    -5.41579  -4.78544\n",
       " -5.32024  -6.97634  -8.48435  -6.07026      -5.36326   -5.15015  -4.86677\n",
       " -3.64674  -7.6638   -6.0978   -5.277        -6.75035   -4.43799  -5.92473\n",
       " -5.26266  -5.83512  -7.82136  -5.74371  …   -7.58563   -5.04235  -5.15662\n",
       " -3.43195  -5.92786  -5.08414  -4.55664      -5.93974   -4.79629  -5.15553\n",
       " -5.38204  -4.64391  -6.82727  -4.03187      -8.69991   -5.62579  -4.28471\n",
       " -3.17678  -5.88322  -5.10084  -4.48898      -6.30968   -6.53335  -5.19125\n",
       " -4.98329  -4.63312  -5.54278  -4.38565      -8.00096   -6.87047  -4.81591\n",
       " -3.34711  -5.6653   -5.44574  -4.68012  …   -6.37718   -7.32864  -4.7797\n",
       " -4.53969  -5.18731  -5.29091  -5.64219      -8.37545   -7.30812  -5.36537\n",
       " -3.34024  -5.50837  -5.43819  -4.88794      -7.26261   -7.48226  -5.0928\n",
       "  ⋮                                      ⋱               ⋮        \n",
       " -3.66606  -6.81506  -5.40863  -5.98454  …  -11.6296   -10.3046   -6.23895\n",
       " -4.1948   -6.4006   -6.04448  -7.3243      -10.2713   -10.7673   -4.52912\n",
       " -3.89019  -6.87537  -5.48784  -6.07577     -11.3138   -12.805    -5.77596\n",
       " -4.36984  -6.33842  -6.24057  -7.37624      -9.12484  -10.0604   -4.39819\n",
       " -4.04401  -6.62152  -5.25692  -5.80289     -11.5017   -12.1409   -6.10525\n",
       " -4.35063  -6.30391  -6.11117  -7.27674  …   -7.9209    -9.70045  -3.51008\n",
       " -3.8214   -6.41838  -5.25776  -5.11634      -9.90791  -10.0517   -5.25439\n",
       " -4.00346  -5.03225  -5.95366  -6.70928      -6.67527   -8.70802  -3.1862\n",
       " -3.78015  -5.24306  -4.93345  -5.13241      -8.32888   -8.19788  -3.91112\n",
       " -4.59682  -5.74125  -7.14044  -5.97011      -6.98373   -7.34377  -3.21518\n",
       " -4.25463  -6.40677  -4.95802  -5.3302   …   -8.23963   -7.18753  -3.45068\n",
       " -3.21836  -2.95888  -3.41776  -3.33251      -3.69134   -3.65369  -1.28121"
      ]
     },
     "execution_count": 85,
     "metadata": {},
     "output_type": "execute_result"
    }
   ],
   "source": [
    "deeper_cut_with_loc_ref((dtrn_single |> first)[1])[:, :, :, 1];"
   ]
  },
  {
   "cell_type": "code",
   "execution_count": 56,
   "metadata": {},
   "outputs": [],
   "source": [
    "#model_end_results(deeper_cut_with_loc_ref, dtrn, dval; \n",
    "#    train_data_items=nothing,\n",
    "#    validation_data_items=val_data_items)"
   ]
  },
  {
   "cell_type": "code",
   "execution_count": 14,
   "metadata": {},
   "outputs": [
    {
     "name": "stderr",
     "output_type": "stream",
     "text": [
      "┣████████████████████┫ [100.00%, 1280/1280, 43:11/43:11, 2.02s/i] \n"
     ]
    }
   ],
   "source": [
    "deeper_cut_without_loc_ref_results = trainresults(\"resnet_with_deconv.jld2\",\n",
    "    deeper_cut_without_loc_ref,\n",
    "    dtrn_2k,\n",
    "    dval_2k, [(0.05, 20)]; \n",
    "    accuracy_func=nothing,\n",
    "    error_func=nothing,\n",
    "    secondary_accuracy_func=modelized_PCKh_sigm,\n",
    "        data_items_trn=trn_data_items,\n",
    "        data_items_val=val_data_items\n",
    "    );"
   ]
  },
  {
   "cell_type": "code",
   "execution_count": 11,
   "metadata": {
    "collapsed": true,
    "jupyter": {
     "outputs_hidden": true
    }
   },
   "outputs": [
    {
     "data": {
      "text/plain": [
       "Chain((ResLayerX1(ResLayerX0(BatchNormLayer(K32(128)[0.17125425⋯], Knet.Ops20.BNMoments(0.1f0, K32(1,1,64,1)[1.8934295e-6⋯], K32(1,1,64,1)[2.273289e-10⋯], zeros, ones)), P(KnetArray{Float32,4}(7,7,3,64)), 3, 2, 1), true), ResLayerX5(ResLayerX3(ResLayerX0(BatchNormLayer(K32(512)[1.0431781⋯], Knet.Ops20.BNMoments(0.1f0, K32(1,1,256,1)[-0.78023756⋯], K32(1,1,256,1)[0.678883⋯], zeros, ones)), P(KnetArray{Float32,4}(1,1,64,256)), 0, 1, 1), ResLayerX2(ResLayerX1(ResLayerX0(BatchNormLayer(K32(128)[1.3838099⋯], Knet.Ops20.BNMoments(0.1f0, K32(1,1,64,1)[-2.512886⋯], K32(1,1,64,1)[1.3937426⋯], zeros, ones)), P(KnetArray{Float32,4}(1,1,64,64)), 0, 1, 1), false), ResLayerX1(ResLayerX0(BatchNormLayer(K32(128)[0.60685426⋯], Knet.Ops20.BNMoments(0.1f0, K32(1,1,64,1)[-0.8316415⋯], K32(1,1,64,1)[1.0876805⋯], zeros, ones)), P(KnetArray{Float32,4}(3,3,64,64)), 1, 1, 1), false), ResLayerX0(BatchNormLayer(K32(512)[0.41607735⋯], Knet.Ops20.BNMoments(0.1f0, K32(1,1,256,1)[-0.17786448⋯], K32(1,1,256,1)[0.07335019⋯], zeros, ones)), P(KnetArray{Float32,4}(1,1,64,256)), 0, 1, 1))), Any[ResLayerX4(ResLayerX2(ResLayerX1(ResLayerX0(BatchNormLayer(K32(128)[0.8309465⋯], Knet.Ops20.BNMoments(0.1f0, K32(1,1,64,1)[-0.1345096⋯], K32(1,1,64,1)[1.0617871⋯], zeros, ones)), P(KnetArray{Float32,4}(1,1,256,64)), 0, 1, 1), false), ResLayerX1(ResLayerX0(BatchNormLayer(K32(128)[0.5293211⋯], Knet.Ops20.BNMoments(0.1f0, K32(1,1,64,1)[-0.42242286⋯], K32(1,1,64,1)[0.32516882⋯], zeros, ones)), P(KnetArray{Float32,4}(3,3,64,64)), 1, 1, 1), false), ResLayerX0(BatchNormLayer(K32(512)[0.07182244⋯], Knet.Ops20.BNMoments(0.1f0, K32(1,1,256,1)[0.20139745⋯], K32(1,1,256,1)[0.007859596⋯], zeros, ones)), P(KnetArray{Float32,4}(1,1,64,256)), 0, 1, 1))), ResLayerX4(ResLayerX2(ResLayerX1(ResLayerX0(BatchNormLayer(K32(128)[1.1404307⋯], Knet.Ops20.BNMoments(0.1f0, K32(1,1,64,1)[-1.397286⋯], K32(1,1,64,1)[0.5456925⋯], zeros, ones)), P(KnetArray{Float32,4}(1,1,256,64)), 0, 1, 1), false), ResLayerX1(ResLayerX0(BatchNormLayer(K32(128)[0.99143654⋯], Knet.Ops20.BNMoments(0.1f0, K32(1,1,64,1)[0.07050658⋯], K32(1,1,64,1)[0.4720138⋯], zeros, ones)), P(KnetArray{Float32,4}(3,3,64,64)), 1, 1, 1), false), ResLayerX0(BatchNormLayer(K32(512)[-0.0022369116⋯], Knet.Ops20.BNMoments(0.1f0, K32(1,1,256,1)[-0.019490149⋯], K32(1,1,256,1)[0.00076697784⋯], zeros, ones)), P(KnetArray{Float32,4}(1,1,64,256)), 0, 1, 1)))], false, nothing, nothing, nothing), ResLayerX5(ResLayerX3(ResLayerX0(BatchNormLayer(K32(1024)[0.13953286⋯], Knet.Ops20.BNMoments(0.1f0, K32(1,1,512,1)[-0.15272635⋯], K32(1,1,512,1)[0.099130586⋯], zeros, ones)), P(KnetArray{Float32,4}(1,1,256,512)), 0, 2, 1), ResLayerX2(ResLayerX1(ResLayerX0(BatchNormLayer(K32(256)[0.6188775⋯], Knet.Ops20.BNMoments(0.1f0, K32(1,1,128,1)[0.22229864⋯], K32(1,1,128,1)[0.23529078⋯], zeros, ones)), P(KnetArray{Float32,4}(1,1,256,128)), 0, 2, 1), false), ResLayerX1(ResLayerX0(BatchNormLayer(K32(256)[0.6105543⋯], Knet.Ops20.BNMoments(0.1f0, K32(1,1,128,1)[-0.0026337018⋯], K32(1,1,128,1)[0.3988327⋯], zeros, ones)), P(KnetArray{Float32,4}(3,3,128,128)), 1, 1, 1), false), ResLayerX0(BatchNormLayer(K32(1024)[3.5373254⋯], Knet.Ops20.BNMoments(0.1f0, K32(1,1,512,1)[-0.48288172⋯], K32(1,1,512,1)[0.7018571⋯], zeros, ones)), P(KnetArray{Float32,4}(1,1,128,512)), 0, 1, 1))), Any[ResLayerX4(ResLayerX2(ResLayerX1(ResLayerX0(BatchNormLayer(K32(256)[0.56359804⋯], Knet.Ops20.BNMoments(0.1f0, K32(1,1,128,1)[-0.5315224⋯], K32(1,1,128,1)[0.26543012⋯], zeros, ones)), P(KnetArray{Float32,4}(1,1,512,128)), 0, 1, 1), false), ResLayerX1(ResLayerX0(BatchNormLayer(K32(256)[0.7005138⋯], Knet.Ops20.BNMoments(0.1f0, K32(1,1,128,1)[-0.09721061⋯], K32(1,1,128,1)[0.074880674⋯], zeros, ones)), P(KnetArray{Float32,4}(3,3,128,128)), 1, 1, 1), false), ResLayerX0(BatchNormLayer(K32(1024)[0.016115788⋯], Knet.Ops20.BNMoments(0.1f0, K32(1,1,512,1)[0.020794475⋯], K32(1,1,512,1)[0.0012082928⋯], zeros, ones)), P(KnetArray{Float32,4}(1,1,128,512)), 0, 1, 1))), ResLayerX4(ResLayerX2(ResLayerX1(ResLayerX0(BatchNormLayer(K32(256)[1.1890522⋯], Knet.Ops20.BNMoments(0.1f0, K32(1,1,128,1)[-0.7308036⋯], K32(1,1,128,1)[2.415888⋯], zeros, ones)), P(KnetArray{Float32,4}(1,1,512,128)), 0, 1, 1), false), ResLayerX1(ResLayerX0(BatchNormLayer(K32(256)[0.71511155⋯], Knet.Ops20.BNMoments(0.1f0, K32(1,1,128,1)[0.4738664⋯], K32(1,1,128,1)[0.23494287⋯], zeros, ones)), P(KnetArray{Float32,4}(3,3,128,128)), 1, 1, 1), false), ResLayerX0(BatchNormLayer(K32(1024)[0.030476352⋯], Knet.Ops20.BNMoments(0.1f0, K32(1,1,512,1)[0.002361531⋯], K32(1,1,512,1)[0.0021012304⋯], zeros, ones)), P(KnetArray{Float32,4}(1,1,128,512)), 0, 1, 1))), ResLayerX4(ResLayerX2(ResLayerX1(ResLayerX0(BatchNormLayer(K32(256)[0.9669935⋯], Knet.Ops20.BNMoments(0.1f0, K32(1,1,128,1)[3.1791468⋯], K32(1,1,128,1)[1.1583811⋯], zeros, ones)), P(KnetArray{Float32,4}(1,1,512,128)), 0, 1, 1), false), ResLayerX1(ResLayerX0(BatchNormLayer(K32(256)[0.8333711⋯], Knet.Ops20.BNMoments(0.1f0, K32(1,1,128,1)[1.0052108⋯], K32(1,1,128,1)[0.52202225⋯], zeros, ones)), P(KnetArray{Float32,4}(3,3,128,128)), 1, 1, 1), false), ResLayerX0(BatchNormLayer(K32(1024)[0.22570835⋯], Knet.Ops20.BNMoments(0.1f0, K32(1,1,512,1)[0.0046768948⋯], K32(1,1,512,1)[0.009853633⋯], zeros, ones)), P(KnetArray{Float32,4}(1,1,128,512)), 0, 1, 1))), ResLayerX4(ResLayerX2(ResLayerX1(ResLayerX0(BatchNormLayer(K32(256)[0.73259145⋯], Knet.Ops20.BNMoments(0.1f0, K32(1,1,128,1)[1.6027555⋯], K32(1,1,128,1)[0.5158253⋯], zeros, ones)), P(KnetArray{Float32,4}(1,1,512,128)), 0, 1, 1), false), ResLayerX1(ResLayerX0(BatchNormLayer(K32(256)[0.9327405⋯], Knet.Ops20.BNMoments(0.1f0, K32(1,1,128,1)[0.35920236⋯], K32(1,1,128,1)[0.23684041⋯], zeros, ones)), P(KnetArray{Float32,4}(3,3,128,128)), 1, 1, 1), false), ResLayerX0(BatchNormLayer(K32(1024)[0.5926833⋯], Knet.Ops20.BNMoments(0.1f0, K32(1,1,512,1)[-0.04156772⋯], K32(1,1,512,1)[0.021973118⋯], zeros, ones)), P(KnetArray{Float32,4}(1,1,128,512)), 0, 1, 1))), ResLayerX4(ResLayerX2(ResLayerX1(ResLayerX0(BatchNormLayer(K32(256)[0.9693⋯], Knet.Ops20.BNMoments(0.1f0, K32(1,1,128,1)[0.9053383⋯], K32(1,1,128,1)[1.5899342⋯], zeros, ones)), P(KnetArray{Float32,4}(1,1,512,128)), 0, 1, 1), false), ResLayerX1(ResLayerX0(BatchNormLayer(K32(256)[0.7809257⋯], Knet.Ops20.BNMoments(0.1f0, K32(1,1,128,1)[-0.07630751⋯], K32(1,1,128,1)[0.25681433⋯], zeros, ones)), P(KnetArray{Float32,4}(3,3,128,128)), 1, 1, 1), false), ResLayerX0(BatchNormLayer(K32(1024)[0.17876975⋯], Knet.Ops20.BNMoments(0.1f0, K32(1,1,512,1)[0.07923379⋯], K32(1,1,512,1)[0.0091699455⋯], zeros, ones)), P(KnetArray{Float32,4}(1,1,128,512)), 0, 1, 1))), ResLayerX4(ResLayerX2(ResLayerX1(ResLayerX0(BatchNormLayer(K32(256)[0.82425255⋯], Knet.Ops20.BNMoments(0.1f0, K32(1,1,128,1)[-0.9015361⋯], K32(1,1,128,1)[1.4976197⋯], zeros, ones)), P(KnetArray{Float32,4}(1,1,512,128)), 0, 1, 1), false), ResLayerX1(ResLayerX0(BatchNormLayer(K32(256)[0.7335108⋯], Knet.Ops20.BNMoments(0.1f0, K32(1,1,128,1)[-0.46079066⋯], K32(1,1,128,1)[0.108467236⋯], zeros, ones)), P(KnetArray{Float32,4}(3,3,128,128)), 1, 1, 1), false), ResLayerX0(BatchNormLayer(K32(1024)[0.20435934⋯], Knet.Ops20.BNMoments(0.1f0, K32(1,1,512,1)[-0.038039368⋯], K32(1,1,512,1)[0.0078125335⋯], zeros, ones)), P(KnetArray{Float32,4}(1,1,128,512)), 0, 1, 1))), ResLayerX4(ResLayerX2(ResLayerX1(ResLayerX0(BatchNormLayer(K32(256)[0.58085⋯], Knet.Ops20.BNMoments(0.1f0, K32(1,1,128,1)[0.5066856⋯], K32(1,1,128,1)[1.5227166⋯], zeros, ones)), P(KnetArray{Float32,4}(1,1,512,128)), 0, 1, 1), false), ResLayerX1(ResLayerX0(BatchNormLayer(K32(256)[0.6822663⋯], Knet.Ops20.BNMoments(0.1f0, K32(1,1,128,1)[0.037175935⋯], K32(1,1,128,1)[0.3088879⋯], zeros, ones)), P(KnetArray{Float32,4}(3,3,128,128)), 1, 1, 1), false), ResLayerX0(BatchNormLayer(K32(1024)[-0.0004072204⋯], Knet.Ops20.BNMoments(0.1f0, K32(1,1,512,1)[-0.002085132⋯], K32(1,1,512,1)[0.00018051727⋯], zeros, ones)), P(KnetArray{Float32,4}(1,1,128,512)), 0, 1, 1)))], false, Conv2(P(KnetArray{Float32,4}(1,1,512,14)), P(KnetArray{Float32,4}(1,1,14,1)), identity, false), Conv2(P(KnetArray{Float32,4}(1,1,512,56)), P(KnetArray{Float32,4}(1,1,56,1)), identity, false), 3), ResLayerX5(ResLayerX3(ResLayerX0(BatchNormLayer(K32(2048)[1.7810009⋯], Knet.Ops20.BNMoments(0.1f0, K32(1,1,1024,1)[-0.24887334⋯], K32(1,1,1024,1)[1.211001⋯], zeros, ones)), P(KnetArray{Float32,4}(1,1,512,1024)), 0, 2, 1), ResLayerX2(ResLayerX1(ResLayerX0(BatchNormLayer(K32(512)[0.94548124⋯], Knet.Ops20.BNMoments(0.1f0, K32(1,1,256,1)[-3.138628⋯], K32(1,1,256,1)[2.3024294⋯], zeros, ones)), P(KnetArray{Float32,4}(1,1,512,256)), 0, 2, 1), false), ResLayerX1(ResLayerX0(BatchNormLayer(K32(512)[0.7724267⋯], Knet.Ops20.BNMoments(0.1f0, K32(1,1,256,1)[-0.622209⋯], K32(1,1,256,1)[0.15503909⋯], zeros, ones)), P(KnetArray{Float32,4}(3,3,256,256)), 1, 1, 1), false), ResLayerX0(BatchNormLayer(K32(2048)[1.5553025⋯], Knet.Ops20.BNMoments(0.1f0, K32(1,1,1024,1)[-0.012382701⋯], K32(1,1,1024,1)[0.030599698⋯], zeros, ones)), P(KnetArray{Float32,4}(1,1,256,1024)), 0, 1, 1))), Any[ResLayerX4(ResLayerX2(ResLayerX1(ResLayerX0(BatchNormLayer(K32(512)[1.4246888⋯], Knet.Ops20.BNMoments(0.1f0, K32(1,1,256,1)[0.07380492⋯], K32(1,1,256,1)[1.4630792⋯], zeros, ones)), P(KnetArray{Float32,4}(1,1,1024,256)), 0, 1, 1), false), ResLayerX1(ResLayerX0(BatchNormLayer(K32(512)[0.7673662⋯], Knet.Ops20.BNMoments(0.1f0, K32(1,1,256,1)[0.027405694⋯], K32(1,1,256,1)[0.04376017⋯], zeros, ones)), P(KnetArray{Float32,4}(3,3,256,256)), 1, 1, 1), false), ResLayerX0(BatchNormLayer(K32(2048)[0.7725832⋯], Knet.Ops20.BNMoments(0.1f0, K32(1,1,1024,1)[-0.009981382⋯], K32(1,1,1024,1)[0.015920198⋯], zeros, ones)), P(KnetArray{Float32,4}(1,1,256,1024)), 0, 1, 1))), ResLayerX4(ResLayerX2(ResLayerX1(ResLayerX0(BatchNormLayer(K32(512)[1.2374889⋯], Knet.Ops20.BNMoments(0.1f0, K32(1,1,256,1)[0.39407915⋯], K32(1,1,256,1)[3.1180305⋯], zeros, ones)), P(KnetArray{Float32,4}(1,1,1024,256)), 0, 1, 1), false), ResLayerX1(ResLayerX0(BatchNormLayer(K32(512)[0.86744326⋯], Knet.Ops20.BNMoments(0.1f0, K32(1,1,256,1)[-0.17037451⋯], K32(1,1,256,1)[0.031471238⋯], zeros, ones)), P(KnetArray{Float32,4}(3,3,256,256)), 1, 1, 1), false), ResLayerX0(BatchNormLayer(K32(2048)[0.7097798⋯], Knet.Ops20.BNMoments(0.1f0, K32(1,1,1024,1)[-0.021314817⋯], K32(1,1,1024,1)[0.01872849⋯], zeros, ones)), P(KnetArray{Float32,4}(1,1,256,1024)), 0, 1, 1))), ResLayerX4(ResLayerX2(ResLayerX1(ResLayerX0(BatchNormLayer(K32(512)[0.80741876⋯], Knet.Ops20.BNMoments(0.1f0, K32(1,1,256,1)[-0.45904085⋯], K32(1,1,256,1)[0.94996864⋯], zeros, ones)), P(KnetArray{Float32,4}(1,1,1024,256)), 0, 1, 1), false), ResLayerX1(ResLayerX0(BatchNormLayer(K32(512)[0.6731622⋯], Knet.Ops20.BNMoments(0.1f0, K32(1,1,256,1)[-0.3064684⋯], K32(1,1,256,1)[0.18862064⋯], zeros, ones)), P(KnetArray{Float32,4}(3,3,256,256)), 1, 1, 1), false), ResLayerX0(BatchNormLayer(K32(2048)[0.6795492⋯], Knet.Ops20.BNMoments(0.1f0, K32(1,1,1024,1)[0.031331565⋯], K32(1,1,1024,1)[0.018986758⋯], zeros, ones)), P(KnetArray{Float32,4}(1,1,256,1024)), 0, 1, 1))), ResLayerX4(ResLayerX2(ResLayerX1(ResLayerX0(BatchNormLayer(K32(512)[0.870853⋯], Knet.Ops20.BNMoments(0.1f0, K32(1,1,256,1)[-0.13892706⋯], K32(1,1,256,1)[1.2819731⋯], zeros, ones)), P(KnetArray{Float32,4}(1,1,1024,256)), 0, 1, 1), false), ResLayerX1(ResLayerX0(BatchNormLayer(K32(512)[1.0021104⋯], Knet.Ops20.BNMoments(0.1f0, K32(1,1,256,1)[-0.24592336⋯], K32(1,1,256,1)[0.35926363⋯], zeros, ones)), P(KnetArray{Float32,4}(3,3,256,256)), 1, 1, 1), false), ResLayerX0(BatchNormLayer(K32(2048)[0.70266616⋯], Knet.Ops20.BNMoments(0.1f0, K32(1,1,1024,1)[-0.006251336⋯], K32(1,1,1024,1)[0.021103183⋯], zeros, ones)), P(KnetArray{Float32,4}(1,1,256,1024)), 0, 1, 1))), ResLayerX4(ResLayerX2(ResLayerX1(ResLayerX0(BatchNormLayer(K32(512)[0.8874627⋯], Knet
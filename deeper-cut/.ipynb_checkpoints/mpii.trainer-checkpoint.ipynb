{
 "cells": [
  {
   "cell_type": "code",
   "execution_count": null,
   "metadata": {},
   "outputs": [],
   "source": [
    "#using Revise"
   ]
  },
  {
   "cell_type": "code",
   "execution_count": 1,
   "metadata": {},
   "outputs": [],
   "source": [
    "using Knet"
   ]
  },
  {
   "cell_type": "code",
   "execution_count": 2,
   "metadata": {},
   "outputs": [],
   "source": [
    "#pkg\"add Knet#master\""
   ]
  },
  {
   "cell_type": "code",
   "execution_count": 3,
   "metadata": {},
   "outputs": [],
   "source": [
    "#using ImageView;"
   ]
  },
  {
   "cell_type": "code",
   "execution_count": 60,
   "metadata": {},
   "outputs": [
    {
     "data": {
      "text/plain": [
       "generate_headless_resnet50_from_weights (generic function with 1 method)"
      ]
     },
     "execution_count": 60,
     "metadata": {},
     "output_type": "execute_result"
    }
   ],
   "source": [
    "include(\"../helper.jl\")\n",
    "include(\"mpii.annotation.parser.jl\")\n",
    "include(\"accuracy.jl\")\n",
    "include(\"loss.jl\")\n",
    "include(\"mpii.batcher.jl\")\n",
    "include(\"../models.jl\")\n",
    "include(\"../training.jl\")\n",
    "include(\"../plots.jl\")\n",
    "include(\"../modular.resnet.jl\")"
   ]
  },
  {
   "cell_type": "code",
   "execution_count": 61,
   "metadata": {
    "scrolled": true
   },
   "outputs": [
    {
     "name": "stdout",
     "output_type": "stream",
     "text": [
      "1\n",
      "4-element Data{Tuple{KnetArray{Float32,N} where N,KnetArray{Float32,N} where N}}\n",
      "257\n",
      "(49152, 256)\n",
      "8-element Data{Tuple{KnetArray{Float32,N} where N,KnetArray{Float32,N} where N}}\n",
      "513\n",
      "(49152, 512)\n",
      "12-element Data{Tuple{KnetArray{Float32,N} where N,KnetArray{Float32,N} where N}}\n",
      "769\n",
      "(49152, 768)\n",
      "16-element Data{Tuple{KnetArray{Float32,N} where N,KnetArray{Float32,N} where N}}\n",
      "1025\n",
      "(49152, 1024)\n",
      "20-element Data{Tuple{KnetArray{Float32,N} where N,KnetArray{Float32,N} where N}}\n",
      "1281\n",
      "(49152, 1280)\n",
      "24-element Data{Tuple{KnetArray{Float32,N} where N,KnetArray{Float32,N} where N}}\n",
      "1537\n",
      "(49152, 1536)\n",
      "28-element Data{Tuple{KnetArray{Float32,N} where N,KnetArray{Float32,N} where N}}\n",
      "1793\n",
      "(49152, 1792)\n",
      "32-element Data{Tuple{KnetArray{Float32,N} where N,KnetArray{Float32,N} where N}}\n",
      "2049\n",
      "(49152, 2048)\n",
      "36-element Data{Tuple{KnetArray{Float32,N} where N,KnetArray{Float32,N} where N}}\n",
      "2305\n",
      "(49152, 2304)\n",
      "40-element Data{Tuple{KnetArray{Float32,N} where N,KnetArray{Float32,N} where N}}\n",
      "2561\n",
      "(49152, 2560)\n",
      "44-element Data{Tuple{KnetArray{Float32,N} where N,KnetArray{Float32,N} where N}}\n",
      "2817\n",
      "(49152, 2816)\n",
      "48-element Data{Tuple{KnetArray{Float32,N} where N,KnetArray{Float32,N} where N}}\n",
      "3073\n",
      "(49152, 3072)\n",
      "52-element Data{Tuple{KnetArray{Float32,N} where N,KnetArray{Float32,N} where N}}\n",
      "3329\n",
      "(49152, 3328)\n",
      "56-element Data{Tuple{KnetArray{Float32,N} where N,KnetArray{Float32,N} where N}}\n",
      "3585\n",
      "(49152, 3584)\n",
      "60-element Data{Tuple{KnetArray{Float32,N} where N,KnetArray{Float32,N} where N}}\n",
      "3841\n",
      "(49152, 3840)\n",
      "64-element Data{Tuple{KnetArray{Float32,N} where N,KnetArray{Float32,N} where N}}\n",
      "4097\n",
      "(49152, 4096)\n",
      "68-element Data{Tuple{KnetArray{Float32,N} where N,KnetArray{Float32,N} where N}}\n",
      "4353\n",
      "(49152, 4352)\n",
      "72-element Data{Tuple{KnetArray{Float32,N} where N,KnetArray{Float32,N} where N}}\n",
      "4609\n",
      "(49152, 4608)\n",
      "76-element Data{Tuple{KnetArray{Float32,N} where N,KnetArray{Float32,N} where N}}\n",
      "4865\n",
      "(49152, 4864)\n",
      "80-element Data{Tuple{KnetArray{Float32,N} where N,KnetArray{Float32,N} where N}}\n",
      "5121\n",
      "(49152, 5120)\n",
      "84-element Data{Tuple{KnetArray{Float32,N} where N,KnetArray{Float32,N} where N}}\n",
      "5377\n",
      "(49152, 5376)\n",
      "88-element Data{Tuple{KnetArray{Float32,N} where N,KnetArray{Float32,N} where N}}\n",
      "5633\n",
      "(49152, 5632)\n",
      "92-element Data{Tuple{KnetArray{Float32,N} where N,KnetArray{Float32,N} where N}}\n",
      "5889\n",
      "(49152, 5888)\n",
      "96-element Data{Tuple{KnetArray{Float32,N} where N,KnetArray{Float32,N} where N}}\n",
      "6145\n",
      "(49152, 6144)\n",
      "100-element Data{Tuple{KnetArray{Float32,N} where N,KnetArray{Float32,N} where N}}\n",
      "6401\n",
      "(49152, 6400)\n",
      "104-element Data{Tuple{KnetArray{Float32,N} where N,KnetArray{Float32,N} where N}}\n",
      "6657\n",
      "(49152, 6656)\n",
      "108-element Data{Tuple{KnetArray{Float32,N} where N,KnetArray{Float32,N} where N}}\n",
      "6913\n",
      "(49152, 6912)\n",
      "112-element Data{Tuple{KnetArray{Float32,N} where N,KnetArray{Float32,N} where N}}\n",
      "7169\n",
      "(49152, 7168)\n",
      "116-element Data{Tuple{KnetArray{Float32,N} where N,KnetArray{Float32,N} where N}}\n",
      "7425\n",
      "(49152, 7424)\n",
      "120-element Data{Tuple{KnetArray{Float32,N} where N,KnetArray{Float32,N} where N}}\n",
      "7681\n",
      "(49152, 7680)\n",
      "124-element Data{Tuple{KnetArray{Float32,N} where N,KnetArray{Float32,N} where N}}\n",
      "7937\n",
      "(49152, 7936)\n",
      "128-element Data{Tuple{KnetArray{Float32,N} where N,KnetArray{Float32,N} where N}}\n",
      "8193\n",
      "(49152, 8192)\n",
      "132-element Data{Tuple{KnetArray{Float32,N} where N,KnetArray{Float32,N} where N}}\n",
      "8449\n",
      "(49152, 8448)\n",
      "136-element Data{Tuple{KnetArray{Float32,N} where N,KnetArray{Float32,N} where N}}\n",
      "8705\n",
      "(49152, 8704)\n",
      "140-element Data{Tuple{KnetArray{Float32,N} where N,KnetArray{Float32,N} where N}}\n",
      "8961\n",
      "(49152, 8960)\n",
      "144-element Data{Tuple{KnetArray{Float32,N} where N,KnetArray{Float32,N} where N}}\n",
      "9217\n",
      "(49152, 9216)\n",
      "148-element Data{Tuple{KnetArray{Float32,N} where N,KnetArray{Float32,N} where N}}\n",
      "9473\n",
      "(49152, 9472)\n",
      "152-element Data{Tuple{KnetArray{Float32,N} where N,KnetArray{Float32,N} where N}}\n",
      "9729\n",
      "(49152, 9728)\n",
      "156-element Data{Tuple{KnetArray{Float32,N} where N,KnetArray{Float32,N} where N}}\n",
      "9985\n",
      "(49152, 9984)\n",
      "160-element Data{Tuple{KnetArray{Float32,N} where N,KnetArray{Float32,N} where N}}\n",
      "10241\n",
      "(49152, 10240)\n",
      "164-element Data{Tuple{KnetArray{Float32,N} where N,KnetArray{Float32,N} where N}}\n",
      "10497\n",
      "(49152, 10496)\n",
      "168-element Data{Tuple{KnetArray{Float32,N} where N,KnetArray{Float32,N} where N}}\n",
      "10753\n",
      "(49152, 10752)\n",
      "172-element Data{Tuple{KnetArray{Float32,N} where N,KnetArray{Float32,N} where N}}\n",
      "11009\n",
      "(49152, 11008)\n",
      "176-element Data{Tuple{KnetArray{Float32,N} where N,KnetArray{Float32,N} where N}}\n",
      "11265\n",
      "(49152, 11264)\n",
      "180-element Data{Tuple{KnetArray{Float32,N} where N,KnetArray{Float32,N} where N}}\n",
      "11521\n",
      "(49152, 11520)\n",
      "184-element Data{Tuple{KnetArray{Float32,N} where N,KnetArray{Float32,N} where N}}\n",
      "11777\n",
      "(49152, 11776)\n",
      "188-element Data{Tuple{KnetArray{Float32,N} where N,KnetArray{Float32,N} where N}}\n",
      "12033\n",
      "(49152, 12032)\n",
      "192-element Data{Tuple{KnetArray{Float32,N} where N,KnetArray{Float32,N} where N}}\n",
      "12289\n",
      "(49152, 12288)\n",
      "196-element Data{Tuple{KnetArray{Float32,N} where N,KnetArray{Float32,N} where N}}\n",
      "12545\n",
      "(49152, 12544)\n",
      "200-element Data{Tuple{KnetArray{Float32,N} where N,KnetArray{Float32,N} where N}}\n",
      "12801\n",
      "(49152, 12800)\n",
      "204-element Data{Tuple{KnetArray{Float32,N} where N,KnetArray{Float32,N} where N}}\n",
      "13057\n",
      "(49152, 13056)\n",
      "208-element Data{Tuple{KnetArray{Float32,N} where N,KnetArray{Float32,N} where N}}\n",
      "13313\n",
      "(49152, 13312)\n",
      "212-element Data{Tuple{KnetArray{Float32,N} where N,KnetArray{Float32,N} where N}}\n",
      "13569\n",
      "(49152, 13568)\n",
      "216-element Data{Tuple{KnetArray{Float32,N} where N,KnetArray{Float32,N} where N}}\n",
      "13825\n",
      "(49152, 13824)\n",
      "220-element Data{Tuple{KnetArray{Float32,N} where N,KnetArray{Float32,N} where N}}\n",
      "14081\n",
      "(49152, 14080)\n",
      "224-element Data{Tuple{KnetArray{Float32,N} where N,KnetArray{Float32,N} where N}}\n",
      "14337\n",
      "(49152, 14336)\n",
      "228-element Data{Tuple{KnetArray{Float32,N} where N,KnetArray{Float32,N} where N}}\n",
      "14593\n",
      "(49152, 14592)\n",
      "232-element Data{Tuple{KnetArray{Float32,N} where N,KnetArray{Float32,N} where N}}\n",
      "14849\n",
      "(49152, 14848)\n",
      "236-element Data{Tuple{KnetArray{Float32,N} where N,KnetArray{Float32,N} where N}}\n",
      "15105\n",
      "(49152, 15104)\n",
      "240-element Data{Tuple{KnetArray{Float32,N} where N,KnetArray{Float32,N} where N}}\n",
      "15361\n",
      "(49152, 15360)\n",
      "244-element Data{Tuple{KnetArray{Float32,N} where N,KnetArray{Float32,N} where N}}\n",
      "15617\n",
      "(49152, 15616)\n",
      "248-element Data{Tuple{KnetArray{Float32,N} where N,KnetArray{Float32,N} where N}}\n",
      "15873\n",
      "(49152, 15872)\n",
      "252-element Data{Tuple{KnetArray{Float32,N} where N,KnetArray{Float32,N} where N}}\n",
      "16129\n",
      "(49152, 16128)\n",
      "256-element Data{Tuple{KnetArray{Float32,N} where N,KnetArray{Float32,N} where N}}\n",
      "16385\n",
      "(49152, 16384)\n",
      "260-element Data{Tuple{KnetArray{Float32,N} where N,KnetArray{Float32,N} where N}}\n",
      "16641\n",
      "(49152, 16640)\n",
      "264-element Data{Tuple{KnetArray{Float32,N} where N,KnetArray{Float32,N} where N}}\n",
      "16897\n",
      "(49152, 16896)\n",
      "268-element Data{Tuple{KnetArray{Float32,N} where N,KnetArray{Float32,N} where N}}\n",
      "17153\n",
      "(49152, 17152)\n",
      "272-element Data{Tuple{KnetArray{Float32,N} where N,KnetArray{Float32,N} where N}}\n",
      "17409\n",
      "(49152, 17408)\n",
      "276-element Data{Tuple{KnetArray{Float32,N} where N,KnetArray{Float32,N} where N}}\n",
      "17665\n",
      "(49152, 17664)\n",
      "280-element Data{Tuple{KnetArray{Float32,N} where N,KnetArray{Float32,N} where N}}\n",
      "17921\n",
      "(49152, 17920)\n",
      "284-element Data{Tuple{KnetArray{Float32,N} where N,KnetArray{Float32,N} where N}}\n",
      "18177\n",
      "(49152, 18176)\n",
      "288-element Data{Tuple{KnetArray{Float32,N} where N,KnetArray{Float32,N} where N}}\n",
      "18433\n",
      "(49152, 18432)\n",
      "292-element Data{Tuple{KnetArray{Float32,N} where N,KnetArray{Float32,N} where N}}\n",
      "18689\n",
      "(49152, 18688)\n",
      "296-element Data{Tuple{KnetArray{Float32,N} where N,KnetArray{Float32,N} where N}}\n",
      "18945\n",
      "(49152, 18944)\n",
      "300-element Data{Tuple{KnetArray{Float32,N} where N,KnetArray{Float32,N} where N}}\n",
      "19201\n",
      "(49152, 19200)\n",
      "304-element Data{Tuple{KnetArray{Float32,N} where N,KnetArray{Float32,N} where N}}\n",
      "19457\n",
      "(49152, 19456)\n",
      "308-element Data{Tuple{KnetArray{Float32,N} where N,KnetArray{Float32,N} where N}}\n",
      "19713\n",
      "(49152, 19712)\n",
      "312-element Data{Tuple{KnetArray{Float32,N} where N,KnetArray{Float32,N} where N}}\n",
      "19969\n",
      "(49152, 19968)\n",
      "316-element Data{Tuple{KnetArray{Float32,N} where N,KnetArray{Float32,N} where N}}\n",
      "20225\n",
      "(49152, 20224)\n",
      "320-element Data{Tuple{KnetArray{Float32,N} where N,KnetArray{Float32,N} where N}}\n",
      "20481\n",
      "(49152, 20480)\n",
      "324-element Data{Tuple{KnetArray{Float32,N} where N,KnetArray{Float32,N} where N}}\n"
     ]
    },
    {
     "data": {
      "text/plain": [
       "(324-element Data{Tuple{KnetArray{Float32,N} where N,KnetArray{Float32,N} where N}}, 40-element Data{Tuple{KnetArray{Float32,N} where N,KnetArray{Float32,N} where N}})"
      ]
     },
     "execution_count": 61,
     "metadata": {},
     "output_type": "execute_result"
    }
   ],
   "source": [
    "dtrn, dval = get_mpii_batches(64)"
   ]
  },
  {
   "cell_type": "code",
   "execution_count": null,
   "metadata": {},
   "outputs": [],
   "source": [
    "#all_batches = concatenate_iterables(dtrn, dval)"
   ]
  },
  {
   "cell_type": "code",
   "execution_count": 54,
   "metadata": {},
   "outputs": [
    {
     "data": {
      "text/plain": [
       "(K32(128,128,3,64)[0.8235294⋯], K32(16,16,71,64)[0.0⋯])"
      ]
     },
     "execution_count": 54,
     "metadata": {},
     "output_type": "execute_result"
    }
   ],
   "source": [
    "dtrn_x1, dtrn_y1 = first(dtrn)\n",
    "dval_x1, dval_y1 = first(dval)"
   ]
  },
  {
   "cell_type": "code",
   "execution_count": null,
   "metadata": {},
   "outputs": [],
   "source": [
    "# 5) Implementing a Simple Convolutional Neural Network\n",
    "simple_conv_net =   Chain(\n",
    "    ResLayerConv(3, 3, 3, 8; stride=2, padding=1),\n",
    "    ResLayerConv(3, 3, 8, 16; stride=2, padding=1),\n",
    "    ResLayerConv(3, 3, 16, 32; stride=2, padding=1),\n",
    "    Conv2(3, 3, 32, 32),\n",
    "    ResLayerConv(3, 3, 32, 32; stride=2, padding=1),\n",
    "    Deconv(3, 3, 14, 32; padding=1),\n",
    "    loss=sigmoid_cross_entropy_loss\n",
    ")\n",
    "\n",
    "simple_conv_net_results = trainresults(\"simple_conv_net.jld2\", simple_conv_net, dtrn, dval, 100, 0.15; accuracy_func=modelized_naive_pck_sigm, error_func=nothing);\n",
    "\n",
    "draw_plots(simple_conv_net_results)\n",
    "\n",
    "simple_conv_net(dval)\n",
    "\n",
    "sigmoided_output = Array(sigm.(simple_conv_net(dval_x1)));\n",
    "\n",
    "total_pck = naive_pck(sigmoided_output, dval_y1);\n",
    "println(total_pck)"
   ]
  },
  {
   "cell_type": "code",
   "execution_count": 18,
   "metadata": {},
   "outputs": [
    {
     "data": {
      "text/plain": [
       "get_params (generic function with 1 method)"
      ]
     },
     "execution_count": 18,
     "metadata": {},
     "output_type": "execute_result"
    }
   ],
   "source": [
    "function get_params(params, atype)\n",
    "    len = length(params[\"value\"])\n",
    "    ws, ms = [], []\n",
    "    for k = 1:len\n",
    "        name = params[\"name\"][k]\n",
    "        value = convert(Array{Float32}, params[\"value\"][k])\n",
    "\n",
    "        if endswith(name, \"moments\")\n",
    "            push!(ms, reshape(value[:,1], (1,1,size(value,1),1)))\n",
    "            push!(ms, reshape(value[:,2], (1,1,size(value,1),1)))\n",
    "        elseif startswith(name, \"bn\")\n",
    "            push!(ws, reshape(value, (1,1,length(value),1)))\n",
    "        elseif startswith(name, \"fc\") && endswith(name, \"filter\")\n",
    "            push!(ws, transpose(reshape(value,(size(value,3),size(value,4)))))\n",
    "        elseif startswith(name, \"conv\") && endswith(name, \"bias\")\n",
    "            push!(ws, reshape(value, (1,1,length(value),1)))\n",
    "        else\n",
    "            push!(ws, value)\n",
    "        end\n",
    "    end\n",
    "    map(wi->convert(atype, wi), ws),\n",
    "    map(mi->convert(atype, mi), ms)\n",
    "end"
   ]
  },
  {
   "cell_type": "code",
   "execution_count": 19,
   "metadata": {},
   "outputs": [
    {
     "data": {
      "text/plain": [
       "true"
      ]
     },
     "execution_count": 19,
     "metadata": {},
     "output_type": "execute_result"
    }
   ],
   "source": [
    "should_use_resnet50 = true"
   ]
  },
  {
   "cell_type": "code",
   "execution_count": 73,
   "metadata": {},
   "outputs": [],
   "source": [
    "model_file_path = should_use_resnet50 ? \"/userfiles/gsoykan20/resnet_pretrained/imagenet-resnet-50-dag.mat\" : \"/userfiles/gsoykan20/resnet_pretrained/imagenet-resnet-152-dag.mat\"\n",
    "\n",
    "o = Dict(\n",
    "  :atype => KnetArray{Float32},\n",
    "  :model => model_file_path,\n",
    "  :top   => 10\n",
    ")\n",
    "model = matread(abspath(o[:model]))\n",
    "w, ms = get_params(model[\"params\"], o[:atype]);"
   ]
  },
  {
   "cell_type": "code",
   "execution_count": 74,
   "metadata": {},
   "outputs": [],
   "source": [
    "modular_resnet = should_use_resnet50 ? generate_headless_resnet50_from_weights(w, ms) : generate_headless_resnet_from_weights(w, ms);"
   ]
  },
  {
   "cell_type": "code",
   "execution_count": 22,
   "metadata": {},
   "outputs": [
    {
     "data": {
      "text/plain": [
       "(16, 16, 71, 64)"
      ]
     },
     "execution_count": 22,
     "metadata": {},
     "output_type": "execute_result"
    }
   ],
   "source": [
    "size(dtrn_y1)"
   ]
  },
  {
   "cell_type": "code",
   "execution_count": null,
   "metadata": {},
   "outputs": [],
   "source": [
    "size(modular_resnet(dtrn_x1))"
   ]
  },
  {
   "cell_type": "code",
   "execution_count": 75,
   "metadata": {},
   "outputs": [],
   "source": [
    "resnet_with_deconv = Chain(modular_resnet.layers...,  \n",
    "     Deconv(4, 4, 14, 2048; padding=1, stride=2); loss=sigmoid_cross_entropy_loss);"
   ]
  },
  {
   "cell_type": "code",
   "execution_count": null,
   "metadata": {},
   "outputs": [],
   "source": [
    " resnet_output = Array(sigm.(resnet_with_deconv(dtrn_x1)));"
   ]
  },
  {
   "cell_type": "code",
   "execution_count": null,
   "metadata": {},
   "outputs": [],
   "source": [
    "total_pck_resnet = naive_pck(resnet_output, dtrn_y1);\n",
    "println(total_pck_resnet)"
   ]
  },
  {
   "cell_type": "code",
   "execution_count": 99,
   "metadata": {},
   "outputs": [
    {
     "data": {
      "text/plain": [
       "0.12545979f0"
      ]
     },
     "execution_count": 99,
     "metadata": {},
     "output_type": "execute_result"
    }
   ],
   "source": [
    "resnet_with_deconv(dtrn)"
   ]
  },
  {
   "cell_type": "code",
   "execution_count": 88,
   "metadata": {},
   "outputs": [
    {
     "data": {
      "text/plain": [
       "0"
      ]
     },
     "execution_count": 88,
     "metadata": {},
     "output_type": "execute_result"
    }
   ],
   "source": [
    "CUDA.reclaim()"
   ]
  },
  {
   "cell_type": "code",
   "execution_count": 89,
   "metadata": {},
   "outputs": [
    {
     "name": "stdout",
     "output_type": "stream",
     "text": [
      "Effective GPU memory usage: 10.22% (1.508 GiB/14.756 GiB)\n",
      "CUDA allocator usage: 713.690 MiB\n",
      "binned usage: 5.797 KiB (5.797 KiB allocated, 0 bytes cached)\n",
      "Discrepancy of 713.685 MiB between memory pool and allocator!\n"
     ]
    }
   ],
   "source": [
    "CUDA.memory_status() "
   ]
  },
  {
   "cell_type": "code",
   "execution_count": 90,
   "metadata": {},
   "outputs": [],
   "source": [
    "GC.gc(true)"
   ]
  },
  {
   "cell_type": "code",
   "execution_count": 91,
   "metadata": {},
   "outputs": [
    {
     "name": "stderr",
     "output_type": "stream",
     "text": [
      "┣████████████████████┫ [100.00%, 324/324, 04:18/04:18, 1.26i/s] \n",
      "┣████████████████████┫ [100.00%, 6480/6480, 01:27:18/01:27:18, 1.24i/s] \n",
      "┣████████████████████┫ [100.00%, 4860/4860, 01:05:08/01:05:08, 1.24i/s] \n",
      "┣███████████████████▊┫ [98.99%, 4811/4860, 01:02:57/01:03:35, 1.83i/s]  Excessive output truncated after 524294 bytes."
     ]
    }
   ],
   "source": [
    "# TODO: Fix batch norm issue here try with different batchnorms\n",
    "# Check here https://github.com/denizyuret/Knet.jl/blob/master/examples/dcgan-mnist/dcgan.jl\n",
    "# and\n",
    "# check previous batch norm emails\n",
    "# [(0.005, 1), (0.02, 20), (0.002, 15), (0.001, 15)]\n",
    "resnetnet_results = trainresults(\"resnet_with_deconv.jld2\", resnet_with_deconv, dtrn, dval,[(0.005, 1), (0.02, 20), (0.002, 15), (0.001, 15)] ; accuracy_func=modelized_naive_pck_sigm, error_func=nothing);"
   ]
  },
  {
   "cell_type": "code",
   "execution_count": 71,
   "metadata": {},
   "outputs": [
    {
     "data": {
      "text/plain": [
       "324-element Data{Tuple{KnetArray{Float32,N} where N,KnetArray{Float32,N} where N}}"
      ]
     },
     "execution_count": 71,
     "metadata": {},
     "output_type": "execute_result"
    }
   ],
   "source": [
    "dtrn"
   ]
  },
  {
   "cell_type": "code",
   "execution_count": 94,
   "metadata": {},
   "outputs": [],
   "source": [
    "# TODO: you may use file io for now\n",
    "Knet.save(\"16-12-2020-20480image-resnet-50.jld2\", \"resnet_with_deconv\", resnet_with_deconv)"
   ]
  },
  {
   "cell_type": "code",
   "execution_count": null,
   "metadata": {},
   "outputs": [],
   "source": [
    "resnetnet_results"
   ]
  },
  {
   "cell_type": "code",
   "execution_count": 92,
   "metadata": {},
   "outputs": [
    {
     "data": {
      "image/png": "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"
     },
     "metadata": {},
     "output_type": "display_data"
    },
    {
     "data": {
      "image/png": "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"
     },
     "metadata": {},
     "output_type": "display_data"
    },
    {
     "data": {
      "image/png": "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"
     },
     "metadata": {},
     "output_type": "display_data"
    }
   ],
   "source": [
    "draw_plots(resnetnet_results)"
   ]
  },
  {
   "cell_type": "code",
   "execution_count": 95,
   "metadata": {},
   "outputs": [],
   "source": [
    "sigmoided_output = Array(sigm.(resnet_with_deconv(dtrn_x1)));"
   ]
  },
  {
   "cell_type": "code",
   "execution_count": 100,
   "metadata": {},
   "outputs": [
    {
     "data": {
      "text/plain": [
       "draw_first_images_forehead (generic function with 1 method)"
      ]
     },
     "execution_count": 100,
     "metadata": {},
     "output_type": "execute_result"
    }
   ],
   "source": [
    "function draw_first_images_forehead(y)\n",
    "test_y = y[:, :, :, 1];\n",
    "all_joints = [[1, 6], [2, 5], [3, 4], [7, 12], [8, 11], [9, 10], [13], [14]]\n",
    "for joint_group in all_joints\n",
    "    for j in joint_group\n",
    "    permuted = permutedims(test_y[:, : , j], (1,2))\n",
    "    display(colorview(Gray, permuted))\n",
    "        end\n",
    "end\n",
    "end"
   ]
  },
  {
   "cell_type": "code",
   "execution_count": 101,
   "metadata": {},
   "outputs": [],
   "source": [
    "#Array(dtrn_y1)"
   ]
  },
  {
   "cell_type": "code",
   "execution_count": 102,
   "metadata": {},
   "outputs": [],
   "source": [
    "      # cfg.all_joints = [[0, 5], [1, 4], [2, 3], [6, 11], [7, 10], [8, 9], [12], [13]]\n",
    "# cfg.all_joints_names = ['ankle', 'knee', 'hip', 'wrist', 'elbow', 'shoulder', 'chin', 'forehead']\n",
    "     "
   ]
  },
  {
   "cell_type": "code",
   "execution_count": 103,
   "metadata": {
    "scrolled": true
   },
   "outputs": [
    {
     "data": {
      "image/png": "iVBORw0KGgoAAAANSUhEUgAAAHAAAABwAQAAAADum8nmAAAABGdBTUEAALGPC/xhBQAAACBjSFJNAAB6JgAAgIQAAPoAAACA6AAAdTAAAOpgAAA6mAAAF3CculE8AAAAAmJLR0QAAd2KE6QAAAAlSURBVDjLY2AYBaNgFIyCgQXy/xvowuX/////8OICPUgnLj0AAObYRMakvC21AAAAAElFTkSuQmCC",
      "text/plain": [
       "16×16 reinterpret(Gray{Float32}, ::Array{Float32,2}):\n",
       " Gray{Float32}(0.0)  Gray{Float32}(0.0)  …  Gray{Float32}(0.0)\n",
       " Gray{Float32}(0.0)  Gray{Float32}(0.0)     Gray{Float32}(0.0)\n",
       " Gray{Float32}(0.0)  Gray{Float32}(0.0)     Gray{Float32}(0.0)\n",
       " Gray{Float32}(0.0)  Gray{Float32}(0.0)     Gray{Float32}(0.0)\n",
       " Gray{Float32}(0.0)  Gray{Float32}(0.0)     Gray{Float32}(0.0)\n",
       " Gray{Float32}(0.0)  Gray{Float32}(0.0)  …  Gray{Float32}(0.0)\n",
       " Gray{Float32}(0.0)  Gray{Float32}(0.0)     Gray{Float32}(0.0)\n",
       " Gray{Float32}(0.0)  Gray{Float32}(0.0)     Gray{Float32}(0.0)\n",
       " Gray{Float32}(0.0)  Gray{Float32}(0.0)     Gray{Float32}(0.0)\n",
       " Gray{Float32}(0.0)  Gray{Float32}(0.0)     Gray{Float32}(0.0)\n",
       " Gray{Float32}(0.0)  Gray{Float32}(0.0)  …  Gray{Float32}(0.0)\n",
       " Gray{Float32}(0.0)  Gray{Float32}(0.0)     Gray{Float32}(0.0)\n",
       " Gray{Float32}(0.0)  Gray{Float32}(0.0)     Gray{Float32}(0.0)\n",
       " Gray{Float32}(0.0)  Gray{Float32}(0.0)     Gray{Float32}(0.0)\n",
       " Gray{Float32}(0.0)  Gray{Float32}(0.0)     Gray{Float32}(0.0)\n",
       " Gray{Float32}(0.0)  Gray{Float32}(0.0)  …  Gray{Float32}(0.0)"
      ]
     },
     "metadata": {},
     "output_type": "display_data"
    },
    {
     "data": {
      "image/png": "iVBORw0KGgoAAAANSUhEUgAAAHAAAABwAQAAAADum8nmAAAABGdBTUEAALGPC/xhBQAAACBjSFJNAAB6JgAAgIQAAPoAAACA6AAAdTAAAOpgAAA6mAAAF3CculE8AAAAAmJLR0QAAd2KE6QAAAAhSURBVDjLY2AYBaMABdj/pw9X/v//f6NcsrijYBQMTwAAEMRJ6uz6RPMAAAAASUVORK5CYII=",
      "text/plain": [
       "16×16 reinterpret(Gray{Float32}, ::Array{Float32,2}):\n",
       " Gray{Float32}(0.0)  Gray{Float32}(0.0)  …  Gray{Float32}(0.0)\n",
       " Gray{Float32}(0.0)  Gray{Float32}(0.0)     Gray{Float32}(0.0)\n",
       " Gray{Float32}(0.0)  Gray{Float32}(0.0)     Gray{Float32}(0.0)\n",
       " Gray{Float32}(0.0)  Gray{Float32}(0.0)     Gray{Float32}(0.0)\n",
       " Gray{Float32}(0.0)  Gray{Float32}(0.0)     Gray{Float32}(0.0)\n",
       " Gray{Float32}(0.0)  Gray{Float32}(0.0)  …  Gray{Float32}(0.0)\n",
       " Gray{Float32}(0.0)  Gray{Float32}(0.0)     Gray{Float32}(0.0)\n",
       " Gray{Float32}(0.0)  Gray{Float32}(0.0)     Gray{Float32}(0.0)\n",
       " Gray{Float32}(0.0)  Gray{Float32}(0.0)     Gray{Float32}(0.0)\n",
       " Gray{Float32}(0.0)  Gray{Float32}(0.0)     Gray{Float32}(0.0)\n",
       " Gray{Float32}(0.0)  Gray{Float32}(0.0)  …  Gray{Float32}(0.0)\n",
       " Gray{Float32}(0.0)  Gray{Float32}(0.0)     Gray{Float32}(0.0)\n",
       " Gray{Float32}(0.0)  Gray{Float32}(0.0)     Gray{Float32}(0.0)\n",
       " Gray{Float32}(0.0)  Gray{Float32}(0.0)     Gray{Float32}(0.0)\n",
       " Gray{Float32}(0.0)  Gray{Float32}(0.0)     Gray{Float32}(0.0)\n",
       " Gray{Float32}(0.0)  Gray{Float32}(0.0)  …  Gray{Float32}(0.0)"
      ]
     },
     "metadata": {},
     "output_type": "display_data"
    },
    {
     "data": {
      "image/png": "iVBORw0KGgoAAAANSUhEUgAAAHAAAABwAQAAAADum8nmAAAABGdBTUEAALGPC/xhBQAAACBjSFJNAAB6JgAAgIQAAPoAAACA6AAAdTAAAOpgAAA6mAAAF3CculE8AAAAAmJLR0QAAd2KE6QAAAAjSURBVDjLY2AYBaNgWAP+////j3LJ4jLI/2+gD3cUjAIQAADhg0tPOsOCggAAAABJRU5ErkJggg==",
      "text/plain": [
       "16×16 reinterpret(Gray{Float32}, ::Array{Float32,2}):\n",
       " Gray{Float32}(0.0)  Gray{Float32}(0.0)  …  Gray{Float32}(0.0)\n",
       " Gray{Float32}(0.0)  Gray{Float32}(0.0)     Gray{Float32}(0.0)\n",
       " Gray{Float32}(0.0)  Gray{Float32}(0.0)     Gray{Float32}(0.0)\n",
       " Gray{Float32}(0.0)  Gray{Float32}(0.0)     Gray{Float32}(0.0)\n",
       " Gray{Float32}(0.0)  Gray{Float32}(0.0)     Gray{Float32}(0.0)\n",
       " Gray{Float32}(0.0)  Gray{Float32}(0.0)  …  Gray{Float32}(0.0)\n",
       " Gray{Float32}(0.0)  Gray{Float32}(0.0)     Gray{Float32}(0.0)\n",
       " Gray{Float32}(0.0)  Gray{Float32}(0.0)     Gray{Float32}(0.0)\n",
       " Gray{Float32}(0.0)  Gray{Float32}(0.0)     Gray{Float32}(0.0)\n",
       " Gray{Float32}(0.0)  Gray{Float32}(0.0)     Gray{Float32}(0.0)\n",
       " Gray{Float32}(0.0)  Gray{Float32}(0.0)  …  Gray{Float32}(0.0)\n",
       " Gray{Float32}(0.0)  Gray{Float32}(0.0)     Gray{Float32}(0.0)\n",
       " Gray{Float32}(0.0)  Gray{Float32}(0.0)     Gray{Float32}(0.0)\n",
       " Gray{Float32}(0.0)  Gray{Float32}(0.0)     Gray{Float32}(0.0)\n",
       " Gray{Float32}(0.0)  Gray{Float32}(0.0)     Gray{Float32}(0.0)\n",
       " Gray{Float32}(0.0)  Gray{Float32}(0.0)  …  Gray{Float32}(0.0)"
      ]
     },
     "metadata": {},
     "output_type": "display_data"
    },
    {
     "data": {
      "image/png": "iVBORw0KGgoAAAANSUhEUgAAAHAAAABwAQAAAADum8nmAAAABGdBTUEAALGPC/xhBQAAACBjSFJNAAB6JgAAgIQAAPoAAACA6AAAdTAAAOpgAAA6mAAAF3CculE8AAAAAmJLR0QAAd2KE6QAAAAhSURBVDjLY2AYBaMABdj//0cXrvz/4calW9CNglEwPAEAKz9Kww28P3cAAAAASUVORK5CYII=",
      "text/plain": [
       "16×16 reinterpret(Gray{Float32}, ::Array{Float32,2}):\n",
       " Gray{Float32}(0.0)  Gray{Float32}(0.0)  …  Gray{Float32}(0.0)\n",
       " Gray{Float32}(0.0)  Gray{Float32}(0.0)     Gray{Float32}(0.0)\n",
       " Gray{Float32}(0.0)  Gray{Float32}(0.0)     Gray{Float32}(0.0)\n",
       " Gray{Float32}(0.0)  Gray{Float32}(0.0)     Gray{Float32}(0.0)\n",
       " Gray{Float32}(0.0)  Gray{Float32}(0.0)     Gray{Float32}(0.0)\n",
       " Gray{Float32}(0.0)  Gray{Float32}(0.0)  …  Gray{Float32}(0.0)\n",
       " Gray{Float32}(0.0)  Gray{Float32}(0.0)     Gray{Float32}(0.0)\n",
       " Gray{Float32}(0.0)  Gray{Float32}(0.0)     Gray{Float32}(0.0)\n",
       " Gray{Float32}(0.0)  Gray{Float32}(0.0)     Gray{Float32}(0.0)\n",
       " Gray{Float32}(0.0)  Gray{Float32}(0.0)     Gray{Float32}(0.0)\n",
       " Gray{Float32}(0.0)  Gray{Float32}(0.0)  …  Gray{Float32}(0.0)\n",
       " Gray{Float32}(0.0)  Gray{Float32}(0.0)     Gray{Float32}(0.0)\n",
       " Gray{Float32}(0.0)  Gray{Float32}(0.0)     Gray{Float32}(0.0)\n",
       " Gray{Float32}(0.0)  Gray{Float32}(0.0)     Gray{Float32}(0.0)\n",
       " Gray{Float32}(0.0)  Gray{Float32}(0.0)     Gray{Float32}(0.0)\n",
       " Gray{Float32}(0.0)  Gray{Float32}(0.0)  …  Gray{Float32}(0.0)"
      ]
     },
     "metadata": {},
     "output_type": "display_data"
    },
    {
     "data": {
      "image/png": "iVBORw0KGgoAAAANSUhEUgAAAHAAAABwAQAAAADum8nmAAAABGdBTUEAALGPC/xhBQAAACBjSFJNAAB6JgAAgIQAAPoAAACA6AAAdTAAAOpgAAA6mAAAF3CculE8AAAAAmJLR0QAAd2KE6QAAAAlSURBVDjLY2AYBUMAsP///79hlEsOl4H//wEGunBHwSgYBZQBANmHVnf+yMYhAAAAAElFTkSuQmCC",
      "text/plain": [
       "16×16 reinterpret(Gray{Float32}, ::Array{Float32,2}):\n",
       " Gray{Float32}(0.0)  Gray{Float32}(0.0)  …  Gray{Float32}(0.0)\n",
       " Gray{Float32}(0.0)  Gray{Float32}(0.0)     Gray{Float32}(0.0)\n",
       " Gray{Float32}(0.0)  Gray{Float32}(0.0)     Gray{Float32}(0.0)\n",
       " Gray{Float32}(0.0)  Gray{Float32}(0.0)     Gray{Float32}(0.0)\n",
       " Gray{Float32}(0.0)  Gray{Float32}(0.0)     Gray{Float32}(0.0)\n",
       " Gray{Float32}(0.0)  Gray{Float32}(0.0)  …  Gray{Float32}(0.0)\n",
       " Gray{Float32}(0.0)  Gray{Float32}(0.0)     Gray{Float32}(0.0)\n",
       " Gray{Float32}(0.0)  Gray{Float32}(0.0)     Gray{Float32}(0.0)\n",
       " Gray{Float32}(0.0)  Gray{Float32}(0.0)     Gray{Float32}(0.0)\n",
       " Gray{Float32}(0.0)  Gray{Float32}(0.0)     Gray{Float32}(0.0)\n",
       " Gray{Float32}(0.0)  Gray{Float32}(0.0)  …  Gray{Float32}(0.0)\n",
       " Gray{Float32}(0.0)  Gray{Float32}(0.0)     Gray{Float32}(0.0)\n",
       " Gray{Float32}(0.0)  Gray{Float32}(0.0)     Gray{Float32}(0.0)\n",
       " Gray{Float32}(0.0)  Gray{Float32}(0.0)     Gray{Float32}(0.0)\n",
       " Gray{Float32}(0.0)  Gray{Float32}(0.0)     Gray{Float32}(0.0)\n",
       " Gray{Float32}(0.0)  Gray{Float32}(0.0)  …  Gray{Float32}(0.0)"
      ]
     },
     "metadata": {},
     "output_type": "display_data"
    },
    {
     "data": {
      "image/png": "iVBORw0KGgoAAAANSUhEUgAAAHAAAABwAQAAAADum8nmAAAABGdBTUEAALGPC/xhBQAAACBjSFJNAAB6JgAAgIQAAPoAAACA6AAAdTAAAOpgAAA6mAAAF3CculE8AAAAAmJLR0QAAd2KE6QAAAAjSURBVDjLY2AYBUMCyP///2+USxaXwf4/A324o2AUjAJKAABwkEnqHMrsgwAAAABJRU5ErkJggg==",
      "text/plain": [
       "16×16 reinterpret(Gray{Float32}, ::Array{Float32,2}):\n",
       " Gray{Float32}(0.0)  Gray{Float32}(0.0)  …  Gray{Float32}(0.0)\n",
       " Gray{Float32}(0.0)  Gray{Float32}(0.0)     Gray{Float32}(0.0)\n",
       " Gray{Float32}(0.0)  Gray{Float32}(0.0)     Gray{Float32}(0.0)\n",
       " Gray{Float32}(0.0)  Gray{Float32}(0.0)     Gray{Float32}(0.0)\n",
       " Gray{Float32}(0.0)  Gray{Float32}(0.0)     Gray{Float32}(0.0)\n",
       " Gray{Float32}(0.0)  Gray{Float32}(0.0)  …  Gray{Float32}(0.0)\n",
       " Gray{Float32}(0.0)  Gray{Float32}(0.0)     Gray{Float32}(0.0)\n",
       " Gray{Float32}(0.0)  Gray{Float32}(0.0)     Gray{Float32}(0.0)\n",
       " Gray{Float32}(0.0)  Gray{Float32}(0.0)     Gray{Float32}(0.0)\n",
       " Gray{Float32}(0.0)  Gray{Float32}(0.0)     Gray{Float32}(0.0)\n",
       " Gray{Float32}(0.0)  Gray{Float32}(0.0)  …  Gray{Float32}(0.0)\n",
       " Gray{Float32}(0.0)  Gray{Float32}(0.0)     Gray{Float32}(0.0)\n",
       " Gray{Float32}(0.0)  Gray{Float32}(0.0)     Gray{Float32}(0.0)\n",
       " Gray{Float32}(0.0)  Gray{Float32}(0.0)     Gray{Float32}(0.0)\n",
       " Gray{Float32}(0.0)  Gray{Float32}(0.0)     Gray{Float32}(0.0)\n",
       " Gray{Float32}(0.0)  Gray{Float32}(0.0)  …  Gray{Float32}(0.0)"
      ]
     },
     "metadata": {},
     "output_type": "display_data"
    },
    {
     "data": {
      "image/png": "iVBORw0KGgoAAAANSUhEUgAAAHAAAABwAQAAAADum8nmAAAABGdBTUEAALGPC/xhBQAAACBjSFJNAAB6JgAAgIQAAPoAAACA6AAAdTAAAOpgAAA6mAAAF3CculE8AAAAAmJLR0QAAd2KE6QAAAAlSURBVDjLY2AYBaMACfD//99AL+7/4cVlkEfxIA25o2AUDE8AALPpR9ZpS1+PAAAAAElFTkSuQmCC",
      "text/plain": [
       "16×16 reinterpret(Gray{Float32}, ::Array{Float32,2}):\n",
       " Gray{Float32}(0.0)  Gray{Float32}(0.0)  …  Gray{Float32}(0.0)\n",
       " Gray{Float32}(0.0)  Gray{Float32}(0.0)     Gray{Float32}(0.0)\n",
       " Gray{Float32}(0.0)  Gray{Float32}(0.0)     Gray{Float32}(0.0)\n",
       " Gray{Float32}(0.0)  Gray{Float32}(0.0)     Gray{Float32}(0.0)\n",
       " Gray{Float32}(0.0)  Gray{Float32}(0.0)     Gray{Float32}(0.0)\n",
       " Gray{Float32}(0.0)  Gray{Float32}(0.0)  …  Gray{Float32}(0.0)\n",
       " Gray{Float32}(0.0)  Gray{Float32}(0.0)     Gray{Float32}(0.0)\n",
       " Gray{Float32}(0.0)  Gray{Float32}(0.0)     Gray{Float32}(0.0)\n",
       " Gray{Float32}(0.0)  Gray{Float32}(0.0)     Gray{Float32}(0.0)\n",
       " Gray{Float32}(0.0)  Gray{Float32}(0.0)     Gray{Float32}(0.0)\n",
       " Gray{Float32}(0.0)  Gray{Float32}(0.0)  …  Gray{Float32}(0.0)\n",
       " Gray{Float32}(0.0)  Gray{Float32}(0.0)     Gray{Float32}(0.0)\n",
       " Gray{Float32}(0.0)  Gray{Float32}(0.0)     Gray{Float32}(0.0)\n",
       " Gray{Float32}(0.0)  Gray{Float32}(0.0)     Gray{Float32}(0.0)\n",
       " Gray{Float32}(0.0)  Gray{Float32}(0.0)     Gray{Float32}(0.0)\n",
       " Gray{Float32}(0.0)  Gray{Float32}(0.0)  …  Gray{Float32}(0.0)"
      ]
     },
     "metadata": {},
     "output_type": "display_data"
    },
    {
     "data": {
      "image/png": "iVBORw0KGgoAAAANSUhEUgAAAHAAAABwAQAAAADum8nmAAAABGdBTUEAALGPC/xhBQAAACBjSFJNAAB6JgAAgIQAAPoAAACA6AAAdTAAAOpgAAA6mAAAF3CculE8AAAAAmJLR0QAAd2KE6QAAAAhSURBVDjLY2AYBaNgFFAJ1P+jD9f+//8/o1yyuKNgMAMAr0ROGWEZeAsAAAAASUVORK5CYII=",
      "text/plain": [
       "16×16 reinterpret(Gray{Float32}, ::Array{Float32,2}):\n",
       " Gray{Float32}(0.0)  Gray{Float32}(0.0)  …  Gray{Float32}(0.0)\n",
       " Gray{Float32}(0.0)  Gray{Float32}(0.0)     Gray{Float32}(0.0)\n",
       " Gray{Float32}(0.0)  Gray{Float32}(0.0)     Gray{Float32}(0.0)\n",
       " Gray{Float32}(0.0)  Gray{Float32}(0.0)     Gray{Float32}(0.0)\n",
       " Gray{Float32}(0.0)  Gray{Float32}(0.0)     Gray{Float32}(0.0)\n",
       " Gray{Float32}(0.0)  Gray{Float32}(0.0)  …  Gray{Float32}(0.0)\n",
       " Gray{Float32}(0.0)  Gray{Float32}(0.0)     Gray{Float32}(0.0)\n",
       " Gray{Float32}(0.0)  Gray{Float32}(0.0)     Gray{Float32}(0.0)\n",
       " Gray{Float32}(0.0)  Gray{Float32}(0.0)     Gray{Float32}(0.0)\n",
       " Gray{Float32}(0.0)  Gray{Float32}(0.0)     Gray{Float32}(0.0)\n",
       " Gray{Float32}(0.0)  Gray{Float32}(0.0)  …  Gray{Float32}(0.0)\n",
       " Gray{Float32}(0.0)  Gray{Float32}(0.0)     Gray{Float32}(0.0)\n",
       " Gray{Float32}(0.0)  Gray{Float32}(0.0)     Gray{Float32}(0.0)\n",
       " Gray{Float32}(0.0)  Gray{Float32}(0.0)     Gray{Float32}(0.0)\n",
       " Gray{Float32}(0.0)  Gray{Float32}(0.0)     Gray{Float32}(0.0)\n",
       " Gray{Float32}(0.0)  Gray{Float32}(0.0)  …  Gray{Float32}(0.0)"
      ]
     },
     "metadata": {},
     "output_type": "display_data"
    },
    {
     "data": {
      "image/png": "iVBORw0KGgoAAAANSUhEUgAAAHAAAABwAQAAAADum8nmAAAABGdBTUEAALGPC/xhBQAAACBjSFJNAAB6JgAAgIQAAPoAAACA6AAAdTAAAOpgAAA6mAAAF3CculE8AAAAAmJLR0QAAd2KE6QAAAAiSURBVDjLY2AYBeQD9v//D9CDy/x/uHHpFnSjYBSMgiEDAPO/W0fdS90rAAAAAElFTkSuQmCC",
      "text/plain": [
       "16×16 reinterpret(Gray{Float32}, ::Array{Float32,2}):\n",
       " Gray{Float32}(0.0)  Gray{Float32}(0.0)  …  Gray{Float32}(0.0)\n",
       " Gray{Float32}(0.0)  Gray{Float32}(0.0)     Gray{Float32}(0.0)\n",
       " Gray{Float32}(0.0)  Gray{Float32}(0.0)     Gray{Float32}(0.0)\n",
       " Gray{Float32}(0.0)  Gray{Float32}(0.0)     Gray{Float32}(0.0)\n",
       " Gray{Float32}(0.0)  Gray{Float32}(0.0)     Gray{Float32}(0.0)\n",
       " Gray{Float32}(0.0)  Gray{Float32}(0.0)  …  Gray{Float32}(0.0)\n",
       " Gray{Float32}(0.0)  Gray{Float32}(0.0)     Gray{Float32}(0.0)\n",
       " Gray{Float32}(0.0)  Gray{Float32}(0.0)     Gray{Float32}(0.0)\n",
       " Gray{Float32}(0.0)  Gray{Float32}(0.0)     Gray{Float32}(0.0)\n",
       " Gray{Float32}(0.0)  Gray{Float32}(0.0)     Gray{Float32}(0.0)\n",
       " Gray{Float32}(0.0)  Gray{Float32}(0.0)  …  Gray{Float32}(0.0)\n",
       " Gray{Float32}(0.0)  Gray{Float32}(0.0)     Gray{Float32}(0.0)\n",
       " Gray{Float32}(0.0)  Gray{Float32}(0.0)     Gray{Float32}(0.0)\n",
       " Gray{Float32}(0.0)  Gray{Float32}(0.0)     Gray{Float32}(0.0)\n",
       " Gray{Float32}(0.0)  Gray{Float32}(0.0)     Gray{Float32}(0.0)\n",
       " Gray{Float32}(0.0)  Gray{Float32}(0.0)  …  Gray{Float32}(0.0)"
      ]
     },
     "metadata": {},
     "output_type": "display_data"
    },
    {
     "data": {
      "image/png": "iVBORw0KGgoAAAANSUhEUgAAAHAAAABwAQAAAADum8nmAAAABGdBTUEAALGPC/xhBQAAACBjSFJNAAB6JgAAgIQAAPoAAACA6AAAdTAAAOpgAAA6mAAAF3CculE8AAAAAmJLR0QAAd2KE6QAAAAjSURBVDjLY2AYBaNgYID9//9/RrlkcRnq/zHQhzsKRgEdAQCz4U4ZM1ZeVQAAAABJRU5ErkJggg==",
      "text/plain": [
       "16×16 reinterpret(Gray{Float32}, ::Array{Float32,2}):\n",
       " Gray{Float32}(0.0)  Gray{Float32}(0.0)  …  Gray{Float32}(0.0)\n",
       " Gray{Float32}(0.0)  Gray{Float32}(0.0)     Gray{Float32}(0.0)\n",
       " Gray{Float32}(0.0)  Gray{Float32}(0.0)     Gray{Float32}(0.0)\n",
       " Gray{Float32}(0.0)  Gray{Float32}(0.0)     Gray{Float32}(0.0)\n",
       " Gray{Float32}(0.0)  Gray{Float32}(0.0)     Gray{Float32}(0.0)\n",
       " Gray{Float32}(0.0)  Gray{Float32}(0.0)  …  Gray{Float32}(0.0)\n",
       " Gray{Float32}(0.0)  Gray{Float32}(0.0)     Gray{Float32}(0.0)\n",
       " Gray{Float32}(0.0)  Gray{Float32}(0.0)     Gray{Float32}(0.0)\n",
       " Gray{Float32}(0.0)  Gray{Float32}(0.0)     Gray{Float32}(0.0)\n",
       " Gray{Float32}(0.0)  Gray{Float32}(0.0)     Gray{Float32}(0.0)\n",
       " Gray{Float32}(0.0)  Gray{Float32}(0.0)  …  Gray{Float32}(0.0)\n",
       " Gray{Float32}(0.0)  Gray{Float32}(0.0)     Gray{Float32}(0.0)\n",
       " Gray{Float32}(0.0)  Gray{Float32}(0.0)     Gray{Float32}(0.0)\n",
       " Gray{Float32}(0.0)  Gray{Float32}(0.0)     Gray{Float32}(0.0)\n",
       " Gray{Float32}(0.0)  Gray{Float32}(0.0)     Gray{Float32}(0.0)\n",
       " Gray{Float32}(0.0)  Gray{Float32}(0.0)  …  Gray{Float32}(0.0)"
      ]
     },
     "metadata": {},
     "output_type": "display_data"
    },
    {
     "data": {
      "image/png": "iVBORw0KGgoAAAANSUhEUgAAAHAAAABwAQAAAADum8nmAAAABGdBTUEAALGPC/xhBQAAACBjSFJNAAB6JgAAgIQAAPoAAACA6AAAdTAAAOpgAAA6mAAAF3CculE8AAAAAmJLR0QAAd2KE6QAAAAhSURBVDjLY2AYBRQA/v//G+jF/T/suPQJulEwCkbBEAEALS9OX6s1axQAAAAASUVORK5CYII=",
      "text/plain": [
       "16×16 reinterpret(Gray{Float32}, ::Array{Float32,2}):\n",
       " Gray{Float32}(0.0)  Gray{Float32}(0.0)  …  Gray{Float32}(0.0)\n",
       " Gray{Float32}(0.0)  Gray{Float32}(0.0)     Gray{Float32}(0.0)\n",
       " Gray{Float32}(0.0)  Gray{Float32}(0.0)     Gray{Float32}(0.0)\n",
       " Gray{Float32}(0.0)  Gray{Float32}(0.0)     Gray{Float32}(0.0)\n",
       " Gray{Float32}(0.0)  Gray{Float32}(0.0)     Gray{Float32}(0.0)\n",
       " Gray{Float32}(0.0)  Gray{Float32}(0.0)  …  Gray{Float32}(0.0)\n",
       " Gray{Float32}(0.0)  Gray{Float32}(0.0)     Gray{Float32}(0.0)\n",
       " Gray{Float32}(0.0)  Gray{Float32}(0.0)     Gray{Float32}(0.0)\n",
       " Gray{Float32}(0.0)  Gray{Float32}(0.0)     Gray{Float32}(0.0)\n",
       " Gray{Float32}(0.0)  Gray{Float32}(0.0)     Gray{Float32}(0.0)\n",
       " Gray{Float32}(0.0)  Gray{Float32}(0.0)  …  Gray{Float32}(0.0)\n",
       " Gray{Float32}(0.0)  Gray{Float32}(0.0)     Gray{Float32}(0.0)\n",
       " Gray{Float32}(0.0)  Gray{Float32}(0.0)     Gray{Float32}(0.0)\n",
       " Gray{Float32}(0.0)  Gray{Float32}(0.0)     Gray{Float32}(0.0)\n",
       " Gray{Float32}(0.0)  Gray{Float32}(0.0)     Gray{Float32}(0.0)\n",
       " Gray{Float32}(0.0)  Gray{Float32}(0.0)  …  Gray{Float32}(0.0)"
      ]
     },
     "metadata": {},
     "output_type": "display_data"
    },
    {
     "data": {
      "image/png": "iVBORw0KGgoAAAANSUhEUgAAAHAAAABwAQAAAADum8nmAAAABGdBTUEAALGPC/xhBQAAACBjSFJNAAB6JgAAgIQAAPoAAACA6AAAdTAAAOpgAAA6mAAAF3CculE8AAAAAmJLR0QAAd2KE6QAAAAjSURBVDjLY2AYBUMD2P///2eUSxaXof4fA324o2AUjAIKAADHUU4ZjHCAjAAAAABJRU5ErkJggg==",
      "text/plain": [
       "16×16 reinterpret(Gray{Float32}, ::Array{Float32,2}):\n",
       " Gray{Float32}(0.0)  Gray{Float32}(0.0)  …  Gray{Float32}(0.0)\n",
       " Gray{Float32}(0.0)  Gray{Float32}(0.0)     Gray{Float32}(0.0)\n",
       " Gray{Float32}(0.0)  Gray{Float32}(0.0)     Gray{Float32}(0.0)\n",
       " Gray{Float32}(0.0)  Gray{Float32}(0.0)     Gray{Float32}(0.0)\n",
       " Gray{Float32}(0.0)  Gray{Float32}(0.0)     Gray{Float32}(0.0)\n",
       " Gray{Float32}(0.0)  Gray{Float32}(0.0)  …  Gray{Float32}(0.0)\n",
       " Gray{Float32}(0.0)  Gray{Float32}(0.0)     Gray{Float32}(0.0)\n",
       " Gray{Float32}(0.0)  Gray{Float32}(0.0)     Gray{Float32}(0.0)\n",
       " Gray{Float32}(0.0)  Gray{Float32}(0.0)     Gray{Float32}(0.0)\n",
       " Gray{Float32}(0.0)  Gray{Float32}(0.0)     Gray{Float32}(0.0)\n",
       " Gray{Float32}(0.0)  Gray{Float32}(0.0)  …  Gray{Float32}(0.0)\n",
       " Gray{Float32}(0.0)  Gray{Float32}(0.0)     Gray{Float32}(0.0)\n",
       " Gray{Float32}(0.0)  Gray{Float32}(0.0)     Gray{Float32}(0.0)\n",
       " Gray{Float32}(0.0)  Gray{Float32}(0.0)     Gray{Float32}(0.0)\n",
       " Gray{Float32}(0.0)  Gray{Float32}(0.0)     Gray{Float32}(0.0)\n",
       " Gray{Float32}(0.0)  Gray{Float32}(0.0)  …  Gray{Float32}(0.0)"
      ]
     },
     "metadata": {},
     "output_type": "display_data"
    },
    {
     "data": {
      "image/png": "iVBORw0KGgoAAAANSUhEUgAAAHAAAABwAQAAAADum8nmAAAABGdBTUEAALGPC/xhBQAAACBjSFJNAAB6JgAAgIQAAPoAAACA6AAAdTAAAOpgAAA6mAAAF3CculE8AAAAAmJLR0QAAd2KE6QAAAAgSURBVDjLY2AYBUMCyP//Tzfuv2HHpU/QjYJRMAooAgD9BUkRdSe7mAAAAABJRU5ErkJggg==",
      "text/plain": [
       "16×16 reinterpret(Gray{Float32}, ::Array{Float32,2}):\n",
       " Gray{Float32}(0.0)  Gray{Float32}(0.0)  …  Gray{Float32}(0.0)\n",
       " Gray{Float32}(0.0)  Gray{Float32}(0.0)     Gray{Float32}(0.0)\n",
       " Gray{Float32}(0.0)  Gray{Float32}(0.0)     Gray{Float32}(0.0)\n",
       " Gray{Float32}(0.0)  Gray{Float32}(0.0)     Gray{Float32}(0.0)\n",
       " Gray{Float32}(0.0)  Gray{Float32}(0.0)     Gray{Float32}(0.0)\n",
       " Gray{Float32}(0.0)  Gray{Float32}(0.0)  …  Gray{Float32}(0.0)\n",
       " Gray{Float32}(0.0)  Gray{Float32}(0.0)     Gray{Float32}(0.0)\n",
       " Gray{Float32}(0.0)  Gray{Float32}(0.0)     Gray{Float32}(0.0)\n",
       " Gray{Float32}(0.0)  Gray{Float32}(0.0)     Gray{Float32}(0.0)\n",
       " Gray{Float32}(0.0)  Gray{Float32}(0.0)     Gray{Float32}(0.0)\n",
       " Gray{Float32}(0.0)  Gray{Float32}(0.0)  …  Gray{Float32}(0.0)\n",
       " Gray{Float32}(0.0)  Gray{Float32}(0.0)     Gray{Float32}(0.0)\n",
       " Gray{Float32}(0.0)  Gray{Float32}(0.0)     Gray{Float32}(0.0)\n",
       " Gray{Float32}(0.0)  Gray{Float32}(0.0)     Gray{Float32}(0.0)\n",
       " Gray{Float32}(0.0)  Gray{Float32}(0.0)     Gray{Float32}(0.0)\n",
       " Gray{Float32}(0.0)  Gray{Float32}(0.0)  …  Gray{Float32}(0.0)"
      ]
     },
     "metadata": {},
     "output_type": "display_data"
    },
    {
     "data": {
      "image/png": "iVBORw0KGgoAAAANSUhEUgAAAHAAAABwAQAAAADum8nmAAAABGdBTUEAALGPC/xhBQAAACBjSFJNAAB6JgAAgIQAAPoAAACA6AAAdTAAAOpgAAA6mAAAF3CculE8AAAAAmJLR0QAAd2KE6QAAAAhSURBVDjLY2CgL6j//4cuXPv/w41Lt6AbBaNgFIyCAQEAZ9xPy1i719wAAAAASUVORK5CYII=",
      "text/plain": [
       "16×16 reinterpret(Gray{Float32}, ::Array{Float32,2}):\n",
       " Gray{Float32}(0.0)  Gray{Float32}(0.0)  …  Gray{Float32}(0.0)\n",
       " Gray{Float32}(0.0)  Gray{Float32}(0.0)     Gray{Float32}(0.0)\n",
       " Gray{Float32}(0.0)  Gray{Float32}(0.0)     Gray{Float32}(0.0)\n",
       " Gray{Float32}(0.0)  Gray{Float32}(0.0)     Gray{Float32}(0.0)\n",
       " Gray{Float32}(0.0)  Gray{Float32}(0.0)     Gray{Float32}(0.0)\n",
       " Gray{Float32}(0.0)  Gray{Float32}(0.0)  …  Gray{Float32}(0.0)\n",
       " Gray{Float32}(0.0)  Gray{Float32}(0.0)     Gray{Float32}(0.0)\n",
       " Gray{Float32}(0.0)  Gray{Float32}(0.0)     Gray{Float32}(0.0)\n",
       " Gray{Float32}(0.0)  Gray{Float32}(0.0)     Gray{Float32}(0.0)\n",
       " Gray{Float32}(0.0)  Gray{Float32}(0.0)     Gray{Float32}(0.0)\n",
       " Gray{Float32}(0.0)  Gray{Float32}(0.0)  …  Gray{Float32}(0.0)\n",
       " Gray{Float32}(0.0)  Gray{Float32}(0.0)     Gray{Float32}(0.0)\n",
       " Gray{Float32}(0.0)  Gray{Float32}(0.0)     Gray{Float32}(0.0)\n",
       " Gray{Float32}(0.0)  Gray{Float32}(0.0)     Gray{Float32}(0.0)\n",
       " Gray{Float32}(0.0)  Gray{Float32}(0.0)     Gray{Float32}(0.0)\n",
       " Gray{Float32}(0.0)  Gray{Float32}(0.0)  …  Gray{Float32}(0.0)"
      ]
     },
     "metadata": {},
     "output_type": "display_data"
    }
   ],
   "source": [
    "draw_first_images_forehead(Array(dtrn_y1))"
   ]
  },
  {
   "cell_type": "code",
   "execution_count": 104,
   "metadata": {},
   "outputs": [
    {
     "data": {
      "image/png": "iVBORw0KGgoAAAANSUhEUgAAAHAAAABwCAAAAADji6uXAAAABGdBTUEAALGPC/xhBQAAACBjSFJNAAB6JgAAgIQAAPoAAACA6AAAdTAAAOpgAAA6mAAAF3CculE8AAAAAmJLR0QA/4ePzL8AAAHYSURBVGje7VrLTsMwELQTl5dACAQ3JH6A//8H/gJxQOKCeFMaknKYQWKkVWkuRI5mL6PYWU9tebq7dnKTUkopDYCcfhuf1n8/bTK+0gj8n5nQhKOt6L7WPR/aJuWkaLCJZ2hCE462oo+6yxtpJAzi2AMWgE78enkaJpqhCU042nIYGNiomtkFrKRvFbkP0SuHE83QhCYcbXG0CBuXgIX0USudjNaJXwtwtDBhNYQ5LKSLAJMh/t2/Sd9SfreKrIuGnv+SmrB+whIW2VpGUBYv0thGo2lKFZ5uzX9JTVg/YQmjxRc7pe8ccA84AmjJ3YrfE2CYdoYmNOFoy4rKrwdSLCP0fImJ0hmAkrkE3AIoEtcWJqyGsGhBTKNIGAMYOy4AN4BTwKP4HQBeAa2M8jnRDE1owtFW+Oev6tAzJMriDkAHVt4fgBNpvAJcA/ZkzPkvqQnrJ8xbXGhrEkUhcLNTJDvSxzcZH5iKOYkyYTWEP7I4BjwDWA4wTOi5FM9p3wH7AKqDCtC0qZcx57+kJqyfMGtBrBcPawGmVFpyh8oJP5RyEmXCaggzGbWM0GgR1h16oquXGX00pmVhwmoIs17LMf3RwoEiYf3wQEdAJ+5bfHQ+/yU1Yf2E39GTYcn7J85vAAAAAElFTkSuQmCC",
      "text/plain": [
       "16×16 reinterpret(Gray{Float32}, ::Array{Float32,2}):\n",
       " Gray{Float32}(0.00692029)  …  Gray{Float32}(0.00636603)\n",
       " Gray{Float32}(0.00196676)     Gray{Float32}(0.00790757)\n",
       " Gray{Float32}(0.00278336)     Gray{Float32}(0.00540282)\n",
       " Gray{Float32}(0.00521227)     Gray{Float32}(0.0513932)\n",
       " Gray{Float32}(0.00325763)     Gray{Float32}(0.0442857)\n",
       " Gray{Float32}(0.00391191)  …  Gray{Float32}(0.0153797)\n",
       " Gray{Float32}(0.001248)       Gray{Float32}(0.0104858)\n",
       " Gray{Float32}(0.00347091)     Gray{Float32}(0.012607)\n",
       " Gray{Float32}(0.00123384)     Gray{Float32}(0.0192274)\n",
       " Gray{Float32}(0.0134665)      Gray{Float32}(0.0200064)\n",
       " Gray{Float32}(0.00183798)  …  Gray{Float32}(0.0238137)\n",
       " Gray{Float32}(0.00571171)     Gray{Float32}(0.0031964)\n",
       " Gray{Float32}(0.00436117)     Gray{Float32}(0.0265189)\n",
       " Gray{Float32}(0.0139516)      Gray{Float32}(0.00685437)\n",
       " Gray{Float32}(0.00594686)     Gray{Float32}(0.00290025)\n",
       " Gray{Float32}(0.0124937)   …  Gray{Float32}(0.00182587)"
      ]
     },
     "metadata": {},
     "output_type": "display_data"
    },
    {
     "data": {
      "image/png": "iVBORw0KGgoAAAANSUhEUgAAAHAAAABwCAAAAADji6uXAAAABGdBTUEAALGPC/xhBQAAACBjSFJNAAB6JgAAgIQAAPoAAACA6AAAdTAAAOpgAAA6mAAAF3CculE8AAAAAmJLR0QA/4ePzL8AAAG+SURBVGje7ZrLboQwDEUThpm+1G6q/v/vdVdVfU4ZoAtfpJ7KRZNNoyB7c2VwcnEUYzuQu5RSSmlKP0UX5/S3ZJisaRzQpX+WIAzCYundqxOeRlqGyRnx4EbV9pc0CNsnzGsqk0b2xs+eiRsPkS2CsBnCfq3gkexw8WDwpfEGAywHDJhhuf0lDcL2CTMjQHtXO1kRcMI9aXuDIyyPsBzh01zJwyAMwmJxK6Plre/uZMXD6E0z4R5bk66Sh0EYhMXyKywYD5cGqomUAyZoI+DB4BFzs2Pf/pIGYfuE52QLVk+MB9ZZHbQEy4tKHgZhEBZLwUnUlYFyh2opJZQXAyaUAVotD4MwCIulXztTZb3Es6dPg2sMV5YZvcl2lTwMwiAslp5fHAgsogY84h2muTU4YJx7Trv9JQ3C9gl799s13/oDNAXJs8G9wZPBjcG7AVvuWh4GYRAWy/LzB1/pbs+se6/QWBrN3j2Fxb6Sh0EYhMWyhIW28Ama4kH9w4eBOu83A/XaE0xcOVbyMAiDsFgyuwl+qWAfvvZ/yLwygBe3v6RB2D5hZqUjfrXO/BlKuUMHUtzskzd3/FgehI0SfgNSF2XkUYUsywAAAABJRU5ErkJggg==",
      "text/plain": [
       "16×16 reinterpret(Gray{Float32}, ::Array{Float32,2}):\n",
       " Gray{Float32}(0.00620149)   …  Gray{Float32}(0.00925478)\n",
       " Gray{Float32}(0.00642519)      Gray{Float32}(0.00353143)\n",
       " Gray{Float32}(0.00144005)      Gray{Float32}(0.007303)\n",
       " Gray{Float32}(0.00508451)      Gray{Float32}(0.0255063)\n",
       " Gray{Float32}(0.00412274)      Gray{Float32}(0.0211697)\n",
       " Gray{Float32}(0.00146151)   …  Gray{Float32}(0.0170668)\n",
       " Gray{Float32}(0.00140943)      Gray{Float32}(0.00656272)\n",
       " Gray{Float32}(0.00128121)      Gray{Float32}(0.0283804)\n",
       " Gray{Float32}(0.000821364)     Gray{Float32}(0.00512582)\n",
       " Gray{Float32}(0.00238579)      Gray{Float32}(0.0173711)\n",
       " Gray{Float32}(0.00185252)   …  Gray{Float32}(0.0128742)\n",
       " Gray{Float32}(0.0033892)       Gray{Float32}(0.00875699)\n",
       " Gray{Float32}(0.0028218)       Gray{Float32}(0.0256676)\n",
       " Gray{Float32}(0.00520694)      Gray{Float32}(0.00113222)\n",
       " Gray{Float32}(0.00480756)      Gray{Float32}(0.00135097)\n",
       " Gray{Float32}(0.0116436)    …  Gray{Float32}(0.0027741)"
      ]
     },
     "metadata": {},
     "output_type": "display_data"
    },
    {
     "data": {
      "image/png": "iVBORw0KGgoAAAANSUhEUgAAAHAAAABwCAAAAADji6uXAAAABGdBTUEAALGPC/xhBQAAACBjSFJNAAB6JgAAgIQAAPoAAACA6AAAdTAAAOpgAAA6mAAAF3CculE8AAAAAmJLR0QA/4ePzL8AAAHhSURBVGje7Zo7T8QwEITtu9wdDyFBhYRERc9v4LfzC6gpaehAPI575yhmCgatQiwhQqLZ5pPtOGNHu1nbSc4ppZTSPn21UVQZWti9qXL08z1/1yxowWLL7RvV2VuU6uguw3+kFuy/YG5fm6O2CbABZsBCJqPRMfxHasH+C1bhe55Gn6dfV8AY2AIz6T6Sylraxh3N0IIWLLYchsVYQDsD5gBDZi3jZqzsgFpw0NEMLWjBYsvh/oGYSdsxwHh4BY6AN4CuzyXVFHgGnC0s2BvBKjxtYlhsZVDMAacAvZyu/y5gh/m/mKEFLVhs8d6ikhKTBoOErv8BMD9M5EpmC11Lecttwd4I5m+UYdDn6deXwCK6zQuwAvbSj+E06WiGFrRgseXwLJZvfb7uTwDmhyvgHrgBboFr4A64AB4A7y0s2BvBeMtN41rqEGAqYAqZyoCZLZo+X3Q1QwtasNgqLer3h42U9CyWJ1HMJEuA8bCSK3fdztCCFiy2HH67Dn/pYATRy/VTH1dIq6hfksrhP1IL9l8w09nVven6Gg/bhtIuamPuWHY7QwtasNiy/izb/ndA7i3W0lZHVyapHP4jtWD/BSvmB7ow99PcMTwB58CjDJEZgdERrp6a/ln/O7OgBYvtE8uMXfw7iTRmAAAAAElFTkSuQmCC",
      "text/plain": [
       "16×16 reinterpret(Gray{Float32}, ::Array{Float32,2}):\n",
       " Gray{Float32}(0.00341201)   …  Gray{Float32}(0.00640359)\n",
       " Gray{Float32}(0.00141547)      Gray{Float32}(0.00459955)\n",
       " Gray{Float32}(0.000732213)     Gray{Float32}(0.00862659)\n",
       " Gray{Float32}(0.00296532)      Gray{Float32}(0.0212865)\n",
       " Gray{Float32}(0.00244648)      Gray{Float32}(0.0426826)\n",
       " Gray{Float32}(0.00307251)   …  Gray{Float32}(0.0163641)\n",
       " Gray{Float32}(0.000389316)     Gray{Float32}(0.0141456)\n",
       " Gray{Float32}(0.00208978)      Gray{Float32}(0.0197282)\n",
       " Gray{Float32}(0.00138945)      Gray{Float32}(0.0196119)\n",
       " Gray{Float32}(0.00475185)      Gray{Float32}(0.0165241)\n",
       " Gray{Float32}(0.00212022)   …  Gray{Float32}(0.0153543)\n",
       " Gray{Float32}(0.00429642)      Gray{Float32}(0.00278859)\n",
       " Gray{Float32}(0.00488652)      Gray{Float32}(0.00907441)\n",
       " Gray{Float32}(0.0154364)       Gray{Float32}(0.00288417)\n",
       " Gray{Float32}(0.00837038)      Gray{Float32}(0.00283916)\n",
       " Gray{Float32}(0.0206397)    …  Gray{Float32}(0.00454596)"
      ]
     },
     "metadata": {},
     "output_type": "display_data"
    },
    {
     "data": {
      "image/png": "iVBORw0KGgoAAAANSUhEUgAAAHAAAABwCAAAAADji6uXAAAABGdBTUEAALGPC/xhBQAAACBjSFJNAAB6JgAAgIQAAPoAAACA6AAAdTAAAOpgAAA6mAAAF3CculE8AAAAAmJLR0QA/4ePzL8AAAHQSURBVGje7VrBSsQwEG22dXcRVBAE8ewP+P83v0LvngRhPbnbra2H9zw8GIJBaEl5c3k0yeQ1YaaTmSY1kSTAJE+5kU2kMAlsBOYTE5qwWJKacDzmfxTqK+vfUhPWT1hg8vpuHeBb+gh0hHOksP4tNWH9hF3uvKRPLWAvjTvAAOhlFZPoqQPNJyY0YbF0+hh6B8e00ngJ6EWPQCfZAo6A3UIrNKEJiyXlWhXoCIwW/PjTEa4A74BHwKuoa+Y9n5jQhMUSuwUDAy2ZX30Gjb1AmFt8AkbAl6ivf0tNWD9h94daLM2b0aKVpxPgHvACGATGZVdoQhMWS1ygpenToJkVMDDciAJNn05y4KSAk6ypXWiFJjRhsXR65B+j1+B56QJAR3gAvAGeAM8AnrqYjqfM1DOICU1YLCk8NulrMFrwcx8aO/uO0hdGoPVvqQnrJ/wt0IaWTH+gsV9L3y3gQ0b2Mukoc/q/hQmrIUxahFW30IgQxpXc3ZGwMrv+LTVh/YRxtND7SwTmFrzSwYRjK3qszN4BDtKnf8DnExOasFiSekAYGDSgaL01d8WwiUauf0tNWD9h0jyAf6sZEViLZaFV0+pBRmoasYkal1qhCU1YLD/g31gW/Cz+AQAAAABJRU5ErkJggg==",
      "text/plain": [
       "16×16 reinterpret(Gray{Float32}, ::Array{Float32,2}):\n",
       " Gray{Float32}(0.00185919)   …  Gray{Float32}(0.00735223)\n",
       " Gray{Float32}(0.00269325)      Gray{Float32}(0.00412764)\n",
       " Gray{Float32}(0.000897272)     Gray{Float32}(0.0181975)\n",
       " Gray{Float32}(0.00429975)      Gray{Float32}(0.0211618)\n",
       " Gray{Float32}(0.00332207)      Gray{Float32}(0.0403998)\n",
       " Gray{Float32}(0.00115721)   …  Gray{Float32}(0.0187862)\n",
       " Gray{Float32}(0.000502923)     Gray{Float32}(0.0271821)\n",
       " Gray{Float32}(0.00207057)      Gray{Float32}(0.0272579)\n",
       " Gray{Float32}(0.00222837)      Gray{Float32}(0.0306883)\n",
       " Gray{Float32}(0.00157738)      Gray{Float32}(0.0226394)\n",
       " Gray{Float32}(0.00273621)   …  Gray{Float32}(0.0163639)\n",
       " Gray{Float32}(0.00324653)      Gray{Float32}(0.00387811)\n",
       " Gray{Float32}(0.0035779)       Gray{Float32}(0.0105468)\n",
       " Gray{Float32}(0.00346254)      Gray{Float32}(0.00152868)\n",
       " Gray{Float32}(0.00309096)      Gray{Float32}(0.00155975)\n",
       " Gray{Float32}(0.0139696)    …  Gray{Float32}(0.00112147)"
      ]
     },
     "metadata": {},
     "output_type": "display_data"
    },
    {
     "data": {
      "image/png": "iVBORw0KGgoAAAANSUhEUgAAAHAAAABwCAAAAADji6uXAAAABGdBTUEAALGPC/xhBQAAACBjSFJNAAB6JgAAgIQAAPoAAACA6AAAdTAAAOpgAAA6mAAAF3CculE8AAAAAmJLR0QA/4ePzL8AAAHXSURBVGje7VrLTsMwELRbF5CgQMU/8B/8/5Ff4AoHnqVpEg47kZhoZdWXRrZmL6PYsce2PN5dJzGGEEIIY/hvXBgzdbkG7iurcGYToQiLLbmlrh5yAx7oaczUtb+kIqyfMI1e6doAdRcGvcHW4JMasIByXqb9JRVh/YSRj3TeydADdvmWCuFmvgyuDD4MoKqDwdHgeqEZilCExZbck31NgA19Z3BjAB3dGrwZbKjdnvo8LjRDEYqw2Ga5BUc6eIICIKBXA/iHbwPsecRZHfWJ5j8LzVCEIiy2SRbuHRJnyah7MnimN6EHqGOgJ+66/SUVYf2E0WVE4YMBPMLO4Nfg3gC5xYGawzGw72Cpnc9EKMJiSxwoMT8UgFwbqcKjwYvBu0FHDTiNh8lbiLAawsh3sVMpjQaBFifSyLXhLXp6BQ04iNosNEMRirDYJllgX18aICbCFdSexsa3r7iXgtPgNML99N3+koqwfsKIQxyyYKcBBeDUL/5NZEVdSxYirIZw9pXbDX9OMFcdg/dm+0sqwvoJE3/e5pM9eYXY+vAkblqdm1r7SyrC+gkT/uVA/sC5BXsLfnK1krN+oRmKUITFNvv5o6NhwCNAK25kdXqctdQMRSjCYvsDZW5lBuGtv3QAAAAASUVORK5CYII=",
      "text/plain": [
       "16×16 reinterpret(Gray{Float32}, ::Array{Float32,2}):\n",
       " Gray{Float32}(0.00277048)  …  Gray{Float32}(0.00891337)\n",
       " Gray{Float32}(0.00260952)     Gray{Float32}(0.0173494)\n",
       " Gray{Float32}(0.00105948)     Gray{Float32}(0.0194258)\n",
       " Gray{Float32}(0.00696793)     Gray{Float32}(0.0668685)\n",
       " Gray{Float32}(0.00256607)     Gray{Float32}(0.0501491)\n",
       " Gray{Float32}(0.00329474)  …  Gray{Float32}(0.0173949)\n",
       " Gray{Float32}(0.00201004)     Gray{Float32}(0.016006)\n",
       " Gray{Float32}(0.0091493)      Gray{Float32}(0.0139438)\n",
       " Gray{Float32}(0.0125393)      Gray{Float32}(0.0126203)\n",
       " Gray{Float32}(0.0109241)      Gray{Float32}(0.0414408)\n",
       " Gray{Float32}(0.0128225)   …  Gray{Float32}(0.00751962)\n",
       " Gray{Float32}(0.020264)       Gray{Float32}(0.00567094)\n",
       " Gray{Float32}(0.0151218)      Gray{Float32}(0.00274177)\n",
       " Gray{Float32}(0.00868108)     Gray{Float32}(0.0105803)\n",
       " Gray{Float32}(0.0304613)      Gray{Float32}(0.000319755)\n",
       " Gray{Float32}(0.0282959)   …  Gray{Float32}(0.000959915)"
      ]
     },
     "metadata": {},
     "output_type": "display_data"
    },
    {
     "data": {
      "image/png": "iVBORw0KGgoAAAANSUhEUgAAAHAAAABwCAAAAADji6uXAAAABGdBTUEAALGPC/xhBQAAACBjSFJNAAB6JgAAgIQAAPoAAACA6AAAdTAAAOpgAAA6mAAAF3CculE8AAAAAmJLR0QA/4ePzL8AAAHQSURBVGje7ZrNTsMwEITt1m35ERRx4wTv/0ycQZwQoNJS0oTDDIdBq0q+pDiavYw22earo13ZayfnlFJKaUiB5cjrIbMjv0vRvSy/G88MNLDacnVMFmGRzCEdpIinBTT9V2pg+8CjZTETYWiRi1eQd8gSshFvC5mfaIQGGlhtOVxE6YxwDenEY5a/QVYQVsdCfr6XoU3/lRrYPrCoy0yey81vyFoi7yBfkAfII4Q1tpUxrU40QgMNrLY/ZcGE1sbhFsJaWYt3gHB++IRcSkhYJOOZgQZWWwm3knS3iQl9DrmRkHvIE58GGSSEE4p3ogxsBli0t9DcZT+9lHuUV4j2HZw7uOpiWazk4vRfqYHtA4vWg9pG/hSz/BnCLH+BsIBYHWeQvUS65TawGWBhV8CE1qaCwo6BU8GHRDL1+RTW2E4GQ/FsYWAzwByeVjPnmewXkF5C2DF0cvEQIfhoPe8Yzww0sNqyEsMlVdh+9FFI+GFIeG88M9DAavvdoOXEwDURt1a57mGroDtKSbzwyw6951NuA5sB5oW4XAUNIrnWC0/O/U2Ugc0As55rc6UTHmbwvx3E61OlTf+VGtg+MOtRtFaHFkKSyND7jyM00MBq+wHt+F/2LdlyXQAAAABJRU5ErkJggg==",
      "text/plain": [
       "16×16 reinterpret(Gray{Float32}, ::Array{Float32,2}):\n",
       " Gray{Float32}(0.00409528)  …  Gray{Float32}(0.00370244)\n",
       " Gray{Float32}(0.00180006)     Gray{Float32}(0.00234616)\n",
       " Gray{Float32}(0.00182375)     Gray{Float32}(0.0203621)\n",
       " Gray{Float32}(0.00547495)     Gray{Float32}(0.0337264)\n",
       " Gray{Float32}(0.00266268)     Gray{Float32}(0.0617099)\n",
       " Gray{Float32}(0.00272194)  …  Gray{Float32}(0.029089)\n",
       " Gray{Float32}(0.00101966)     Gray{Float32}(0.0133304)\n",
       " Gray{Float32}(0.004783)       Gray{Float32}(0.0167506)\n",
       " Gray{Float32}(0.00193899)     Gray{Float32}(0.0238975)\n",
       " Gray{Float32}(0.0182616)      Gray{Float32}(0.017601)\n",
       " Gray{Float32}(0.00591816)  …  Gray{Float32}(0.016092)\n",
       " Gray{Float32}(0.00875987)     Gray{Float32}(0.00184561)\n",
       " Gray{Float32}(0.00621696)     Gray{Float32}(0.0117093)\n",
       " Gray{Float32}(0.018132)       Gray{Float32}(0.00132574)\n",
       " Gray{Float32}(0.00536209)     Gray{Float32}(0.000695991)\n",
       " Gray{Float32}(0.0112797)   …  Gray{Float32}(0.00123597)"
      ]
     },
     "metadata": {},
     "output_type": "display_data"
    },
    {
     "data": {
      "image/png": "iVBORw0KGgoAAAANSUhEUgAAAHAAAABwCAAAAADji6uXAAAABGdBTUEAALGPC/xhBQAAACBjSFJNAAB6JgAAgIQAAPoAAACA6AAAdTAAAOpgAAA6mAAAF3CculE8AAAAAmJLR0QA/4ePzL8AAAH5SURBVGje7Zq7TgMxEEXtxJAghXcBVPQUdPx/xS/wASAEAvGQeIZsCMXcSBzJQNzE7Gpuc+Xdse+ONbP2eDf2QgghhFn4jmike1OjvtFn+BkRrRk6JIy5PLigCxYjMpIV+groFdmAJmgx5ifo9w7LXiUPXdAFi6F4DqtGWhgGRor5IUyZAVOQHl/J1Rgpx5gdy4MLumAxUkJziNa2bIwU+odG17j3DBMlwhg+bVTy0AVdsBhJkcyFIaCltUNxvW+k0L/RMEYvRqsYRVuq+0oeuqALFiNxb8MyQhgZKXMuQcqVR1jeYRQtGmuVPHRBFyzGvOTu4+qJ0YXRsZHWlQ8j1dO3RhNcVHZon9XU9dAFXbAYkadNgooKhfem0Y6RNkpXRkdGp+iuzBn/Cw9d0AWLEbltUo2gDc+60ZbRrtGD0Z7RGfqxDpczbxil+1Pqgu0XjCqrtdNR/TDC0+jiAKQK+sDoXKOhgzADdX9KXbD9gpEf8FiA662vlFF1/QRLmWjbxANaZlW/kocu6ILFiHr585xWyP7uEdGB60MMGfjnPBdsm2BqcsL8Q4r/RGX/kGKFwu4BHbo/pS7YfsH5SVTztynf+guYZFvdn1IXbL9gysZuQCv+cnHxXKnloQu6YDGSaotXIwY7VxIW59kEyrYChu7+lLpg+wW/ALp+YyJcXOchAAAAAElFTkSuQmCC",
      "text/plain": [
       "16×16 reinterpret(Gray{Float32}, ::Array{Float32,2}):\n",
       " Gray{Float32}(0.00703703)  …  Gray{Float32}(0.0165341)\n",
       " Gray{Float32}(0.00257571)     Gray{Float32}(0.0100764)\n",
       " Gray{Float32}(0.00284005)     Gray{Float32}(0.0143311)\n",
       " Gray{Float32}(0.0188604)      Gray{Float32}(0.0872666)\n",
       " Gray{Float32}(0.00828032)     Gray{Float32}(0.0165265)\n",
       " Gray{Float32}(0.0132349)   …  Gray{Float32}(0.0493956)\n",
       " Gray{Float32}(0.00316174)     Gray{Float32}(0.0266919)\n",
       " Gray{Float32}(0.0201262)      Gray{Float32}(0.00697251)\n",
       " Gray{Float32}(0.00471252)     Gray{Float32}(0.0782139)\n",
       " Gray{Float32}(0.0310397)      Gray{Float32}(0.00711883)\n",
       " Gray{Float32}(0.00985666)  …  Gray{Float32}(0.0150787)\n",
       " Gray{Float32}(0.028425)       Gray{Float32}(0.00246182)\n",
       " Gray{Float32}(0.0129298)      Gray{Float32}(0.0159454)\n",
       " Gray{Float32}(0.0179026)      Gray{Float32}(0.000922666)\n",
       " Gray{Float32}(0.0157063)      Gray{Float32}(0.000496505)\n",
       " Gray{Float32}(0.0422925)   …  Gray{Float32}(0.00369878)"
      ]
     },
     "metadata": {},
     "output_type": "display_data"
    },
    {
     "data": {
      "image/png": "iVBORw0KGgoAAAANSUhEUgAAAHAAAABwCAAAAADji6uXAAAABGdBTUEAALGPC/xhBQAAACBjSFJNAAB6JgAAgIQAAPoAAACA6AAAdTAAAOpgAAA6mAAAF3CculE8AAAAAmJLR0QA/4ePzL8AAAHsSURBVGje7ZpLT8MwEITjNqUFCkg8JO5I/P+fxAkOPCRQeTRpKIeZHgatKnzBcjR7+WQ79sSWN+tNklITWBJ8AxNgK6WwTfupTZp/NgtaMNtS6BZTNgIzoAPmQA8sgC/gAFjLKBsZbPxLasH6BZMGhvA2WkADg1bSHwYpfURjjn9JLVi/YJpKkSXu61OAm/0IYChg0OikwyuwkA6PMvT4l9SC9QsmffjTuMu5k08ABoZLqWQ28QScASvgAVgCn4VmaEELZlvLfc1UgWepa4Bhgi6jj/tn4A24Au6AW+AeeAc2hWZoQQtmWwoz4WOpZMp9zh7AIcCIwD2vKcZa4EOUBasRbPVlqmbe3N43cgk9gO+eLgAmFZ2Mwiv7sjO0oAWzLfGEpF8cCKbcTBV4UHoBltLGDpqAq3e0hWZoQQtm2y63UCzkGi3xFvkmahXdN89LnVQOhWZoQQtm268XtPptgo979ZV11BZ+0J5LB+cWFqxGcJdy84jDA89MSnpv6gEaZTQ1oSMMZWdoQQtmW2Ie0IeNwL5/ohqpbKJLNJsf/5JasH7Bls9yxodeboPbm5FEM2j9/amRDiFKzdCCFsy2pGmEBgaW6BaDVDbSb9v81ca/pBasXzBpYAiTA3UEPROFEWGfr4x/SS1Yv+APL9FjJghhBM8AAAAASUVORK5CYII=",
      "text/plain": [
       "16×16 reinterpret(Gray{Float32}, ::Array{Float32,2}):\n",
       " Gray{Float32}(0.00428102)  …  Gray{Float32}(0.00623922)\n",
       " Gray{Float32}(0.00443798)     Gray{Float32}(0.017743)\n",
       " Gray{Float32}(0.002507)       Gray{Float32}(0.0449837)\n",
       " Gray{Float32}(0.010689)       Gray{Float32}(0.070146)\n",
       " Gray{Float32}(0.00652371)     Gray{Float32}(0.0752962)\n",
       " Gray{Float32}(0.00585083)  …  Gray{Float32}(0.050465)\n",
       " Gray{Float32}(0.00307858)     Gray{Float32}(0.0483616)\n",
       " Gray{Float32}(0.00618201)     Gray{Float32}(0.0357183)\n",
       " Gray{Float32}(0.0138597)      Gray{Float32}(0.0473288)\n",
       " Gray{Float32}(0.00990131)     Gray{Float32}(0.0342335)\n",
       " Gray{Float32}(0.0114284)   …  Gray{Float32}(0.0185469)\n",
       " Gray{Float32}(0.00393418)     Gray{Float32}(0.00275911)\n",
       " Gray{Float32}(0.0231752)      Gray{Float32}(0.00932556)\n",
       " Gray{Float32}(0.0118173)      Gray{Float32}(0.00284363)\n",
       " Gray{Float32}(0.00692677)     Gray{Float32}(0.00027668)\n",
       " Gray{Float32}(0.00825899)  …  Gray{Float32}(0.00149968)"
      ]
     },
     "metadata": {},
     "output_type": "display_data"
    },
    {
     "data": {
      "image/png": "iVBORw0KGgoAAAANSUhEUgAAAHAAAABwCAAAAADji6uXAAAABGdBTUEAALGPC/xhBQAAACBjSFJNAAB6JgAAgIQAAPoAAACA6AAAdTAAAOpgAAA6mAAAF3CculE8AAAAAmJLR0QA/4ePzL8AAAHrSURBVGje7ZrJTsMwGITrkpYCLSr7AZAQT8CVV+YxeueIhLgiJBCbQKUsXcJhpoeRTKlBapRo/ssnx3Ymjjz57SQh1H4O1uVS0roJUI+1nMjBJWm5uLCgBZMjRIv12NVwXjeALykNATpgLKU8durFhQUtmBxBfUF9TvYgpSZAB6wDD8CWlJaBV+k3LmiEFrRgcmTMAVzwsMSZvAZsAHzqd6Q/ndMGnoEuMKCEoPq31ILlF8z4EG/KUT78aYRj4A2ggUbS4R1gmngCWgDd0S5ohBa0YHJMs4VuHDaBW0CNcADQR6vAEXAGnAI9OeegoBFa0ILJEajI5zz90AVaclHEPsDccQe8AFx1XQPchTCT7BU0QgtaMDmm2YKp4B7YBi6BQ+AG2AGugE9gF7gAToBzgOZ6LGiEFrRgcgTuhOkO7jS4NNI3UX1gBeC+g3b6kJZME1xnMVto6llcWNCCyRG47uFMpjv4UUI/yzWkRHf05Wys4+6a66yOlKp/Sy1YfsFptqAD9EMc60Yz+uepQ6v+LbVg+QU58+M/agxjPfSPkNrcTfKCRmhBCyZHpmmCMZKroWXm8EPt9ybVv6UWLL9gxjezagvO60ns4F/D2cKCpREMmhEqOEILWjA5Mv0lfFb8M1sUNUILWjA5vgFaiFfq0ZXsUAAAAABJRU5ErkJggg==",
      "text/plain": [
       "16×16 reinterpret(Gray{Float32}, ::Array{Float32,2}):\n",
       " Gray{Float32}(0.00246489)  …  Gray{Float32}(0.0120087)\n",
       " Gray{Float32}(0.00183347)     Gray{Float32}(0.00863349)\n",
       " Gray{Float32}(0.00333559)     Gray{Float32}(0.0152287)\n",
       " Gray{Float32}(0.0161997)      Gray{Float32}(0.0434815)\n",
       " Gray{Float32}(0.00558058)     Gray{Float32}(0.0572462)\n",
       " Gray{Float32}(0.0140555)   …  Gray{Float32}(0.0198548)\n",
       " Gray{Float32}(0.00776072)     Gray{Float32}(0.0933245)\n",
       " Gray{Float32}(0.0188849)      Gray{Float32}(0.0182426)\n",
       " Gray{Float32}(0.0144158)      Gray{Float32}(0.0345934)\n",
       " Gray{Float32}(0.0435462)      Gray{Float32}(0.0109971)\n",
       " Gray{Float32}(0.0149506)   …  Gray{Float32}(0.00713518)\n",
       " Gray{Float32}(0.0140951)      Gray{Float32}(0.00375763)\n",
       " Gray{Float32}(0.019179)       Gray{Float32}(0.00501491)\n",
       " Gray{Float32}(0.0482766)      Gray{Float32}(0.000170617)\n",
       " Gray{Float32}(0.00885291)     Gray{Float32}(4.20719f-5)\n",
       " Gray{Float32}(0.0146805)   …  Gray{Float32}(0.00166608)"
      ]
     },
     "metadata": {},
     "output_type": "display_data"
    },
    {
     "data": {
      "image/png": "iVBORw0KGgoAAAANSUhEUgAAAHAAAABwCAAAAADji6uXAAAABGdBTUEAALGPC/xhBQAAACBjSFJNAAB6JgAAgIQAAPoAAACA6AAAdTAAAOpgAAA6mAAAF3CculE8AAAAAmJLR0QA/4ePzL8AAAHUSURBVGje7Zo7T8MwFIXttoAQr/JcEBNiY4OBf8xf4R+wwQQDCFFeooWSMJxTiVOZUC+kic5dPtmxfXwj3/g6SYwhhBBCGX5aDAnTlsmSml4jOuGfzYIWzLY4Q20XKGWKReoa+31Jd23Z/ltqweYL9rSoT3adFLEAFNJS582wYCC8ASs1eWhBC2ZbTAaCPtmPgDvgGLgFtoEHoA88AfcA42itJg8taMFsm+wWerbgSmZ0PAOHcm0H2AK4P7wAS9LyFfDZwoKNEZyERacCp8AlcAJcAGfAOfAJPAKFYFSThxa0YLZFzZ5Y6gPvwC5wIC33gRtgDFwBjI4PgPGwWJOHFrRgtkUqMoli3sM9ZANYB5alIzOrPWAAXKecGQKbNXloQQtmW2QEVL1vZTwwSAZSydM1RxlKP8YYd4vVmjy0oAWzrccI0CN3IbPhG1Yeq5khjVKV2l1jzEmUBRsjOJVE6etaruuxVAbpUFSNnUL7b6kFmy84tVtw7RZSqV/uqn73SJp+HW//LbVg8wVjV4oaAVqilX8N+ZtSTR5a0ILZ1uNq1URJl372/jBXHlrQgtkWVTH5I20x62Bz6aEFLZhtU0dunUYyXyorSjO41v5basHmC34DRDhTKqv2IMkAAAAASUVORK5CYII=",
      "text/plain": [
       "16×16 reinterpret(Gray{Float32}, ::Array{Float32,2}):\n",
       " Gray{Float32}(0.00371144)   …  Gray{Float32}(0.0103339)\n",
       " Gray{Float32}(0.000829089)     Gray{Float32}(0.0137678)\n",
       " Gray{Float32}(0.000521473)     Gray{Float32}(0.0575971)\n",
       " Gray{Float32}(0.00458027)      Gray{Float32}(0.147136)\n",
       " Gray{Float32}(0.00359657)      Gray{Float32}(0.100071)\n",
       " Gray{Float32}(0.00381463)   …  Gray{Float32}(0.0756697)\n",
       " Gray{Float32}(0.00198838)      Gray{Float32}(0.0370627)\n",
       " Gray{Float32}(0.00662886)      Gray{Float32}(0.0714404)\n",
       " Gray{Float32}(0.0168717)       Gray{Float32}(0.0560672)\n",
       " Gray{Float32}(0.0125109)       Gray{Float32}(0.0792852)\n",
       " Gray{Float32}(0.00739426)   …  Gray{Float32}(0.0120356)\n",
       " Gray{Float32}(0.00532434)      Gray{Float32}(0.0137779)\n",
       " Gray{Float32}(0.0135896)       Gray{Float32}(0.00472394)\n",
       " Gray{Float32}(0.0146236)       Gray{Float32}(0.00360796)\n",
       " Gray{Float32}(0.00898165)      Gray{Float32}(0.000903727)\n",
       " Gray{Float32}(0.00940225)   …  Gray{Float32}(0.00865574)"
      ]
     },
     "metadata": {},
     "output_type": "display_data"
    },
    {
     "data": {
      "image/png": "iVBORw0KGgoAAAANSUhEUgAAAHAAAABwCAAAAADji6uXAAAABGdBTUEAALGPC/xhBQAAACBjSFJNAAB6JgAAgIQAAPoAAACA6AAAdTAAAOpgAAA6mAAAF3CculE8AAAAAmJLR0QA/4ePzL8AAAGxSURBVGje7ZpLS8QwFIUTjW+R8YUvcCEu/AX+AP//RkTcquBKZVBRYdppXZzj4mARw4AzKeduPpp2+pGSzM1NG2MIIYTQAjxiJGAMzAMNsABUcmXVdU4Nc+Gfw0ILsyO1Xa2cAYvAEi8FBgBnxzswlqMol+is6v8jtbB8YdT8wLG7CuxI4xFwALwAd8CKNDJNPABJ0P9HamH5wtTZugHUwAXApdEp8AScA5fAK3ACvMk9myn10EILsyMxWxDHALPFIbAPbALPANPErTQyaVwBnwCnk7OFhcUIvxdRFK8DewCLCg72M2AIaD19DewCnCTMFiw46in10EILsyPSyOG9DQwAjvJGwEXUDXAPjADW78vAUE1T6qGFFmZH5BKH20UsKji814BKwLXUIzCSu+nek1bznhYWFiNMjRxy3cMhzOKAlQbr6S3gg78Hqq5eNHIzl9wWFiOM+sqOoS/3Yte5NmSGs4WFxQhj51vu38b8Hy6ZqR5aaGF2RP1Qo4c9tNDC7IgT/vnPfg8ttDA7Er/sqHvbQwstzA5nCwst/BGJRt2J0i0onTITTqD+P1ILyxd+AQA4TEDkPw6WAAAAAElFTkSuQmCC",
      "text/plain": [
       "16×16 reinterpret(Gray{Float32}, ::Array{Float32,2}):\n",
       " Gray{Float32}(0.00479676)   …  Gray{Float32}(0.00940453)\n",
       " Gray{Float32}(0.000680426)     Gray{Float32}(0.018937)\n",
       " Gray{Float32}(0.00274994)      Gray{Float32}(0.0510336)\n",
       " Gray{Float32}(0.00520105)      Gray{Float32}(0.0676642)\n",
       " Gray{Float32}(0.00807164)      Gray{Float32}(0.0729449)\n",
       " Gray{Float32}(0.00490744)   …  Gray{Float32}(0.0141896)\n",
       " Gray{Float32}(0.0083365)       Gray{Float32}(0.0179543)\n",
       " Gray{Float32}(0.0196861)       Gray{Float32}(0.0119965)\n",
       " Gray{Float32}(0.0121642)       Gray{Float32}(0.00289746)\n",
       " Gray{Float32}(0.0172041)       Gray{Float32}(0.00332615)\n",
       " Gray{Float32}(0.00475107)   …  Gray{Float32}(0.00101189)\n",
       " Gray{Float32}(0.020365)        Gray{Float32}(0.0017086)\n",
       " Gray{Float32}(0.00524312)      Gray{Float32}(0.000263457)\n",
       " Gray{Float32}(0.0168377)       Gray{Float32}(0.00010127)\n",
       " Gray{Float32}(0.00289871)      Gray{Float32}(7.75472f-6)\n",
       " Gray{Float32}(0.0136903)    …  Gray{Float32}(0.000950044)"
      ]
     },
     "metadata": {},
     "output_type": "display_data"
    },
    {
     "data": {
      "image/png": "iVBORw0KGgoAAAANSUhEUgAAAHAAAABwCAAAAADji6uXAAAABGdBTUEAALGPC/xhBQAAACBjSFJNAAB6JgAAgIQAAPoAAACA6AAAdTAAAOpgAAA6mAAAF3CculE8AAAAAmJLR0QA/4ePzL8AAAGwSURBVGje7ZpLSwMxFIWbdnxiQVRE0Y3/wLUL//9aEHEhIlTBR7Eo1art1MU5BY+E0iA1neHczUcymfm4obdJhgmh8TPGQEs6g1wrpoxkZ1NanzKk2fjnsNDC5AjTLi5Lqw18AVvAAGCtvAI7wCOwBrxnytBCC5Mj6D87q4RrwAbAeiiBfaAPHABdoAdsyn038sz6T6mF1RcW41jvkrT2gDfgBOgADwDXjiEfClwCR0A3U4YWWpgcgesDwR809z2HwC5wLK1t4ALgDukWuI/l1MmUoYUWJkfQwwVbLIu2gCeNU+AZ4PpwBqwA15LMQG6v/5RaWH1hEW2uA/wl81SwCtwBLKBzgFuxK7nGJWQEDDNlaKGFyRHUqC9hecRgPXwAfM30IkOe+DSglJbuz+o/pRZWXzhZLXQv1YoN5ZC+DOnJkOj5nUUyypShhRYmx2S1KLVXMBZo5yyKvBlaaGFyFNMuRvdEydWhN9R/Si2svjC+WkwuArMvDIuYoYUWJkeIfhM1F1OmDC20MDnCPFaEhcrQQguTo3BZWGjh7yj0U0ENvoQdSecfC6j+U2ph9YXf0bFD6RTuPOcAAAAASUVORK5CYII=",
      "text/plain": [
       "16×16 reinterpret(Gray{Float32}, ::Array{Float32,2}):\n",
       " Gray{Float32}(0.00254495)  …  Gray{Float32}(0.0107555)\n",
       " Gray{Float32}(0.00152032)     Gray{Float32}(0.0550366)\n",
       " Gray{Float32}(0.00771835)     Gray{Float32}(0.138577)\n",
       " Gray{Float32}(0.00356279)     Gray{Float32}(0.149337)\n",
       " Gray{Float32}(0.0049223)      Gray{Float32}(0.110173)\n",
       " Gray{Float32}(0.00391645)  …  Gray{Float32}(0.0462755)\n",
       " Gray{Float32}(0.002605)       Gray{Float32}(0.00962868)\n",
       " Gray{Float32}(0.00889334)     Gray{Float32}(0.0275122)\n",
       " Gray{Float32}(0.00642609)     Gray{Float32}(0.014559)\n",
       " Gray{Float32}(0.00882622)     Gray{Float32}(0.0038247)\n",
       " Gray{Float32}(0.00901377)  …  Gray{Float32}(0.00269746)\n",
       " Gray{Float32}(0.00665442)     Gray{Float32}(0.00125752)\n",
       " Gray{Float32}(0.00575448)     Gray{Float32}(0.00317895)\n",
       " Gray{Float32}(0.00554611)     Gray{Float32}(5.38464f-5)\n",
       " Gray{Float32}(0.00819005)     Gray{Float32}(0.000100975)\n",
       " Gray{Float32}(0.0172056)   …  Gray{Float32}(0.00050858)"
      ]
     },
     "metadata": {},
     "output_type": "display_data"
    },
    {
     "data": {
      "image/png": "iVBORw0KGgoAAAANSUhEUgAAAHAAAABwCAAAAADji6uXAAAABGdBTUEAALGPC/xhBQAAACBjSFJNAAB6JgAAgIQAAPoAAACA6AAAdTAAAOpgAAA6mAAAF3CculE8AAAAAmJLR0QA/4ePzL8AAAGWSURBVGje7Zk7SwNBFIVnTHxE8YWiNkpqsRb865pS/AV2YmEjiKLi+x2LcwrPOqyMi1l3Oaf5GJP12wlzc2cnMYYQQghDgKNO+JqxktGEXE5MA5ep1/TyEcRCC7MTk0OiB3wAq8A7sA5w6S8CRzKLZ+AJeK1phhZamJ2o3WJcbmMDWJARq2MF4Jo/A24B1sM1cAi81DRDCy3MTpfU6uAuiMu7D2wBm8AA2Ab2gR1gF5gDpgCtuNHFQguz09UhHxWWAVZHH5gBToE34ABgVe0BLIQLmVOvphlaaGF2opJlMQ9MAuwP3CHxW/9EbvgKYLNZA46BJeC8phlaaGF2Ct2CfrYJdoQ7gEufJfMAPMo7+XCuJcPnjk5NM7TQwuwUugX9XPr3AJsGn5lngRv5N1oWyUNfH9Ba2Bhh1BNa+rlR4mJnWegJK4tEf5SIP4/a/5Fa2Hxh4YA2eTf62jBUSvs/UgubL4xlf61YAf9jhhZa6DhO9cQ/bAzJtP+bxkILLbSwhULHcb4lvYmKJVf8drvlA1oLGyP8BKt/Q3XghwepAAAAAElFTkSuQmCC",
      "text/plain": [
       "16×16 reinterpret(Gray{Float32}, ::Array{Float32,2}):\n",
       " Gray{Float32}(0.00246529)   …  Gray{Float32}(0.00849137)\n",
       " Gray{Float32}(0.000967588)     Gray{Float32}(0.008466)\n",
       " Gray{Float32}(0.00278841)      Gray{Float32}(0.0435906)\n",
       " Gray{Float32}(0.00288627)      Gray{Float32}(0.0845588)\n",
       " Gray{Float32}(0.00302967)      Gray{Float32}(0.133161)\n",
       " Gray{Float32}(0.00187373)   …  Gray{Float32}(0.0125637)\n",
       " Gray{Float32}(0.001701)        Gray{Float32}(0.0141749)\n",
       " Gray{Float32}(0.00109972)      Gray{Float32}(0.00260339)\n",
       " Gray{Float32}(0.00339286)      Gray{Float32}(0.00569423)\n",
       " Gray{Float32}(0.0022784)       Gray{Float32}(0.00105823)\n",
       " Gray{Float32}(0.000994545)  …  Gray{Float32}(0.000718082)\n",
       " Gray{Float32}(0.00113118)      Gray{Float32}(0.000864221)\n",
       " Gray{Float32}(0.00287484)      Gray{Float32}(0.000563053)\n",
       " Gray{Float32}(0.00340121)      Gray{Float32}(4.22181f-5)\n",
       " Gray{Float32}(0.000657006)     Gray{Float32}(4.10212f-5)\n",
       " Gray{Float32}(0.0036656)    …  Gray{Float32}(0.00230468)"
      ]
     },
     "metadata": {},
     "output_type": "display_data"
    },
    {
     "data": {
      "image/png": "iVBORw0KGgoAAAANSUhEUgAAAHAAAABwCAAAAADji6uXAAAABGdBTUEAALGPC/xhBQAAACBjSFJNAAB6JgAAgIQAAPoAAACA6AAAdTAAAOpgAAA6mAAAF3CculE8AAAAAmJLR0QA/4ePzL8AAAGOSURBVGje7ZkxS8RAEIV3zAbvROQsRFEQEbTwt/kb7S1s1SttLBQUTlQ0xFi8SfFgOV0D5hLeNB/Zy+63E3ayG84shBBCcERgAuwCC+AQqIBTYA6cAI9ADdwDr8ATsBb+OSSUMDusABtgE5gBJXAEvAPnwCVN+AHwqprT1TXw2VOGEkqYHRZJPAPOAN8tNoB94MM7AtvABbAH+Ji3wBdw01OGEkqYHeY7gu8Wx8A64PXgRXIFbAF3wA7wRh2egUhXVU8ZSihhdrRl4WJ/+ftb/wDg/SF5NDK604ukJNOkpwwllDA72m8LP+l4WZTUOAVeAC+LBU24pkEbuvJRrKcMJZQwO9qy8EU7Tc3Gb/GNoaIO/CGdrIdAHcb/SCUcvtDc6EuY9w5eyQ3B6M5kcJGoLCQcjDAya5oGFwJXAP/GYauUoYQSZof5Ev7F8m5+HGy5qacMJZQwOwrrPsZqZyihhBJKKGH3iMsOUaPIUEIJs6MYfYYSSiihhBJ2j5hsTf47F6jxr4ev8T9SCYcv/AZc/D8qDbQQJgAAAABJRU5ErkJggg==",
      "text/plain": [
       "16×16 reinterpret(Gray{Float32}, ::Array{Float32,2}):\n",
       " Gray{Float32}(0.00358632)  …  Gray{Float32}(0.0198549)\n",
       " Gray{Float32}(0.011975)       Gray{Float32}(0.0468653)\n",
       " Gray{Float32}(0.0149224)      Gray{Float32}(0.0514791)\n",
       " Gray{Float32}(0.0204341)      Gray{Float32}(0.0599551)\n",
       " Gray{Float32}(0.0201918)      Gray{Float32}(0.0870026)\n",
       " Gray{Float32}(0.0133283)   …  Gray{Float32}(0.0145319)\n",
       " Gray{Float32}(0.0111325)      Gray{Float32}(0.00590274)\n",
       " Gray{Float32}(0.00627615)     Gray{Float32}(0.00543583)\n",
       " Gray{Float32}(0.00923256)     Gray{Float32}(0.00299157)\n",
       " Gray{Float32}(0.00408446)     Gray{Float32}(0.00204614)\n",
       " Gray{Float32}(0.00435433)  …  Gray{Float32}(0.00075388)\n",
       " Gray{Float32}(0.00260759)     Gray{Float32}(0.00182472)\n",
       " Gray{Float32}(0.00925847)     Gray{Float32}(0.000326362)\n",
       " Gray{Float32}(0.00330883)     Gray{Float32}(3.25882f-5)\n",
       " Gray{Float32}(0.00221341)     Gray{Float32}(4.39466f-5)\n",
       " Gray{Float32}(0.00535754)  …  Gray{Float32}(0.000874863)"
      ]
     },
     "metadata": {},
     "output_type": "display_data"
    }
   ],
   "source": [
    "draw_first_images_forehead(sigmoided_output);"
   ]
  },
  {
   "cell_type": "code",
   "execution_count": null,
   "metadata": {},
   "outputs": [],
   "source": [
    "#draw_plots(simple_conv_net_results);"
   ]
  },
  {
   "cell_type": "code",
   "execution_count": null,
   "metadata": {},
   "outputs": [],
   "source": [
    "test_image = Array(dtrn_x1)[:, :, :, 17];"
   ]
  },
  {
   "cell_type": "code",
   "execution_count": null,
   "metadata": {},
   "outputs": [],
   "source": [
    "perm = permutedims(test_image, [3, 1, 2])\n",
    "colorview(RGB, perm)\n",
    "#colorview(RGB, rand(3,256,256))\n"
   ]
  },
  {
   "cell_type": "code",
   "execution_count": null,
   "metadata": {},
   "outputs": [],
   "source": [
    "(16, 16, 71, 32)\n",
    "\n",
    "(4, 4, 2048, 32)"
   ]
  },
  {
   "cell_type": "code",
   "execution_count": null,
   "metadata": {},
   "outputs": [],
   "source": [
    "size(ytrn)"
   ]
  },
  {
   "cell_type": "code",
   "execution_count": null,
   "metadata": {},
   "outputs": [],
   "source": [
    "first(dtrn)[1] |> size"
   ]
  },
  {
   "cell_type": "code",
   "execution_count": null,
   "metadata": {},
   "outputs": [],
   "source": [
    "first(dtrn)[2] |> size"
   ]
  },
  {
   "cell_type": "code",
   "execution_count": null,
   "metadata": {},
   "outputs": [],
   "source": [
    "#julia> w0 = KnetArray(randn(Float32, 5, 5, 1, 20));\n",
    "\n",
    "#julia> x0 = KnetArray(rand(Float32, 24, 24, 20, 100));\n",
    "\n",
    "#julia> size(deconv4(w0,x0)) # this output does not make it sense, it should give what I want\n",
    "#(28, 28, 20, 100)\n",
    "#\n",
    "\n",
    "w0 = KnetArray(randn(Float32, 5, 5, 1, 20));\n",
    " x0 = KnetArray(rand(Float32, 4, 4, 2048, 32));\n",
    "\n",
    " # this output does not make it sense, it should give what I want\n",
    "#(28, 28, 20, 100)"
   ]
  },
  {
   "cell_type": "code",
   "execution_count": null,
   "metadata": {},
   "outputs": [],
   "source": [
    "dec_layer = Deconv(4, 4, 14, 2048; padding=1, stride=2, atype=Knet.atype())"
   ]
  },
  {
   "cell_type": "code",
   "execution_count": null,
   "metadata": {},
   "outputs": [],
   "source": [
    "mock = randn(Float32, 16,16, 2048, 32);\n",
    "mock = convert(Knet.atype(), mock);"
   ]
  },
  {
   "cell_type": "code",
   "execution_count": null,
   "metadata": {},
   "outputs": [],
   "source": [
    "size(dec_layer(  mock ))"
   ]
  },
  {
   "cell_type": "code",
   "execution_count": null,
   "metadata": {},
   "outputs": [],
   "source": [
    "size(deconv4(w0,x0))"
   ]
  },
  {
   "cell_type": "code",
   "execution_count": null,
   "metadata": {
    "scrolled": true
   },
   "outputs": [],
   "source": [
    "tc = Conv2(3, 3, 3, 3)"
   ]
  },
  {
   "cell_type": "code",
   "execution_count": null,
   "metadata": {},
   "outputs": [],
   "source": [
    "fb = first(dtrn)[1];"
   ]
  },
  {
   "cell_type": "code",
   "execution_count": null,
   "metadata": {},
   "outputs": [],
   "source": [
    "res_tc = tc2(fb) |> tc;"
   ]
  },
  {
   "cell_type": "code",
   "execution_count": null,
   "metadata": {},
   "outputs": [],
   "source": [
    "mid = res_tc |> tc2"
   ]
  },
  {
   "cell_type": "code",
   "execution_count": null,
   "metadata": {},
   "outputs": [],
   "source": [
    "w1 = KnetArray(randn(Float32, 3,3, 1, 3));"
   ]
  },
  {
   "cell_type": "code",
   "execution_count": null,
   "metadata": {},
   "outputs": [],
   "source": [
    "#deconv4(w1, mid)\n",
    "size(deconv4(w1, mid; padding=1))"
   ]
  },
  {
   "cell_type": "code",
   "execution_count": null,
   "metadata": {},
   "outputs": [],
   "source": [
    "tc2 = ResLayerConv(3, 3, 3, 3; stride=2, padding=1)"
   ]
  },
  {
   "cell_type": "code",
   "execution_count": null,
   "metadata": {},
   "outputs": [],
   "source": [
    "res_tc2 = res_tc |> tc2;"
   ]
  },
  {
   "cell_type": "code",
   "execution_count": null,
   "metadata": {},
   "outputs": [],
   "source": [
    "size(res_tc)"
   ]
  },
  {
   "cell_type": "code",
   "execution_count": null,
   "metadata": {},
   "outputs": [],
   "source": [
    "tc2(fb) |> tc2 |> tc2;"
   ]
  },
  {
   "cell_type": "code",
   "execution_count": null,
   "metadata": {},
   "outputs": [],
   "source": []
  }
 ],
 "metadata": {
  "kernelspec": {
   "display_name": "Julia 1.5.3",
   "language": "julia",
   "name": "julia-1.5"
  },
  "language_info": {
   "file_extension": ".jl",
   "mimetype": "application/julia",
   "name": "julia",
   "version": "1.5.3"
  }
 },
 "nbformat": 4,
 "nbformat_minor": 4
}
                                                                                                                                                                                                                                                                                                                                                                                                                                                                                                                                                                                                                                                                                                                                                                                                                                                                                                                                                                                                                                                                                                                                                                                                                                                                                                                                                                                                                                                                                                                                                                                                                                                                                                                                                                                                                                                                                                                                                                                                                                                                                                                                                                                                                                    loat32}(0.503922,0.507843,0.445098)     RGB{Float32}(0.257843,0.261765,0.232353)\n",
       " RGB{Float32}(0.501961,0.505882,0.435294)  …  RGB{Float32}(0.243137,0.233333,0.214706)\n",
       " RGB{Float32}(0.507843,0.49902,0.441176)      RGB{Float32}(0.259804,0.258824,0.228431)\n",
       " RGB{Float32}(0.495098,0.483333,0.408824)     RGB{Float32}(0.307843,0.305882,0.280392)\n",
       " RGB{Float32}(0.520588,0.508824,0.434314)     RGB{Float32}(0.310784,0.310784,0.277451)\n",
       " RGB{Float32}(0.529412,0.517647,0.443137)     RGB{Float32}(0.377451,0.377451,0.328431)\n",
       " RGB{Float32}(0.543137,0.531373,0.456863)  …  RGB{Float32}(0.417647,0.405882,0.34902)\n",
       " RGB{Float32}(0.535294,0.523529,0.44902)      RGB{Float32}(0.433333,0.421569,0.362745)"
      ]
     },
     "metadata": {},
     "output_type": "display_data"
    },
    {
     "data": {
      "image/png": "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",
      "text/plain": [
       "32×32 reshape(reinterpret(RGB{Float32}, ::Array{Float32,3}), 32, 32) with eltype RGB{Float32}:\n",
       " RGB{Float32}(0.65098,0.662745,0.541176)   …  RGB{Float32}(0.615686,0.6,0.496078)\n",
       " RGB{Float32}(0.648039,0.663725,0.540196)     RGB{Float32}(0.616667,0.59902,0.5)\n",
       " RGB{Float32}(0.643137,0.662745,0.537255)     RGB{Float32}(0.611765,0.603922,0.505882)\n",
       " RGB{Float32}(0.639216,0.65098,0.529412)      RGB{Float32}(0.617647,0.609804,0.511765)\n",
       " RGB{Float32}(0.631373,0.643137,0.529412)     RGB{Float32}(0.0539216,0.022549,0.00392157)\n",
       " RGB{Float32}(0.634314,0.642157,0.52451)   …  RGB{Float32}(0.0176471,0.00196078,0.0)\n",
       " RGB{Float32}(0.634314,0.638235,0.516667)     RGB{Float32}(0.0294118,0.00196078,0.0)\n",
       " RGB{Float32}(0.631373,0.627451,0.517647)     RGB{Float32}(0.356863,0.20098,0.0676471)\n",
       " RGB{Float32}(0.611765,0.615686,0.494118)     RGB{Float32}(0.492157,0.333333,0.140196)\n",
       " RGB{Float32}(0.460784,0.431373,0.317647)     RGB{Float32}(0.153922,0.095098,0.0215686)\n",
       " RGB{Float32}(0.578431,0.591177,0.488235)  …  RGB{Float32}(0.0401961,0.0323529,0.0235294)\n",
       " RGB{Float32}(0.566667,0.578431,0.472549)     RGB{Float32}(0.0176471,0.00294118,0.00294118)\n",
       " RGB{Float32}(0.542157,0.553922,0.433333)     RGB{Float32}(0.0,0.0,0.0)\n",
       " ⋮                                         ⋱  \n",
       " RGB{Float32}(0.538235,0.384314,0.206863)  …  RGB{Float32}(0.000980392,0.00784314,0.0166667)\n",
       " RGB{Float32}(0.34902,0.35,0.286275)          RGB{Float32}(0.211765,0.208824,0.157843)\n",
       " RGB{Float32}(0.391176,0.40098,0.370588)      RGB{Float32}(0.255882,0.252941,0.215686)\n",
       " RGB{Float32}(0.494118,0.494118,0.447059)     RGB{Float32}(0.220588,0.231373,0.195098)\n",
       " RGB{Float32}(0.503922,0.507843,0.445098)     RGB{Float32}(0.257843,0.261765,0.232353)\n",
       " RGB{Float32}(0.501961,0.505882,0.435294)  …  RGB{Float32}(0.243137,0.233333,0.214706)\n",
       " RGB{Float32}(0.507843,0.49902,0.441176)      RGB{Float32}(0.259804,0.258824,0.228431)\n",
       " RGB{Float32}(0.495098,0.483333,0.408824)     RGB{Float32}(0.307843,0.305882,0.280392)\n",
       " RGB{Float32}(0.520588,0.508824,0.434314)     RGB{Float32}(0.310784,0.310784,0.277451)\n",
       " RGB{Float32}(0.529412,0.517647,0.443137)     RGB{Float32}(0.377451,0.377451,0.328431)\n",
       " RGB{Float32}(0.543137,0.531373,0.456863)  …  RGB{Float32}(0.417647,0.405882,0.34902)\n",
       " RGB{Float32}(0.535294,0.523529,0.44902)      RGB{Float32}(0.433333,0.421569,0.362745)"
      ]
     },
     "metadata": {},
     "output_type": "display_data"
    },
    {
     "data": {
      "image/png": "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",
      "text/plain": [
       "32×32 reshape(reinterpret(RGB{Float32}, ::Array{Float32,3}), 32, 32) with eltype RGB{Float32}:\n",
       " RGB{Float32}(0.65098,0.662745,0.541176)   …  RGB{Float32}(0.615686,0.6,0.496078)\n",
       " RGB{Float32}(0.648039,0.663725,0.540196)     RGB{Float32}(0.616667,0.59902,0.5)\n",
       " RGB{Float32}(0.643137,0.662745,0.537255)     RGB{Float32}(0.611765,0.603922,0.505882)\n",
       " RGB{Float32}(0.639216,0.65098,0.529412)      RGB{Float32}(0.617647,0.609804,0.511765)\n",
       " RGB{Float32}(0.631373,0.643137,0.529412)     RGB{Float32}(0.0539216,0.022549,0.00392157)\n",
       " RGB{Float32}(0.634314,0.642157,0.52451)   …  RGB{Float32}(0.0176471,0.00196078,0.0)\n",
       " RGB{Float32}(0.634314,0.638235,0.516667)     RGB{Float32}(0.0294118,0.00196078,0.0)\n",
       " RGB{Float32}(0.631373,0.627451,0.517647)     RGB{Float32}(0.356863,0.20098,0.0676471)\n",
       " RGB{Float32}(0.611765,0.615686,0.494118)     RGB{Float32}(0.492157,0.333333,0.140196)\n",
       " RGB{Float32}(0.460784,0.431373,0.317647)     RGB{Float32}(0.153922,0.095098,0.0215686)\n",
       " RGB{Float32}(0.578431,0.591177,0.488235)  …  RGB{Float32}(0.0401961,0.0323529,0.0235294)\n",
       " RGB{Float32}(0.566667,0.578431,0.472549)     RGB{Float32}(0.0176471,0.00294118,0.00294118)\n",
       " RGB{Float32}(0.542157,0.553922,0.433333)     RGB{Float32}(0.0,0.0,0.0)\n",
       " ⋮                                         ⋱  \n",
       " RGB{Float32}(0.538235,0.384314,0.206863)  …  RGB{Float32}(0.000980392,0.00784314,0.0166667)\n",
       " RGB{Float32}(0.34902,0.35,0.286275)          RGB{Float32}(0.211765,0.208824,0.157843)\n",
       " RGB{Float32}(0.391176,0.40098,0.370588)      RGB{Float32}(0.255882,0.252941,0.215686)\n",
       " RGB{Float32}(0.494118,0.494118,0.447059)     RGB{Float32}(0.220588,0.231373,0.195098)\n",
       " RGB{Float32}(0.503922,0.507843,0.445098)     RGB{Float32}(0.257843,0.261765,0.232353)\n",
       " RGB{Float32}(0.501961,0.505882,0.435294)  …  RGB{Float32}(0.243137,0.233333,0.214706)\n",
       " RGB{Float32}(0.507843,0.49902,0.441176)      RGB{Float32}(0.259804,0.258824,0.228431)\n",
       " RGB{Float32}(0.495098,0.483333,0.408824)     RGB{Float32}(0.307843,0.305882,0.280392)\n",
       " RGB{Float32}(0.520588,0.508824,0.434314)     RGB{Float32}(0.310784,0.310784,0.277451)\n",
       " RGB{Float32}(0.529412,0.517647,0.443137)     RGB{Float32}(0.377451,0.377451,0.328431)\n",
       " RGB{Float32}(0.543137,0.531373,0.456863)  …  RGB{Float32}(0.417647,0.405882,0.34902)\n",
       " RGB{Float32}(0.535294,0.523529,0.44902)      RGB{Float32}(0.433333,0.421569,0.362745)"
      ]
     },
     "metadata": {},
     "output_type": "display_data"
    },
    {
     "data": {
      "image/png": "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",
      "text/plain": [
       "32×32 reshape(reinterpret(RGB{Float32}, ::Array{Float32,3}), 32, 32) with eltype RGB{Float32}:\n",
       " RGB{Float32}(0.65098,0.662745,0.541176)   …  RGB{Float32}(0.615686,0.6,0.496078)\n",
       " RGB{Float32}(0.648039,0.663725,0.540196)     RGB{Float32}(0.616667,0.59902,0.5)\n",
       " RGB{Float32}(0.643137,0.662745,0.537255)     RGB{Float32}(0.611765,0.603922,0.505882)\n",
       " RGB{Float32}(0.639216,0.65098,0.529412)      RGB{Float32}(0.617647,0.609804,0.511765)\n",
       " RGB{Float32}(0.631373,0.643137,0.529412)     RGB{Float32}(0.0539216,0.022549,0.00392157)\n",
       " RGB{Float32}(0.634314,0.642157,0.52451)   …  RGB{Float32}(0.0176471,0.00196078,0.0)\n",
       " RGB{Float32}(0.634314,0.638235,0.516667)     RGB{Float32}(0.0294118,0.00196078,0.0)\n",
       " RGB{Float32}(0.631373,0.627451,0.517647)     RGB{Float32}(0.356863,0.20098,0.0676471)\n",
       " RGB{Float32}(0.611765,0.615686,0.494118)     RGB{Float32}(0.492157,0.333333,0.140196)\n",
       " RGB{Float32}(0.460784,0.431373,0.317647)     RGB{Float32}(0.153922,0.095098,0.0215686)\n",
       " RGB{Float32}(0.578431,0.591177,0.488235)  …  RGB{Float32}(0.0401961,0.0323529,0.0235294)\n",
       " RGB{Float32}(0.566667,0.578431,0.472549)     RGB{Float32}(0.0176471,0.00294118,0.00294118)\n",
       " RGB{Float32}(0.542157,0.553922,0.433333)     RGB{Float32}(0.0,0.0,0.0)\n",
       " ⋮                                         ⋱  \n",
       " RGB{Float32}(0.538235,0.384314,0.206863)  …  RGB{Float32}(0.000980392,0.00784314,0.0166667)\n",
       " RGB{Float32}(0.34902,0.35,0.286275)          RGB{Float32}(0.211765,0.208824,0.157843)\n",
       " RGB{Float32}(0.391176,0.40098,0.370588)      RGB{Float32}(0.255882,0.252941,0.215686)\n",
       " RGB{Float32}(0.494118,0.494118,0.447059)     RGB{Float32}(0.220588,0.231373,0.195098)\n",
       " RGB{Float32}(0.503922,0.507843,0.445098)     RGB{Float32}(0.257843,0.261765,0.232353)\n",
       " RGB{Float32}(0.501961,0.505882,0.435294)  …  RGB{Float32}(0.243137,0.233333,0.214706)\n",
       " RGB{Float32}(0.507843,0.49902,0.441176)      RGB{Float32}(0.259804,0.258824,0.228431)\n",
       " RGB{Float32}(0.495098,0.483333,0.408824)     RGB{Float32}(0.307843,0.305882,0.280392)\n",
       " RGB{Float32}(0.520588,0.508824,0.434314)     RGB{Float32}(0.310784,0.310784,0.277451)\n",
       " RGB{Float32}(0.529412,0.517647,0.443137)     RGB{Float32}(0.377451,0.377451,0.328431)\n",
       " RGB{Float32}(0.543137,0.531373,0.456863)  …  RGB{Float32}(0.417647,0.405882,0.34902)\n",
       " RGB{Float32}(0.535294,0.523529,0.44902)      RGB{Float32}(0.433333,0.421569,0.362745)"
      ]
     },
     "metadata": {},
     "output_type": "display_data"
    },
    {
     "name": "stdout",
     "output_type": "stream",
     "text": [
      "7\n",
      "8\n",
      "9\n",
      "10\n",
      "11\n",
      "12\n"
     ]
    },
    {
     "data": {
      "image/png": "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",
      "text/plain": [
       "32×32 reshape(reinterpret(RGB{Float32}, ::Array{Float32,3}), 32, 32) with eltype RGB{Float32}:\n",
       " RGB{Float32}(0.65098,0.662745,0.541176)   …  RGB{Float32}(0.615686,0.6,0.496078)\n",
       " RGB{Float32}(0.648039,0.663725,0.540196)     RGB{Float32}(0.616667,0.59902,0.5)\n",
       " RGB{Float32}(0.643137,0.662745,0.537255)     RGB{Float32}(0.611765,0.603922,0.505882)\n",
       " RGB{Float32}(0.639216,0.65098,0.529412)      RGB{Float32}(0.617647,0.609804,0.511765)\n",
       " RGB{Float32}(0.631373,0.643137,0.529412)     RGB{Float32}(0.0539216,0.022549,0.00392157)\n",
       " RGB{Float32}(0.634314,0.642157,0.52451)   …  RGB{Float32}(0.0176471,0.00196078,0.0)\n",
       " RGB{Float32}(0.634314,0.638235,0.516667)     RGB{Float32}(0.0294118,0.00196078,0.0)\n",
       " RGB{Float32}(0.631373,0.627451,0.517647)     RGB{Float32}(0.356863,0.20098,0.0676471)\n",
       " RGB{Float32}(0.611765,0.615686,0.494118)     RGB{Float32}(0.492157,0.333333,0.140196)\n",
       " RGB{Float32}(0.460784,0.431373,0.317647)     RGB{Float32}(0.153922,0.095098,0.0215686)\n",
       " RGB{Float32}(0.578431,0.591177,0.488235)  …  RGB{Float32}(0.0401961,0.0323529,0.0235294)\n",
       " RGB{Float32}(0.566667,0.578431,0.472549)     RGB{Float32}(0.0176471,0.00294118,0.00294118)\n",
       " RGB{Float32}(0.542157,0.553922,0.433333)     RGB{Float32}(0.0,0.0,0.0)\n",
       " ⋮                                         ⋱  \n",
       " RGB{Float32}(0.538235,0.384314,0.206863)  …  RGB{Float32}(0.000980392,0.00784314,0.0166667)\n",
       " RGB{Float32}(0.34902,0.35,0.286275)          RGB{Float32}(0.211765,0.208824,0.157843)\n",
       " RGB{Float32}(0.391176,0.40098,0.370588)      RGB{Float32}(0.255882,0.252941,0.215686)\n",
       " RGB{Float32}(0.494118,0.494118,0.447059)     RGB{Float32}(0.220588,0.231373,0.195098)\n",
       " RGB{Float32}(0.503922,0.507843,0.445098)     RGB{Float32}(0.257843,0.261765,0.232353)\n",
       " RGB{Float32}(0.501961,0.505882,0.435294)  …  RGB{Float32}(0.243137,0.233333,0.214706)\n",
       " RGB{Float32}(0.507843,0.49902,0.441176)      RGB{Float32}(0.259804,0.258824,0.228431)\n",
       " RGB{Float32}(0.495098,0.483333,0.408824)     RGB{Float32}(0.307843,0.305882,0.280392)\n",
       " RGB{Float32}(0.520588,0.508824,0.434314)     RGB{Float32}(0.310784,0.310784,0.277451)\n",
       " RGB{Float32}(0.529412,0.517647,0.443137)     RGB{Float32}(0.377451,0.377451,0.328431)\n",
       " RGB{Float32}(0.543137,0.531373,0.456863)  …  RGB{Float32}(0.417647,0.405882,0.34902)\n",
       " RGB{Float32}(0.535294,0.523529,0.44902)      RGB{Float32}(0.433333,0.421569,0.362745)"
      ]
     },
     "metadata": {},
     "output_type": "display_data"
    },
    {
     "data": {
      "image/png": "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",
      "text/plain": [
       "32×32 reshape(reinterpret(RGB{Float32}, ::Array{Float32,3}), 32, 32) with eltype RGB{Float32}:\n",
       " RGB{Float32}(0.65098,0.662745,0.541176)   …  RGB{Float32}(0.615686,0.6,0.496078)\n",
       " RGB{Float32}(0.648039,0.663725,0.540196)     RGB{Float32}(0.616667,0.59902,0.5)\n",
       " RGB{Float32}(0.643137,0.662745,0.537255)     RGB{Float32}(0.611765,0.603922,0.505882)\n",
       " RGB{Float32}(0.639216,0.65098,0.529412)      RGB{Float32}(0.617647,0.609804,0.511765)\n",
       " RGB{Float32}(0.631373,0.643137,0.529412)     RGB{Float32}(0.0539216,0.022549,0.00392157)\n",
       " RGB{Float32}(0.634314,0.642157,0.52451)   …  RGB{Float32}(0.0176471,0.00196078,0.0)\n",
       " RGB{Float32}(0.634314,0.638235,0.516667)     RGB{Float32}(0.0294118,0.00196078,0.0)\n",
       " RGB{Float32}(0.631373,0.627451,0.517647)     RGB{Float32}(0.356863,0.20098,0.0676471)\n",
       " RGB{Float32}(0.611765,0.615686,0.494118)     RGB{Float32}(0.492157,0.333333,0.140196)\n",
       " RGB{Float32}(0.460784,0.431373,0.317647)     RGB{Float32}(0.153922,0.095098,0.0215686)\n",
       " RGB{Float32}(0.578431,0.591177,0.488235)  …  RGB{Float32}(0.0401961,0.0323529,0.0235294)\n",
       " RGB{Float32}(0.566667,0.578431,0.472549)     RGB{Float32}(0.0176471,0.00294118,0.00294118)\n",
       " RGB{Float32}(0.542157,0.553922,0.433333)     RGB{Float32}(0.0,0.0,0.0)\n",
       " ⋮                                         ⋱  \n",
       " RGB{Float32}(0.538235,0.384314,0.206863)  …  RGB{Float32}(0.000980392,0.00784314,0.0166667)\n",
       " RGB{Float32}(0.34902,0.35,0.286275)          RGB{Float32}(0.211765,0.208824,0.157843)\n",
       " RGB{Float32}(0.391176,0.40098,0.370588)      RGB{Float32}(0.255882,0.252941,0.215686)\n",
       " RGB{Float32}(0.494118,0.494118,0.447059)     RGB{Float32}(0.220588,0.231373,0.195098)\n",
       " RGB{Float32}(0.503922,0.507843,0.445098)     RGB{Float32}(0.257843,0.261765,0.232353)\n",
       " RGB{Float32}(0.501961,0.505882,0.435294)  …  RGB{Float32}(0.243137,0.233333,0.214706)\n",
       " RGB{Float32}(0.507843,0.49902,0.441176)      RGB{Float32}(0.259804,0.258824,0.228431)\n",
       " RGB{Float32}(0.495098,0.483333,0.408824)     RGB{Float32}(0.307843,0.305882,0.280392)\n",
       " RGB{Float32}(0.520588,0.508824,0.434314)     RGB{Float32}(0.310784,0.310784,0.277451)\n",
       " RGB{Float32}(0.529412,0.517647,0.443137)     RGB{Float32}(0.377451,0.377451,0.328431)\n",
       " RGB{Float32}(0.543137,0.531373,0.456863)  …  RGB{Float32}(0.417647,0.405882,0.34902)\n",
       " RGB{Float32}(0.535294,0.523529,0.44902)      RGB{Float32}(0.433333,0.421569,0.362745)"
      ]
     },
     "metadata": {},
     "output_type": "display_data"
    },
    {
     "name": "stdout",
     "output_type": "stream",
     "text": [
      "13\n",
      "14\n"
     ]
    }
   ],
   "source": [
    "images = []\n",
    "for (i, joint_sc) in enumerate(gt_joint_images)\n",
    "img = show_scmap_on_image(test_image, joint_sc;\n",
    "        fill_value=1, \n",
    "        should_use_scmap_size=true,\n",
    "    display_name=i)\n",
    "    push!(images, img)\n",
    "end"
   ]
  },
  {
   "cell_type": "code",
   "execution_count": 123,
   "metadata": {},
   "outputs": [
    {
     "data": {
      "image/png": "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",
      "text/plain": [
       "164×98 MosaicView{RGB{Float32},4,PermutedDimsArray{RGB{Float32},4,(1, 2, 4, 3),(1, 2, 4, 3),Base.ReshapedArray{RGB{Float32},4,PaddedView{RGB{Float32},3,Tuple{Base.OneTo{Int64},Base.OneTo{Int64},Base.OneTo{Int64}},Array{RGB{Float32},3}},Tuple{Base.MultiplicativeInverses.SignedMultiplicativeInverse{Int64},Base.MultiplicativeInverses.SignedMultiplicativeInverse{Int64}}}}}:\n",
       " RGB{Float32}(0.65098,0.662745,0.541176)   …  RGB{Float32}(0.615686,0.6,0.496078)\n",
       " RGB{Float32}(0.648039,0.663725,0.540196)     RGB{Float32}(0.616667,0.59902,0.5)\n",
       " RGB{Float32}(0.643137,0.662745,0.537255)     RGB{Float32}(0.611765,0.603922,0.505882)\n",
       " RGB{Float32}(0.639216,0.65098,0.529412)      RGB{Float32}(0.617647,0.609804,0.511765)\n",
       " RGB{Float32}(0.631373,0.643137,0.529412)     RGB{Float32}(0.0539216,0.022549,0.00392157)\n",
       " RGB{Float32}(0.634314,0.642157,0.52451)   …  RGB{Float32}(0.0176471,0.00196078,0.0)\n",
       " RGB{Float32}(0.634314,0.638235,0.516667)     RGB{Float32}(0.0294118,0.00196078,0.0)\n",
       " RGB{Float32}(0.631373,0.627451,0.517647)     RGB{Float32}(0.356863,0.20098,0.0676471)\n",
       " RGB{Float32}(0.611765,0.615686,0.494118)     RGB{Float32}(0.492157,0.333333,0.140196)\n",
       " RGB{Float32}(0.460784,0.431373,0.317647)     RGB{Float32}(0.153922,0.095098,0.0215686)\n",
       " RGB{Float32}(0.578431,0.591177,0.488235)  …  RGB{Float32}(0.0401961,0.0323529,0.0235294)\n",
       " RGB{Float32}(0.566667,0.578431,0.472549)     RGB{Float32}(0.0176471,0.00294118,0.00294118)\n",
       " RGB{Float32}(0.542157,0.553922,0.433333)     RGB{Float32}(0.0,0.0,0.0)\n",
       " ⋮                                         ⋱  \n",
       " RGB{Float32}(0.538235,0.384314,0.206863)     RGB{Float32}(0.3,0.3,0.3)\n",
       " RGB{Float32}(0.34902,0.35,0.286275)          RGB{Float32}(0.3,0.3,0.3)\n",
       " RGB{Float32}(0.391176,0.40098,0.370588)      RGB{Float32}(0.3,0.3,0.3)\n",
       " RGB{Float32}(0.494118,0.494118,0.447059)  …  RGB{Float32}(0.3,0.3,0.3)\n",
       " RGB{Float32}(0.503922,0.507843,0.445098)     RGB{Float32}(0.3,0.3,0.3)\n",
       " RGB{Float32}(0.501961,0.505882,0.435294)     RGB{Float32}(0.3,0.3,0.3)\n",
       " RGB{Float32}(0.507843,0.49902,0.441176)      RGB{Float32}(0.3,0.3,0.3)\n",
       " RGB{Float32}(0.495098,0.483333,0.408824)     RGB{Float32}(0.3,0.3,0.3)\n",
       " RGB{Float32}(0.520588,0.508824,0.434314)  …  RGB{Float32}(0.3,0.3,0.3)\n",
       " RGB{Float32}(0.529412,0.517647,0.443137)     RGB{Float32}(0.3,0.3,0.3)\n",
       " RGB{Float32}(0.543137,0.531373,0.456863)     RGB{Float32}(0.3,0.3,0.3)\n",
       " RGB{Float32}(0.535294,0.523529,0.44902)      RGB{Float32}(0.3,0.3,0.3)"
      ]
     },
     "metadata": {},
     "output_type": "display_data"
    }
   ],
   "source": [
    "mosaicify(images; ncol=3)"
   ]
  },
  {
   "cell_type": "code",
   "execution_count": 120,
   "metadata": {},
   "outputs": [
    {
     "data": {
      "image/png": "iVBORw0KGgoAAAANSUhEUgAAAIAAAACACAIAAABMXPacAAAABGdBTUEAALGPC/xhBQAAACBjSFJNAAB6JgAAgIQAAPoAAACA6AAAdTAAAOpgAAA6mAAAF3CculE8AAAABmJLR0QA/wD/AP+gvaeTAAAOrklEQVR42u1da4xdVRU+j33Pfc370Q4tBfrkIS3FoVIigjxEEGJQISEhMaiJhWj44SuRaEQImELghyQkPggYI0QxDUJrtDahCAqprbaM0EILdNqZzvt2OnPn3nPP01+u7zvJmdQ/Zs+P/f365sw55+5z1r1rrb3W2mvbz//2Meu/iKJIeBzHwhM6Xih5wj3btfAPl2gBx21baApqzc5NCO/t7RTupIrGk+aOJ03T3HumLYwzSjEGO07yryWeJHwOuBXT+ZYinn9Ph44nKd6Jy8eJO5aBVhgBaIYRgGaodJF/2KS7mRcc6MGExMeS5HvaFq51SF8fe/894b1XXim80QqEFz3Ym90v7xT+2VtuFR4vosd5zI7t0Pmk32mkmeelp0ndNO90i2/jsh1K2f7FeZdaVor7m1+AZhgBaIYRgGao1Mr3i/8XsN5ksI/MNoB13/r1G3Dcgb9cKsPG/OHhn+J4pQ2DdnF+HMP3931feLVSpjGQneAhk5++qL7OPhiG7NB3N8G1th3R+fiwhN8DUfML0AwjAM0wAtAMlWbiJOQ7Z/xr6DjHgt7kmIbLcaE0X99xjIVUt5VQzKek4PsXgqbwL33/fuE+jS3E0KyI/Xe2bTQBIVVvpTY586TfM/MAjvPYfP+Q7oPjScpzCyv/Po6ZBywZGAFohhGAZigKn1i2ne8BOwrxDdabrCs5xuKyTuR4S8rxfZ5/4LNq+/4l/I4Hviv8DNmhmPITmRFH0Ms0BCtl15xO53lMShOExeL7mQBQ5j6Uw3AwzrnhYeHbH/uFcD8mW2sZaIURgGYYAWiG4jhJmiySO40X0X1sPxzWp+w7Z64Q5rrQm26rJXxqeEx49bKLcGkmjE/jtPI/l/MElpNvb+z8x8raQnbmk/x5Q0SnPP3go8KPTzYwHpp/NEK2MQZaYQSgGUYAmqEyvi352qzuONeaAenKJKOLcUpqURyJk6cOYvfzh+AvF87pFx7npxuyOQZCsojqfubRJ4QfPXla+PWf+ST4526mO+XnSJxMERKOqxh57K1bPiF8ZudrwqMCrg1CUxe0ZGAEoBlGAJqhUvJPEyr0yep91vWAnebX4TAS9s3p/n0L0JvNRl34quugl+MAgwszNZf5zrxLuWIyPVZ/BecPNRAY2rHjr8JfffVN4Q8/9kN8VoQbsQkLxqeF+9Pg3WWM4cbNq4SvXTcg/N0jR4WbX4BmGAFohhGAZqiQfNhs0Qwjv/4yI79F5gpOpsYU+rT13ozwUa8o/IIYeWA75Xp8jKHAfjrX2lN9EZ//QmWZ8Ds34fjbx2rCR2bwHqZHRvFZ0Zzw0xM4HteQIykN9Ahfdw3mAckcnqVcxLOsXdOb9wYNdMAIQDOMADTD/t79X5A/gghx+WYdsZrQh370A3CvAj346VtvEc45YduBfi8fPiL85CnE/QduuopGBJqQTSoUUC8UB8j9FlzwM6fh43sl1Ibercg+/Xi70I8HqDfdOoha1QtXtwufHME6hvHTsGHdqy4W3tPThTGT3bISjO3wm38TfuDYKeHmF6AZRgCaYQSgGeq8iz+Gv0LoUF4aFVJCs62zKjyahy+f1hHPCdu7hS+n8Iwz0Cd8dgI2YBkX66Rcl0m1QC3YpCBCrvX1vXuFD265MfchnzpBa5Lvu0f4ttoJPMtpjL82NYXPsmAPrr4NOYNokbVpXJDkRDi+qw4bdnKW3olloBVGAJphBKAZitdY2aRzAyq857Wyu174tfCyj1zu8ATus2LdJcLvuvse4QsJDMLawUEaBK05oNxpRGPrrHQJr4+UhE8fwLXPv/J74XtG3hXe5eF79uC91+H+TTzj9DxyxX/Zj+eKaM5x4eXX4l21VYS7XPxEeeO9b+wTfujfHwpnm2p+AZphBKAZRgCaoVot+NTktmZ8WF6INTX8kfDZAPKrI2xuvTsM/Tt06AHh3/n2N4R3t68Q7jqIyUQhdGjVhe+//XbEcKJsYlroXNq08jAb4IJmE2M+NTMv/DevHMJ4SpjrnDOAOc0zP/+lcI/6I1XLiHf5lEPe996s8IDsWcxlq5aBVhgBaIYRgGbYSkHnxvyPTG0olNa2GxE72j+E+paeLuQGPpqGXenpxP07qpD3tm/+QHgjRgxdFREzSWi91ZNfeRznWNC5LuV+P7SQ4520KNdN+NTG84UPHYa/n9D6ZKeEMVc8jG3NatT5NBZgny7ZfKnw2vSk8N27DwiPEn67gPkFaIYRgGYYAWiGSjK1PdwHIsy94Gd73hF+501bhO/c+w/hN1+LfOnUB4eFlymve2IY+eHO5RcKn2/AN1/ZuZzGQ+sPyFrxlGBmEb3PeOsI9H7VQ0ypk2qTHBy2ii7+mJzAZGd4bFb40LE9OF9R79LF9D713TO/AM0wAtAMIwDNUNmKTtL7ydkvfpH8XMuBfm/ZqMnxyL8+dhy+8xUUk2lMwHculaBzn6Xcw7yFaz0L92Tka1zLciheH9LCs9tuvUH4npd2CS/StYF1RrhPxyOFcXoe5iK+T40pCK6ifquJ6Re0ZGAEoBlGAJqhMg10Eu53RrX2i/RbzhiKBLrv+hvuEP7H51BbuXHTBcK9tg7hrRatIaAa/1YKrbtAPr5vw1bV0rP7/hzvaqNnvHw14kKv0/khzTl8el62McUCnt2n2lkuEXLc/B52mb7WZx29wf8VRgCaYQSgGfbyNni9MeU2WX91dGCPF5d7/hRwzsgofPnGPPIBTz3+LeEe1U22YvCFJnS6orqg3n7U3oQulOuRt08Kf/zJX+U+2L1fvFr4jpdRm1/ugu3po71uTk1grS978hwRi0s4P6Q1zAHbSBtzlEzvUl4rZ3LCSwdGAJphBKAZ6sUnvix/7D+Jev8dexCvjzKxF3Z0ocw29a3DcerLv+KC9cJ3P/uM8NX9WLubdlBdEB13S13Cg4jWpi3ABmz/OnT99Azi9Qc/PC7cpt7U9267W/iPHnlaOKUArBUK38sJD7q72YBF4DwK76WT2T+AYKf8XTexoCUDIwDNMALQDPulhz4vf5Qr0IQLJfjLb78/Lvzvh8CjAvz0Ugnxbo/2/+Lc8pZByhW/9obwDStRJ1rrRd8Fv4wx9PaA14bg1xep5nJyEjX+x6fxuVtvuUv4Tx56RPh9t6Pef30/vovFLozhd3/GOP/0Dq2Js3jPGbKRmT1q8ntx29TM2vwCNMMIQDOMADTD3v5V1PaU2xDrKJexPnbwkk3CJ2cXhL/yT6wVODqRPz9QtE742msuE55QfD8+gNr8lPYqUJficx36rswfpZrLuVnhUw3az6t7JT5rYkT4aAq71R3DTnS1w4adquEZ11LN6/4azQNoHxiXxma7sAdTNeSTTwyj11Cd+nCYX4BmGAFohhGAZqiDTfRvKM0hjt9uIz7erGNflzXn4/yvXYc4z3GyAUMnMFcYW6D9XqivJ6WQLW8zdP38QeSQS7R2t0nrctsc9HWYTtHjaMxG3+l1EfTvEeoDkVBvnxmqZZoN4MCrCuxBdRl4sYH3w+U/vHdCgWzYuf3Io3RRP9EoNb2jlwyMADTDCEAzVLUdejOgfbjmqN/ZwTr868MHoZe3roEOnf8Adfcr+9EXc8N69Eyu+VjDVfco30sxk2WbES8a23dQeNcg9TWi/qOKYver+pFXGDmKdQlW/xqcT/qXq50i6t/QpN4Vo3OwMYUI65D9BONP+J68paZDvUU7unA8Mr0ilgyMADTDCEAz1Arq48Z9mLmenVFwcM4oxbXHC+gBp8YRN7+qH7H12ih6tJX7zsM9ycdvUO6071L0HYrH0GvTK5L+pbhT+xx68kz1rhXuUK+LiPrise7ObElAf4zWcP6yDnxufY73WsD5jSb3q8A7tOnd8n6c5hegGUYAmmEEoBmKtnS00pSdWN4DnfpJ8F5aFvzcZRdtFJ5QD9GRJvhbR9C/c30HYu7nbkH/OC6faVLP/b4E+YNaE/F0P0Jvn9kQOYzxacxXIprfWDRvcDItkXjzM9L7PUW6lHK5tH5CeXgPDvXK5rhQSL4/90M1vwDNMALQDCMAzVCsj2xeBEXmgNeLLbZfGO8v71ShixspdPSai/EBVeq5ZpEhcmgNgUu6+OjQMeEJ5wY2os+EVYcPvq4NsfsWxXl4H2Pumcp7RgYtnF+u8oYGGFslpF7ZpN+TFPamQbkQ3v8gCkxd0JKBEYBmGAFohnKS/F7NvCFvzHvE83pXqo3JcDt/3e/AqlV0HyAkXc9rlVNaTHXeBuzxMkpxG5/2QeN7FqnONaJ5Q7Z0k/cgw9XKw5g7q+C1CdgVrn/lNQEp2TDlsFHlNcNuzlEDLTAC0AwjAM1QUeTn/sOmdbyK1gzbiuMedJw3JuZ+EryfMPnjFt2T11s5FCs/pw6de2gM65A7r0Q9q2rCBnCYKgpQF9TkvWjI3/eoJ+hCk2qiSphnFGyao1ToeMQ+Pt4JIyrQ3gxsU2PYJ/ML0AwjAM0wAtAMVSwWz3pSxq8nPRuTvlbs56bJWe9jlXBOsQk9u7odenNuAXGVgSuuEO5TjrdAtoTjVy71dSgEsHPtJdQOZWwVxWc8WtQQhqzrcbxM1wYu50twSzKRGfuXZOZVBlphBKAZRgCaodiXz+4dn9/jTJF+dKhBGseCuG9apvaG/hHWcJ+pceRvwyr0fruPmHu6EvVFRZqLNKlvD+exOb7f0Yk6/Sb1/a+2IVfhu8hRB03Ug5a6sT65g/YVcClHwvBbHHdC/9SYctpRanrGLRkYAWiGEYBmKNbpacaH5bqgfDnZdn4OwHU53s19dUj3UT1SpQexdZ/GcGYB9ylRL36bcrCZfRzJbpXK0L8R9fVkfzwM8o9zrN+j+xSppoinEBxf4vUK2e83PWOQn8Mw0AAjAM0wAtAMxfuhO5S/bVKde5n0IPvXMS/2TTleBJ5k5go4PaHunGXaayylvSSbLcTNOdakKtCnoQ+fPeTxEPepNrRA+d4WxYhUCTEx7utp89412X/Qs9M7pL6nAeUqXLK1mbmUZaAVRgCaYQSgGf8BgoKB+fTC+48AAAAASUVORK5CYII=",
      "text/plain": [
       "32×32 reshape(reinterpret(RGB{Float32}, ::Array{Float32,3}), 32, 32) with eltype RGB{Float32}:\n",
       " RGB{Float32}(0.65098,0.662745,0.541176)   …  RGB{Float32}(0.615686,0.6,0.496078)\n",
       " RGB{Float32}(0.648039,0.663725,0.540196)     RGB{Float32}(0.616667,0.59902,0.5)\n",
       " RGB{Float32}(0.643137,0.662745,0.537255)     RGB{Float32}(0.611765,0.603922,0.505882)\n",
       " RGB{Float32}(0.639216,0.65098,0.529412)      RGB{Float32}(0.617647,0.609804,0.511765)\n",
       " RGB{Float32}(0.631373,0.643137,0.529412)     RGB{Float32}(0.0539216,0.022549,0.00392157)\n",
       " RGB{Float32}(0.634314,0.642157,0.52451)   …  RGB{Float32}(0.0176471,0.00196078,0.0)\n",
       " RGB{Float32}(0.634314,0.638235,0.516667)     RGB{Float32}(0.0294118,0.00196078,0.0)\n",
       " RGB{Float32}(0.631373,0.627451,0.517647)     RGB{Float32}(0.356863,0.20098,0.0676471)\n",
       " RGB{Float32}(0.611765,0.615686,0.494118)     RGB{Float32}(0.492157,0.333333,0.140196)\n",
       " RGB{Float32}(0.460784,0.431373,0.317647)     RGB{Float32}(0.153922,0.095098,0.0215686)\n",
       " RGB{Float32}(0.578431,0.591177,0.488235)  …  RGB{Float32}(0.0401961,0.0323529,0.0235294)\n",
       " RGB{Float32}(0.566667,0.578431,0.472549)     RGB{Float32}(0.0176471,0.00294118,0.00294118)\n",
       " RGB{Float32}(0.542157,0.553922,0.433333)     RGB{Float32}(0.0,0.0,0.0)\n",
       " ⋮                                         ⋱  \n",
       " RGB{Float32}(0.538235,0.384314,0.206863)  …  RGB{Float32}(0.000980392,0.00784314,0.0166667)\n",
       " RGB{Float32}(0.34902,0.35,0.286275)          RGB{Float32}(0.211765,0.208824,0.157843)\n",
       " RGB{Float32}(0.391176,0.40098,0.370588)      RGB{Float32}(0.255882,0.252941,0.215686)\n",
       " RGB{Float32}(0.494118,0.494118,0.447059)     RGB{Float32}(0.220588,0.231373,0.195098)\n",
       " RGB{Float32}(0.503922,0.507843,0.445098)     RGB{Float32}(0.257843,0.261765,0.232353)\n",
       " RGB{Float32}(0.501961,0.505882,0.435294)  …  RGB{Float32}(0.243137,0.233333,0.214706)\n",
       " RGB{Float32}(0.507843,0.49902,0.441176)      RGB{Float32}(0.259804,0.258824,0.228431)\n",
       " RGB{Float32}(0.495098,0.483333,0.408824)     RGB{Float32}(0.307843,0.305882,0.280392)\n",
       " RGB{Float32}(0.520588,0.508824,0.434314)     RGB{Float32}(0.310784,0.310784,0.277451)\n",
       " RGB{Float32}(0.529412,0.517647,0.443137)     RGB{Float32}(0.377451,0.377451,0.328431)\n",
       " RGB{Float32}(0.543137,0.531373,0.456863)  …  RGB{Float32}(0.417647,0.405882,0.34902)\n",
       " RGB{Float32}(0.535294,0.523529,0.44902)      RGB{Float32}(0.433333,0.421569,0.362745)"
      ]
     },
     "metadata": {},
     "output_type": "display_data"
    }
   ],
   "source": [
    "show_scmap_on_image(test_image, pred_joint_images[13]; fill_value=1);"
   ]
  },
  {
   "cell_type": "code",
   "execution_count": 115,
   "metadata": {},
   "outputs": [],
   "source": [
    "should_use_output_sized = false\n",
    "test_image = Array(dtrn_x1)[:, :, :, test_image_order];\n",
    "output_sized_test_image = imresize(test_image, 32, 32);\n",
    "perm = permutedims( should_use_output_sized ? output_sized_test_image : test_image, [3, 1, 2])\n",
    "colored = colorview(RGB, perm);\n",
    "fetch(display(colored));\n",
    "#colorview(RGB, rand(3,256,256))"
   ]
  },
  {
   "cell_type": "code",
   "execution_count": null,
   "metadata": {},
   "outputs": [],
   "source": [
    "# Experimental Section"
   ]
  },
  {
   "cell_type": "code",
   "execution_count": null,
   "metadata": {},
   "outputs": [],
   "source": [
    "first(dtrn)[1] |> size"
   ]
  },
  {
   "cell_type": "code",
   "execution_count": null,
   "metadata": {},
   "outputs": [],
   "source": [
    "first(dtrn)[2] |> size"
   ]
  },
  {
   "cell_type": "code",
   "execution_count": null,
   "metadata": {},
   "outputs": [],
   "source": [
    "#julia> w0 = KnetArray(randn(Float32, 5, 5, 1, 20));\n",
    "\n",
    "#julia> x0 = KnetArray(rand(Float32, 24, 24, 20, 100));\n",
    "\n",
    "#julia> size(deconv4(w0,x0)) # this output does not make it sense, it should give what I want\n",
    "#(28, 28, 20, 100)\n",
    "#\n",
    "\n",
    "w0 = KnetArray(randn(Float32, 5, 5, 1, 20));\n",
    " x0 = KnetArray(rand(Float32, 4, 4, 2048, 32));\n",
    "\n",
    " # this output does not make it sense, it should give what I want\n",
    "#(28, 28, 20, 100)"
   ]
  },
  {
   "cell_type": "code",
   "execution_count": null,
   "metadata": {},
   "outputs": [],
   "source": [
    "dec_layer = Deconv(4, 4, 14, 2048; padding=1, stride=2, atype=Knet.atype())"
   ]
  },
  {
   "cell_type": "code",
   "execution_count": null,
   "metadata": {},
   "outputs": [],
   "source": [
    "mock = randn(Float32, 16,16, 2048, 32);\n",
    "mock = convert(Knet.atype(), mock);"
   ]
  },
  {
   "cell_type": "code",
   "execution_count": null,
   "metadata": {},
   "outputs": [],
   "source": [
    "size(dec_layer(  mock ))"
   ]
  },
  {
   "cell_type": "code",
   "execution_count": null,
   "metadata": {},
   "outputs": [],
   "source": [
    "size(deconv4(w0,x0))"
   ]
  },
  {
   "cell_type": "code",
   "execution_count": null,
   "metadata": {
    "scrolled": true
   },
   "outputs": [],
   "source": [
    "tc = Conv2(3, 3, 3, 3)"
   ]
  },
  {
   "cell_type": "code",
   "execution_count": null,
   "metadata": {},
   "outputs": [],
   "source": [
    "fb = first(dtrn)[1];"
   ]
  },
  {
   "cell_type": "code",
   "execution_count": null,
   "metadata": {},
   "outputs": [],
   "source": [
    "res_tc = tc2(fb) |> tc;"
   ]
  },
  {
   "cell_type": "code",
   "execution_count": null,
   "metadata": {},
   "outputs": [],
   "source": [
    "mid = res_tc |> tc2"
   ]
  },
  {
   "cell_type": "code",
   "execution_count": null,
   "metadata": {},
   "outputs": [],
   "source": [
    "w1 = KnetArray(randn(Float32, 3,3, 1, 3));"
   ]
  },
  {
   "cell_type": "code",
   "execution_count": null,
   "metadata": {},
   "outputs": [],
   "source": [
    "#deconv4(w1, mid)\n",
    "size(deconv4(w1, mid; padding=1))"
   ]
  },
  {
   "cell_type": "code",
   "execution_count": null,
   "metadata": {},
   "outputs": [],
   "source": [
    "tc2 = ResLayerConv(3, 3, 3, 3; stride=2, padding=1)"
   ]
  },
  {
   "cell_type": "code",
   "execution_count": null,
   "metadata": {},
   "outputs": [],
   "source": [
    "res_tc2 = res_tc |> tc2;"
   ]
  },
  {
   "cell_type": "code",
   "execution_count": null,
   "metadata": {},
   "outputs": [],
   "source": [
    "size(res_tc)"
   ]
  },
  {
   "cell_type": "code",
   "execution_count": null,
   "metadata": {},
   "outputs": [],
   "source": [
    "tc2(fb) |> tc2 |> tc2;"
   ]
  },
  {
   "cell_type": "code",
   "execution_count": null,
   "metadata": {},
   "outputs": [],
   "source": []
  }
 ],
 "metadata": {
  "kernelspec": {
   "display_name": "Julia 1.5.3",
   "language": "julia",
   "name": "julia-1.5"
  },
  "language_info": {
   "file_extension": ".jl",
   "mimetype": "application/julia",
   "name": "julia",
   "version": "1.5.3"
  }
 },
 "nbformat": 4,
 "nbformat_minor": 4
}

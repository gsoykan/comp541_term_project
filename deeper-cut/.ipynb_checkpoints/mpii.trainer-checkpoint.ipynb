{
 "cells": [
  {
   "cell_type": "code",
   "execution_count": null,
   "metadata": {},
   "outputs": [],
   "source": [
    "#using Revise"
   ]
  },
  {
   "cell_type": "code",
   "execution_count": 1,
   "metadata": {},
   "outputs": [],
   "source": [
    "using Knet"
   ]
  },
  {
   "cell_type": "code",
   "execution_count": 2,
   "metadata": {},
   "outputs": [],
   "source": [
    "#pkg\"add Knet#master\""
   ]
  },
  {
   "cell_type": "code",
   "execution_count": 3,
   "metadata": {},
   "outputs": [],
   "source": [
    "#using ImageView;"
   ]
  },
  {
   "cell_type": "code",
   "execution_count": 60,
   "metadata": {},
   "outputs": [
    {
     "data": {
      "text/plain": [
       "generate_headless_resnet50_from_weights (generic function with 1 method)"
      ]
     },
     "execution_count": 60,
     "metadata": {},
     "output_type": "execute_result"
    }
   ],
   "source": [
    "include(\"../helper.jl\")\n",
    "include(\"mpii.annotation.parser.jl\")\n",
    "include(\"accuracy.jl\")\n",
    "include(\"loss.jl\")\n",
    "include(\"mpii.batcher.jl\")\n",
    "include(\"../models.jl\")\n",
    "include(\"../training.jl\")\n",
    "include(\"../plots.jl\")\n",
    "include(\"../modular.resnet.jl\")"
   ]
  },
  {
   "cell_type": "code",
   "execution_count": 61,
   "metadata": {
    "scrolled": true
   },
   "outputs": [
    {
     "name": "stdout",
     "output_type": "stream",
     "text": [
      "1\n",
      "4-element Data{Tuple{KnetArray{Float32,N} where N,KnetArray{Float32,N} where N}}\n",
      "257\n",
      "(49152, 256)\n",
      "8-element Data{Tuple{KnetArray{Float32,N} where N,KnetArray{Float32,N} where N}}\n",
      "513\n",
      "(49152, 512)\n",
      "12-element Data{Tuple{KnetArray{Float32,N} where N,KnetArray{Float32,N} where N}}\n",
      "769\n",
      "(49152, 768)\n",
      "16-element Data{Tuple{KnetArray{Float32,N} where N,KnetArray{Float32,N} where N}}\n",
      "1025\n",
      "(49152, 1024)\n",
      "20-element Data{Tuple{KnetArray{Float32,N} where N,KnetArray{Float32,N} where N}}\n",
      "1281\n",
      "(49152, 1280)\n",
      "24-element Data{Tuple{KnetArray{Float32,N} where N,KnetArray{Float32,N} where N}}\n",
      "1537\n",
      "(49152, 1536)\n",
      "28-element Data{Tuple{KnetArray{Float32,N} where N,KnetArray{Float32,N} where N}}\n",
      "1793\n",
      "(49152, 1792)\n",
      "32-element Data{Tuple{KnetArray{Float32,N} where N,KnetArray{Float32,N} where N}}\n",
      "2049\n",
      "(49152, 2048)\n",
      "36-element Data{Tuple{KnetArray{Float32,N} where N,KnetArray{Float32,N} where N}}\n",
      "2305\n",
      "(49152, 2304)\n",
      "40-element Data{Tuple{KnetArray{Float32,N} where N,KnetArray{Float32,N} where N}}\n",
      "2561\n",
      "(49152, 2560)\n",
      "44-element Data{Tuple{KnetArray{Float32,N} where N,KnetArray{Float32,N} where N}}\n",
      "2817\n",
      "(49152, 2816)\n",
      "48-element Data{Tuple{KnetArray{Float32,N} where N,KnetArray{Float32,N} where N}}\n",
      "3073\n",
      "(49152, 3072)\n",
      "52-element Data{Tuple{KnetArray{Float32,N} where N,KnetArray{Float32,N} where N}}\n",
      "3329\n",
      "(49152, 3328)\n",
      "56-element Data{Tuple{KnetArray{Float32,N} where N,KnetArray{Float32,N} where N}}\n",
      "3585\n",
      "(49152, 3584)\n",
      "60-element Data{Tuple{KnetArray{Float32,N} where N,KnetArray{Float32,N} where N}}\n",
      "3841\n",
      "(49152, 3840)\n",
      "64-element Data{Tuple{KnetArray{Float32,N} where N,KnetArray{Float32,N} where N}}\n",
      "4097\n",
      "(49152, 4096)\n",
      "68-element Data{Tuple{KnetArray{Float32,N} where N,KnetArray{Float32,N} where N}}\n",
      "4353\n",
      "(49152, 4352)\n",
      "72-element Data{Tuple{KnetArray{Float32,N} where N,KnetArray{Float32,N} where N}}\n",
      "4609\n",
      "(49152, 4608)\n",
      "76-element Data{Tuple{KnetArray{Float32,N} where N,KnetArray{Float32,N} where N}}\n",
      "4865\n",
      "(49152, 4864)\n",
      "80-element Data{Tuple{KnetArray{Float32,N} where N,KnetArray{Float32,N} where N}}\n",
      "5121\n",
      "(49152, 5120)\n",
      "84-element Data{Tuple{KnetArray{Float32,N} where N,KnetArray{Float32,N} where N}}\n",
      "5377\n",
      "(49152, 5376)\n",
      "88-element Data{Tuple{KnetArray{Float32,N} where N,KnetArray{Float32,N} where N}}\n",
      "5633\n",
      "(49152, 5632)\n",
      "92-element Data{Tuple{KnetArray{Float32,N} where N,KnetArray{Float32,N} where N}}\n",
      "5889\n",
      "(49152, 5888)\n",
      "96-element Data{Tuple{KnetArray{Float32,N} where N,KnetArray{Float32,N} where N}}\n",
      "6145\n",
      "(49152, 6144)\n",
      "100-element Data{Tuple{KnetArray{Float32,N} where N,KnetArray{Float32,N} where N}}\n",
      "6401\n",
      "(49152, 6400)\n",
      "104-element Data{Tuple{KnetArray{Float32,N} where N,KnetArray{Float32,N} where N}}\n",
      "6657\n",
      "(49152, 6656)\n",
      "108-element Data{Tuple{KnetArray{Float32,N} where N,KnetArray{Float32,N} where N}}\n",
      "6913\n",
      "(49152, 6912)\n",
      "112-element Data{Tuple{KnetArray{Float32,N} where N,KnetArray{Float32,N} where N}}\n",
      "7169\n",
      "(49152, 7168)\n",
      "116-element Data{Tuple{KnetArray{Float32,N} where N,KnetArray{Float32,N} where N}}\n",
      "7425\n",
      "(49152, 7424)\n",
      "120-element Data{Tuple{KnetArray{Float32,N} where N,KnetArray{Float32,N} where N}}\n",
      "7681\n",
      "(49152, 7680)\n",
      "124-element Data{Tuple{KnetArray{Float32,N} where N,KnetArray{Float32,N} where N}}\n",
      "7937\n",
      "(49152, 7936)\n",
      "128-element Data{Tuple{KnetArray{Float32,N} where N,KnetArray{Float32,N} where N}}\n",
      "8193\n",
      "(49152, 8192)\n",
      "132-element Data{Tuple{KnetArray{Float32,N} where N,KnetArray{Float32,N} where N}}\n",
      "8449\n",
      "(49152, 8448)\n",
      "136-element Data{Tuple{KnetArray{Float32,N} where N,KnetArray{Float32,N} where N}}\n",
      "8705\n",
      "(49152, 8704)\n",
      "140-element Data{Tuple{KnetArray{Float32,N} where N,KnetArray{Float32,N} where N}}\n",
      "8961\n",
      "(49152, 8960)\n",
      "144-element Data{Tuple{KnetArray{Float32,N} where N,KnetArray{Float32,N} where N}}\n",
      "9217\n",
      "(49152, 9216)\n",
      "148-element Data{Tuple{KnetArray{Float32,N} where N,KnetArray{Float32,N} where N}}\n",
      "9473\n",
      "(49152, 9472)\n",
      "152-element Data{Tuple{KnetArray{Float32,N} where N,KnetArray{Float32,N} where N}}\n",
      "9729\n",
      "(49152, 9728)\n",
      "156-element Data{Tuple{KnetArray{Float32,N} where N,KnetArray{Float32,N} where N}}\n",
      "9985\n",
      "(49152, 9984)\n",
      "160-element Data{Tuple{KnetArray{Float32,N} where N,KnetArray{Float32,N} where N}}\n",
      "10241\n",
      "(49152, 10240)\n",
      "164-element Data{Tuple{KnetArray{Float32,N} where N,KnetArray{Float32,N} where N}}\n",
      "10497\n",
      "(49152, 10496)\n",
      "168-element Data{Tuple{KnetArray{Float32,N} where N,KnetArray{Float32,N} where N}}\n",
      "10753\n",
      "(49152, 10752)\n",
      "172-element Data{Tuple{KnetArray{Float32,N} where N,KnetArray{Float32,N} where N}}\n",
      "11009\n",
      "(49152, 11008)\n",
      "176-element Data{Tuple{KnetArray{Float32,N} where N,KnetArray{Float32,N} where N}}\n",
      "11265\n",
      "(49152, 11264)\n",
      "180-element Data{Tuple{KnetArray{Float32,N} where N,KnetArray{Float32,N} where N}}\n",
      "11521\n",
      "(49152, 11520)\n",
      "184-element Data{Tuple{KnetArray{Float32,N} where N,KnetArray{Float32,N} where N}}\n",
      "11777\n",
      "(49152, 11776)\n",
      "188-element Data{Tuple{KnetArray{Float32,N} where N,KnetArray{Float32,N} where N}}\n",
      "12033\n",
      "(49152, 12032)\n",
      "192-element Data{Tuple{KnetArray{Float32,N} where N,KnetArray{Float32,N} where N}}\n",
      "12289\n",
      "(49152, 12288)\n",
      "196-element Data{Tuple{KnetArray{Float32,N} where N,KnetArray{Float32,N} where N}}\n",
      "12545\n",
      "(49152, 12544)\n",
      "200-element Data{Tuple{KnetArray{Float32,N} where N,KnetArray{Float32,N} where N}}\n",
      "12801\n",
      "(49152, 12800)\n",
      "204-element Data{Tuple{KnetArray{Float32,N} where N,KnetArray{Float32,N} where N}}\n",
      "13057\n",
      "(49152, 13056)\n",
      "208-element Data{Tuple{KnetArray{Float32,N} where N,KnetArray{Float32,N} where N}}\n",
      "13313\n",
      "(49152, 13312)\n",
      "212-element Data{Tuple{KnetArray{Float32,N} where N,KnetArray{Float32,N} where N}}\n",
      "13569\n",
      "(49152, 13568)\n",
      "216-element Data{Tuple{KnetArray{Float32,N} where N,KnetArray{Float32,N} where N}}\n",
      "13825\n",
      "(49152, 13824)\n",
      "220-element Data{Tuple{KnetArray{Float32,N} where N,KnetArray{Float32,N} where N}}\n",
      "14081\n",
      "(49152, 14080)\n",
      "224-element Data{Tuple{KnetArray{Float32,N} where N,KnetArray{Float32,N} where N}}\n",
      "14337\n",
      "(49152, 14336)\n",
      "228-element Data{Tuple{KnetArray{Float32,N} where N,KnetArray{Float32,N} where N}}\n",
      "14593\n",
      "(49152, 14592)\n",
      "232-element Data{Tuple{KnetArray{Float32,N} where N,KnetArray{Float32,N} where N}}\n",
      "14849\n",
      "(49152, 14848)\n",
      "236-element Data{Tuple{KnetArray{Float32,N} where N,KnetArray{Float32,N} where N}}\n",
      "15105\n",
      "(49152, 15104)\n",
      "240-element Data{Tuple{KnetArray{Float32,N} where N,KnetArray{Float32,N} where N}}\n",
      "15361\n",
      "(49152, 15360)\n",
      "244-element Data{Tuple{KnetArray{Float32,N} where N,KnetArray{Float32,N} where N}}\n",
      "15617\n",
      "(49152, 15616)\n",
      "248-element Data{Tuple{KnetArray{Float32,N} where N,KnetArray{Float32,N} where N}}\n",
      "15873\n",
      "(49152, 15872)\n",
      "252-element Data{Tuple{KnetArray{Float32,N} where N,KnetArray{Float32,N} where N}}\n",
      "16129\n",
      "(49152, 16128)\n",
      "256-element Data{Tuple{KnetArray{Float32,N} where N,KnetArray{Float32,N} where N}}\n",
      "16385\n",
      "(49152, 16384)\n",
      "260-element Data{Tuple{KnetArray{Float32,N} where N,KnetArray{Float32,N} where N}}\n",
      "16641\n",
      "(49152, 16640)\n",
      "264-element Data{Tuple{KnetArray{Float32,N} where N,KnetArray{Float32,N} where N}}\n",
      "16897\n",
      "(49152, 16896)\n",
      "268-element Data{Tuple{KnetArray{Float32,N} where N,KnetArray{Float32,N} where N}}\n",
      "17153\n",
      "(49152, 17152)\n",
      "272-element Data{Tuple{KnetArray{Float32,N} where N,KnetArray{Float32,N} where N}}\n",
      "17409\n",
      "(49152, 17408)\n",
      "276-element Data{Tuple{KnetArray{Float32,N} where N,KnetArray{Float32,N} where N}}\n",
      "17665\n",
      "(49152, 17664)\n",
      "280-element Data{Tuple{KnetArray{Float32,N} where N,KnetArray{Float32,N} where N}}\n",
      "17921\n",
      "(49152, 17920)\n",
      "284-element Data{Tuple{KnetArray{Float32,N} where N,KnetArray{Float32,N} where N}}\n",
      "18177\n",
      "(49152, 18176)\n",
      "288-element Data{Tuple{KnetArray{Float32,N} where N,KnetArray{Float32,N} where N}}\n",
      "18433\n",
      "(49152, 18432)\n",
      "292-element Data{Tuple{KnetArray{Float32,N} where N,KnetArray{Float32,N} where N}}\n",
      "18689\n",
      "(49152, 18688)\n",
      "296-element Data{Tuple{KnetArray{Float32,N} where N,KnetArray{Float32,N} where N}}\n",
      "18945\n",
      "(49152, 18944)\n",
      "300-element Data{Tuple{KnetArray{Float32,N} where N,KnetArray{Float32,N} where N}}\n",
      "19201\n",
      "(49152, 19200)\n",
      "304-element Data{Tuple{KnetArray{Float32,N} where N,KnetArray{Float32,N} where N}}\n",
      "19457\n",
      "(49152, 19456)\n",
      "308-element Data{Tuple{KnetArray{Float32,N} where N,KnetArray{Float32,N} where N}}\n",
      "19713\n",
      "(49152, 19712)\n",
      "312-element Data{Tuple{KnetArray{Float32,N} where N,KnetArray{Float32,N} where N}}\n",
      "19969\n",
      "(49152, 19968)\n",
      "316-element Data{Tuple{KnetArray{Float32,N} where N,KnetArray{Float32,N} where N}}\n",
      "20225\n",
      "(49152, 20224)\n",
      "320-element Data{Tuple{KnetArray{Float32,N} where N,KnetArray{Float32,N} where N}}\n",
      "20481\n",
      "(49152, 20480)\n",
      "324-element Data{Tuple{KnetArray{Float32,N} where N,KnetArray{Float32,N} where N}}\n"
     ]
    },
    {
     "data": {
      "text/plain": [
       "(324-element Data{Tuple{KnetArray{Float32,N} where N,KnetArray{Float32,N} where N}}, 40-element Data{Tuple{KnetArray{Float32,N} where N,KnetArray{Float32,N} where N}})"
      ]
     },
     "execution_count": 61,
     "metadata": {},
     "output_type": "execute_result"
    }
   ],
   "source": [
    "dtrn, dval = get_mpii_batches(64)"
   ]
  },
  {
   "cell_type": "code",
   "execution_count": null,
   "metadata": {},
   "outputs": [],
   "source": [
    "#all_batches = concatenate_iterables(dtrn, dval)"
   ]
  },
  {
   "cell_type": "code",
   "execution_count": 54,
   "metadata": {},
   "outputs": [
    {
     "data": {
      "text/plain": [
       "(K32(128,128,3,64)[0.8235294⋯], K32(16,16,71,64)[0.0⋯])"
      ]
     },
     "execution_count": 54,
     "metadata": {},
     "output_type": "execute_result"
    }
   ],
   "source": [
    "dtrn_x1, dtrn_y1 = first(dtrn)\n",
    "dval_x1, dval_y1 = first(dval)"
   ]
  },
  {
   "cell_type": "code",
   "execution_count": null,
   "metadata": {},
   "outputs": [],
   "source": [
    "# 5) Implementing a Simple Convolutional Neural Network\n",
    "simple_conv_net =   Chain(\n",
    "    ResLayerConv(3, 3, 3, 8; stride=2, padding=1),\n",
    "    ResLayerConv(3, 3, 8, 16; stride=2, padding=1),\n",
    "    ResLayerConv(3, 3, 16, 32; stride=2, padding=1),\n",
    "    Conv2(3, 3, 32, 32),\n",
    "    ResLayerConv(3, 3, 32, 32; stride=2, padding=1),\n",
    "    Deconv(3, 3, 14, 32; padding=1),\n",
    "    loss=sigmoid_cross_entropy_loss\n",
    ")\n",
    "\n",
    "simple_conv_net_results = trainresults(\"simple_conv_net.jld2\", simple_conv_net, dtrn, dval, 100, 0.15; accuracy_func=modelized_naive_pck_sigm, error_func=nothing);\n",
    "\n",
    "draw_plots(simple_conv_net_results)\n",
    "\n",
    "simple_conv_net(dval)\n",
    "\n",
    "sigmoided_output = Array(sigm.(simple_conv_net(dval_x1)));\n",
    "\n",
    "total_pck = naive_pck(sigmoided_output, dval_y1);\n",
    "println(total_pck)"
   ]
  },
  {
   "cell_type": "code",
   "execution_count": 18,
   "metadata": {},
   "outputs": [
    {
     "data": {
      "text/plain": [
       "get_params (generic function with 1 method)"
      ]
     },
     "execution_count": 18,
     "metadata": {},
     "output_type": "execute_result"
    }
   ],
   "source": [
    "function get_params(params, atype)\n",
    "    len = length(params[\"value\"])\n",
    "    ws, ms = [], []\n",
    "    for k = 1:len\n",
    "        name = params[\"name\"][k]\n",
    "        value = convert(Array{Float32}, params[\"value\"][k])\n",
    "\n",
    "        if endswith(name, \"moments\")\n",
    "            push!(ms, reshape(value[:,1], (1,1,size(value,1),1)))\n",
    "            push!(ms, reshape(value[:,2], (1,1,size(value,1),1)))\n",
    "        elseif startswith(name, \"bn\")\n",
    "            push!(ws, reshape(value, (1,1,length(value),1)))\n",
    "        elseif startswith(name, \"fc\") && endswith(name, \"filter\")\n",
    "            push!(ws, transpose(reshape(value,(size(value,3),size(value,4)))))\n",
    "        elseif startswith(name, \"conv\") && endswith(name, \"bias\")\n",
    "            push!(ws, reshape(value, (1,1,length(value),1)))\n",
    "        else\n",
    "            push!(ws, value)\n",
    "        end\n",
    "    end\n",
    "    map(wi->convert(atype, wi), ws),\n",
    "    map(mi->convert(atype, mi), ms)\n",
    "end"
   ]
  },
  {
   "cell_type": "code",
   "execution_count": 19,
   "metadata": {},
   "outputs": [
    {
     "data": {
      "text/plain": [
       "true"
      ]
     },
     "execution_count": 19,
     "metadata": {},
     "output_type": "execute_result"
    }
   ],
   "source": [
    "should_use_resnet50 = true"
   ]
  },
  {
   "cell_type": "code",
   "execution_count": 73,
   "metadata": {},
   "outputs": [],
   "source": [
    "model_file_path = should_use_resnet50 ? \"/userfiles/gsoykan20/resnet_pretrained/imagenet-resnet-50-dag.mat\" : \"/userfiles/gsoykan20/resnet_pretrained/imagenet-resnet-152-dag.mat\"\n",
    "\n",
    "o = Dict(\n",
    "  :atype => KnetArray{Float32},\n",
    "  :model => model_file_path,\n",
    "  :top   => 10\n",
    ")\n",
    "model = matread(abspath(o[:model]))\n",
    "w, ms = get_params(model[\"params\"], o[:atype]);"
   ]
  },
  {
   "cell_type": "code",
   "execution_count": 74,
   "metadata": {},
   "outputs": [],
   "source": [
    "modular_resnet = should_use_resnet50 ? generate_headless_resnet50_from_weights(w, ms) : generate_headless_resnet_from_weights(w, ms);"
   ]
  },
  {
   "cell_type": "code",
   "execution_count": 22,
   "metadata": {},
   "outputs": [
    {
     "data": {
      "text/plain": [
       "(16, 16, 71, 64)"
      ]
     },
     "execution_count": 22,
     "metadata": {},
     "output_type": "execute_result"
    }
   ],
   "source": [
    "size(dtrn_y1)"
   ]
  },
  {
   "cell_type": "code",
   "execution_count": null,
   "metadata": {},
   "outputs": [],
   "source": [
    "size(modular_resnet(dtrn_x1))"
   ]
  },
  {
   "cell_type": "code",
   "execution_count": 75,
   "metadata": {},
   "outputs": [],
   "source": [
    "resnet_with_deconv = Chain(modular_resnet.layers...,  \n",
    "     Deconv(4, 4, 14, 2048; padding=1, stride=2); loss=sigmoid_cross_entropy_loss);"
   ]
  },
  {
   "cell_type": "code",
   "execution_count": null,
   "metadata": {},
   "outputs": [],
   "source": [
    " resnet_output = Array(sigm.(resnet_with_deconv(dtrn_x1)));"
   ]
  },
  {
   "cell_type": "code",
   "execution_count": null,
   "metadata": {},
   "outputs": [],
   "source": [
    "total_pck_resnet = naive_pck(resnet_output, dtrn_y1);\n",
    "println(total_pck_resnet)"
   ]
  },
  {
   "cell_type": "code",
   "execution_count": 99,
   "metadata": {},
   "outputs": [
    {
     "data": {
      "text/plain": [
       "0.12545979f0"
      ]
     },
     "execution_count": 99,
     "metadata": {},
     "output_type": "execute_result"
    }
   ],
   "source": [
    "resnet_with_deconv(dtrn)"
   ]
  },
  {
   "cell_type": "code",
   "execution_count": 88,
   "metadata": {},
   "outputs": [
    {
     "data": {
      "text/plain": [
       "0"
      ]
     },
     "execution_count": 88,
     "metadata": {},
     "output_type": "execute_result"
    }
   ],
   "source": [
    "CUDA.reclaim()"
   ]
  },
  {
   "cell_type": "code",
   "execution_count": 89,
   "metadata": {},
   "outputs": [
    {
     "name": "stdout",
     "output_type": "stream",
     "text": [
      "Effective GPU memory usage: 10.22% (1.508 GiB/14.756 GiB)\n",
      "CUDA allocator usage: 713.690 MiB\n",
      "binned usage: 5.797 KiB (5.797 KiB allocated, 0 bytes cached)\n",
      "Discrepancy of 713.685 MiB between memory pool and allocator!\n"
     ]
    }
   ],
   "source": [
    "CUDA.memory_status() "
   ]
  },
  {
   "cell_type": "code",
   "execution_count": 90,
   "metadata": {},
   "outputs": [],
   "source": [
    "GC.gc(true)"
   ]
  },
  {
   "cell_type": "code",
   "execution_count": 91,
   "metadata": {},
   "outputs": [
    {
     "name": "stderr",
     "output_type": "stream",
     "text": [
      "┣████████████████████┫ [100.00%, 324/324, 04:18/04:18, 1.26i/s] \n",
      "┣████████████████████┫ [100.00%, 6480/6480, 01:27:18/01:27:18, 1.24i/s] \n",
      "┣████████████████████┫ [100.00%, 4860/4860, 01:05:08/01:05:08, 1.24i/s] \n",
      "┣███████████████████▊┫ [98.99%, 4811/4860, 01:02:57/01:03:35, 1.83i/s]  Excessive output truncated after 524294 bytes."
     ]
    }
   ],
   "source": [
    "# TODO: Fix batch norm issue here try with different batchnorms\n",
    "# Check here https://github.com/denizyuret/Knet.jl/blob/master/examples/dcgan-mnist/dcgan.jl\n",
    "# and\n",
    "# check previous batch norm emails\n",
    "# [(0.005, 1), (0.02, 20), (0.002, 15), (0.001, 15)]\n",
    "resnetnet_results = trainresults(\"resnet_with_deconv.jld2\", resnet_with_deconv, dtrn, dval,[(0.005, 1), (0.02, 20), (0.002, 15), (0.001, 15)] ; accuracy_func=modelized_naive_pck_sigm, error_func=nothing);"
   ]
  },
  {
   "cell_type": "code",
   "execution_count": 71,
   "metadata": {},
   "outputs": [
    {
     "data": {
      "text/plain": [
       "324-element Data{Tuple{KnetArray{Float32,N} where N,KnetArray{Float32,N} where N}}"
      ]
     },
     "execution_count": 71,
     "metadata": {},
     "output_type": "execute_result"
    }
   ],
   "source": [
    "dtrn"
   ]
  },
  {
   "cell_type": "code",
   "execution_count": 94,
   "metadata": {},
   "outputs": [],
   "source": [
    "# TODO: you may use file io for now\n",
    "Knet.save(\"16-12-2020-20480image-resnet-50.jld2\", \"resnet_with_deconv\", resnet_with_deconv)"
   ]
  },
  {
   "cell_type": "code",
   "execution_count": null,
   "metadata": {},
   "outputs": [],
   "source": [
    "resnetnet_results"
   ]
  },
  {
   "cell_type": "code",
   "execution_count": 92,
   "metadata": {},
   "outputs": [
    {
     "data": {
      "image/png": "[encoded data removed]"
     },
     "metadata": {},
     "output_type": "display_data"
    },
    {
     "data": {
      "image/png": "[encoded data removed]"
     },
     "metadata": {},
     "output_type": "display_data"
    },
    {
     "data": {
      "image/png": "[encoded data removed]"
     },
     "metadata": {},
     "output_type": "display_data"
    }
   ],
   "source": [
    "draw_plots(resnetnet_results)"
   ]
  },
  {
   "cell_type": "code",
   "execution_count": 95,
   "metadata": {},
   "outputs": [],
   "source": [
    "sigmoided_output = Array(sigm.(resnet_with_deconv(dtrn_x1)));"
   ]
  },
  {
   "cell_type": "code",
   "execution_count": 100,
   "metadata": {},
   "outputs": [
    {
     "data": {
      "text/plain": [
       "draw_first_images_forehead (generic function with 1 method)"
      ]
     },
     "execution_count": 100,
     "metadata": {},
     "output_type": "execute_result"
    }
   ],
   "source": [
    "function draw_first_images_forehead(y)\n",
    "test_y = y[:, :, :, 1];\n",
    "all_joints = [[1, 6], [2, 5], [3, 4], [7, 12], [8, 11], [9, 10], [13], [14]]\n",
    "for joint_group in all_joints\n",
    "    for j in joint_group\n",
    "    permuted = permutedims(test_y[:, : , j], (1,2))\n",
    "    display(colorview(Gray, permuted))\n",
    "        end\n",
    "end\n",
    "end"
   ]
  },
  {
   "cell_type": "code",
   "execution_count": 101,
   "metadata": {},
   "outputs": [],
   "source": [
    "#Array(dtrn_y1)"
   ]
  },
  {
   "cell_type": "code",
   "execution_count": 102,
   "metadata": {},
   "outputs": [],
   "source": [
    "      # cfg.all_joints = [[0, 5], [1, 4], [2, 3], [6, 11], [7, 10], [8, 9], [12], [13]]\n",
    "# cfg.all_joints_names = ['ankle', 'knee', 'hip', 'wrist', 'elbow', 'shoulder', 'chin', 'forehead']\n",
    "     "
   ]
  },
  {
   "cell_type": "code",
   "execution_count": 103,
   "metadata": {
    "scrolled": true
   },
   "outputs": [
    {
     "data": {
      "image/png": "[encoded data removed]",
      "text/plain": [
       "16×16 reinterpret(Gray{Float32}, ::Array{Float32,2}):\n",
       " Gray{Float32}(0.0)  Gray{Float32}(0.0)  …  Gray{Float32}(0.0)\n",
       " Gray{Float32}(0.0)  Gray{Float32}(0.0)     Gray{Float32}(0.0)\n",
       " Gray{Float32}(0.0)  Gray{Float32}(0.0)     Gray{Float32}(0.0)\n",
       " Gray{Float32}(0.0)  Gray{Float32}(0.0)     Gray{Float32}(0.0)\n",
       " Gray{Float32}(0.0)  Gray{Float32}(0.0)     Gray{Float32}(0.0)\n",
       " Gray{Float32}(0.0)  Gray{Float32}(0.0)  …  Gray{Float32}(0.0)\n",
       " Gray{Float32}(0.0)  Gray{Float32}(0.0)     Gray{Float32}(0.0)\n",
       " Gray{Float32}(0.0)  Gray{Float32}(0.0)     Gray{Float32}(0.0)\n",
       " Gray{Float32}(0.0)  Gray{Float32}(0.0)     Gray{Float32}(0.0)\n",
       " Gray{Float32}(0.0)  Gray{Float32}(0.0)     Gray{Float32}(0.0)\n",
       " Gray{Float32}(0.0)  Gray{Float32}(0.0)  …  Gray{Float32}(0.0)\n",
       " Gray{Float32}(0.0)  Gray{Float32}(0.0)     Gray{Float32}(0.0)\n",
       " Gray{Float32}(0.0)  Gray{Float32}(0.0)     Gray{Float32}(0.0)\n",
       " Gray{Float32}(0.0)  Gray{Float32}(0.0)     Gray{Float32}(0.0)\n",
       " Gray{Float32}(0.0)  Gray{Float32}(0.0)     Gray{Float32}(0.0)\n",
       " Gray{Float32}(0.0)  Gray{Float32}(0.0)  …  Gray{Float32}(0.0)"
      ]
     },
     "metadata": {},
     "output_type": "display_data"
    },
    {
     "data": {
      "image/png": "[encoded data removed]",
      "text/plain": [
       "16×16 reinterpret(Gray{Float32}, ::Array{Float32,2}):\n",
       " Gray{Float32}(0.0)  Gray{Float32}(0.0)  …  Gray{Float32}(0.0)\n",
       " Gray{Float32}(0.0)  Gray{Float32}(0.0)     Gray{Float32}(0.0)\n",
       " Gray{Float32}(0.0)  Gray{Float32}(0.0)     Gray{Float32}(0.0)\n",
       " Gray{Float32}(0.0)  Gray{Float32}(0.0)     Gray{Float32}(0.0)\n",
       " Gray{Float32}(0.0)  Gray{Float32}(0.0)     Gray{Float32}(0.0)\n",
       " Gray{Float32}(0.0)  Gray{Float32}(0.0)  …  Gray{Float32}(0.0)\n",
       " Gray{Float32}(0.0)  Gray{Float32}(0.0)     Gray{Float32}(0.0)\n",
       " Gray{Float32}(0.0)  Gray{Float32}(0.0)     Gray{Float32}(0.0)\n",
       " Gray{Float32}(0.0)  Gray{Float32}(0.0)     Gray{Float32}(0.0)\n",
       " Gray{Float32}(0.0)  Gray{Float32}(0.0)     Gray{Float32}(0.0)\n",
       " Gray{Float32}(0.0)  Gray{Float32}(0.0)  …  Gray{Float32}(0.0)\n",
       " Gray{Float32}(0.0)  Gray{Float32}(0.0)     Gray{Float32}(0.0)\n",
       " Gray{Float32}(0.0)  Gray{Float32}(0.0)     Gray{Float32}(0.0)\n",
       " Gray{Float32}(0.0)  Gray{Float32}(0.0)     Gray{Float32}(0.0)\n",
       " Gray{Float32}(0.0)  Gray{Float32}(0.0)     Gray{Float32}(0.0)\n",
       " Gray{Float32}(0.0)  Gray{Float32}(0.0)  …  Gray{Float32}(0.0)"
      ]
     },
     "metadata": {},
     "output_type": "display_data"
    },
    {
     "data": {
      "image/png": "[encoded data removed]",
      "text/plain": [
       "16×16 reinterpret(Gray{Float32}, ::Array{Float32,2}):\n",
       " Gray{Float32}(0.0)  Gray{Float32}(0.0)  …  Gray{Float32}(0.0)\n",
       " Gray{Float32}(0.0)  Gray{Float32}(0.0)     Gray{Float32}(0.0)\n",
       " Gray{Float32}(0.0)  Gray{Float32}(0.0)     Gray{Float32}(0.0)\n",
       " Gray{Float32}(0.0)  Gray{Float32}(0.0)     Gray{Float32}(0.0)\n",
       " Gray{Float32}(0.0)  Gray{Float32}(0.0)     Gray{Float32}(0.0)\n",
       " Gray{Float32}(0.0)  Gray{Float32}(0.0)  …  Gray{Float32}(0.0)\n",
       " Gray{Float32}(0.0)  Gray{Float32}(0.0)     Gray{Float32}(0.0)\n",
       " Gray{Float32}(0.0)  Gray{Float32}(0.0)     Gray{Float32}(0.0)\n",
       " Gray{Float32}(0.0)  Gray{Float32}(0.0)     Gray{Float32}(0.0)\n",
       " Gray{Float32}(0.0)  Gray{Float32}(0.0)     Gray{Float32}(0.0)\n",
       " Gray{Float32}(0.0)  Gray{Float32}(0.0)  …  Gray{Float32}(0.0)\n",
       " Gray{Float32}(0.0)  Gray{Float32}(0.0)     Gray{Float32}(0.0)\n",
       " Gray{Float32}(0.0)  Gray{Float32}(0.0)     Gray{Float32}(0.0)\n",
       " Gray{Float32}(0.0)  Gray{Float32}(0.0)     Gray{Float32}(0.0)\n",
       " Gray{Float32}(0.0)  Gray{Float32}(0.0)     Gray{Float32}(0.0)\n",
       " Gray{Float32}(0.0)  Gray{Float32}(0.0)  …  Gray{Float32}(0.0)"
      ]
     },
     "metadata": {},
     "output_type": "display_data"
    },
    {
     "data": {
      "image/png": "[encoded data removed]",
      "text/plain": [
       "16×16 reinterpret(Gray{Float32}, ::Array{Float32,2}):\n",
       " Gray{Float32}(0.0)  Gray{Float32}(0.0)  …  Gray{Float32}(0.0)\n",
       " Gray{Float32}(0.0)  Gray{Float32}(0.0)     Gray{Float32}(0.0)\n",
       " Gray{Float32}(0.0)  Gray{Float32}(0.0)     Gray{Float32}(0.0)\n",
       " Gray{Float32}(0.0)  Gray{Float32}(0.0)     Gray{Float32}(0.0)\n",
       " Gray{Float32}(0.0)  Gray{Float32}(0.0)     Gray{Float32}(0.0)\n",
       " Gray{Float32}(0.0)  Gray{Float32}(0.0)  …  Gray{Float32}(0.0)\n",
       " Gray{Float32}(0.0)  Gray{Float32}(0.0)     Gray{Float32}(0.0)\n",
       " Gray{Float32}(0.0)  Gray{Float32}(0.0)     Gray{Float32}(0.0)\n",
       " Gray{Float32}(0.0)  Gray{Float32}(0.0)     Gray{Float32}(0.0)\n",
       " Gray{Float32}(0.0)  Gray{Float32}(0.0)     Gray{Float32}(0.0)\n",
       " Gray{Float32}(0.0)  Gray{Float32}(0.0)  …  Gray{Float32}(0.0)\n",
       " Gray{Float32}(0.0)  Gray{Float32}(0.0)     Gray{Float32}(0.0)\n",
       " Gray{Float32}(0.0)  Gray{Float32}(0.0)     Gray{Float32}(0.0)\n",
       " Gray{Float32}(0.0)  Gray{Float32}(0.0)     Gray{Float32}(0.0)\n",
       " Gray{Float32}(0.0)  Gray{Float32}(0.0)     Gray{Float32}(0.0)\n",
       " Gray{Float32}(0.0)  Gray{Float32}(0.0)  …  Gray{Float32}(0.0)"
      ]
     },
     "metadata": {},
     "output_type": "display_data"
    },
    {
     "data": {
      "image/png": "[encoded data removed]",
      "text/plain": [
       "16×16 reinterpret(Gray{Float32}, ::Array{Float32,2}):\n",
       " Gray{Float32}(0.0)  Gray{Float32}(0.0)  …  Gray{Float32}(0.0)\n",
       " Gray{Float32}(0.0)  Gray{Float32}(0.0)     Gray{Float32}(0.0)\n",
       " Gray{Float32}(0.0)  Gray{Float32}(0.0)     Gray{Float32}(0.0)\n",
       " Gray{Float32}(0.0)  Gray{Float32}(0.0)     Gray{Float32}(0.0)\n",
       " Gray{Float32}(0.0)  Gray{Float32}(0.0)     Gray{Float32}(0.0)\n",
       " Gray{Float32}(0.0)  Gray{Float32}(0.0)  …  Gray{Float32}(0.0)\n",
       " Gray{Float32}(0.0)  Gray{Float32}(0.0)     Gray{Float32}(0.0)\n",
       " Gray{Float32}(0.0)  Gray{Float32}(0.0)     Gray{Float32}(0.0)\n",
       " Gray{Float32}(0.0)  Gray{Float32}(0.0)     Gray{Float32}(0.0)\n",
       " Gray{Float32}(0.0)  Gray{Float32}(0.0)     Gray{Float32}(0.0)\n",
       " Gray{Float32}(0.0)  Gray{Float32}(0.0)  …  Gray{Float32}(0.0)\n",
       " Gray{Float32}(0.0)  Gray{Float32}(0.0)     Gray{Float32}(0.0)\n",
       " Gray{Float32}(0.0)  Gray{Float32}(0.0)     Gray{Float32}(0.0)\n",
       " Gray{Float32}(0.0)  Gray{Float32}(0.0)     Gray{Float32}(0.0)\n",
       " Gray{Float32}(0.0)  Gray{Float32}(0.0)     Gray{Float32}(0.0)\n",
       " Gray{Float32}(0.0)  Gray{Float32}(0.0)  …  Gray{Float32}(0.0)"
      ]
     },
     "metadata": {},
     "output_type": "display_data"
    },
    {
     "data": {
      "image/png": "[encoded data removed]",
      "text/plain": [
       "16×16 reinterpret(Gray{Float32}, ::Array{Float32,2}):\n",
       " Gray{Float32}(0.0)  Gray{Float32}(0.0)  …  Gray{Float32}(0.0)\n",
       " Gray{Float32}(0.0)  Gray{Float32}(0.0)     Gray{Float32}(0.0)\n",
       " Gray{Float32}(0.0)  Gray{Float32}(0.0)     Gray{Float32}(0.0)\n",
       " Gray{Float32}(0.0)  Gray{Float32}(0.0)     Gray{Float32}(0.0)\n",
       " Gray{Float32}(0.0)  Gray{Float32}(0.0)     Gray{Float32}(0.0)\n",
       " Gray{Float32}(0.0)  Gray{Float32}(0.0)  …  Gray{Float32}(0.0)\n",
       " Gray{Float32}(0.0)  Gray{Float32}(0.0)     Gray{Float32}(0.0)\n",
       " Gray{Float32}(0.0)  Gray{Float32}(0.0)     Gray{Float32}(0.0)\n",
       " Gray{Float32}(0.0)  Gray{Float32}(0.0)     Gray{Float32}(0.0)\n",
       " Gray{Float32}(0.0)  Gray{Float32}(0.0)     Gray{Float32}(0.0)\n",
       " Gray{Float32}(0.0)  Gray{Float32}(0.0)  …  Gray{Float32}(0.0)\n",
       " Gray{Float32}(0.0)  Gray{Float32}(0.0)     Gray{Float32}(0.0)\n",
       " Gray{Float32}(0.0)  Gray{Float32}(0.0)     Gray{Float32}(0.0)\n",
       " Gray{Float32}(0.0)  Gray{Float32}(0.0)     Gray{Float32}(0.0)\n",
       " Gray{Float32}(0.0)  Gray{Float32}(0.0)     Gray{Float32}(0.0)\n",
       " Gray{Float32}(0.0)  Gray{Float32}(0.0)  …  Gray{Float32}(0.0)"
      ]
     },
     "metadata": {},
     "output_type": "display_data"
    },
    {
     "data": {
      "image/png": "[encoded data removed]",
      "text/plain": [
       "16×16 reinterpret(Gray{Float32}, ::Array{Float32,2}):\n",
       " Gray{Float32}(0.0)  Gray{Float32}(0.0)  …  Gray{Float32}(0.0)\n",
       " Gray{Float32}(0.0)  Gray{Float32}(0.0)     Gray{Float32}(0.0)\n",
       " Gray{Float32}(0.0)  Gray{Float32}(0.0)     Gray{Float32}(0.0)\n",
       " Gray{Float32}(0.0)  Gray{Float32}(0.0)     Gray{Float32}(0.0)\n",
       " Gray{Float32}(0.0)  Gray{Float32}(0.0)     Gray{Float32}(0.0)\n",
       " Gray{Float32}(0.0)  Gray{Float32}(0.0)  …  Gray{Float32}(0.0)\n",
       " Gray{Float32}(0.0)  Gray{Float32}(0.0)     Gray{Float32}(0.0)\n",
       " Gray{Float32}(0.0)  Gray{Float32}(0.0)     Gray{Float32}(0.0)\n",
       " Gray{Float32}(0.0)  Gray{Float32}(0.0)     Gray{Float32}(0.0)\n",
       " Gray{Float32}(0.0)  Gray{Float32}(0.0)     Gray{Float32}(0.0)\n",
       " Gray{Float32}(0.0)  Gray{Float32}(0.0)  …  Gray{Float32}(0.0)\n",
       " Gray{Float32}(0.0)  Gray{Float32}(0.0)     Gray{Float32}(0.0)\n",
       " Gray{Float32}(0.0)  Gray{Float32}(0.0)     Gray{Float32}(0.0)\n",
       " Gray{Float32}(0.0)  Gray{Float32}(0.0)     Gray{Float32}(0.0)\n",
       " Gray{Float32}(0.0)  Gray{Float32}(0.0)     Gray{Float32}(0.0)\n",
       " Gray{Float32}(0.0)  Gray{Float32}(0.0)  …  Gray{Float32}(0.0)"
      ]
     },
     "metadata": {},
     "output_type": "display_data"
    },
    {
     "data": {
      "image/png": "[encoded data removed]",
      "text/plain": [
       "16×16 reinterpret(Gray{Float32}, ::Array{Float32,2}):\n",
       " Gray{Float32}(0.0)  Gray{Float32}(0.0)  …  Gray{Float32}(0.0)\n",
       " Gray{Float32}(0.0)  Gray{Float32}(0.0)     Gray{Float32}(0.0)\n",
       " Gray{Float32}(0.0)  Gray{Float32}(0.0)     Gray{Float32}(0.0)\n",
       " Gray{Float32}(0.0)  Gray{Float32}(0.0)     Gray{Float32}(0.0)\n",
       " Gray{Float32}(0.0)  Gray{Float32}(0.0)     Gray{Float32}(0.0)\n",
       " Gray{Float32}(0.0)  Gray{Float32}(0.0)  …  Gray{Float32}(0.0)\n",
       " Gray{Float32}(0.0)  Gray{Float32}(0.0)     Gray{Float32}(0.0)\n",
       " Gray{Float32}(0.0)  Gray{Float32}(0.0)     Gray{Float32}(0.0)\n",
       " Gray{Float32}(0.0)  Gray{Float32}(0.0)     Gray{Float32}(0.0)\n",
       " Gray{Float32}(0.0)  Gray{Float32}(0.0)     Gray{Float32}(0.0)\n",
       " Gray{Float32}(0.0)  Gray{Float32}(0.0)  …  Gray{Float32}(0.0)\n",
       " Gray{Float32}(0.0)  Gray{Float32}(0.0)     Gray{Float32}(0.0)\n",
       " Gray{Float32}(0.0)  Gray{Float32}(0.0)     Gray{Float32}(0.0)\n",
       " Gray{Float32}(0.0)  Gray{Float32}(0.0)     Gray{Float32}(0.0)\n",
       " Gray{Float32}(0.0)  Gray{Float32}(0.0)     Gray{Float32}(0.0)\n",
       " Gray{Float32}(0.0)  Gray{Float32}(0.0)  …  Gray{Float32}(0.0)"
      ]
     },
     "metadata": {},
     "output_type": "display_data"
    },
    {
     "data": {
      "image/png": "[encoded data removed]",
      "text/plain": [
       "16×16 reinterpret(Gray{Float32}, ::Array{Float32,2}):\n",
       " Gray{Float32}(0.0)  Gray{Float32}(0.0)  …  Gray{Float32}(0.0)\n",
       " Gray{Float32}(0.0)  Gray{Float32}(0.0)     Gray{Float32}(0.0)\n",
       " Gray{Float32}(0.0)  Gray{Float32}(0.0)     Gray{Float32}(0.0)\n",
       " Gray{Float32}(0.0)  Gray{Float32}(0.0)     Gray{Float32}(0.0)\n",
       " Gray{Float32}(0.0)  Gray{Float32}(0.0)     Gray{Float32}(0.0)\n",
       " Gray{Float32}(0.0)  Gray{Float32}(0.0)  …  Gray{Float32}(0.0)\n",
       " Gray{Float32}(0.0)  Gray{Float32}(0.0)     Gray{Float32}(0.0)\n",
       " Gray{Float32}(0.0)  Gray{Float32}(0.0)     Gray{Float32}(0.0)\n",
       " Gray{Float32}(0.0)  Gray{Float32}(0.0)     Gray{Float32}(0.0)\n",
       " Gray{Float32}(0.0)  Gray{Float32}(0.0)     Gray{Float32}(0.0)\n",
       " Gray{Float32}(0.0)  Gray{Float32}(0.0)  …  Gray{Float32}(0.0)\n",
       " Gray{Float32}(0.0)  Gray{Float32}(0.0)     Gray{Float32}(0.0)\n",
       " Gray{Float32}(0.0)  Gray{Float32}(0.0)     Gray{Float32}(0.0)\n",
       " Gray{Float32}(0.0)  Gray{Float32}(0.0)     Gray{Float32}(0.0)\n",
       " Gray{Float32}(0.0)  Gray{Float32}(0.0)     Gray{Float32}(0.0)\n",
       " Gray{Float32}(0.0)  Gray{Float32}(0.0)  …  Gray{Float32}(0.0)"
      ]
     },
     "metadata": {},
     "output_type": "display_data"
    },
    {
     "data": {
      "image/png": "[encoded data removed]",
      "text/plain": [
       "16×16 reinterpret(Gray{Float32}, ::Array{Float32,2}):\n",
       " Gray{Float32}(0.0)  Gray{Float32}(0.0)  …  Gray{Float32}(0.0)\n",
       " Gray{Float32}(0.0)  Gray{Float32}(0.0)     Gray{Float32}(0.0)\n",
       " Gray{Float32}(0.0)  Gray{Float32}(0.0)     Gray{Float32}(0.0)\n",
       " Gray{Float32}(0.0)  Gray{Float32}(0.0)     Gray{Float32}(0.0)\n",
       " Gray{Float32}(0.0)  Gray{Float32}(0.0)     Gray{Float32}(0.0)\n",
       " Gray{Float32}(0.0)  Gray{Float32}(0.0)  …  Gray{Float32}(0.0)\n",
       " Gray{Float32}(0.0)  Gray{Float32}(0.0)     Gray{Float32}(0.0)\n",
       " Gray{Float32}(0.0)  Gray{Float32}(0.0)     Gray{Float32}(0.0)\n",
       " Gray{Float32}(0.0)  Gray{Float32}(0.0)     Gray{Float32}(0.0)\n",
       " Gray{Float32}(0.0)  Gray{Float32}(0.0)     Gray{Float32}(0.0)\n",
       " Gray{Float32}(0.0)  Gray{Float32}(0.0)  …  Gray{Float32}(0.0)\n",
       " Gray{Float32}(0.0)  Gray{Float32}(0.0)     Gray{Float32}(0.0)\n",
       " Gray{Float32}(0.0)  Gray{Float32}(0.0)     Gray{Float32}(0.0)\n",
       " Gray{Float32}(0.0)  Gray{Float32}(0.0)     Gray{Float32}(0.0)\n",
       " Gray{Float32}(0.0)  Gray{Float32}(0.0)     Gray{Float32}(0.0)\n",
       " Gray{Float32}(0.0)  Gray{Float32}(0.0)  …  Gray{Float32}(0.0)"
      ]
     },
     "metadata": {},
     "output_type": "display_data"
    },
    {
     "data": {
      "image/png": "[encoded data removed]",
      "text/plain": [
       "16×16 reinterpret(Gray{Float32}, ::Array{Float32,2}):\n",
       " Gray{Float32}(0.0)  Gray{Float32}(0.0)  …  Gray{Float32}(0.0)\n",
       " Gray{Float32}(0.0)  Gray{Float32}(0.0)     Gray{Float32}(0.0)\n",
       " Gray{Float32}(0.0)  Gray{Float32}(0.0)     Gray{Float32}(0.0)\n",
       " Gray{Float32}(0.0)  Gray{Float32}(0.0)     Gray{Float32}(0.0)\n",
       " Gray{Float32}(0.0)  Gray{Float32}(0.0)     Gray{Float32}(0.0)\n",
       " Gray{Float32}(0.0)  Gray{Float32}(0.0)  …  Gray{Float32}(0.0)\n",
       " Gray{Float32}(0.0)  Gray{Float32}(0.0)     Gray{Float32}(0.0)\n",
       " Gray{Float32}(0.0)  Gray{Float32}(0.0)     Gray{Float32}(0.0)\n",
       " Gray{Float32}(0.0)  Gray{Float32}(0.0)     Gray{Float32}(0.0)\n",
       " Gray{Float32}(0.0)  Gray{Float32}(0.0)     Gray{Float32}(0.0)\n",
       " Gray{Float32}(0.0)  Gray{Float32}(0.0)  …  Gray{Float32}(0.0)\n",
       " Gray{Float32}(0.0)  Gray{Float32}(0.0)     Gray{Float32}(0.0)\n",
       " Gray{Float32}(0.0)  Gray{Float32}(0.0)     Gray{Float32}(0.0)\n",
       " Gray{Float32}(0.0)  Gray{Float32}(0.0)     Gray{Float32}(0.0)\n",
       " Gray{Float32}(0.0)  Gray{Float32}(0.0)     Gray{Float32}(0.0)\n",
       " Gray{Float32}(0.0)  Gray{Float32}(0.0)  …  Gray{Float32}(0.0)"
      ]
     },
     "metadata": {},
     "output_type": "display_data"
    },
    {
     "data": {
      "image/png": "[encoded data removed]",
      "text/plain": [
       "16×16 reinterpret(Gray{Float32}, ::Array{Float32,2}):\n",
       " Gray{Float32}(0.0)  Gray{Float32}(0.0)  …  Gray{Float32}(0.0)\n",
       " Gray{Float32}(0.0)  Gray{Float32}(0.0)     Gray{Float32}(0.0)\n",
       " Gray{Float32}(0.0)  Gray{Float32}(0.0)     Gray{Float32}(0.0)\n",
       " Gray{Float32}(0.0)  Gray{Float32}(0.0)     Gray{Float32}(0.0)\n",
       " Gray{Float32}(0.0)  Gray{Float32}(0.0)     Gray{Float32}(0.0)\n",
       " Gray{Float32}(0.0)  Gray{Float32}(0.0)  …  Gray{Float32}(0.0)\n",
       " Gray{Float32}(0.0)  Gray{Float32}(0.0)     Gray{Float32}(0.0)\n",
       " Gray{Float32}(0.0)  Gray{Float32}(0.0)     Gray{Float32}(0.0)\n",
       " Gray{Float32}(0.0)  Gray{Float32}(0.0)     Gray{Float32}(0.0)\n",
       " Gray{Float32}(0.0)  Gray{Float32}(0.0)     Gray{Float32}(0.0)\n",
       " Gray{Float32}(0.0)  Gray{Float32}(0.0)  …  Gray{Float32}(0.0)\n",
       " Gray{Float32}(0.0)  Gray{Float32}(0.0)     Gray{Float32}(0.0)\n",
       " Gray{Float32}(0.0)  Gray{Float32}(0.0)     Gray{Float32}(0.0)\n",
       " Gray{Float32}(0.0)  Gray{Float32}(0.0)     Gray{Float32}(0.0)\n",
       " Gray{Float32}(0.0)  Gray{Float32}(0.0)     Gray{Float32}(0.0)\n",
       " Gray{Float32}(0.0)  Gray{Float32}(0.0)  …  Gray{Float32}(0.0)"
      ]
     },
     "metadata": {},
     "output_type": "display_data"
    },
    {
     "data": {
      "image/png": "[encoded data removed]",
      "text/plain": [
       "16×16 reinterpret(Gray{Float32}, ::Array{Float32,2}):\n",
       " Gray{Float32}(0.0)  Gray{Float32}(0.0)  …  Gray{Float32}(0.0)\n",
       " Gray{Float32}(0.0)  Gray{Float32}(0.0)     Gray{Float32}(0.0)\n",
       " Gray{Float32}(0.0)  Gray{Float32}(0.0)     Gray{Float32}(0.0)\n",
       " Gray{Float32}(0.0)  Gray{Float32}(0.0)     Gray{Float32}(0.0)\n",
       " Gray{Float32}(0.0)  Gray{Float32}(0.0)     Gray{Float32}(0.0)\n",
       " Gray{Float32}(0.0)  Gray{Float32}(0.0)  …  Gray{Float32}(0.0)\n",
       " Gray{Float32}(0.0)  Gray{Float32}(0.0)     Gray{Float32}(0.0)\n",
       " Gray{Float32}(0.0)  Gray{Float32}(0.0)     Gray{Float32}(0.0)\n",
       " Gray{Float32}(0.0)  Gray{Float32}(0.0)     Gray{Float32}(0.0)\n",
       " Gray{Float32}(0.0)  Gray{Float32}(0.0)     Gray{Float32}(0.0)\n",
       " Gray{Float32}(0.0)  Gray{Float32}(0.0)  …  Gray{Float32}(0.0)\n",
       " Gray{Float32}(0.0)  Gray{Float32}(0.0)     Gray{Float32}(0.0)\n",
       " Gray{Float32}(0.0)  Gray{Float32}(0.0)     Gray{Float32}(0.0)\n",
       " Gray{Float32}(0.0)  Gray{Float32}(0.0)     Gray{Float32}(0.0)\n",
       " Gray{Float32}(0.0)  Gray{Float32}(0.0)     Gray{Float32}(0.0)\n",
       " Gray{Float32}(0.0)  Gray{Float32}(0.0)  …  Gray{Float32}(0.0)"
      ]
     },
     "metadata": {},
     "output_type": "display_data"
    },
    {
     "data": {
      "image/png": "[encoded data removed]",
      "text/plain": [
       "16×16 reinterpret(Gray{Float32}, ::Array{Float32,2}):\n",
       " Gray{Float32}(0.0)  Gray{Float32}(0.0)  …  Gray{Float32}(0.0)\n",
       " Gray{Float32}(0.0)  Gray{Float32}(0.0)     Gray{Float32}(0.0)\n",
       " Gray{Float32}(0.0)  Gray{Float32}(0.0)     Gray{Float32}(0.0)\n",
       " Gray{Float32}(0.0)  Gray{Float32}(0.0)     Gray{Float32}(0.0)\n",
       " Gray{Float32}(0.0)  Gray{Float32}(0.0)     Gray{Float32}(0.0)\n",
       " Gray{Float32}(0.0)  Gray{Float32}(0.0)  …  Gray{Float32}(0.0)\n",
       " Gray{Float32}(0.0)  Gray{Float32}(0.0)     Gray{Float32}(0.0)\n",
       " Gray{Float32}(0.0)  Gray{Float32}(0.0)     Gray{Float32}(0.0)\n",
       " Gray{Float32}(0.0)  Gray{Float32}(0.0)     Gray{Float32}(0.0)\n",
       " Gray{Float32}(0.0)  Gray{Float32}(0.0)     Gray{Float32}(0.0)\n",
       " Gray{Float32}(0.0)  Gray{Float32}(0.0)  …  Gray{Float32}(0.0)\n",
       " Gray{Float32}(0.0)  Gray{Float32}(0.0)     Gray{Float32}(0.0)\n",
       " Gray{Float32}(0.0)  Gray{Float32}(0.0)     Gray{Float32}(0.0)\n",
       " Gray{Float32}(0.0)  Gray{Float32}(0.0)     Gray{Float32}(0.0)\n",
       " Gray{Float32}(0.0)  Gray{Float32}(0.0)     Gray{Float32}(0.0)\n",
       " Gray{Float32}(0.0)  Gray{Float32}(0.0)  …  Gray{Float32}(0.0)"
      ]
     },
     "metadata": {},
     "output_type": "display_data"
    }
   ],
   "source": [
    "draw_first_images_forehead(Array(dtrn_y1))"
   ]
  },
  {
   "cell_type": "code",
   "execution_count": 104,
   "metadata": {},
   "outputs": [
    {
     "data": {
      "image/png": "[encoded data removed]",
      "text/plain": [
       "16×16 reinterpret(Gray{Float32}, ::Array{Float32,2}):\n",
       " Gray{Float32}(0.00692029)  …  Gray{Float32}(0.00636603)\n",
       " Gray{Float32}(0.00196676)     Gray{Float32}(0.00790757)\n",
       " Gray{Float32}(0.00278336)     Gray{Float32}(0.00540282)\n",
       " Gray{Float32}(0.00521227)     Gray{Float32}(0.0513932)\n",
       " Gray{Float32}(0.00325763)     Gray{Float32}(0.0442857)\n",
       " Gray{Float32}(0.00391191)  …  Gray{Float32}(0.0153797)\n",
       " Gray{Float32}(0.001248)       Gray{Float32}(0.0104858)\n",
       " Gray{Float32}(0.00347091)     Gray{Float32}(0.012607)\n",
       " Gray{Float32}(0.00123384)     Gray{Float32}(0.0192274)\n",
       " Gray{Float32}(0.0134665)      Gray{Float32}(0.0200064)\n",
       " Gray{Float32}(0.00183798)  …  Gray{Float32}(0.0238137)\n",
       " Gray{Float32}(0.00571171)     Gray{Float32}(0.0031964)\n",
       " Gray{Float32}(0.00436117)     Gray{Float32}(0.0265189)\n",
       " Gray{Float32}(0.0139516)      Gray{Float32}(0.00685437)\n",
       " Gray{Float32}(0.00594686)     Gray{Float32}(0.00290025)\n",
       " Gray{Float32}(0.0124937)   …  Gray{Float32}(0.00182587)"
      ]
     },
     "metadata": {},
     "output_type": "display_data"
    },
    {
     "data": {
      "image/png": "[encoded data removed]",
      "text/plain": [
       "16×16 reinterpret(Gray{Float32}, ::Array{Float32,2}):\n",
       " Gray{Float32}(0.00620149)   …  Gray{Float32}(0.00925478)\n",
       " Gray{Float32}(0.00642519)      Gray{Float32}(0.00353143)\n",
       " Gray{Float32}(0.00144005)      Gray{Float32}(0.007303)\n",
       " Gray{Float32}(0.00508451)      Gray{Float32}(0.0255063)\n",
       " Gray{Float32}(0.00412274)      Gray{Float32}(0.0211697)\n",
       " Gray{Float32}(0.00146151)   …  Gray{Float32}(0.0170668)\n",
       " Gray{Float32}(0.00140943)      Gray{Float32}(0.00656272)\n",
       " Gray{Float32}(0.00128121)      Gray{Float32}(0.0283804)\n",
       " Gray{Float32}(0.000821364)     Gray{Float32}(0.00512582)\n",
       " Gray{Float32}(0.00238579)      Gray{Float32}(0.0173711)\n",
       " Gray{Float32}(0.00185252)   …  Gray{Float32}(0.0128742)\n",
       " Gray{Float32}(0.0033892)       Gray{Float32}(0.00875699)\n",
       " Gray{Float32}(0.0028218)       Gray{Float32}(0.0256676)\n",
       " Gray{Float32}(0.00520694)      Gray{Float32}(0.00113222)\n",
       " Gray{Float32}(0.00480756)      Gray{Float32}(0.00135097)\n",
       " Gray{Float32}(0.0116436)    …  Gray{Float32}(0.0027741)"
      ]
     },
     "metadata": {},
     "output_type": "display_data"
    },
    {
     "data": {
      "image/png": "[encoded data removed]",
      "text/plain": [
       "16×16 reinterpret(Gray{Float32}, ::Array{Float32,2}):\n",
       " Gray{Float32}(0.00341201)   …  Gray{Float32}(0.00640359)\n",
       " Gray{Float32}(0.00141547)      Gray{Float32}(0.00459955)\n",
       " Gray{Float32}(0.000732213)     Gray{Float32}(0.00862659)\n",
       " Gray{Float32}(0.00296532)      Gray{Float32}(0.0212865)\n",
       " Gray{Float32}(0.00244648)      Gray{Float32}(0.0426826)\n",
       " Gray{Float32}(0.00307251)   …  Gray{Float32}(0.0163641)\n",
       " Gray{Float32}(0.000389316)     Gray{Float32}(0.0141456)\n",
       " Gray{Float32}(0.00208978)      Gray{Float32}(0.0197282)\n",
       " Gray{Float32}(0.00138945)      Gray{Float32}(0.0196119)\n",
       " Gray{Float32}(0.00475185)      Gray{Float32}(0.0165241)\n",
       " Gray{Float32}(0.00212022)   …  Gray{Float32}(0.0153543)\n",
       " Gray{Float32}(0.00429642)      Gray{Float32}(0.00278859)\n",
       " Gray{Float32}(0.00488652)      Gray{Float32}(0.00907441)\n",
       " Gray{Float32}(0.0154364)       Gray{Float32}(0.00288417)\n",
       " Gray{Float32}(0.00837038)      Gray{Float32}(0.00283916)\n",
       " Gray{Float32}(0.0206397)    …  Gray{Float32}(0.00454596)"
      ]
     },
     "metadata": {},
     "output_type": "display_data"
    },
    {
     "data": {
      "image/png": "[encoded data removed]",
      "text/plain": [
       "16×16 reinterpret(Gray{Float32}, ::Array{Float32,2}):\n",
       " Gray{Float32}(0.00185919)   …  Gray{Float32}(0.00735223)\n",
       " Gray{Float32}(0.00269325)      Gray{Float32}(0.00412764)\n",
       " Gray{Float32}(0.000897272)     Gray{Float32}(0.0181975)\n",
       " Gray{Float32}(0.00429975)      Gray{Float32}(0.0211618)\n",
       " Gray{Float32}(0.00332207)      Gray{Float32}(0.0403998)\n",
       " Gray{Float32}(0.00115721)   …  Gray{Float32}(0.0187862)\n",
       " Gray{Float32}(0.000502923)     Gray{Float32}(0.0271821)\n",
       " Gray{Float32}(0.00207057)      Gray{Float32}(0.0272579)\n",
       " Gray{Float32}(0.00222837)      Gray{Float32}(0.0306883)\n",
       " Gray{Float32}(0.00157738)      Gray{Float32}(0.0226394)\n",
       " Gray{Float32}(0.00273621)   …  Gray{Float32}(0.0163639)\n",
       " Gray{Float32}(0.00324653)      Gray{Float32}(0.00387811)\n",
       " Gray{Float32}(0.0035779)       Gray{Float32}(0.0105468)\n",
       " Gray{Float32}(0.00346254)      Gray{Float32}(0.00152868)\n",
       " Gray{Float32}(0.00309096)      Gray{Float32}(0.00155975)\n",
       " Gray{Float32}(0.0139696)    …  Gray{Float32}(0.00112147)"
      ]
     },
     "metadata": {},
     "output_type": "display_data"
    },
    {
     "data": {
      "image/png": "[encoded data removed]",
      "text/plain": [
       "16×16 reinterpret(Gray{Float32}, ::Array{Float32,2}):\n",
       " Gray{Float32}(0.00277048)  …  Gray{Float32}(0.00891337)\n",
       " Gray{Float32}(0.00260952)     Gray{Float32}(0.0173494)\n",
       " Gray{Float32}(0.00105948)     Gray{Float32}(0.0194258)\n",
       " Gray{Float32}(0.00696793)     Gray{Float32}(0.0668685)\n",
       " Gray{Float32}(0.00256607)     Gray{Float32}(0.0501491)\n",
       " Gray{Float32}(0.00329474)  …  Gray{Float32}(0.0173949)\n",
       " Gray{Float32}(0.00201004)     Gray{Float32}(0.016006)\n",
       " Gray{Float32}(0.0091493)      Gray{Float32}(0.0139438)\n",
       " Gray{Float32}(0.0125393)      Gray{Float32}(0.0126203)\n",
       " Gray{Float32}(0.0109241)      Gray{Float32}(0.0414408)\n",
       " Gray{Float32}(0.0128225)   …  Gray{Float32}(0.00751962)\n",
       " Gray{Float32}(0.020264)       Gray{Float32}(0.00567094)\n",
       " Gray{Float32}(0.0151218)      Gray{Float32}(0.00274177)\n",
       " Gray{Float32}(0.00868108)     Gray{Float32}(0.0105803)\n",
       " Gray{Float32}(0.0304613)      Gray{Float32}(0.000319755)\n",
       " Gray{Float32}(0.0282959)   …  Gray{Float32}(0.000959915)"
      ]
     },
     "metadata": {},
     "output_type": "display_data"
    },
    {
     "data": {
      "image/png": "[encoded data removed]",
      "text/plain": [
       "16×16 reinterpret(Gray{Float32}, ::Array{Float32,2}):\n",
       " Gray{Float32}(0.00409528)  …  Gray{Float32}(0.00370244)\n",
       " Gray{Float32}(0.00180006)     Gray{Float32}(0.00234616)\n",
       " Gray{Float32}(0.00182375)     Gray{Float32}(0.0203621)\n",
       " Gray{Float32}(0.00547495)     Gray{Float32}(0.0337264)\n",
       " Gray{Float32}(0.00266268)     Gray{Float32}(0.0617099)\n",
       " Gray{Float32}(0.00272194)  …  Gray{Float32}(0.029089)\n",
       " Gray{Float32}(0.00101966)     Gray{Float32}(0.0133304)\n",
       " Gray{Float32}(0.004783)       Gray{Float32}(0.0167506)\n",
       " Gray{Float32}(0.00193899)     Gray{Float32}(0.0238975)\n",
       " Gray{Float32}(0.0182616)      Gray{Float32}(0.017601)\n",
       " Gray{Float32}(0.00591816)  …  Gray{Float32}(0.016092)\n",
       " Gray{Float32}(0.00875987)     Gray{Float32}(0.00184561)\n",
       " Gray{Float32}(0.00621696)     Gray{Float32}(0.0117093)\n",
       " Gray{Float32}(0.018132)       Gray{Float32}(0.00132574)\n",
       " Gray{Float32}(0.00536209)     Gray{Float32}(0.000695991)\n",
       " Gray{Float32}(0.0112797)   …  Gray{Float32}(0.00123597)"
      ]
     },
     "metadata": {},
     "output_type": "display_data"
    },
    {
     "data": {
      "image/png": "[encoded data removed]",
      "text/plain": [
       "16×16 reinterpret(Gray{Float32}, ::Array{Float32,2}):\n",
       " Gray{Float32}(0.00703703)  …  Gray{Float32}(0.0165341)\n",
       " Gray{Float32}(0.00257571)     Gray{Float32}(0.0100764)\n",
       " Gray{Float32}(0.00284005)     Gray{Float32}(0.0143311)\n",
       " Gray{Float32}(0.0188604)      Gray{Float32}(0.0872666)\n",
       " Gray{Float32}(0.00828032)     Gray{Float32}(0.0165265)\n",
       " Gray{Float32}(0.0132349)   …  Gray{Float32}(0.0493956)\n",
       " Gray{Float32}(0.00316174)     Gray{Float32}(0.0266919)\n",
       " Gray{Float32}(0.0201262)      Gray{Float32}(0.00697251)\n",
       " Gray{Float32}(0.00471252)     Gray{Float32}(0.0782139)\n",
       " Gray{Float32}(0.0310397)      Gray{Float32}(0.00711883)\n",
       " Gray{Float32}(0.00985666)  …  Gray{Float32}(0.0150787)\n",
       " Gray{Float32}(0.028425)       Gray{Float32}(0.00246182)\n",
       " Gray{Float32}(0.0129298)      Gray{Float32}(0.0159454)\n",
       " Gray{Float32}(0.0179026)      Gray{Float32}(0.000922666)\n",
       " Gray{Float32}(0.0157063)      Gray{Float32}(0.000496505)\n",
       " Gray{Float32}(0.0422925)   …  Gray{Float32}(0.00369878)"
      ]
     },
     "metadata": {},
     "output_type": "display_data"
    },
    {
     "data": {
      "image/png": "[encoded data removed]",
      "text/plain": [
       "16×16 reinterpret(Gray{Float32}, ::Array{Float32,2}):\n",
       " Gray{Float32}(0.00428102)  …  Gray{Float32}(0.00623922)\n",
       " Gray{Float32}(0.00443798)     Gray{Float32}(0.017743)\n",
       " Gray{Float32}(0.002507)       Gray{Float32}(0.0449837)\n",
       " Gray{Float32}(0.010689)       Gray{Float32}(0.070146)\n",
       " Gray{Float32}(0.00652371)     Gray{Float32}(0.0752962)\n",
       " Gray{Float32}(0.00585083)  …  Gray{Float32}(0.050465)\n",
       " Gray{Float32}(0.00307858)     Gray{Float32}(0.0483616)\n",
       " Gray{Float32}(0.00618201)     Gray{Float32}(0.0357183)\n",
       " Gray{Float32}(0.0138597)      Gray{Float32}(0.0473288)\n",
       " Gray{Float32}(0.00990131)     Gray{Float32}(0.0342335)\n",
       " Gray{Float32}(0.0114284)   …  Gray{Float32}(0.0185469)\n",
       " Gray{Float32}(0.00393418)     Gray{Float32}(0.00275911)\n",
       " Gray{Float32}(0.0231752)      Gray{Float32}(0.00932556)\n",
       " Gray{Float32}(0.0118173)      Gray{Float32}(0.00284363)\n",
       " Gray{Float32}(0.00692677)     Gray{Float32}(0.00027668)\n",
       " Gray{Float32}(0.00825899)  …  Gray{Float32}(0.00149968)"
      ]
     },
     "metadata": {},
     "output_type": "display_data"
    },
    {
     "data": {
      "image/png": "[encoded data removed]",
      "text/plain": [
       "16×16 reinterpret(Gray{Float32}, ::Array{Float32,2}):\n",
       " Gray{Float32}(0.00246489)  …  Gray{Float32}(0.0120087)\n",
       " Gray{Float32}(0.00183347)     Gray{Float32}(0.00863349)\n",
       " Gray{Float32}(0.00333559)     Gray{Float32}(0.0152287)\n",
       " Gray{Float32}(0.0161997)      Gray{Float32}(0.0434815)\n",
       " Gray{Float32}(0.00558058)     Gray{Float32}(0.0572462)\n",
       " Gray{Float32}(0.0140555)   …  Gray{Float32}(0.0198548)\n",
       " Gray{Float32}(0.00776072)     Gray{Float32}(0.0933245)\n",
       " Gray{Float32}(0.0188849)      Gray{Float32}(0.0182426)\n",
       " Gray{Float32}(0.0144158)      Gray{Float32}(0.0345934)\n",
       " Gray{Float32}(0.0435462)      Gray{Float32}(0.0109971)\n",
       " Gray{Float32}(0.0149506)   …  Gray{Float32}(0.00713518)\n",
       " Gray{Float32}(0.0140951)      Gray{Float32}(0.00375763)\n",
       " Gray{Float32}(0.019179)       Gray{Float32}(0.00501491)\n",
       " Gray{Float32}(0.0482766)      Gray{Float32}(0.000170617)\n",
       " Gray{Float32}(0.00885291)     Gray{Float32}(4.20719f-5)\n",
       " Gray{Float32}(0.0146805)   …  Gray{Float32}(0.00166608)"
      ]
     },
     "metadata": {},
     "output_type": "display_data"
    },
    {
     "data": {
      "image/png": "[encoded data removed]",
      "text/plain": [
       "16×16 reinterpret(Gray{Float32}, ::Array{Float32,2}):\n",
       " Gray{Float32}(0.00371144)   …  Gray{Float32}(0.0103339)\n",
       " Gray{Float32}(0.000829089)     Gray{Float32}(0.0137678)\n",
       " Gray{Float32}(0.000521473)     Gray{Float32}(0.0575971)\n",
       " Gray{Float32}(0.00458027)      Gray{Float32}(0.147136)\n",
       " Gray{Float32}(0.00359657)      Gray{Float32}(0.100071)\n",
       " Gray{Float32}(0.00381463)   …  Gray{Float32}(0.0756697)\n",
       " Gray{Float32}(0.00198838)      Gray{Float32}(0.0370627)\n",
       " Gray{Float32}(0.00662886)      Gray{Float32}(0.0714404)\n",
       " Gray{Float32}(0.0168717)       Gray{Float32}(0.0560672)\n",
       " Gray{Float32}(0.0125109)       Gray{Float32}(0.0792852)\n",
       " Gray{Float32}(0.00739426)   …  Gray{Float32}(0.0120356)\n",
       " Gray{Float32}(0.00532434)      Gray{Float32}(0.0137779)\n",
       " Gray{Float32}(0.0135896)       Gray{Float32}(0.00472394)\n",
       " Gray{Float32}(0.0146236)       Gray{Float32}(0.00360796)\n",
       " Gray{Float32}(0.00898165)      Gray{Float32}(0.000903727)\n",
       " Gray{Float32}(0.00940225)   …  Gray{Float32}(0.00865574)"
      ]
     },
     "metadata": {},
     "output_type": "display_data"
    },
    {
     "data": {
      "image/png": "[encoded data removed]",
      "text/plain": [
       "16×16 reinterpret(Gray{Float32}, ::Array{Float32,2}):\n",
       " Gray{Float32}(0.00479676)   …  Gray{Float32}(0.00940453)\n",
       " Gray{Float32}(0.000680426)     Gray{Float32}(0.018937)\n",
       " Gray{Float32}(0.00274994)      Gray{Float32}(0.0510336)\n",
       " Gray{Float32}(0.00520105)      Gray{Float32}(0.0676642)\n",
       " Gray{Float32}(0.00807164)      Gray{Float32}(0.0729449)\n",
       " Gray{Float32}(0.00490744)   …  Gray{Float32}(0.0141896)\n",
       " Gray{Float32}(0.0083365)       Gray{Float32}(0.0179543)\n",
       " Gray{Float32}(0.0196861)       Gray{Float32}(0.0119965)\n",
       " Gray{Float32}(0.0121642)       Gray{Float32}(0.00289746)\n",
       " Gray{Float32}(0.0172041)       Gray{Float32}(0.00332615)\n",
       " Gray{Float32}(0.00475107)   …  Gray{Float32}(0.00101189)\n",
       " Gray{Float32}(0.020365)        Gray{Float32}(0.0017086)\n",
       " Gray{Float32}(0.00524312)      Gray{Float32}(0.000263457)\n",
       " Gray{Float32}(0.0168377)       Gray{Float32}(0.00010127)\n",
       " Gray{Float32}(0.00289871)      Gray{Float32}(7.75472f-6)\n",
       " Gray{Float32}(0.0136903)    …  Gray{Float32}(0.000950044)"
      ]
     },
     "metadata": {},
     "output_type": "display_data"
    },
    {
     "data": {
      "image/png": "[encoded data removed]",
      "text/plain": [
       "16×16 reinterpret(Gray{Float32}, ::Array{Float32,2}):\n",
       " Gray{Float32}(0.00254495)  …  Gray{Float32}(0.0107555)\n",
       " Gray{Float32}(0.00152032)     Gray{Float32}(0.0550366)\n",
       " Gray{Float32}(0.00771835)     Gray{Float32}(0.138577)\n",
       " Gray{Float32}(0.00356279)     Gray{Float32}(0.149337)\n",
       " Gray{Float32}(0.0049223)      Gray{Float32}(0.110173)\n",
       " Gray{Float32}(0.00391645)  …  Gray{Float32}(0.0462755)\n",
       " Gray{Float32}(0.002605)       Gray{Float32}(0.00962868)\n",
       " Gray{Float32}(0.00889334)     Gray{Float32}(0.0275122)\n",
       " Gray{Float32}(0.00642609)     Gray{Float32}(0.014559)\n",
       " Gray{Float32}(0.00882622)     Gray{Float32}(0.0038247)\n",
       " Gray{Float32}(0.00901377)  …  Gray{Float32}(0.00269746)\n",
       " Gray{Float32}(0.00665442)     Gray{Float32}(0.00125752)\n",
       " Gray{Float32}(0.00575448)     Gray{Float32}(0.00317895)\n",
       " Gray{Float32}(0.00554611)     Gray{Float32}(5.38464f-5)\n",
       " Gray{Float32}(0.00819005)     Gray{Float32}(0.000100975)\n",
       " Gray{Float32}(0.0172056)   …  Gray{Float32}(0.00050858)"
      ]
     },
     "metadata": {},
     "output_type": "display_data"
    },
    {
     "data": {
      "image/png": "[encoded data removed]",
      "text/plain": [
       "16×16 reinterpret(Gray{Float32}, ::Array{Float32,2}):\n",
       " Gray{Float32}(0.00246529)   …  Gray{Float32}(0.00849137)\n",
       " Gray{Float32}(0.000967588)     Gray{Float32}(0.008466)\n",
       " Gray{Float32}(0.00278841)      Gray{Float32}(0.0435906)\n",
       " Gray{Float32}(0.00288627)      Gray{Float32}(0.0845588)\n",
       " Gray{Float32}(0.00302967)      Gray{Float32}(0.133161)\n",
       " Gray{Float32}(0.00187373)   …  Gray{Float32}(0.0125637)\n",
       " Gray{Float32}(0.001701)        Gray{Float32}(0.0141749)\n",
       " Gray{Float32}(0.00109972)      Gray{Float32}(0.00260339)\n",
       " Gray{Float32}(0.00339286)      Gray{Float32}(0.00569423)\n",
       " Gray{Float32}(0.0022784)       Gray{Float32}(0.00105823)\n",
       " Gray{Float32}(0.000994545)  …  Gray{Float32}(0.000718082)\n",
       " Gray{Float32}(0.00113118)      Gray{Float32}(0.000864221)\n",
       " Gray{Float32}(0.00287484)      Gray{Float32}(0.000563053)\n",
       " Gray{Float32}(0.00340121)      Gray{Float32}(4.22181f-5)\n",
       " Gray{Float32}(0.000657006)     Gray{Float32}(4.10212f-5)\n",
       " Gray{Float32}(0.0036656)    …  Gray{Float32}(0.00230468)"
      ]
     },
     "metadata": {},
     "output_type": "display_data"
    },
    {
     "data": {
      "image/png": "[encoded data removed]",
      "text/plain": [
       "16×16 reinterpret(Gray{Float32}, ::Array{Float32,2}):\n",
       " Gray{Float32}(0.00358632)  …  Gray{Float32}(0.0198549)\n",
       " Gray{Float32}(0.011975)       Gray{Float32}(0.0468653)\n",
       " Gray{Float32}(0.0149224)      Gray{Float32}(0.0514791)\n",
       " Gray{Float32}(0.0204341)      Gray{Float32}(0.0599551)\n",
       " Gray{Float32}(0.0201918)      Gray{Float32}(0.0870026)\n",
       " Gray{Float32}(0.0133283)   …  Gray{Float32}(0.0145319)\n",
       " Gray{Float32}(0.0111325)      Gray{Float32}(0.00590274)\n",
       " Gray{Float32}(0.00627615)     Gray{Float32}(0.00543583)\n",
       " Gray{Float32}(0.00923256)     Gray{Float32}(0.00299157)\n",
       " Gray{Float32}(0.00408446)     Gray{Float32}(0.00204614)\n",
       " Gray{Float32}(0.00435433)  …  Gray{Float32}(0.00075388)\n",
       " Gray{Float32}(0.00260759)     Gray{Float32}(0.00182472)\n",
       " Gray{Float32}(0.00925847)     Gray{Float32}(0.000326362)\n",
       " Gray{Float32}(0.00330883)     Gray{Float32}(3.25882f-5)\n",
       " Gray{Float32}(0.00221341)     Gray{Float32}(4.39466f-5)\n",
       " Gray{Float32}(0.00535754)  …  Gray{Float32}(0.000874863)"
      ]
     },
     "metadata": {},
     "output_type": "display_data"
    }
   ],
   "source": [
    "draw_first_images_forehead(sigmoided_output);"
   ]
  },
  {
   "cell_type": "code",
   "execution_count": null,
   "metadata": {},
   "outputs": [],
   "source": [
    "#draw_plots(simple_conv_net_results);"
   ]
  },
  {
   "cell_type": "code",
   "execution_count": null,
   "metadata": {},
   "outputs": [],
   "source": [
    "test_image = Array(dtrn_x1)[:, :, :, 17];"
   ]
  },
  {
   "cell_type": "code",
   "execution_count": null,
   "metadata": {},
   "outputs": [],
   "source": [
    "perm = permutedims(test_image, [3, 1, 2])\n",
    "colorview(RGB, perm)\n",
    "#colorview(RGB, rand(3,256,256))\n"
   ]
  },
  {
   "cell_type": "code",
   "execution_count": null,
   "metadata": {},
   "outputs": [],
   "source": [
    "(16, 16, 71, 32)\n",
    "\n",
    "(4, 4, 2048, 32)"
   ]
  },
  {
   "cell_type": "code",
   "execution_count": null,
   "metadata": {},
   "outputs": [],
   "source": [
    "size(ytrn)"
   ]
  },
  {
   "cell_type": "code",
   "execution_count": null,
   "metadata": {},
   "outputs": [],
   "source": [
    "first(dtrn)[1] |> size"
   ]
  },
  {
   "cell_type": "code",
   "execution_count": null,
   "metadata": {},
   "outputs": [],
   "source": [
    "first(dtrn)[2] |> size"
   ]
  },
  {
   "cell_type": "code",
   "execution_count": null,
   "metadata": {},
   "outputs": [],
   "source": [
    "#julia> w0 = KnetArray(randn(Float32, 5, 5, 1, 20));\n",
    "\n",
    "#julia> x0 = KnetArray(rand(Float32, 24, 24, 20, 100));\n",
    "\n",
    "#julia> size(deconv4(w0,x0)) # this output does not make it sense, it should give what I want\n",
    "#(28, 28, 20, 100)\n",
    "#\n",
    "\n",
    "w0 = KnetArray(randn(Float32, 5, 5, 1, 20));\n",
    " x0 = KnetArray(rand(Float32, 4, 4, 2048, 32));\n",
    "\n",
    " # this output does not make it sense, it should give what I want\n",
    "#(28, 28, 20, 100)"
   ]
  },
  {
   "cell_type": "code",
   "execution_count": null,
   "metadata": {},
   "outputs": [],
   "source": [
    "dec_layer = Deconv(4, 4, 14, 2048; padding=1, stride=2, atype=Knet.atype())"
   ]
  },
  {
   "cell_type": "code",
   "execution_count": null,
   "metadata": {},
   "outputs": [],
   "source": [
    "mock = randn(Float32, 16,16, 2048, 32);\n",
    "mock = convert(Knet.atype(), mock);"
   ]
  },
  {
   "cell_type": "code",
   "execution_count": null,
   "metadata": {},
   "outputs": [],
   "source": [
    "size(dec_layer(  mock ))"
   ]
  },
  {
   "cell_type": "code",
   "execution_count": null,
   "metadata": {},
   "outputs": [],
   "source": [
    "size(deconv4(w0,x0))"
   ]
  },
  {
   "cell_type": "code",
   "execution_count": null,
   "metadata": {
    "scrolled": true
   },
   "outputs": [],
   "source": [
    "tc = Conv2(3, 3, 3, 3)"
   ]
  },
  {
   "cell_type": "code",
   "execution_count": null,
   "metadata": {},
   "outputs": [],
   "source": [
    "fb = first(dtrn)[1];"
   ]
  },
  {
   "cell_type": "code",
   "execution_count": null,
   "metadata": {},
   "outputs": [],
   "source": [
    "res_tc = tc2(fb) |> tc;"
   ]
  },
  {
   "cell_type": "code",
   "execution_count": null,
   "metadata": {},
   "outputs": [],
   "source": [
    "mid = res_tc |> tc2"
   ]
  },
  {
   "cell_type": "code",
   "execution_count": null,
   "metadata": {},
   "outputs": [],
   "source": [
    "w1 = KnetArray(randn(Float32, 3,3, 1, 3));"
   ]
  },
  {
   "cell_type": "code",
   "execution_count": null,
   "metadata": {},
   "outputs": [],
   "source": [
    "#deconv4(w1, mid)\n",
    "size(deconv4(w1, mid; padding=1))"
   ]
  },
  {
   "cell_type": "code",
   "execution_count": null,
   "metadata": {},
   "outputs": [],
   "source": [
    "tc2 = ResLayerConv(3, 3, 3, 3; stride=2, padding=1)"
   ]
  },
  {
   "cell_type": "code",
   "execution_count": null,
   "metadata": {},
   "outputs": [],
   "source": [
    "res_tc2 = res_tc |> tc2;"
   ]
  },
  {
   "cell_type": "code",
   "execution_count": null,
   "metadata": {},
   "outputs": [],
   "source": [
    "size(res_tc)"
   ]
  },
  {
   "cell_type": "code",
   "execution_count": null,
   "metadata": {},
   "outputs": [],
   "source": [
    "tc2(fb) |> tc2 |> tc2;"
   ]
  },
  {
   "cell_type": "code",
   "execution_count": null,
   "metadata": {},
   "outputs": [],
   "source": []
  }
 ],
 "metadata": {
  "kernelspec": {
   "display_name": "Julia 1.5.3",
   "language": "julia",
   "name": "julia-1.5"
  },
  "language_info": {
   "file_extension": ".jl",
   "mimetype": "application/julia",
   "name": "julia",
   "version": "1.5.3"
  }
 },
 "nbformat": 4,
 "nbformat_minor": 4
}
